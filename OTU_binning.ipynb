{
 "metadata": {
  "name": "",
  "signature": "sha256:69378a0e771bcfda1125aee499dcd2cf780120817769fa1521a9eba91fedf503"
 },
 "nbformat": 3,
 "nbformat_minor": 0,
 "worksheets": [
  {
   "cells": [
    {
     "cell_type": "code",
     "collapsed": false,
     "input": [
      "from cogent.app.usearch import clusters_from_blast_uc_file\n",
      "from Bio.Blast.Applications import NcbiblastnCommandline as blast\n",
      "import screed\n",
      "import pandas as pd"
     ],
     "language": "python",
     "metadata": {},
     "outputs": [
      {
       "output_type": "stream",
       "stream": "stderr",
       "text": [
        "/opt/anaconda/lib/python2.7/site-packages/pytz/__init__.py:29: UserWarning: Module argparse was already imported from /opt/anaconda/lib/python2.7/argparse.pyc, but /opt/anaconda/lib/python2.7/site-packages is being added to sys.path\n",
        "  from pkg_resources import resource_stream\n"
       ]
      }
     ],
     "prompt_number": 2
    },
    {
     "cell_type": "markdown",
     "metadata": {},
     "source": [
      "##Number of processors for dereplication."
     ]
    },
    {
     "cell_type": "code",
     "collapsed": false,
     "input": [
      "nprocs = 20"
     ],
     "language": "python",
     "metadata": {},
     "outputs": [],
     "prompt_number": 2
    },
    {
     "cell_type": "markdown",
     "metadata": {},
     "source": [
      "###This is the file from the [QC notebook](./QC.ipynb)."
     ]
    },
    {
     "cell_type": "code",
     "collapsed": false,
     "input": [
      "!head data/finalQC.fasta"
     ],
     "language": "python",
     "metadata": {},
     "outputs": [
      {
       "output_type": "stream",
       "stream": "stdout",
       "text": [
        ">G1F18_72\r\n",
        "TTAAGTCAGAAGTGAAAGGTTGGAGCTCAACTCTAACATTGCTTCCGAGACTGGCAGTCTTGAGTGCCGGAGAGGATGATGGAACGACACGTGTAGCGGTGAAATGCGTTGAGATGTGTCGGAACACCAATGGCGAAAGCAATCATCTGGACGGAAACTGACGCTGAGGTTCGAAAGCCAAGGGAGCGAACAGGAT\r\n",
        ">G1F18_15991\r\n",
        "TTAAGTCAGAAGTGAAAGGTTGGAGCTCAACTCTAACATTGCTTCCGAGACTGGCAGTCTTGAGTGCCGGAGAGGATGATGGAACGACACGTGTAGCGGTGAAATGCGTTGAGATGTGTCGGAACACCAATGGCGAAAGCAATCATCTGGACGGAAACTGACGCTGAGGTTCGAAAGCCAAGGGAGCGAACAGGAT\r\n",
        ">G2F32_27588\r\n",
        "TTAAGTCAGAAGTGAAAGGTTGGAGCTCAACTCTAACATTGCTTCCGAGACTGGCAGTCTTGAGTGCCGGAGAGGATGATGGAACGACACGTGTAGCGGTGAAATGCGTTGAGATGTGTCGGAACACCAATGGCGAAAGCAATCATCTGGACGGAAACTGACGCTGAGGTTCGAAAGCCAAGGGAGCGAACAGGAT\r\n",
        ">G4F12_61998\r\n",
        "TTAAGTCAGAAGTGAAAGGTTGGAGCTCAACTCTAACATTGCTTCCGAGACTGGCAGTCTTGAGTGCCGGAGAGGATGATGGAACGACACGTGTAGCGGTGAAATGCGTTGAGATGTGTCGGAACACCAATGGCGAAAGCAATCATCTGGACGGAAACTGACGCTGAGGTTCGAAAGCCAAGGGAGCGAACAGGAT\r\n",
        ">G2F20_82649\r\n",
        "TTAAGTCAGAAGTGAAAGGTTGGAGCTCAACTCTAACATTGCTTCCGAGACTGGCAGTCTTGAGTGCCGGAGAGGATGATGGAACGACACGTGTAGCGGTGAAATGCGTTGAGATGTGTCGGAACACCAATGGCGAAAGCAATCATCTGGACGGAAACTGACGCTGAGGTTCGAAAGCCAAGGGAGCGAACAGGAT\r\n"
       ]
      }
     ],
     "prompt_number": 3
    },
    {
     "cell_type": "markdown",
     "metadata": {},
     "source": [
      "###Add the [Stevens 2013](./download_steven_2013_data.ipynb) and [Garcia-Pichel 2013](./download_Garcia-Pichel_2013) seqs."
     ]
    },
    {
     "cell_type": "code",
     "collapsed": false,
     "input": [
      "!cat data/finalQC.fasta \\\n",
      "data/steven2013.QC.trimmed.nogap.fna \\\n",
      "data/garciapichel2013.QC.trimmed.nogap.fna \\\n",
      "> data/finalQC_Stevens2013_garciapichel2013.fasta"
     ],
     "language": "python",
     "metadata": {},
     "outputs": [],
     "prompt_number": 120
    },
    {
     "cell_type": "code",
     "collapsed": false,
     "input": [
      "!grep -c \">\" data/finalQC.fasta"
     ],
     "language": "python",
     "metadata": {},
     "outputs": [
      {
       "output_type": "stream",
       "stream": "stdout",
       "text": [
        "224047\r\n"
       ]
      }
     ],
     "prompt_number": 121
    },
    {
     "cell_type": "code",
     "collapsed": false,
     "input": [
      "!grep -c \">\" data/steven2013.QC.trimmed.nogap.fna"
     ],
     "language": "python",
     "metadata": {},
     "outputs": [
      {
       "output_type": "stream",
       "stream": "stdout",
       "text": [
        "140269\r\n"
       ]
      }
     ],
     "prompt_number": 122
    },
    {
     "cell_type": "code",
     "collapsed": false,
     "input": [
      "!grep -c \">\" data/garciapichel2013.QC.trimmed.nogap.fna"
     ],
     "language": "python",
     "metadata": {},
     "outputs": [
      {
       "output_type": "stream",
       "stream": "stdout",
       "text": [
        "136809\r\n"
       ]
      }
     ],
     "prompt_number": 34
    },
    {
     "cell_type": "code",
     "collapsed": false,
     "input": [
      "!grep -c \">\" data/finalQC_Stevens2013_garciapichel2013.fasta"
     ],
     "language": "python",
     "metadata": {},
     "outputs": [
      {
       "output_type": "stream",
       "stream": "stdout",
       "text": [
        "501125\r\n"
       ]
      }
     ],
     "prompt_number": 33
    },
    {
     "cell_type": "markdown",
     "metadata": {},
     "source": [
      "###First we'll get a non-redudant set of our QCed sequences."
     ]
    },
    {
     "cell_type": "code",
     "collapsed": false,
     "input": [
      "!usearch -derep_fulllength data/finalQC_Stevens2013_garciapichel2013.fasta -output data/uniques.fasta \\\n",
      "-sizeout -threads $nprocs"
     ],
     "language": "python",
     "metadata": {},
     "outputs": [
      {
       "output_type": "stream",
       "stream": "stdout",
       "text": [
        "usearch v7.0.1090_i86linux32, 4.0Gb RAM (132Gb total), 40 cores\r\n",
        "(C) Copyright 2013 Robert C. Edgar, all rights reserved.\r\n",
        "http://drive5.com/usearch\r\n",
        "\r\n",
        "Licensed to: chuck.peperanney@gmail.com\r\n",
        "\r\n",
        "00:00 2.1Mb Reading data/finalQC_Stevens2013_garciapichel2013.fasta"
       ]
      },
      {
       "output_type": "stream",
       "stream": "stdout",
       "text": [
        ", 107Mb\r\n"
       ]
      },
      {
       "output_type": "stream",
       "stream": "stdout",
       "text": [
        "00:00 109Mb 501125 (501.1k) seqs"
       ]
      },
      {
       "output_type": "stream",
       "stream": "stdout",
       "text": [
        ", min 120, avg 195, max 240nt\r\n"
       ]
      },
      {
       "output_type": "stream",
       "stream": "stdout",
       "text": [
        "00:01 297Mb 150272 (150.3k) uniques, avg cluster 3.3, median 1, max 19295\r\n",
        "00:01 297Mb    0.0% Writing data/uniques.fasta\r"
       ]
      },
      {
       "output_type": "stream",
       "stream": "stdout",
       "text": [
        "00:02 297Mb   85.0% Writing data/uniques.fasta\r"
       ]
      },
      {
       "output_type": "stream",
       "stream": "stdout",
       "text": [
        "00:02 297Mb  100.0% Writing data/uniques.fasta\r",
        "\r\n"
       ]
      }
     ],
     "prompt_number": 10
    },
    {
     "cell_type": "code",
     "collapsed": false,
     "input": [
      "!grep -c \">\" data/uniques.fasta"
     ],
     "language": "python",
     "metadata": {},
     "outputs": [
      {
       "output_type": "stream",
       "stream": "stdout",
       "text": [
        "150272\r\n"
       ]
      }
     ],
     "prompt_number": 11
    },
    {
     "cell_type": "markdown",
     "metadata": {},
     "source": [
      "###Sort the non-redundant set by count. Most abundant sequence first."
     ]
    },
    {
     "cell_type": "code",
     "collapsed": false,
     "input": [
      "!usearch -sortbysize data/uniques.fasta -output data/uniques_sorted.fasta -minsize 2"
     ],
     "language": "python",
     "metadata": {},
     "outputs": [
      {
       "output_type": "stream",
       "stream": "stdout",
       "text": [
        "usearch v7.0.1090_i86linux32, 4.0Gb RAM (132Gb total), 40 cores\r\n",
        "(C) Copyright 2013 Robert C. Edgar, all rights reserved.\r\n",
        "http://drive5.com/usearch\r\n",
        "\r\n",
        "Licensed to: chuck.peperanney@gmail.com\r\n",
        "\r\n",
        "00:00 2.1Mb Reading data/uniques.fasta, 33Mb\r\n"
       ]
      },
      {
       "output_type": "stream",
       "stream": "stdout",
       "text": [
        "00:00  35Mb 150272 (150.3k) seqs"
       ]
      },
      {
       "output_type": "stream",
       "stream": "stdout",
       "text": [
        ", min 120, avg 193, max 240nt\r\n",
        "00:00  37Mb Getting sizes\r\n"
       ]
      },
      {
       "output_type": "stream",
       "stream": "stdout",
       "text": [
        "00:00  38Mb Sorting 30009 sequences\r\n",
        "00:00  39Mb    0.0% Writing data/uniques_sorted.fasta\r"
       ]
      },
      {
       "output_type": "stream",
       "stream": "stdout",
       "text": [
        "00:00  39Mb  100.0% Writing data/uniques_sorted.fasta\r",
        "\r\n"
       ]
      }
     ],
     "prompt_number": 12
    },
    {
     "cell_type": "code",
     "collapsed": false,
     "input": [
      "!head data/uniques_sorted.fasta"
     ],
     "language": "python",
     "metadata": {},
     "outputs": [
      {
       "output_type": "stream",
       "stream": "stdout",
       "text": [
        ">G3F21_227;size=19295;\r\n",
        "TCAAGTCTGCTGTCAAAGACCGGGGCTTAACTTCGGAAAGGCAGTGGAAACTGAACAGCTAGAGTATGGTAGGGGCAGAG\r\n",
        "GGAATTCCTGGTGTAGCGGTGAAATGCGTAGAGATCAGGAAGAACATCGGTGGCGAAGGCGCTCTGCTGGACCATAACTG\r\n",
        "ACACTCAGGGACGAAAGCTAGGGGGAGCGAATGGGGA\r\n",
        ">G1F7_103;size=10905;\r\n",
        "TCAAGTCTGCTGTCAAAGACCGGGGCTTAACTTCGGAAAGGCAGTGGAAACTGAACAGCTAGAGTATGGTAGGGGCAGAG\r\n",
        "GGAATTCCTGGTGTAGCGGTGAAATGCGTAGAGATCAGGAAGAACATCGGTGGCGAAGGCGCTCTGCTGGACCATAACTG\r\n",
        "ACACTCAGGGACGAAAGCTAGGGGAGCGAATGGGGA\r\n",
        ">G4F27_195;size=9825;\r\n",
        "TCAAGTCTGCTGTCAAAGACCGGGGCTTAACTTCGGAAAGGCAGTGGAAACTGAACAGCTAGAGTATGGTAGGGGCAGAG\r\n"
       ]
      }
     ],
     "prompt_number": 13
    },
    {
     "cell_type": "markdown",
     "metadata": {},
     "source": [
      "###Establish seeds for clusters at 97% sequence identity threshold (default)."
     ]
    },
    {
     "cell_type": "code",
     "collapsed": false,
     "input": [
      "!usearch -cluster_otus data/uniques_sorted.fasta -otus data/otus.fasta"
     ],
     "language": "python",
     "metadata": {},
     "outputs": [
      {
       "output_type": "stream",
       "stream": "stdout",
       "text": [
        "usearch v7.0.1090_i86linux32, 4.0Gb RAM (132Gb total), 40 cores\r\n",
        "(C) Copyright 2013 Robert C. Edgar, all rights reserved.\r\n",
        "http://drive5.com/usearch\r\n",
        "\r\n",
        "Licensed to: chuck.peperanney@gmail.com\r\n",
        "\r\n",
        "00:00  21Mb    0.1% 0 OTUs\r"
       ]
      },
      {
       "output_type": "stream",
       "stream": "stdout",
       "text": [
        "00:01  31Mb    3.7% 412 OTUs\r"
       ]
      },
      {
       "output_type": "stream",
       "stream": "stdout",
       "text": [
        "00:02  34Mb   12.9% 1090 OTUs\r"
       ]
      },
      {
       "output_type": "stream",
       "stream": "stdout",
       "text": [
        "00:03  35Mb   15.7% 1246 OTUs\r"
       ]
      },
      {
       "output_type": "stream",
       "stream": "stdout",
       "text": [
        "00:04  36Mb   18.4% 1389 OTUs\r"
       ]
      },
      {
       "output_type": "stream",
       "stream": "stdout",
       "text": [
        "00:05  37Mb   20.7% 1495 OTUs\r"
       ]
      },
      {
       "output_type": "stream",
       "stream": "stdout",
       "text": [
        "00:06  38Mb   22.9% 1619 OTUs\r"
       ]
      },
      {
       "output_type": "stream",
       "stream": "stdout",
       "text": [
        "00:07  40Mb   31.9% 2033 OTUs\r"
       ]
      },
      {
       "output_type": "stream",
       "stream": "stdout",
       "text": [
        "00:08  42Mb   40.6% 2375 OTUs\r"
       ]
      },
      {
       "output_type": "stream",
       "stream": "stdout",
       "text": [
        "00:09  44Mb   48.7% 2704 OTUs\r"
       ]
      },
      {
       "output_type": "stream",
       "stream": "stdout",
       "text": [
        "00:10  45Mb   55.9% 2959 OTUs\r"
       ]
      },
      {
       "output_type": "stream",
       "stream": "stdout",
       "text": [
        "00:11  46Mb   59.3% 3077 OTUs\r"
       ]
      },
      {
       "output_type": "stream",
       "stream": "stdout",
       "text": [
        "00:12  48Mb   65.3% 3290 OTUs\r"
       ]
      },
      {
       "output_type": "stream",
       "stream": "stdout",
       "text": [
        "00:13  49Mb   71.4% 3501 OTUs\r"
       ]
      },
      {
       "output_type": "stream",
       "stream": "stdout",
       "text": [
        "00:14  51Mb   77.6% 3679 OTUs\r"
       ]
      },
      {
       "output_type": "stream",
       "stream": "stdout",
       "text": [
        "00:15  52Mb   83.3% 3883 OTUs\r"
       ]
      },
      {
       "output_type": "stream",
       "stream": "stdout",
       "text": [
        "00:16  54Mb   89.2% 4037 OTUs\r"
       ]
      },
      {
       "output_type": "stream",
       "stream": "stdout",
       "text": [
        "00:17  55Mb   95.0% 4208 OTUs\r"
       ]
      },
      {
       "output_type": "stream",
       "stream": "stdout",
       "text": [
        "00:17  56Mb  100.0% 4340 OTUs\r",
        "\r\n",
        "                             \r\n",
        "Input seqs  30009 (30.0k)\r\n",
        "      OTUs  4340\r\n",
        "   Members  23925 (23.9k)\r\n",
        "  Chimeras  1744\r\n",
        "   Max mem  56Mb\r\n",
        "      Time  17.0s\r\n",
        "Throughput  1765.2 seqs/sec.\r\n",
        "\r\n"
       ]
      }
     ],
     "prompt_number": 14
    },
    {
     "cell_type": "markdown",
     "metadata": {},
     "source": [
      "####Rename the OTU seeds."
     ]
    },
    {
     "cell_type": "code",
     "collapsed": false,
     "input": [
      "!bioawk -c fastx '{print \">\" \"OTU\" \".\" NR \"\\n\" $seq}' data/otus.fasta > data/otusn.fasta"
     ],
     "language": "python",
     "metadata": {},
     "outputs": [],
     "prompt_number": 15
    },
    {
     "cell_type": "code",
     "collapsed": false,
     "input": [
      "!head data/otusn.fasta"
     ],
     "language": "python",
     "metadata": {},
     "outputs": [
      {
       "output_type": "stream",
       "stream": "stdout",
       "text": [
        ">OTU.1\r\n",
        "TCAAGTCTGCTGTCAAAGACCGGGGCTTAACTTCGGAAAGGCAGTGGAAACTGAACAGCTAGAGTATGGTAGGGGCAGAGGGAATTCCTGGTGTAGCGGTGAAATGCGTAGAGATCAGGAAGAACATCGGTGGCGAAGGCGCTCTGCTGGACCATAACTGACACTCAGGGACGAAAGCTAGGgggAGCGAATGGGGA\r\n",
        ">OTU.2\r\n",
        "GTAAGTCTGCTGTCAAAGCGTCTGGCTCAACCAGATAAAGGCAGTGGAAACTACATAGCTAGAGTAAGGTAGGGGTAGAGGGAATTCCTGGTGTAGCGGTGAAATGCGTAGAGATCAGGAAGAACACCGGTGGCGAAAGCGCTCTGCTGGACCTTAACTGACACTGAGGGACGAAAGCTAGGGGAGCGAATGGGAT\r\n",
        ">OTU.3\r\n",
        "TTAAGTCTGATGTGAAAGCCcccGGCTCAACCGGGGAGGGTCATTGGAAACTGGGGAACTTGAGTGCAGAAGAGAAGAGCGGAATTCCACGTGTAGCGGTGAAATGCGTAGAGATGTGGAGGAACACCAGTGGCGAAGGCGGCTCTTTGGTCTGTAACTGACGCTGAGGCGCGAAAGCGTGGGGAGCAAACAGGAT\r\n",
        ">OTU.4\r\n",
        "GTAAGTTAGAGGTGAAAGCCCGGGGCTCAACTCCGGAACTGCCTTTAAGACTGCATCGCTTGAATCCAGGAGAGGTGAGTGGAATTCCGAGTGTAGAGGTGAAATTCGTAGATATTCGGAAGAACACCAGTGGCGAAGGCGGCTCACTGGACTGGTATTGACGCTGAGGTGCGAAAGCGTGGGGAGCAAACAGGAT\r\n",
        ">OTU.5\r\n",
        "TCAAGTCTGCTGTTAAAGCGTCTGGCTTAACCAGATAAAGGCGGTGGAAACTGAACGACTAGAGTGCGGTAGGGGTAGAGGGAATTCCCAGTGTAGCGGTGAAATGCGTAGATCTTGGGAAGAACACCTGTGGCGAAAGCGCTCTACTGGACCGCGACTGACACTGATGGACGAAAGCTAGGGGAGCGAATGGGAT\r\n"
       ]
      }
     ],
     "prompt_number": 16
    },
    {
     "cell_type": "code",
     "collapsed": false,
     "input": [
      "!formatdb -t otus -p F -n data/otus -i data/otusn.fasta"
     ],
     "language": "python",
     "metadata": {},
     "outputs": [],
     "prompt_number": 17
    },
    {
     "cell_type": "code",
     "collapsed": false,
     "input": [
      "cline = blast(query = \"data/yeager2006_utah_seqs.trimmed.unique.fna\",\n",
      "              db = \"data/otus\",\n",
      "              outfmt = 6,\n",
      "              out = \"data/tmp/blast_out_Yeager_otus.m6\",\n",
      "              num_threads = 30)\n",
      "print cline\n",
      "cline()"
     ],
     "language": "python",
     "metadata": {},
     "outputs": [
      {
       "output_type": "stream",
       "stream": "stdout",
       "text": [
        "blastn -out data/tmp/blast_out_Yeager_otus.m6 -outfmt 6 -query data/yeager2006_utah_seqs.trimmed.unique.fna -db data/otus -num_threads 30\n"
       ]
      },
      {
       "metadata": {},
       "output_type": "pyout",
       "prompt_number": 18,
       "text": [
        "('', '')"
       ]
      }
     ],
     "prompt_number": 18
    },
    {
     "cell_type": "code",
     "collapsed": false,
     "input": [
      "blast_df = pd.read_csv(\"data/tmp/blast_out_Yeager_otus.m6\", \n",
      "                       sep = \"\\t\", \n",
      "                       names = [\"query_id\", \n",
      "                                \"subject_id\",\n",
      "                                \"pid\", \n",
      "                                \"alignment_length\", \n",
      "                                \"num_mismatches\", \n",
      "                                \"gaps\", \n",
      "                                \"query_start\", \n",
      "                                \"query_end\", \n",
      "                                \"subject_start\", \n",
      "                                \"subject_end\", \n",
      "                                \"expect_value\", \n",
      "                                \"bit_score\"])\n",
      "blast_df.head()"
     ],
     "language": "python",
     "metadata": {},
     "outputs": [
      {
       "html": [
        "<div style=\"max-height:1000px;max-width:1500px;overflow:auto;\">\n",
        "<table border=\"1\" class=\"dataframe\">\n",
        "  <thead>\n",
        "    <tr style=\"text-align: right;\">\n",
        "      <th></th>\n",
        "      <th>query_id</th>\n",
        "      <th>subject_id</th>\n",
        "      <th>pid</th>\n",
        "      <th>alignment_length</th>\n",
        "      <th>num_mismatches</th>\n",
        "      <th>gaps</th>\n",
        "      <th>query_start</th>\n",
        "      <th>query_end</th>\n",
        "      <th>subject_start</th>\n",
        "      <th>subject_end</th>\n",
        "      <th>expect_value</th>\n",
        "      <th>bit_score</th>\n",
        "    </tr>\n",
        "  </thead>\n",
        "  <tbody>\n",
        "    <tr>\n",
        "      <th>0</th>\n",
        "      <td> DQ531706.1</td>\n",
        "      <td> OTU.146</td>\n",
        "      <td> 98.47</td>\n",
        "      <td> 196</td>\n",
        "      <td>  3</td>\n",
        "      <td> 0</td>\n",
        "      <td> 1</td>\n",
        "      <td> 196</td>\n",
        "      <td> 1</td>\n",
        "      <td> 196</td>\n",
        "      <td> 7.000000e-97</td>\n",
        "      <td> 346</td>\n",
        "    </tr>\n",
        "    <tr>\n",
        "      <th>1</th>\n",
        "      <td> DQ531706.1</td>\n",
        "      <td>  OTU.71</td>\n",
        "      <td> 96.94</td>\n",
        "      <td> 196</td>\n",
        "      <td>  6</td>\n",
        "      <td> 0</td>\n",
        "      <td> 1</td>\n",
        "      <td> 196</td>\n",
        "      <td> 1</td>\n",
        "      <td> 196</td>\n",
        "      <td> 7.000000e-92</td>\n",
        "      <td> 329</td>\n",
        "    </tr>\n",
        "    <tr>\n",
        "      <th>2</th>\n",
        "      <td> DQ531706.1</td>\n",
        "      <td> OTU.157</td>\n",
        "      <td> 96.43</td>\n",
        "      <td> 196</td>\n",
        "      <td>  7</td>\n",
        "      <td> 0</td>\n",
        "      <td> 1</td>\n",
        "      <td> 196</td>\n",
        "      <td> 1</td>\n",
        "      <td> 196</td>\n",
        "      <td> 3.000000e-90</td>\n",
        "      <td> 324</td>\n",
        "    </tr>\n",
        "    <tr>\n",
        "      <th>3</th>\n",
        "      <td> DQ531706.1</td>\n",
        "      <td>  OTU.13</td>\n",
        "      <td> 95.92</td>\n",
        "      <td> 196</td>\n",
        "      <td>  8</td>\n",
        "      <td> 0</td>\n",
        "      <td> 1</td>\n",
        "      <td> 196</td>\n",
        "      <td> 1</td>\n",
        "      <td> 196</td>\n",
        "      <td> 2.000000e-88</td>\n",
        "      <td> 318</td>\n",
        "    </tr>\n",
        "    <tr>\n",
        "      <th>4</th>\n",
        "      <td> DQ531706.1</td>\n",
        "      <td>   OTU.2</td>\n",
        "      <td> 92.86</td>\n",
        "      <td> 196</td>\n",
        "      <td> 14</td>\n",
        "      <td> 0</td>\n",
        "      <td> 1</td>\n",
        "      <td> 196</td>\n",
        "      <td> 1</td>\n",
        "      <td> 196</td>\n",
        "      <td> 2.000000e-78</td>\n",
        "      <td> 285</td>\n",
        "    </tr>\n",
        "  </tbody>\n",
        "</table>\n",
        "</div>"
       ],
       "metadata": {},
       "output_type": "pyout",
       "prompt_number": 19,
       "text": [
        "     query_id subject_id    pid  alignment_length  num_mismatches  gaps  \\\n",
        "0  DQ531706.1    OTU.146  98.47               196               3     0   \n",
        "1  DQ531706.1     OTU.71  96.94               196               6     0   \n",
        "2  DQ531706.1    OTU.157  96.43               196               7     0   \n",
        "3  DQ531706.1     OTU.13  95.92               196               8     0   \n",
        "4  DQ531706.1      OTU.2  92.86               196              14     0   \n",
        "\n",
        "   query_start  query_end  subject_start  subject_end  expect_value  bit_score  \n",
        "0            1        196              1          196  7.000000e-97        346  \n",
        "1            1        196              1          196  7.000000e-92        329  \n",
        "2            1        196              1          196  3.000000e-90        324  \n",
        "3            1        196              1          196  2.000000e-88        318  \n",
        "4            1        196              1          196  2.000000e-78        285  "
       ]
      }
     ],
     "prompt_number": 19
    },
    {
     "cell_type": "code",
     "collapsed": false,
     "input": [
      "subj_group = blast_df[(blast_df.pid > 97) & (blast_df.alignment_length > 149)].groupby(\"subject_id\").apply(lambda x: x.sort(\"pid\").iloc[-1])\n",
      "query_group = subj_group.groupby(\"query_id\").apply(lambda x: x.sort(\"pid\").iloc[-1])\n",
      "d = dict(zip(query_group.subject_id, query_group.query_id))\n",
      "d"
     ],
     "language": "python",
     "metadata": {},
     "outputs": [
      {
       "metadata": {},
       "output_type": "pyout",
       "prompt_number": 20,
       "text": [
        "{'OTU.13': 'DQ531696.1',\n",
        " 'OTU.146': 'DQ531703.1',\n",
        " 'OTU.157': 'DQ531699.1',\n",
        " 'OTU.2': 'DQ531701.1',\n",
        " 'OTU.5': 'DQ531697.1',\n",
        " 'OTU.759': 'DQ531700.1'}"
       ]
      }
     ],
     "prompt_number": 20
    },
    {
     "cell_type": "code",
     "collapsed": false,
     "input": [
      "query_group"
     ],
     "language": "python",
     "metadata": {},
     "outputs": [
      {
       "html": [
        "<div style=\"max-height:1000px;max-width:1500px;overflow:auto;\">\n",
        "<table border=\"1\" class=\"dataframe\">\n",
        "  <thead>\n",
        "    <tr style=\"text-align: right;\">\n",
        "      <th></th>\n",
        "      <th>query_id</th>\n",
        "      <th>subject_id</th>\n",
        "      <th>pid</th>\n",
        "      <th>alignment_length</th>\n",
        "      <th>num_mismatches</th>\n",
        "      <th>gaps</th>\n",
        "      <th>query_start</th>\n",
        "      <th>query_end</th>\n",
        "      <th>subject_start</th>\n",
        "      <th>subject_end</th>\n",
        "      <th>expect_value</th>\n",
        "      <th>bit_score</th>\n",
        "    </tr>\n",
        "    <tr>\n",
        "      <th>query_id</th>\n",
        "      <th></th>\n",
        "      <th></th>\n",
        "      <th></th>\n",
        "      <th></th>\n",
        "      <th></th>\n",
        "      <th></th>\n",
        "      <th></th>\n",
        "      <th></th>\n",
        "      <th></th>\n",
        "      <th></th>\n",
        "      <th></th>\n",
        "      <th></th>\n",
        "    </tr>\n",
        "  </thead>\n",
        "  <tbody>\n",
        "    <tr>\n",
        "      <th>DQ531696.1</th>\n",
        "      <td> DQ531696.1</td>\n",
        "      <td>  OTU.13</td>\n",
        "      <td> 100.00</td>\n",
        "      <td> 196</td>\n",
        "      <td> 0</td>\n",
        "      <td> 0</td>\n",
        "      <td> 1</td>\n",
        "      <td> 196</td>\n",
        "      <td> 1</td>\n",
        "      <td> 196</td>\n",
        "      <td> 7.000000e-102</td>\n",
        "      <td> 363</td>\n",
        "    </tr>\n",
        "    <tr>\n",
        "      <th>DQ531697.1</th>\n",
        "      <td> DQ531697.1</td>\n",
        "      <td>   OTU.5</td>\n",
        "      <td> 100.00</td>\n",
        "      <td> 196</td>\n",
        "      <td> 0</td>\n",
        "      <td> 0</td>\n",
        "      <td> 1</td>\n",
        "      <td> 196</td>\n",
        "      <td> 1</td>\n",
        "      <td> 196</td>\n",
        "      <td> 7.000000e-102</td>\n",
        "      <td> 363</td>\n",
        "    </tr>\n",
        "    <tr>\n",
        "      <th>DQ531699.1</th>\n",
        "      <td> DQ531699.1</td>\n",
        "      <td> OTU.157</td>\n",
        "      <td>  99.49</td>\n",
        "      <td> 196</td>\n",
        "      <td> 1</td>\n",
        "      <td> 0</td>\n",
        "      <td> 1</td>\n",
        "      <td> 196</td>\n",
        "      <td> 1</td>\n",
        "      <td> 196</td>\n",
        "      <td> 3.000000e-100</td>\n",
        "      <td> 357</td>\n",
        "    </tr>\n",
        "    <tr>\n",
        "      <th>DQ531700.1</th>\n",
        "      <td> DQ531700.1</td>\n",
        "      <td> OTU.759</td>\n",
        "      <td> 100.00</td>\n",
        "      <td> 150</td>\n",
        "      <td> 0</td>\n",
        "      <td> 0</td>\n",
        "      <td> 1</td>\n",
        "      <td> 150</td>\n",
        "      <td> 1</td>\n",
        "      <td> 150</td>\n",
        "      <td>  2.000000e-76</td>\n",
        "      <td> 278</td>\n",
        "    </tr>\n",
        "    <tr>\n",
        "      <th>DQ531701.1</th>\n",
        "      <td> DQ531701.1</td>\n",
        "      <td>   OTU.2</td>\n",
        "      <td> 100.00</td>\n",
        "      <td> 151</td>\n",
        "      <td> 0</td>\n",
        "      <td> 0</td>\n",
        "      <td> 1</td>\n",
        "      <td> 151</td>\n",
        "      <td> 1</td>\n",
        "      <td> 151</td>\n",
        "      <td>  5.000000e-77</td>\n",
        "      <td> 279</td>\n",
        "    </tr>\n",
        "    <tr>\n",
        "      <th>DQ531703.1</th>\n",
        "      <td> DQ531703.1</td>\n",
        "      <td> OTU.146</td>\n",
        "      <td>  98.98</td>\n",
        "      <td> 196</td>\n",
        "      <td> 2</td>\n",
        "      <td> 0</td>\n",
        "      <td> 1</td>\n",
        "      <td> 196</td>\n",
        "      <td> 1</td>\n",
        "      <td> 196</td>\n",
        "      <td>  2.000000e-98</td>\n",
        "      <td> 351</td>\n",
        "    </tr>\n",
        "  </tbody>\n",
        "</table>\n",
        "</div>"
       ],
       "metadata": {},
       "output_type": "pyout",
       "prompt_number": 21,
       "text": [
        "              query_id subject_id     pid  alignment_length  num_mismatches  \\\n",
        "query_id                                                                      \n",
        "DQ531696.1  DQ531696.1     OTU.13  100.00               196               0   \n",
        "DQ531697.1  DQ531697.1      OTU.5  100.00               196               0   \n",
        "DQ531699.1  DQ531699.1    OTU.157   99.49               196               1   \n",
        "DQ531700.1  DQ531700.1    OTU.759  100.00               150               0   \n",
        "DQ531701.1  DQ531701.1      OTU.2  100.00               151               0   \n",
        "DQ531703.1  DQ531703.1    OTU.146   98.98               196               2   \n",
        "\n",
        "            gaps  query_start  query_end  subject_start  subject_end  \\\n",
        "query_id                                                               \n",
        "DQ531696.1     0            1        196              1          196   \n",
        "DQ531697.1     0            1        196              1          196   \n",
        "DQ531699.1     0            1        196              1          196   \n",
        "DQ531700.1     0            1        150              1          150   \n",
        "DQ531701.1     0            1        151              1          151   \n",
        "DQ531703.1     0            1        196              1          196   \n",
        "\n",
        "             expect_value  bit_score  \n",
        "query_id                              \n",
        "DQ531696.1  7.000000e-102        363  \n",
        "DQ531697.1  7.000000e-102        363  \n",
        "DQ531699.1  3.000000e-100        357  \n",
        "DQ531700.1   2.000000e-76        278  \n",
        "DQ531701.1   5.000000e-77        279  \n",
        "DQ531703.1   2.000000e-98        351  "
       ]
      }
     ],
     "prompt_number": 21
    },
    {
     "cell_type": "code",
     "collapsed": false,
     "input": [
      "db = screed.read_fasta_sequences(\"data/yeager2006_utah_seqs.trimmed.fna\")"
     ],
     "language": "python",
     "metadata": {},
     "outputs": [],
     "prompt_number": 23
    },
    {
     "cell_type": "code",
     "collapsed": false,
     "input": [
      "with open(\"data/otusn_yeager2006.fasta\", \"w\") as out:\n",
      "    for rec in screed.open(\"data/otusn.fasta\"):\n",
      "        if rec.name in list(query_group.subject_id.values):\n",
      "            out.write(\">%s\\n%s\\n\"%(db[d[rec.name]].name, db[d[rec.name]].sequence))\n",
      "        else:\n",
      "            out.write(\">%s\\n%s\\n\"%(rec.name, rec.sequence))"
     ],
     "language": "python",
     "metadata": {},
     "outputs": [],
     "prompt_number": 24
    },
    {
     "cell_type": "code",
     "collapsed": false,
     "input": [
      "!grep \">DQ\" data/otusn_yeager2006.fasta"
     ],
     "language": "python",
     "metadata": {},
     "outputs": [
      {
       "output_type": "stream",
       "stream": "stdout",
       "text": [
        ">DQ531701.1\r\n",
        ">DQ531697.1\r\n",
        ">DQ531696.1\r\n",
        ">DQ531703.1\r\n",
        ">DQ531699.1\r\n",
        ">DQ531700.1\r\n"
       ]
      }
     ],
     "prompt_number": 25
    },
    {
     "cell_type": "code",
     "collapsed": false,
     "input": [
      "!grep -c \">\" data/otusn_yeager2006.fasta"
     ],
     "language": "python",
     "metadata": {},
     "outputs": [
      {
       "output_type": "stream",
       "stream": "stdout",
       "text": [
        "4340\r\n"
       ]
      }
     ],
     "prompt_number": 26
    },
    {
     "cell_type": "markdown",
     "metadata": {},
     "source": [
      "###Map reads to cluster seeds."
     ]
    },
    {
     "cell_type": "code",
     "collapsed": false,
     "input": [
      "!usearch -usearch_local data/finalQC_Stevens2013_garciapichel2013.fasta \\\n",
      "-db data/otusn_yeager2006.fasta \\\n",
      "-strand plus -id 0.97 \\\n",
      "-uc data/readmap.uc \\\n",
      "-threads 20"
     ],
     "language": "python",
     "metadata": {},
     "outputs": [
      {
       "output_type": "stream",
       "stream": "stdout",
       "text": [
        "usearch v7.0.1090_i86linux32, 4.0Gb RAM (132Gb total), 40 cores\r\n",
        "(C) Copyright 2013 Robert C. Edgar, all rights reserved.\r\n",
        "http://drive5.com/usearch\r\n",
        "\r\n",
        "Licensed to: chuck.peperanney@gmail.com\r\n",
        "\r\n"
       ]
      },
      {
       "output_type": "stream",
       "stream": "stdout",
       "text": [
        "00:01  19Mb Reading data/otusn_yeager2006.fasta, 898.1kb\r\n",
        "00:01  20Mb 4340 seqs, min 121, avg 196, max 240nt\r\n",
        "00:01  20Mb    0.0% Masking\r"
       ]
      },
      {
       "output_type": "stream",
       "stream": "stdout",
       "text": [
        "00:01  20Mb  100.0% Masking\r",
        "\r\n",
        "00:01  20Mb    0.0% Word stats\r",
        "00:01  20Mb  100.0% Word stats\r",
        "\r\n",
        "00:01  21Mb    0.0% Building slots\r",
        "00:01  24Mb  100.0% Building slots\r",
        "\r\n",
        "00:01  24Mb    0.0% Build index   \r"
       ]
      },
      {
       "output_type": "stream",
       "stream": "stdout",
       "text": [
        "00:01  24Mb  100.0% Build index\r",
        "\r\n",
        "00:01 187Mb    0.1% Searching, 0.0% matched\r"
       ]
      },
      {
       "output_type": "stream",
       "stream": "stdout",
       "text": [
        "00:02 256Mb   25.9% Searching, 99.2% matched\r"
       ]
      },
      {
       "output_type": "stream",
       "stream": "stdout",
       "text": [
        "00:03 292Mb   36.4% Searching, 97.4% matched\r"
       ]
      },
      {
       "output_type": "stream",
       "stream": "stdout",
       "text": [
        "00:04 322Mb   43.6% Searching, 95.9% matched\r"
       ]
      },
      {
       "output_type": "stream",
       "stream": "stdout",
       "text": [
        "00:05 335Mb   58.3% Searching, 95.5% matched\r"
       ]
      },
      {
       "output_type": "stream",
       "stream": "stdout",
       "text": [
        "00:06 342Mb   72.3% Searching, 95.2% matched\r"
       ]
      },
      {
       "output_type": "stream",
       "stream": "stdout",
       "text": [
        "00:07 353Mb   89.5% Searching, 95.4% matched\r"
       ]
      },
      {
       "output_type": "stream",
       "stream": "stdout",
       "text": [
        "00:07 359Mb  100.0% Searching, 95.6% matched\r",
        "\r\n"
       ]
      }
     ],
     "prompt_number": 1
    },
    {
     "cell_type": "markdown",
     "metadata": {},
     "source": [
      "###Convert the readmap to a QIIME formated OTU map."
     ]
    },
    {
     "cell_type": "code",
     "collapsed": false,
     "input": [
      "OTU_dict, unassigned_reads = clusters_from_blast_uc_file(open(\"data/readmap.uc\"), otu_id_field=9)"
     ],
     "language": "python",
     "metadata": {},
     "outputs": [],
     "prompt_number": 3
    },
    {
     "cell_type": "code",
     "collapsed": false,
     "input": [
      "with open(\"data/otu_map.txt\", \"w\") as out:\n",
      "    for otu in OTU_dict:\n",
      "        line = \"%s\\t%s\\n\"%(otu, \"\\t\".join(OTU_dict[otu]))\n",
      "        out.write(line)"
     ],
     "language": "python",
     "metadata": {},
     "outputs": [],
     "prompt_number": 4
    },
    {
     "cell_type": "code",
     "collapsed": false,
     "input": [
      "!make_otu_table.py -i data/otu_map.txt -o data/otu_table.biom"
     ],
     "language": "python",
     "metadata": {},
     "outputs": [],
     "prompt_number": 5
    },
    {
     "cell_type": "markdown",
     "metadata": {},
     "source": [
      "###Get a summary of the OTU table stats."
     ]
    },
    {
     "cell_type": "code",
     "collapsed": false,
     "input": [
      "!if [ -f data/otu_table_summary.txt ]; then rm data/otu_table_summary.txt; fi #This is to mitigate a biom bug\n",
      "!biom summarize-table -i data/otu_table.biom -o data/otu_table_summary.txt"
     ],
     "language": "python",
     "metadata": {},
     "outputs": [],
     "prompt_number": 6
    },
    {
     "cell_type": "code",
     "collapsed": false,
     "input": [
      "!cat data/otu_table_summary.txt"
     ],
     "language": "python",
     "metadata": {},
     "outputs": [
      {
       "output_type": "stream",
       "stream": "stdout",
       "text": [
        "Num samples: 158\r\n",
        "Num observations: 4340\r\n",
        "Total count: 479162\r\n",
        "Table density (fraction of non-zero values): 0.123\r\n",
        "Table md5 (unzipped): ba8d342ec31efbe8cd3ffcc26271a47c\r\n",
        "\r\n",
        "Counts/sample summary:\r\n",
        " Min: 444.0\r\n",
        " Max: 20148.0\r\n",
        " Median: 2102.500\r\n",
        " Mean: 3032.671\r\n",
        " Std. dev.: 3433.176\r\n",
        " Sample Metadata Categories: None provided\r\n",
        " Observation Metadata Categories: None provided\r\n",
        "\r\n",
        "Counts/sample detail:\r\n",
        " 4502001.3: 444.0\r\n",
        " 4502012.3: 450.0\r\n",
        " 4502019.3: 457.0\r\n",
        " 4501997.3: 483.0\r\n",
        " 4502013.3: 506.0\r\n",
        " 4502000.3: 507.0\r\n",
        " 4501998.3: 519.0\r\n",
        " 4502002.3: 535.0\r\n",
        " 4502018.3: 568.0\r\n",
        " 4501996.3: 620.0\r\n",
        " 4501995.3: 633.0\r\n",
        " G1F16: 645.0\r\n",
        " 4502004.3: 667.0\r\n",
        " 4501999.3: 670.0\r\n",
        " 4502005.3: 829.0\r\n",
        " G1F19: 862.0\r\n",
        " 4502003.3: 863.0\r\n",
        " G1F17: 886.0\r\n",
        " site9: 1045.0\r\n",
        " 4502017.3: 1063.0\r\n",
        " site7: 1104.0\r\n",
        " site8: 1179.0\r\n",
        " 4502020.3: 1182.0\r\n",
        " site12: 1352.0\r\n",
        " site1: 1404.0\r\n",
        " site6: 1407.0\r\n",
        " G3F11: 1415.0\r\n",
        " site23: 1569.0\r\n",
        " G2F28: 1623.0\r\n",
        " site2: 1626.0\r\n",
        " site5: 1636.0\r\n",
        " G1F9: 1650.0\r\n",
        " 4502016.3: 1669.0\r\n",
        " site4: 1699.0\r\n",
        " G3F22: 1753.0\r\n",
        " G1F26: 1775.0\r\n",
        " G4F12: 1783.0\r\n",
        " G2F27: 1792.0\r\n",
        " G1F22: 1807.0\r\n",
        " G2F23: 1812.0\r\n",
        " G4F10: 1819.0\r\n",
        " G2F30: 1824.0\r\n",
        " G4F16: 1826.0\r\n",
        " G2F13: 1840.0\r\n",
        " G3F7: 1849.0\r\n",
        " G4F18: 1851.0\r\n",
        " G4F29: 1852.0\r\n",
        " G2F12: 1863.0\r\n",
        " G1F10: 1869.0\r\n",
        " G3F15: 1871.0\r\n",
        " G1F14: 1888.0\r\n",
        " 4502014.3: 1893.0\r\n",
        " G2F9: 1920.0\r\n",
        " G2F14: 1920.0\r\n",
        " G3F6: 1924.0\r\n",
        " G2F21: 1931.0\r\n",
        " G2F32: 1938.0\r\n",
        " G1F11: 1945.0\r\n",
        " G1F25: 1951.0\r\n",
        " G3F5: 1969.0\r\n",
        " G4F11: 1976.0\r\n",
        " G4F7: 1991.0\r\n",
        " site14: 1994.0\r\n",
        " G2F29: 2005.0\r\n",
        " G1F23: 2018.0\r\n",
        " G2F8: 2020.0\r\n",
        " G4F31: 2022.0\r\n",
        " site3: 2023.0\r\n",
        " G4F9: 2026.0\r\n",
        " G4F20: 2035.0\r\n",
        " G3F23: 2038.0\r\n",
        " G2F7: 2058.0\r\n",
        " G1F13: 2063.0\r\n",
        " G4F22: 2071.0\r\n",
        " G2F17: 2080.0\r\n",
        " G3F4: 2089.0\r\n",
        " G4F32: 2091.0\r\n",
        " G3F16: 2094.0\r\n",
        " G3F13: 2095.0\r\n",
        " G4F24: 2110.0\r\n",
        " G3F9: 2111.0\r\n",
        " G4F15: 2121.0\r\n",
        " G1F18: 2125.0\r\n",
        " G2F26: 2142.0\r\n",
        " G3F21: 2143.0\r\n",
        " G3F10: 2144.0\r\n",
        " 4502036.3: 2158.0\r\n",
        " G4F13: 2161.0\r\n",
        " G2F31: 2163.0\r\n",
        " G1F24: 2215.0\r\n",
        " G2F25: 2219.0\r\n",
        " 4502028.3: 2238.0\r\n",
        " G4F25: 2247.0\r\n",
        " G2F18: 2264.0\r\n",
        " G2F19: 2266.0\r\n",
        " G2F22: 2281.0\r\n",
        " G3F24: 2282.0\r\n",
        " G3F18: 2289.0\r\n",
        " G1F21: 2300.0\r\n",
        " G4F26: 2306.0\r\n",
        " G4F14: 2316.0\r\n",
        " G3F14: 2355.0\r\n",
        " G4F17: 2368.0\r\n",
        " G1F15: 2382.0\r\n",
        " G4F8: 2397.0\r\n",
        " G4F28: 2403.0\r\n",
        " G4F27: 2426.0\r\n",
        " G1F7: 2440.0\r\n",
        " G4F19: 2445.0\r\n",
        " G3F3: 2461.0\r\n",
        " G2F20: 2465.0\r\n",
        " G2F16: 2467.0\r\n",
        " G1F8: 2507.0\r\n",
        " site10: 2538.0\r\n",
        " G3F8: 2551.0\r\n",
        " G4F21: 2569.0\r\n",
        " site13: 2608.0\r\n",
        " G3F17: 2638.0\r\n",
        " G2F15: 2668.0\r\n",
        " 4502029.3: 2673.0\r\n",
        " G2F24: 2675.0\r\n",
        " G1F20: 2676.0\r\n",
        " G1F12: 2713.0\r\n",
        " 4502007.3: 2720.0\r\n",
        " G4F30: 2734.0\r\n",
        " G2F11: 2831.0\r\n",
        " 4502006.3: 2892.0\r\n",
        " G3F20: 2933.0\r\n",
        " site11: 3029.0\r\n",
        " G4F23: 3071.0\r\n",
        " 4502027.3: 3152.0\r\n",
        " 4502023.3: 3391.0\r\n",
        " 4502015.3: 3598.0\r\n",
        " 4502009.3: 3629.0\r\n",
        " 4502011.3: 3659.0\r\n",
        " 4502010.3: 3704.0\r\n",
        " 4502026.3: 3756.0\r\n",
        " 4502022.3: 3860.0\r\n",
        " G2F10: 4033.0\r\n",
        " 4502008.3: 4258.0\r\n",
        " 4502031.3: 4553.0\r\n",
        " 4502025.3: 4717.0\r\n",
        " 4502021.3: 5647.0\r\n",
        " 4502024.3: 5674.0\r\n",
        " 4502035.3: 6335.0\r\n",
        " site21: 6452.0\r\n",
        " 4502033.3: 6882.0\r\n",
        " 4502032.3: 6892.0\r\n",
        " site22: 8150.0\r\n",
        " site20: 10303.0\r\n",
        " 4502034.3: 13137.0\r\n",
        " site16: 13529.0\r\n",
        " site15: 14114.0\r\n",
        " site18: 15137.0\r\n",
        " site17: 18134.0\r\n",
        " 4502030.3: 18426.0\r\n",
        " G3F12: 18635.0\r\n",
        " site19: 20148.0\r\n"
       ]
      }
     ],
     "prompt_number": 7
    }
   ],
   "metadata": {}
  }
 ]
}
{
 "metadata": {
  "name": "",
  "signature": "sha256:5afbe904df8d93a64a25e3c9d3a14d8b3a2cab92d5a15294b36a07d6b3970d32"
 },
 "nbformat": 3,
 "nbformat_minor": 0,
 "worksheets": [
  {
   "cells": [
    {
     "cell_type": "markdown",
     "metadata": {},
     "source": [
      "###Download data from Steven et al. 2013 ([here](http://www.ncbi.nlm.nih.gov/pubmed/23621290))"
     ]
    },
    {
     "cell_type": "code",
     "collapsed": false,
     "input": [
      "import screed\n",
      "import matplotlib.pyplot as plt\n",
      "from mpltools import style\n",
      "style.use(\"ggplot\")\n",
      "%matplotlib inline"
     ],
     "language": "python",
     "metadata": {},
     "outputs": [],
     "prompt_number": 56
    },
    {
     "cell_type": "code",
     "collapsed": false,
     "input": [
      "!mkdir -p data/steven2013_seqs"
     ],
     "language": "python",
     "metadata": {},
     "outputs": [],
     "prompt_number": 6
    },
    {
     "cell_type": "code",
     "collapsed": false,
     "input": [
      "!wget --retr-symlinks -o /dev/null -H -m -P data/steven2013_seqs/ ftp://ftp.metagenomics.anl.gov/projects/1958/"
     ],
     "language": "python",
     "metadata": {},
     "outputs": [],
     "prompt_number": 1
    },
    {
     "cell_type": "code",
     "collapsed": false,
     "input": [
      "seq_files = !find data/steven2013_seqs/ -name \"*.fna.gz\" | grep -v \"processed\""
     ],
     "language": "python",
     "metadata": {},
     "outputs": [],
     "prompt_number": 48
    },
    {
     "cell_type": "code",
     "collapsed": false,
     "input": [
      "seq_files[0].split(\"/\")[5]"
     ],
     "language": "python",
     "metadata": {},
     "outputs": [
      {
       "metadata": {},
       "output_type": "pyout",
       "prompt_number": 49,
       "text": [
        "'4502024.3'"
       ]
      }
     ],
     "prompt_number": 49
    },
    {
     "cell_type": "code",
     "collapsed": false,
     "input": [
      "with open(\"data/steven2013.fna\", \"w\") as out:\n",
      "    for f in seq_files:\n",
      "        mgID = f.split(\"/\")[5]\n",
      "        for rec in screed.open(f):\n",
      "            out.write(\">%s_%s\\n%s\\n\"%(mgID, rec.name, rec.sequence))"
     ],
     "language": "python",
     "metadata": {},
     "outputs": [],
     "prompt_number": 50
    },
    {
     "cell_type": "code",
     "collapsed": false,
     "input": [
      "!head -n4 data/steven2013.fna "
     ],
     "language": "python",
     "metadata": {},
     "outputs": [
      {
       "output_type": "stream",
       "stream": "stdout",
       "text": [
        ">4502024.3_G6A5QEX01EK5HV\r\n",
        "GACGGAGGATGCAAGCGTTATCCGGAATGATTGGGCGTAAAGCGTCCGCAGGTGGCAGTTCAAGTCTGCTGTCAAAGACCGGGGCTTAACTTCGGAAAGGCAGTGGAAACTGAACAGCTAGAGTATGGTAGGGGCAGAGGGAATTCCTGGTGTAGCGGTGAAATGCGTAGAGATCAGGAAGAACATCGGTGGCGAAGGCGCTCTGCTGGACCATAACTGACACTCAGGGACGAAAGCTAGGGGAGC\r\n",
        ">4502024.3_G6A5QEX01DKUUJ\r\n",
        "GACGGAGGATGCAAGCGTTATCCGGAATGATTGGGCGTAAAGCGTCCGCAGGTGGCAGTTCAAGTCTGCTGTCAAAGACCGGGGCTTAACTTCGGAAAGGCAGTGGAAACTGAACAGCTAGAGTATGGTAGGGGCAGAGGGAATTCCTGGTGTAGCGGTGAAATGCGTAGAGATCAGGAAGAACATCGGTGGCGAAGGCGCTCTGCTGGACCATAACTGACACTCAGGGACGAAAGCTAGGGGAGC\r\n"
       ]
      }
     ],
     "prompt_number": 51
    },
    {
     "cell_type": "code",
     "collapsed": false,
     "input": [
      "fig = plt.figure()\n",
      "ax = fig.add_subplot(111)\n",
      "ax.hist([len(r.sequence) for r in screed.open(\"data/steven2013.fna\")])"
     ],
     "language": "python",
     "metadata": {},
     "outputs": [
      {
       "metadata": {},
       "output_type": "pyout",
       "prompt_number": 58,
       "text": [
        "(array([  2.40000000e+01,   0.00000000e+00,   2.90000000e+01,\n",
        "          4.10000000e+01,   6.50400000e+03,   6.80800000e+03,\n",
        "          2.37010000e+04,   4.48730000e+04,   7.72270000e+04,\n",
        "          1.50000000e+01]),\n",
        " array([   4. ,   39.9,   75.8,  111.7,  147.6,  183.5,  219.4,  255.3,\n",
        "         291.2,  327.1,  363. ]),\n",
        " <a list of 10 Patch objects>)"
       ]
      },
      {
       "metadata": {},
       "output_type": "display_data",
       "png": "[encoded data removed]",
       "text": [
        "<matplotlib.figure.Figure at 0x313a7d0>"
       ]
      }
     ],
     "prompt_number": 58
    }
   ],
   "metadata": {}
  }
 ]
}
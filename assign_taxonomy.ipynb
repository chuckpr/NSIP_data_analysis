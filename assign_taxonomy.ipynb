{
 "metadata": {
  "name": "",
  "signature": "sha256:ec11d529560c9c21a679084a6c66b5e471864b155263e44adb2b675d5bf9a2de"
 },
 "nbformat": 3,
 "nbformat_minor": 0,
 "worksheets": [
  {
   "cells": [
    {
     "cell_type": "markdown",
     "metadata": {},
     "source": [
      "###Just assign to centroids for now. Could do consensus OTU taxonomy with Mothur..."
     ]
    },
    {
     "cell_type": "code",
     "collapsed": false,
     "input": [
      "!parallel_assign_taxonomy_uclust.py \\\n",
      "-r /var/seq_data/silva/Silva111_qiime_formatted/no_ambiguous_bases_files/97_Silva_111_rep_set_no_ambig.fasta \\\n",
      "-t /var/seq_data/silva/Silva111_qiime_formatted/taxonomy/97_Silva_111_taxa_map.txt \\\n",
      "-O 10 \\\n",
      "-i data/otusn_yeager2006.fasta \\\n",
      "-o data/otusn_tax"
     ],
     "language": "python",
     "metadata": {},
     "outputs": [],
     "prompt_number": 1
    },
    {
     "cell_type": "code",
     "collapsed": false,
     "input": [
      "!head -n 1 data/otusn_tax/otusn_yeager2006_tax_assignments.txt"
     ],
     "language": "python",
     "metadata": {},
     "outputs": [
      {
       "output_type": "stream",
       "stream": "stdout",
       "text": [
        "OTU.268\tBacteria; __Acidobacteria; __DA023; __uncultured_bacterium\t0.67\t3\r\n"
       ]
      }
     ],
     "prompt_number": 8
    },
    {
     "cell_type": "code",
     "collapsed": false,
     "input": [
      "!sed -i \"s/ __//g\" data/otusn_tax/otusn_yeager2006_tax_assignments.txt "
     ],
     "language": "python",
     "metadata": {},
     "outputs": [],
     "prompt_number": 9
    },
    {
     "cell_type": "code",
     "collapsed": false,
     "input": [
      "!grep \"Archaea\" data/otusn_tax/otusn_yeager2006_tax_assignments.txt"
     ],
     "language": "python",
     "metadata": {},
     "outputs": [],
     "prompt_number": 10
    },
    {
     "cell_type": "code",
     "collapsed": false,
     "input": [
      "!rm data/otu_table_wtax.biom"
     ],
     "language": "python",
     "metadata": {},
     "outputs": [
      {
       "output_type": "stream",
       "stream": "stdout",
       "text": [
        "rm: cannot remove `data/otu_table_wtax.biom': No such file or directory\r\n"
       ]
      }
     ],
     "prompt_number": 11
    },
    {
     "cell_type": "code",
     "collapsed": false,
     "input": [
      "!biom add-metadata -i data/otu_table.biom \\\n",
      "-o data/otu_table_wtax.biom \\\n",
      "--observation-metadata-fp data/otusn_tax/otusn_yeager2006_tax_assignments.txt \\\n",
      "--sc-separated taxonomy \\\n",
      "--float-fields consensus \\\n",
      "--int-fields numhits \\\n",
      "--observation-header OTUID,taxonomy,consensus,numhits"
     ],
     "language": "python",
     "metadata": {},
     "outputs": [],
     "prompt_number": 12
    }
   ],
   "metadata": {}
  }
 ]
}
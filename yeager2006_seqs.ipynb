{
 "metadata": {
  "name": "",
  "signature": "sha256:97c8b44a1970056929fc378c134a8c659652148e00455cd84ce45989abfcd793"
 },
 "nbformat": 3,
 "nbformat_minor": 0,
 "worksheets": [
  {
   "cells": [
    {
     "cell_type": "code",
     "collapsed": false,
     "input": [
      "import pandas as pd\n",
      "import pandas.rpy.common as com\n",
      "import numpy as np\n",
      "from Bio import Entrez\n",
      "from compiler.ast import flatten\n",
      "import screed\n",
      "import matplotlib.pyplot as plt\n",
      "%matplotlib inline\n",
      "%load_ext rpy2.ipython"
     ],
     "language": "python",
     "metadata": {},
     "outputs": [
      {
       "output_type": "stream",
       "stream": "stdout",
       "text": [
        "The rpy2.ipython extension is already loaded. To reload it, use:\n",
        "  %reload_ext rpy2.ipython\n"
       ]
      }
     ],
     "prompt_number": 61
    },
    {
     "cell_type": "code",
     "collapsed": false,
     "input": [
      "%%R\n",
      "library(XML)\n",
      "library(RCurl)"
     ],
     "language": "python",
     "metadata": {},
     "outputs": [
      {
       "metadata": {},
       "output_type": "display_data",
       "text": [
        "\n",
        "Attaching package: \u2018XML\u2019\n",
        "\n",
        "The following object is masked from \u2018package:tools\u2019:\n",
        "\n",
        "    toHTML\n",
        "\n",
        "Loading required package: bitops\n"
       ]
      }
     ],
     "prompt_number": 2
    },
    {
     "cell_type": "code",
     "collapsed": false,
     "input": [
      "%%R\n",
      "theurl = \"http://onlinelibrary.wiley.com/doi/10.1111/j.1574-6941.2006.00265.x/full\"\n",
      "tables = readHTMLTable(theurl, )\n",
      "df = tables[[2]]\n",
      "names(df) = c(\"isolate\", \n",
      "              \"sampling_location\",\n",
      "              \"source_material\", \n",
      "              \"nifH_cluster\", \n",
      "              \"acc_nifH\", \n",
      "              \"acc_16S\")"
     ],
     "language": "python",
     "metadata": {},
     "outputs": [],
     "prompt_number": 3
    },
    {
     "cell_type": "code",
     "collapsed": false,
     "input": [
      "df = com.load_data(\"df\")"
     ],
     "language": "python",
     "metadata": {},
     "outputs": [],
     "prompt_number": 4
    },
    {
     "cell_type": "code",
     "collapsed": false,
     "input": [
      "def parse_accs(s):\n",
      "    if len(s.decode(\"utf-8\").split()) == 2:\n",
      "        return s.decode(\"utf-8\").split()\n",
      "    elif len(s) > 8:\n",
      "        return [s[:8], s[8:]]\n",
      "    elif len(s) == 8:\n",
      "        return s\n",
      "    else:\n",
      "        return np.NAN"
     ],
     "language": "python",
     "metadata": {},
     "outputs": [],
     "prompt_number": 5
    },
    {
     "cell_type": "code",
     "collapsed": false,
     "input": [
      "df[\"parsed_acc_16S\"] = df.acc_16S.apply(parse_accs)"
     ],
     "language": "python",
     "metadata": {},
     "outputs": [],
     "prompt_number": 6
    },
    {
     "cell_type": "code",
     "collapsed": false,
     "input": [
      "df"
     ],
     "language": "python",
     "metadata": {},
     "outputs": [
      {
       "html": [
        "<div style=\"max-height:1000px;max-width:1500px;overflow:auto;\">\n",
        "<table border=\"1\" class=\"dataframe\">\n",
        "  <thead>\n",
        "    <tr style=\"text-align: right;\">\n",
        "      <th></th>\n",
        "      <th>isolate</th>\n",
        "      <th>sampling_location</th>\n",
        "      <th>source_material</th>\n",
        "      <th>nifH_cluster</th>\n",
        "      <th>acc_nifH</th>\n",
        "      <th>acc_16S</th>\n",
        "      <th>parsed_acc_16S</th>\n",
        "    </tr>\n",
        "  </thead>\n",
        "  <tbody>\n",
        "    <tr>\n",
        "      <th>1 </th>\n",
        "      <td>                   Nostoc commune SC</td>\n",
        "      <td>  SC1</td>\n",
        "      <td> N. commune colony (black, leaf\u2010shaped masses)</td>\n",
        "      <td> N1, N2</td>\n",
        "      <td> DQ531670                       \u2028",
        "              ...</td>\n",
        "      <td>                                          DQ531705</td>\n",
        "      <td>             DQ531705</td>\n",
        "    </tr>\n",
        "    <tr>\n",
        "      <th>2 </th>\n",
        "      <td>                   Nostoc commune CP</td>\n",
        "      <td>  CP2</td>\n",
        "      <td>             N. commune colony (black threads)</td>\n",
        "      <td> N1, N2</td>\n",
        "      <td> DQ531679                       \u2028",
        "              ...</td>\n",
        "      <td>                                          DQ531706</td>\n",
        "      <td>             DQ531706</td>\n",
        "    </tr>\n",
        "    <tr>\n",
        "      <th>3 </th>\n",
        "      <td>        Nostoc commune MCT\u20101 (CY05)\u00b6</td>\n",
        "      <td>  CP1</td>\n",
        "      <td>                Collema tenax (lichen) thallus</td>\n",
        "      <td> N1, N2</td>\n",
        "      <td> DQ531680                       \u2028",
        "              ...</td>\n",
        "      <td>                                          DQ531703</td>\n",
        "      <td>             DQ531703</td>\n",
        "    </tr>\n",
        "    <tr>\n",
        "      <th>4 </th>\n",
        "      <td>         Nostoc commune MFG\u20101 (CY06)</td>\n",
        "      <td> Moab</td>\n",
        "      <td>                                         crust</td>\n",
        "      <td> N1, N2</td>\n",
        "      <td> DQ531687                       \u2028",
        "              ...</td>\n",
        "      <td>                                          DQ531699</td>\n",
        "      <td>             DQ531699</td>\n",
        "    </tr>\n",
        "    <tr>\n",
        "      <th>5 </th>\n",
        "      <td>            Scytonemahyalinum FGP\u20107A</td>\n",
        "      <td> Moab</td>\n",
        "      <td>                                         crust</td>\n",
        "      <td> S1, S2</td>\n",
        "      <td> DQ531669                       \u2028",
        "              ...</td>\n",
        "      <td> DQ531698                       \u2028",
        "              ...</td>\n",
        "      <td> [DQ531698, DQ531697]</td>\n",
        "    </tr>\n",
        "    <tr>\n",
        "      <th>6 </th>\n",
        "      <td>       Scytonemahyalinum DC\u2010A (CY16)</td>\n",
        "      <td>  CP1</td>\n",
        "      <td>                                         crust</td>\n",
        "      <td> S1, S2</td>\n",
        "      <td> DQ531695                       \u2028",
        "              ...</td>\n",
        "      <td> DQ531701                       \u2028",
        "              ...</td>\n",
        "      <td> [DQ531701, DQ531704]</td>\n",
        "    </tr>\n",
        "    <tr>\n",
        "      <th>7 </th>\n",
        "      <td>     Scytonemahyalinum NCC\u20104B (CY18)</td>\n",
        "      <td>  CP4</td>\n",
        "      <td>                                         crust</td>\n",
        "      <td> S1, S2</td>\n",
        "      <td>                                 DQ531694 DQ531675</td>\n",
        "      <td>                                               ND\u00a7</td>\n",
        "      <td>                  NaN</td>\n",
        "    </tr>\n",
        "    <tr>\n",
        "      <th>8 </th>\n",
        "      <td> Spirirestisrafaelensis LQ\u201010 (CY17)</td>\n",
        "      <td>  CP4</td>\n",
        "      <td>                                         crust</td>\n",
        "      <td>     T1</td>\n",
        "      <td>                                          DQ531673</td>\n",
        "      <td>                                          DQ531696</td>\n",
        "      <td>             DQ531696</td>\n",
        "    </tr>\n",
        "    <tr>\n",
        "      <th>9 </th>\n",
        "      <td>            Tolypothrix JCT\u20101 (CY19)</td>\n",
        "      <td>  JO1</td>\n",
        "      <td>                                         crust</td>\n",
        "      <td>     T2</td>\n",
        "      <td>                                          DQ531682</td>\n",
        "      <td>                                          DQ531702</td>\n",
        "      <td>             DQ531702</td>\n",
        "    </tr>\n",
        "    <tr>\n",
        "      <th>10</th>\n",
        "      <td>             Calothrix MCC\u20103A (CY15)</td>\n",
        "      <td>  CP1</td>\n",
        "      <td>          Collema coccophorum (lichen) thallus</td>\n",
        "      <td>     NC</td>\n",
        "      <td>                                          DQ531692</td>\n",
        "      <td>                                          DQ531700</td>\n",
        "      <td>             DQ531700</td>\n",
        "    </tr>\n",
        "    <tr>\n",
        "      <th>11</th>\n",
        "      <td>       Tolypothrix distorta UTEXB424</td>\n",
        "      <td>   NR</td>\n",
        "      <td>                                  potting soil</td>\n",
        "      <td> T2, NC</td>\n",
        "      <td> DQ531681                       \u2028",
        "              ...</td>\n",
        "      <td>                                               ND\u00a7</td>\n",
        "      <td>                  NaN</td>\n",
        "    </tr>\n",
        "    <tr>\n",
        "      <th>12</th>\n",
        "      <td>    Spirirestis rafaelensis UTEX2660</td>\n",
        "      <td>  SRS</td>\n",
        "      <td>                                         crust</td>\n",
        "      <td>     T1</td>\n",
        "      <td>                                          DQ531685</td>\n",
        "      <td>                                  AF334690AF334692</td>\n",
        "      <td> [AF334690, AF334692]</td>\n",
        "    </tr>\n",
        "    <tr>\n",
        "      <th>13</th>\n",
        "      <td>         Scytonema hofmanni UTEX2349</td>\n",
        "      <td>   NY</td>\n",
        "      <td>                 Rock surface of walking trail</td>\n",
        "      <td>     T1</td>\n",
        "      <td>                                          DQ531684</td>\n",
        "      <td>                                          AF132781</td>\n",
        "      <td>             AF132781</td>\n",
        "    </tr>\n",
        "  </tbody>\n",
        "</table>\n",
        "</div>"
       ],
       "metadata": {},
       "output_type": "pyout",
       "prompt_number": 9,
       "text": [
        "                                isolate sampling_location  \\\n",
        "1                     Nostoc commune SC               SC1   \n",
        "2                     Nostoc commune CP               CP2   \n",
        "3          Nostoc commune MCT\u20101 (CY05)\u00b6               CP1   \n",
        "4           Nostoc commune MFG\u20101 (CY06)              Moab   \n",
        "5              Scytonemahyalinum FGP\u20107A              Moab   \n",
        "6         Scytonemahyalinum DC\u2010A (CY16)               CP1   \n",
        "7       Scytonemahyalinum NCC\u20104B (CY18)               CP4   \n",
        "8   Spirirestisrafaelensis LQ\u201010 (CY17)               CP4   \n",
        "9              Tolypothrix JCT\u20101 (CY19)               JO1   \n",
        "10              Calothrix MCC\u20103A (CY15)               CP1   \n",
        "11        Tolypothrix distorta UTEXB424                NR   \n",
        "12     Spirirestis rafaelensis UTEX2660               SRS   \n",
        "13          Scytonema hofmanni UTEX2349                NY   \n",
        "\n",
        "                                  source_material nifH_cluster  \\\n",
        "1   N. commune colony (black, leaf\u2010shaped masses)       N1, N2   \n",
        "2               N. commune colony (black threads)       N1, N2   \n",
        "3                  Collema tenax (lichen) thallus       N1, N2   \n",
        "4                                           crust       N1, N2   \n",
        "5                                           crust       S1, S2   \n",
        "6                                           crust       S1, S2   \n",
        "7                                           crust       S1, S2   \n",
        "8                                           crust           T1   \n",
        "9                                           crust           T2   \n",
        "10           Collema coccophorum (lichen) thallus           NC   \n",
        "11                                   potting soil       T2, NC   \n",
        "12                                          crust           T1   \n",
        "13                  Rock surface of walking trail           T1   \n",
        "\n",
        "                                             acc_nifH  \\\n",
        "1   DQ531670                       \u2028",
        "              ...   \n",
        "2   DQ531679                       \u2028",
        "              ...   \n",
        "3   DQ531680                       \u2028",
        "              ...   \n",
        "4   DQ531687                       \u2028",
        "              ...   \n",
        "5   DQ531669                       \u2028",
        "              ...   \n",
        "6   DQ531695                       \u2028",
        "              ...   \n",
        "7                                   DQ531694 DQ531675   \n",
        "8                                            DQ531673   \n",
        "9                                            DQ531682   \n",
        "10                                           DQ531692   \n",
        "11  DQ531681                       \u2028",
        "              ...   \n",
        "12                                           DQ531685   \n",
        "13                                           DQ531684   \n",
        "\n",
        "                                              acc_16S        parsed_acc_16S  \n",
        "1                                            DQ531705              DQ531705  \n",
        "2                                            DQ531706              DQ531706  \n",
        "3                                            DQ531703              DQ531703  \n",
        "4                                            DQ531699              DQ531699  \n",
        "5   DQ531698                       \u2028",
        "              ...  [DQ531698, DQ531697]  \n",
        "6   DQ531701                       \u2028",
        "              ...  [DQ531701, DQ531704]  \n",
        "7                                                 ND\u00a7                   NaN  \n",
        "8                                            DQ531696              DQ531696  \n",
        "9                                            DQ531702              DQ531702  \n",
        "10                                           DQ531700              DQ531700  \n",
        "11                                                ND\u00a7                   NaN  \n",
        "12                                   AF334690AF334692  [AF334690, AF334692]  \n",
        "13                                           AF132781              AF132781  "
       ]
      }
     ],
     "prompt_number": 9
    },
    {
     "cell_type": "code",
     "collapsed": false,
     "input": [
      "criteria = df.sampling_location.map(lambda x: x.startswith(\"CP\") or x == \"Moab\")\n",
      "df_utah = df[criteria]"
     ],
     "language": "python",
     "metadata": {},
     "outputs": [],
     "prompt_number": 13
    },
    {
     "cell_type": "code",
     "collapsed": false,
     "input": [
      "accs = [i for i in flatten(df_utah.dropna().parsed_acc_16S)]"
     ],
     "language": "python",
     "metadata": {},
     "outputs": [],
     "prompt_number": 29
    },
    {
     "cell_type": "code",
     "collapsed": false,
     "input": [
      "recs = []\n",
      "for acc in accs:\n",
      "    rec = Entrez.efetch(db = \"nucleotide\", \n",
      "                        id = acc,\n",
      "                        rettype = \"fasta\", \n",
      "                        retmode = \"text\").readlines()\n",
      "    recs.append(rec)"
     ],
     "language": "python",
     "metadata": {},
     "outputs": [],
     "prompt_number": 49
    },
    {
     "cell_type": "code",
     "collapsed": false,
     "input": [
      "with open(\"data/yeager2006_utah_seqs.fna\", \"w\") as out:\n",
      "    for rec in recs:\n",
      "        out.writelines(rec[:-1])"
     ],
     "language": "python",
     "metadata": {},
     "outputs": [],
     "prompt_number": 50
    },
    {
     "cell_type": "code",
     "collapsed": false,
     "input": [
      "!head data/yeager2006_utah_seqs.fna"
     ],
     "language": "python",
     "metadata": {},
     "outputs": [
      {
       "output_type": "stream",
       "stream": "stdout",
       "text": [
        ">gi|108735339|gb|DQ531706.1| Nostoc commune CP 16S ribosomal RNA gene, partial sequence\r\n",
        "GGGGAATTTTCCGCAATGGGCGAAAGCCTGACGGAGCAATACCGCGTGAGGGAGGAAGGCTCTTGGGTCG\r\n",
        "TAAACCTCTTTTCTCAGGGAAGAACACAATGACGGTACCTGAGGAATAAGCATCGGCTAACTCCGTGCCA\r\n",
        "GCAGCCGCGGTAATACGGAGGATGCAAGCGTTATCCGGAATGATTGGGCGTAAAGCGTCCGCAGGTGGCT\r\n",
        "GTGTAAGTCTGCTGTTAAAGAGTCTAGCTCAACTAGATAAAAGCAGTGGAAACTACATAGCTAGAGTACG\r\n",
        "TTCGGGGCAGAGGGAATTCCTGGTGTAGCGGTGAAATGCGTAGAGATCAGGAAGAACACCAGTGGCGAAG\r\n",
        "GCGCTCTGCTAGGCCGTAACTGACACTGAGGGACGAAAGCTAGGGGAGCGAATGGGATTAGATACCCCAG\r\n",
        "TAGTCA\r\n",
        ">gi|108735336|gb|DQ531703.1| Nostoc sp. MCT-1 16S ribosomal RNA gene, partial sequence\r\n",
        "GTCTGACTTGTGTAAAACGCGTGAGGGAGGAAGGCTCTTGGGTCGTAAACCTCTTTTCTCAGGGAAGAAC\r\n"
       ]
      }
     ],
     "prompt_number": 51
    },
    {
     "cell_type": "code",
     "collapsed": false,
     "input": [
      "%%bash\n",
      "mothur \"#align.seqs(candidate=data/yeager2006_utah_seqs.fna, \\\n",
      "template=data/tmp/db/silva.bacteria/silva.bacteria.fasta, \\\n",
      "flip=T)\" > /dev/null"
     ],
     "language": "python",
     "metadata": {},
     "outputs": [],
     "prompt_number": 52
    },
    {
     "cell_type": "code",
     "collapsed": false,
     "input": [
      "%%bash\n",
      "mothur \"#summary.seqs(fasta=data/yeager2006_utah_seqs.align)\""
     ],
     "language": "python",
     "metadata": {},
     "outputs": [
      {
       "output_type": "stream",
       "stream": "stdout",
       "text": [
        "\u001b[H\u001b[2J\n",
        "\n",
        "\n",
        "\n",
        "\n",
        "\n",
        "mothur v.1.32.1\n",
        "Last updated: 10/16/2013\n",
        "\n",
        "by\n",
        "Patrick D. Schloss\n",
        "\n",
        "Department of Microbiology & Immunology\n",
        "University of Michigan\n",
        "pschloss@umich.edu\n",
        "http://www.mothur.org\n",
        "\n",
        "When using, please cite:\n",
        "Schloss, P.D., et al., Introducing mothur: Open-source, platform-independent, community-supported software for describing and comparing microbial communities. Appl Environ Microbiol, 2009. 75(23):7537-41.\n",
        "\n",
        "Distributed under the GNU General Public License\n",
        "\n",
        "Type 'help()' for information on the commands that are available\n",
        "\n",
        "Type 'quit()' to exit program\n",
        "\n",
        "\n",
        "\n",
        "mothur > summary.seqs(fasta=data/yeager2006_utah_seqs.align)\n",
        "\n",
        "Using 1 processors.\n",
        "\n",
        "\t\tStart\tEnd\tNBases\tAmbigs\tPolymer\tNumSeqs\n",
        "Minimum:\t1044\t22107\t426\t0\t4\t1\n",
        "2.5%-tile:\t1044\t22107\t426\t0\t4\t1\n",
        "25%-tile:\t1044\t25318\t465\t0\t4\t3\n",
        "Median: \t1044\t25318\t659\t0\t5\t5\n",
        "75%-tile:\t6430\t25318\t726\t0\t5\t7\n",
        "97.5%-tile:\t7917\t26859\t727\t0\t7\t9\n",
        "Maximum:\t7917\t26859\t727\t0\t7\t9\n",
        "Mean:\t3169.78\t24947.2\t619.333\t0\t5\n",
        "# of Seqs:\t9\n",
        "\n",
        "Output File Names: \n",
        "data/yeager2006_utah_seqs.summary\n",
        "\n",
        "\n",
        "mothur > quit()\n"
       ]
      }
     ],
     "prompt_number": 53
    },
    {
     "cell_type": "code",
     "collapsed": false,
     "input": [
      "start = 15693\n",
      "end = 23957\n",
      "with open(\"data/yeager2006_utah_seqs.trimmed.fna\", \"w\") as out:\n",
      "    for rec in screed.open(\"data/yeager2006_utah_seqs.align\"):\n",
      "        n = rec.name\n",
      "        s = rec.sequence[start:end]\n",
      "        s = s.replace(\".\",\"\")\n",
      "        s = s.replace(\"-\",\"\")\n",
      "        out.write(\">%s\\n%s\\n\"%(n.split(\"|\")[3],s))"
     ],
     "language": "python",
     "metadata": {},
     "outputs": [],
     "prompt_number": 83
    },
    {
     "cell_type": "code",
     "collapsed": false,
     "input": [
      "!cat data/yeager2006_utah_seqs.trimmed.fna"
     ],
     "language": "python",
     "metadata": {},
     "outputs": [
      {
       "output_type": "stream",
       "stream": "stdout",
       "text": [
        ">DQ531706.1\r\n",
        "GTAAGTCTGCTGTTAAAGAGTCTAGCTCAACTAGATAAAAGCAGTGGAAACTACATAGCTAGAGTACGTTCGGGGCAGAGGGAATTCCTGGTGTAGCGGTGAAATGCGTAGAGATCAGGAAGAACACCAGTGGCGAAGGCGCTCTGCTAGGCCGTAACTGACACTGAGGGACGAAAGCTAGGGGAGCGAATGGGAT\r\n",
        ">DQ531703.1\r\n",
        "GTAAGTCTGCTGTTAAAGAGTCTAGCTCAACTAGATAAGAGCAGTGGAAACTACACGGCTAGAGTACGTTCGGGGCAGAGGGAATTCCTGGTGTAGCGGTGAAATGCGTAGAGATCAGGAAGAACACCAGTGGCGAAGGCGCTCTGCTAGGCCGTAACTGACACTGAGGGACGAAAGCTAGGGGAGCGAATGGGAT\r\n",
        ">DQ531699.1\r\n",
        "GTAAGTCTGCTGTTAAAGAGTGAGGCTCAACCTCATAAGAGCAGTGGAAACTACATAGCTAGAGTACGTTCGGGGCAGAGGGAATTCCTGGTGTAGCGGTGAAATGCGTAGAGATCAGGAAGAACACCGGTGGCGAAGGCGCTCTGCTAGGCCGTAACTGACACTGAGGGACGAAAGCTAGGGGAGCGAATGGGAT\r\n",
        ">DQ531698.1\r\n",
        "GTAAGTCTGCTGTCAAAGCGTCTGGCTCAACCAGATAAAGGCAGTGGAAACTACATAGCTAGAGTAAGGTAGGGGTAGAGGGAATTCCTGGTGTAGCGGTGAAATGCGTAGAGATCAGGAAGAACACCGGTGGCGAAAGCGCTCTGCTGGACCTTAACTGACACTGAGGGACGAAAGCTAGGGGAGCGAATGGGAT\r\n",
        ">DQ531697.1\r\n",
        "TCAAGTCTGCTGTTAAAGCGTCTGGCTTAACCAGATAAAGGCGGTGGAAACTGAACGACTAGAGTGCGGTAGGGGTAGAGGGAATTCCCAGTGTAGCGGTGAAATGCGTAGATCTTGGGAAGAACACCTGTGGCGAAAGCGCTCTACTGGACCGCGACTGACACTGATGGACGAAAGCTAGGGGAGCGAATGGGAT\r\n",
        ">DQ531701.1\r\n",
        "GTAAGTCTGCTGTCAAAGCGTCTGGCTCAACCAGATAAAGGCAGTGGAAACTACATAGCTAGAGTAAGGTAGGGGTAGAGGGAATTCCTGGTGTAGCGGTGAAATGCGTAGAGATCAGGAAGAACACCGGTGGCGAAAGCGCTCTGCTGGA\r\n",
        ">DQ531704.1\r\n",
        "TCAAGTCTGCTGTTAAAGCGTCTGGCTTAACCAGATAAAGGCGGTGGAAACTGAACGACTAGAGTGCGGTAGGGGTAGAGGGAATTCCCAGTGTAGCGGTGAAATGCGTAGATCTTGGGAAGAACACCTGTGGCGAAAGCGCTCTACTGGACCGCGACTGACACTGATGGACGAAAGCTAGGGGAGCGAATGGGAT\r\n",
        ">DQ531696.1\r\n",
        "GTAAGTCTGCTGTTAAAGAGTCTGGCTCAACCAGATAAAGGCAGTGGAAACTACATGGCTAGAGTGCGTTCGGGGCAGAGGGAATTCCTGGTGTAGCGGTGAAATGCGTAGAGATCAGGAAGAACACCGGTGGCGAAAGCGCTCTGCTAGGCCGCAACTGACACTGAGGGACGAAAGCTAGGGGAGCGAATGGGAT\r\n",
        ">DQ531700.1\r\n",
        "ATAAGTCTGCTGTTAAAGCGTTAGGCTCAACCTAATAAGGGCAGTGGAAACTATTAGACTAGAGTATGTTAGGGGTAGAGGGAATTCCCAGTGTAGCGGTGAAATGCGTAGAGATTGGGAAGAACACCGGTGGCGAAAGCGCTCTGCTAG\r\n"
       ]
      }
     ],
     "prompt_number": 84
    },
    {
     "cell_type": "code",
     "collapsed": false,
     "input": [
      "for rec in screed.open(\"data/yeager2006_utah_seqs.trimmed.fna\"):\n",
      "    print rec.name, len(rec.sequence)"
     ],
     "language": "python",
     "metadata": {},
     "outputs": [
      {
       "output_type": "stream",
       "stream": "stdout",
       "text": [
        "DQ531706.1 196\n",
        "DQ531703.1 196\n",
        "DQ531699.1 196\n",
        "DQ531698.1 196\n",
        "DQ531697.1 196\n",
        "DQ531701.1 151\n",
        "DQ531704.1 196\n",
        "DQ531696.1 196\n",
        "DQ531700.1 150\n"
       ]
      }
     ],
     "prompt_number": 85
    },
    {
     "cell_type": "code",
     "collapsed": false,
     "input": [
      "%%bash\n",
      "mothur \"#unique.seqs(fasta=data/yeager2006_utah_seqs.trimmed.fna)\""
     ],
     "language": "python",
     "metadata": {},
     "outputs": [
      {
       "output_type": "stream",
       "stream": "stdout",
       "text": [
        "\u001b[H\u001b[2J\n",
        "\n",
        "\n",
        "\n",
        "\n",
        "\n",
        "mothur v.1.32.1\n",
        "Last updated: 10/16/2013\n",
        "\n",
        "by\n",
        "Patrick D. Schloss\n",
        "\n",
        "Department of Microbiology & Immunology\n",
        "University of Michigan\n",
        "pschloss@umich.edu\n",
        "http://www.mothur.org\n",
        "\n",
        "When using, please cite:\n",
        "Schloss, P.D., et al., Introducing mothur: Open-source, platform-independent, community-supported software for describing and comparing microbial communities. Appl Environ Microbiol, 2009. 75(23):7537-41.\n",
        "\n",
        "Distributed under the GNU General Public License\n",
        "\n",
        "Type 'help()' for information on the commands that are available\n",
        "\n",
        "Type 'quit()' to exit program\n",
        "\n",
        "\n",
        "\n",
        "mothur > unique.seqs(fasta=data/yeager2006_utah_seqs.trimmed.fna)\n",
        "9\t8\n",
        "\n",
        "Output File Names: \n",
        "data/yeager2006_utah_seqs.trimmed.names\n",
        "data/yeager2006_utah_seqs.trimmed.unique.fna\n",
        "\n",
        "\n",
        "mothur > quit()\n"
       ]
      }
     ],
     "prompt_number": 86
    },
    {
     "cell_type": "code",
     "collapsed": false,
     "input": [
      "!cat data/yeager2006_utah_seqs.trimmed.names"
     ],
     "language": "python",
     "metadata": {},
     "outputs": [
      {
       "output_type": "stream",
       "stream": "stdout",
       "text": [
        "DQ531706.1\tDQ531706.1\r\n",
        "DQ531703.1\tDQ531703.1\r\n",
        "DQ531699.1\tDQ531699.1\r\n",
        "DQ531698.1\tDQ531698.1\r\n",
        "DQ531697.1\tDQ531697.1,DQ531704.1\r\n",
        "DQ531701.1\tDQ531701.1\r\n",
        "DQ531696.1\tDQ531696.1\r\n",
        "DQ531700.1\tDQ531700.1\r\n"
       ]
      }
     ],
     "prompt_number": 1
    },
    {
     "cell_type": "code",
     "collapsed": false,
     "input": [],
     "language": "python",
     "metadata": {},
     "outputs": []
    }
   ],
   "metadata": {}
  }
 ]
}
{
 "metadata": {
  "name": "",
  "signature": "sha256:4ce61706b8f5ec7b5941b6156f6eb580047646ed92c50fe6235bc28e8f751c00"
 },
 "nbformat": 3,
 "nbformat_minor": 0,
 "worksheets": [
  {
   "cells": [
    {
     "cell_type": "code",
     "collapsed": false,
     "input": [
      "import glob\n",
      "import screed\n",
      "from os.path import basename"
     ],
     "language": "python",
     "metadata": {},
     "outputs": [],
     "prompt_number": 99
    },
    {
     "cell_type": "code",
     "collapsed": false,
     "input": [
      "!wget http://garcia-pichel.lab.asu.edu/databases/Desert%2016s%20-%20May2013%202.zip \\\n",
      "    -O data/garcia-pichel_2013_data.zip"
     ],
     "language": "python",
     "metadata": {},
     "outputs": [
      {
       "output_type": "stream",
       "stream": "stdout",
       "text": [
        "--2014-07-23 18:15:08--  http://garcia-pichel.lab.asu.edu/databases/Desert%2016s%20-%20May2013%202.zip\r\n",
        "Resolving garcia-pichel.lab.asu.edu (garcia-pichel.lab.asu.edu)... 129.219.115.117\r\n",
        "Connecting to garcia-pichel.lab.asu.edu (garcia-pichel.lab.asu.edu)|129.219.115.117|:80... "
       ]
      },
      {
       "output_type": "stream",
       "stream": "stdout",
       "text": [
        "connected.\r\n",
        "HTTP request sent, awaiting response... "
       ]
      },
      {
       "output_type": "stream",
       "stream": "stdout",
       "text": [
        "200 OK\r\n",
        "Length: 4365318 (4.2M) [application/zip]\r\n",
        "Saving to: `data/garcia-pichel_2013_data.zip'\r\n",
        "\r\n",
        "\r",
        " 0% [                                       ] 0           --.-K/s              "
       ]
      },
      {
       "output_type": "stream",
       "stream": "stdout",
       "text": [
        "\r",
        " 0% [                                       ] 12,028      51.7K/s              "
       ]
      },
      {
       "output_type": "stream",
       "stream": "stdout",
       "text": [
        "\r",
        " 0% [                                       ] 29,812      64.0K/s              "
       ]
      },
      {
       "output_type": "stream",
       "stream": "stdout",
       "text": [
        "\r",
        " 1% [                                       ] 64,012      91.6K/s              "
       ]
      },
      {
       "output_type": "stream",
       "stream": "stdout",
       "text": [
        "\r",
        " 2% [                                       ] 111,892      120K/s              "
       ]
      },
      {
       "output_type": "stream",
       "stream": "stdout",
       "text": [
        "\r",
        " 4% [>                                      ] 189,868      163K/s              "
       ]
      },
      {
       "output_type": "stream",
       "stream": "stdout",
       "text": [
        "\r",
        " 6% [=>                                     ] 303,412      217K/s              "
       ]
      },
      {
       "output_type": "stream",
       "stream": "stdout",
       "text": [
        "\r",
        "10% [===>                                   ] 459,364      281K/s              "
       ]
      },
      {
       "output_type": "stream",
       "stream": "stdout",
       "text": [
        "\r",
        "14% [====>                                  ] 638,572      342K/s              "
       ]
      },
      {
       "output_type": "stream",
       "stream": "stdout",
       "text": [
        "\r",
        "19% [======>                                ] 849,228      404K/s              "
       ]
      },
      {
       "output_type": "stream",
       "stream": "stdout",
       "text": [
        "\r",
        "25% [========>                              ] 1,113,268    477K/s              "
       ]
      },
      {
       "output_type": "stream",
       "stream": "stdout",
       "text": [
        "\r",
        "32% [===========>                           ] 1,437,484    560K/s              "
       ]
      },
      {
       "output_type": "stream",
       "stream": "stdout",
       "text": [
        "\r",
        "41% [===============>                       ] 1,830,084    653K/s              "
       ]
      },
      {
       "output_type": "stream",
       "stream": "stdout",
       "text": [
        "\r",
        "53% [===================>                   ] 2,343,100    772K/s              "
       ]
      },
      {
       "output_type": "stream",
       "stream": "stdout",
       "text": [
        "\r",
        "68% [=========================>             ] 2,980,588    911K/s  eta 1s      "
       ]
      },
      {
       "output_type": "stream",
       "stream": "stdout",
       "text": [
        "\r",
        "86% [================================>      ] 3,756,244   1.05M/s  eta 1s      "
       ]
      },
      {
       "output_type": "stream",
       "stream": "stdout",
       "text": [
        "\r",
        "100%[======================================>] 4,365,318   1.18M/s   in 3.5s    \r\n",
        "\r\n",
        "2014-07-23 18:15:12 (1.18 MB/s) - `data/garcia-pichel_2013_data.zip' saved [4365318/4365318]\r\n",
        "\r\n"
       ]
      }
     ],
     "prompt_number": 76
    },
    {
     "cell_type": "code",
     "collapsed": false,
     "input": [
      "!unzip -o data/garcia-pichel_2013_data.zip -d data > /dev/null\n",
      "!rm -r data/Desert16s-May2013/\n",
      "!mv \"data/Desert 16s - May2013\" data/Desert16s-May2013"
     ],
     "language": "python",
     "metadata": {},
     "outputs": [],
     "prompt_number": 84
    },
    {
     "cell_type": "code",
     "collapsed": false,
     "input": [
      "!rm data/garcia-pichel_2013_data.zip"
     ],
     "language": "python",
     "metadata": {},
     "outputs": [],
     "prompt_number": 107
    },
    {
     "cell_type": "code",
     "collapsed": false,
     "input": [
      "fns = glob.glob(\"data/Desert16s-May2013/*.fasta\")"
     ],
     "language": "python",
     "metadata": {},
     "outputs": [],
     "prompt_number": 97
    },
    {
     "cell_type": "code",
     "collapsed": false,
     "input": [
      "fns"
     ],
     "language": "python",
     "metadata": {},
     "outputs": [
      {
       "metadata": {},
       "output_type": "pyout",
       "prompt_number": 100,
       "text": [
        "['data/Desert16s-May2013/site8_NorthernGreatBasin-BlzdGap.fasta',\n",
        " 'data/Desert16s-May2013/site12_NorthernGreatBasin-CulverRd.fasta',\n",
        " 'data/Desert16s-May2013/site23_Sonoran-CasaGrande.fasta',\n",
        " 'data/Desert16s-May2013/site20_Mojave-SearlesLk.fasta',\n",
        " 'data/Desert16s-May2013/site6_ColoradoPlateau-AcomaEx.fasta',\n",
        " 'data/Desert16s-May2013/site17_Chihuahuan-WilcoxPlya.fasta',\n",
        " 'data/Desert16s-May2013/site13_Chihuahuan-FivePts.fasta',\n",
        " 'data/Desert16s-May2013/site9_NorthernGreatBasin-AlvordHS.fasta',\n",
        " 'data/Desert16s-May2013/site16_Sonoran-Dateland.fasta',\n",
        " 'data/Desert16s-May2013/site14_Chihuahuan-SevilletaGyps.fasta',\n",
        " 'data/Desert16s-May2013/site3_ColoradoPlateau-GreenButte.fasta',\n",
        " 'data/Desert16s-May2013/site1_Sonoran-BatesWl.fasta',\n",
        " 'data/Desert16s-May2013/site10_NorthernGreatBasin-AlbertLk.fasta',\n",
        " 'data/Desert16s-May2013/site15_Sonoran-Chandler.fasta',\n",
        " 'data/Desert16s-May2013/site21_Mojave-SodaLk.fasta',\n",
        " 'data/Desert16s-May2013/site19_Mojave-CactusPln.fasta',\n",
        " 'data/Desert16s-May2013/site2_ColoradoPlateau-SlickRock.fasta',\n",
        " 'data/Desert16s-May2013/site5_ColoradoPlateau-Canyonlands.fasta',\n",
        " 'data/Desert16s-May2013/site18_Chihuahuan-Jornada.fasta',\n",
        " 'data/Desert16s-May2013/site7_ColoradoPlateau-ElMorro.fasta',\n",
        " 'data/Desert16s-May2013/site11_NorthernGreatBasin-WhiteFlt.fasta',\n",
        " 'data/Desert16s-May2013/site4_ColoradoPlateau-SundayChurt.fasta',\n",
        " 'data/Desert16s-May2013/site22_Mojave-HaydenRd.fasta']"
       ]
      }
     ],
     "prompt_number": 100
    },
    {
     "cell_type": "code",
     "collapsed": false,
     "input": [
      "c = 1\n",
      "with open(\"data/garcia-pichel_2013.fasta\", \"w\") as out:\n",
      "    for fn in fns:\n",
      "        bn = basename(fn)\n",
      "        sampleID = bn.split(\"_\")[0]\n",
      "        for rec in screed.open(fn):\n",
      "            out.write(\">%s_%s\\n%s\\n\"%(sampleID,c,rec.sequence))\n",
      "            c += 1"
     ],
     "language": "python",
     "metadata": {},
     "outputs": [],
     "prompt_number": 102
    },
    {
     "cell_type": "code",
     "collapsed": false,
     "input": [
      "!head -n2 data/garcia-pichel_2013.fasta\n",
      "!tail -n2 data/garcia-pichel_2013.fasta"
     ],
     "language": "python",
     "metadata": {},
     "outputs": [
      {
       "output_type": "stream",
       "stream": "stdout",
       "text": [
        ">site8_1\r\n",
        "CCGCAGGTGGCAGTTCAAGTCTGCTGTCAAAGACCGGGGCTCAACCTCGGAAAGGCAGTGGAAACTGAACAGCTAGAGTATGGTAGGGGCAGAGGGAATTCCTGGTGTAGCGGTGAAATGCGTAGAGATCAGGAAGAACATCGGTGGCGAAGGCGCTCTGCTGGACCATAACTGACACTCAGGGACGAAAGCTAGGGGAGCGAATGGGATTAGATACCCTGGTACTGAGCGGGCTGGCAAGGCGCATAG\r\n"
       ]
      },
      {
       "output_type": "stream",
       "stream": "stdout",
       "text": [
        ">site22_146064\r\n",
        "GTGCGTAGGTGGCGGGGTAAGTCAGGTGTGAAATTTCGGAGCTTAACTCCGAAACTGCATTTGATACTGCCTTGCTTGAGGACTGGAGAGGAGATTGGAATTCACGGTGTAGCAGTGAAATGCGTAGATATCGTGAGGAAGACCAGTGGCGAAGGCGGATCTCTGGACAGTTCCTGACACTGAGGCACGAAGGCTAGGGAGCAAACGGATTAGATACCCCGG\r\n"
       ]
      }
     ],
     "prompt_number": 106
    }
   ],
   "metadata": {}
  }
 ]
}
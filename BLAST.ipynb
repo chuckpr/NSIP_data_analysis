{
 "metadata": {
  "name": "",
  "signature": "sha256:0c99b2b4b62a8cd151659cad7f966a4e0d62c214d651a8aaf302bca752ed3b4f"
 },
 "nbformat": 3,
 "nbformat_minor": 0,
 "worksheets": [
  {
   "cells": [
    {
     "cell_type": "code",
     "collapsed": false,
     "input": [
      "from Bio.Blast.Applications import NcbiblastnCommandline as blast"
     ],
     "language": "python",
     "metadata": {},
     "outputs": [],
     "prompt_number": 2
    },
    {
     "cell_type": "code",
     "collapsed": false,
     "input": [
      "cline = blast(query = \"data/otusn_yeager2006.fasta\",\n",
      "              db = \"/var/seq_data/silva/silva_blastdb/silva_RefNR_115\",\n",
      "              outfmt = 6,\n",
      "              out = \"data/tmp/blast_out_otusn_silvaRefNR115.m6\",\n",
      "              num_threads = 30)\n",
      "print cline\n",
      "cline()"
     ],
     "language": "python",
     "metadata": {},
     "outputs": []
    },
    {
     "cell_type": "code",
     "collapsed": false,
     "input": [
      "!head -n1 data/tmp/blast_out_otusn_silvaRefNR115.m6\n",
      "!wc -l data/tmp/blast_out_otusn_silvaRefNR115.m6"
     ],
     "language": "python",
     "metadata": {},
     "outputs": [
      {
       "output_type": "stream",
       "stream": "stdout",
       "text": [
        "OTU.1\tHQ910311\t99.49\t195\t0\t1\t1\t195\t542\t735\t4e-96\t  353\r\n"
       ]
      },
      {
       "output_type": "stream",
       "stream": "stdout",
       "text": [
        "2098578 data/tmp/blast_out_otusn_silvaRefNR115.m6\r\n"
       ]
      }
     ],
     "prompt_number": 4
    },
    {
     "cell_type": "code",
     "collapsed": false,
     "input": [
      "cline = blast(query = \"data/otusn_yeager2006.fasta\",\n",
      "              db = \"/var/seq_data/LTP115_db/LTP115\",\n",
      "              outfmt = 6,\n",
      "              out = \"data/tmp/blast_out_otusn_LTP115.m6\",\n",
      "              num_threads = 20,\n",
      "              evalue = 10)\n",
      "print cline\n",
      "cline()"
     ],
     "language": "python",
     "metadata": {},
     "outputs": [
      {
       "output_type": "stream",
       "stream": "stdout",
       "text": [
        "blastn -out data/tmp/blast_out_otusn_LTP115.m6 -outfmt 6 -query data/otusn_yeager2006.fasta -db /var/seq_data/LTP115_db/LTP115 -evalue 10 -num_threads 20\n"
       ]
      },
      {
       "metadata": {},
       "output_type": "pyout",
       "prompt_number": 4,
       "text": [
        "('', '')"
       ]
      }
     ],
     "prompt_number": 4
    },
    {
     "cell_type": "code",
     "collapsed": false,
     "input": [
      "!head -n1 data/tmp/blast_out_otusn_LTP115.m6\n",
      "!wc -l data/tmp/blast_out_otusn_LTP115.m6"
     ],
     "language": "python",
     "metadata": {},
     "outputs": [
      {
       "output_type": "stream",
       "stream": "stdout",
       "text": [
        "OTU.1\tY18791\t90.26\t195\t18\t1\t1\t195\t511\t704\t8e-68\t  254\r\n"
       ]
      },
      {
       "output_type": "stream",
       "stream": "stdout",
       "text": [
        "1289278 data/tmp/blast_out_otusn_LTP115.m6\r\n"
       ]
      }
     ],
     "prompt_number": 5
    }
   ],
   "metadata": {}
  }
 ]
}
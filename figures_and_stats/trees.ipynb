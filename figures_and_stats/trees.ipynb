{
 "metadata": {
  "name": "",
  "signature": "sha256:cf82f40f47533d5a910a59cc1e1623631c8bda2eb9860c009c5d20a0eb2f68d9"
 },
 "nbformat": 3,
 "nbformat_minor": 0,
 "worksheets": [
  {
   "cells": [
    {
     "cell_type": "code",
     "collapsed": false,
     "input": [
      "from IPython.display import FileLink\n",
      "import pandas as pd\n",
      "import pandas.rpy.common as com\n",
      "import brewer2mpl\n",
      "import matplotlib.pyplot as plt\n",
      "import matplotlib as mpl\n",
      "import matplotlib\n",
      "import matplotlib.colors as mcolors\n",
      "from matplotlib import gridspec\n",
      "from numpy import nan, min, array, arange\n",
      "import itertools\n",
      "%matplotlib inline\n",
      "%load_ext rpy2.ipython"
     ],
     "language": "python",
     "metadata": {},
     "outputs": [
      {
       "output_type": "stream",
       "stream": "stdout",
       "text": [
        "The rpy2.ipython extension is already loaded. To reload it, use:\n",
        "  %reload_ext rpy2.ipython\n"
       ]
      }
     ],
     "prompt_number": 200
    },
    {
     "cell_type": "code",
     "collapsed": false,
     "input": [
      "%%R\n",
      "library(phyloseq)\n",
      "library(plyr)"
     ],
     "language": "python",
     "metadata": {},
     "outputs": [],
     "prompt_number": 2
    },
    {
     "cell_type": "code",
     "collapsed": false,
     "input": [
      "%%R\n",
      "physeq = import_biom(\"../data/otu_table_wtax.biom\", treefilename = \"../data/otusn_yeager2006.tree\")\n",
      "\n",
      "mapfilename = \"../data/sample_data_combined_qiime_format.tsv\"\n",
      "QiimeMap <- read.table(file = mapfilename, header = TRUE, \n",
      "                       sep = \"\\t\", comment.char = \"\", \n",
      "                       colClasses = c(\"Density\" = \"numeric\"))\n",
      "rownames(QiimeMap) <- as.character(QiimeMap[, 1])\n",
      "sample.data1 = sample_data(QiimeMap)\n",
      "physeq = merge_phyloseq(physeq,sample.data1)\n",
      "sample.data2 = sample_data(physeq)\n",
      "physeq.nsip = prune_samples(sample.data2$study == \"NSIP\", physeq)"
     ],
     "language": "python",
     "metadata": {},
     "outputs": [],
     "prompt_number": 23
    },
    {
     "cell_type": "code",
     "collapsed": false,
     "input": [
      "matplotlib.rcParams[\"axes.facecolor\"] = \"white\"\n",
      "matplotlib.rcParams[\"axes.edgecolor\"] = \"#151515\"\n",
      "matplotlib.rcParams[\"grid.color\"] = \"#959595\"\n",
      "matplotlib.rcParams[\"grid.alpha\"] = \"0.50\"\n",
      "matplotlib.rcParams[\"font.size\"] = 7.5"
     ],
     "language": "python",
     "metadata": {},
     "outputs": [],
     "prompt_number": 4
    },
    {
     "cell_type": "code",
     "collapsed": false,
     "input": [
      "%%R\n",
      "get_tree_df = function(subset_str) {\n",
      "    ps = eval(parse(text=subset_str))\n",
      "    df_tree = phyloseq:::tree.layout(phy_tree(ps), ladderize=\"right\")\n",
      "    tax = data.frame(tax_table(ps), stringsAsFactors = FALSE)\n",
      "    tax$label = rownames(tax)\n",
      "    df_tree = join(df_tree, tax, type = \"left\", by = \"label\")\n",
      "    df_tree\n",
      "}"
     ],
     "language": "python",
     "metadata": {},
     "outputs": [],
     "prompt_number": 5
    },
    {
     "cell_type": "code",
     "collapsed": false,
     "input": [
      "def get_leaves(tdf):\n",
      "    leaves = tdf[tdf[\"is.leaf\"].map(bool)&(tdf[\"type\"]==\"node\")]\n",
      "    return leaves[[\"label\",\"y\"]]\n",
      "\n",
      "def get_tree_df(subset_str):\n",
      "    subset_str = subset_str\n",
      "    %Rpush subset_str\n",
      "    %Rpush OTUs\n",
      "    %R OTUs = as.character(OTUs)\n",
      "    %R df_tree = get_tree_df(subset_str)\n",
      "    tree_df = com.load_data(\"df_tree\")\n",
      "    return tree_df\n",
      "\n",
      "def get_tax_colordict(tdf, color_rank):\n",
      "    cats = set(tdf[color_rank].dropna())\n",
      "    c_list = []\n",
      "    for m in [\"Dark2\", \"Accent\", \"Set1\"]:\n",
      "        colors = brewer2mpl.get_map(m, \"qualitative\", 8).hex_colors\n",
      "        [c_list.append(c) for c in colors]\n",
      "    color_dict = dict(itertools.izip(cats, itertools.cycle(c_list)))\n",
      "    color_dict[nan] = \"#505050\"\n",
      "    color_dict[\"color_rank\"] = color_rank\n",
      "    return color_dict\n",
      "\n",
      "def heatmap(tdf, df_l2fc, ax):\n",
      "    leaves = get_leaves(tdf)\n",
      "    d_plot = df_l2fc[[\"log2FoldChange\",\"OTU\",\"Day\"]].pivot(index=\"OTU\",\n",
      "                                                           columns=\"Day\",\n",
      "                                                           values=\"log2FoldChange\").reset_index()\n",
      "    d_plot = d_plot.merge(leaves, how=\"inner\", left_on=\"OTU\", right_on=\"label\") #culls OTUs not in tree\n",
      "    vmin = df_l2fc[\"log2FoldChange\"].quantile(0.05)\n",
      "    vmax = df_l2fc[\"log2FoldChange\"].quantile(0.95)\n",
      "    cm = brewer2mpl.get_map('RdYlBu', 'diverging', 5, reverse=True).mpl_colormap\n",
      "    ax.imshow(d_plot.sort(\"y\")[[2,4]].as_matrix(), interpolation=\"nearest\", aspect=\"auto\", cmap=cm, vmin=vmin, vmax=vmax)\n",
      "    ax.set_frame_on(False)\n",
      "    ax.set_xticks([])\n",
      "    ax.set_yticks([])\n",
      "    ax.set_ylim(ax.get_ylim()[::-1]) #I don't know why imshow swithces this around...\n",
      "    return ax\n",
      "    \n",
      "def scatter(tdf, df_l2fc, ax, pt_size = 12):\n",
      "    leaves = get_leaves(tdf)\n",
      "    d_plot = df_l2fc[[\"p.adj\",\"OTU\"]].groupby(\"OTU\").min()\n",
      "    d_plot = d_plot[d_plot[\"p.adj\"] < 0.10].reset_index()\n",
      "    d_plot = leaves.merge(d_plot, how=\"inner\", left_on=\"label\", right_on=\"OTU\")\n",
      "    ax.scatter(x = [1 for i in d_plot.y],\n",
      "               y = d_plot.y - 1, \n",
      "               s = pt_size)\n",
      "    ax.set_frame_on(False)\n",
      "    ax.xaxis.tick_top()\n",
      "    ax.set_yticks([])\n",
      "    ax.set_xticks([])\n",
      "    return ax\n",
      "\n",
      "def gp_heatmap(mdf, tdf, ax):\n",
      "    d = mdf[mdf[\"study\"]==\"Garcia-Pichel et al. (2013)\"][[\"OTU\",\"BiocrustType\",\"Abundance\"]].groupby([\"OTU\",\"BiocrustType\"]).sum()\n",
      "    d = d.reset_index().pivot(index=\"OTU\", values=\"Abundance\", columns=\"BiocrustType\").reset_index()\n",
      "    leaves = get_leaves(tdf)\n",
      "    d_plot = leaves.merge(d, how=\"left\", left_on=\"label\", right_on=\"OTU\").sort(\"y\")\n",
      "    z = d_plot[[\"Lichen\",\"dark\",\"light\"]].as_matrix() > 0\n",
      "    Y = d_plot.y\n",
      "    Y = Y.append(pd.Series(Y.max()+1))\n",
      "    Y = Y - 1.5\n",
      "    test = sum(z.astype(int) == 0).sum()\n",
      "    if test: #this is a weird bug, pcolor will be reversed if matrix is all True...\n",
      "        cmap = \"Greys\"\n",
      "    else:\n",
      "        cmap = \"Greys_r\"\n",
      "    ax.pcolor(arange(4) + 1, Y.values, z, edgecolors='w', linewidths=1, cmap=\"Greys\")\n",
      "    ax.set_xticks(arange(3) + 1.5)\n",
      "    ax.set_xticklabels([\"Lichen\",\"dark\",\"light\"], rotation = \"vertical\", ha = \"center\")\n",
      "    ax.set_yticks([])\n",
      "\n",
      "def steven_heatmap(mdf, tdf, ax):\n",
      "    d = mdf[mdf[\"study\"]==\"Steven et al. (2013)\"][[\"OTU\",\"crust_or_below\",\"Abundance\"]].groupby([\"OTU\",\"crust_or_below\"]).sum()\n",
      "    d = d.reset_index().pivot(index=\"OTU\", values=\"Abundance\", columns=\"crust_or_below\").reset_index()\n",
      "    leaves = get_leaves(tdf)\n",
      "    d_plot = leaves.merge(d, how=\"left\", left_on=\"label\", right_on=\"OTU\").sort(\"y\")\n",
      "    z = d_plot[[\"below\",\"crust\"]].as_matrix() > 0\n",
      "    Y = d_plot.y\n",
      "    Y = Y.append(pd.Series(Y.max()+1))\n",
      "    Y = Y - 1.5\n",
      "    test = sum(z.astype(int) == 0).sum()\n",
      "    if test:\n",
      "        cmap = \"Greys\"\n",
      "    else:\n",
      "        cmap = \"Greys_r\"\n",
      "    ax.pcolor(arange(3) + 1, Y.values, z, edgecolors='w', linewidths=1, cmap=cmap)\n",
      "    ax.set_xticks(arange(2) + 1.5)\n",
      "    ax.set_xticklabels([\"below\",\"crust\"], rotation = \"vertical\", ha = \"center\")\n",
      "    ax.set_yticks([])\n",
      "\n",
      "def tree(tdf, tax_colors, ax, lw_tax = 2, leg_spacing = 0.25):\n",
      "    color_rank = tax_colors[\"color_rank\"]\n",
      "    tdf_lines = tdf[tdf[\"type\"] == \"line\"]    \n",
      "    start = zip(tdf_lines.x, tdf_lines.y - 1)\n",
      "    end = zip(tdf_lines.xend, tdf_lines.yend - 1)\n",
      "    lines = zip(start, end)\n",
      "    leaf_nodes = tdf[tdf[\"is.leaf\"]==True][\"node\"].tolist()\n",
      "    criterion1 = tdf[\"node\"].map(lambda x: x in leaf_nodes)\n",
      "    tdf_tip_locs = tdf[criterion1 & (tdf[\"dir\"]==\"up\") & (tdf[\"type\"] == \"line\")]\n",
      "    lc = mpl.collections.LineCollection(segments=lines, color = \"k\")\n",
      "    ax.add_collection(lc)\n",
      "    ax.autoscale()\n",
      "    ax.hlines(y = tdf_tip_locs.y - 1, \n",
      "               xmin = tdf_tip_locs.x, \n",
      "               xmax = ax.get_xlim()[1],\n",
      "               colors = [tax_colors[v] for v in tdf_tip_locs[color_rank]],\n",
      "               lw = lw_tax)\n",
      "    ax.set_xticks([])\n",
      "    ax.set_yticks([])\n",
      "    ax.set_frame_on(False)\n",
      "    ax.grid(False)\n",
      "    ax.set_xlim([tdf_lines.x.min(), tdf_lines.xend.max()*1.02])\n",
      "\n",
      "    proxy_artists = [plt.Rectangle((0,0),1,1,fc=tax_colors[i]) \n",
      "                     for i in tdf_tip_locs.sort(\"y\")[color_rank].unique().tolist()]\n",
      "    leg = ax.legend(proxy_artists, \n",
      "                     tdf_tip_locs.sort(\"y\")[color_rank].unique().tolist(),\n",
      "                     bbox_to_anchor = (0, -leg_spacing),\n",
      "                     loc = 2, ncol = 1,\n",
      "                     prop={'size':10,'style':\"italic\"}, labelspacing = 0.2)\n",
      "    leg.set_frame_on(False)\n",
      "    return ax"
     ],
     "language": "python",
     "metadata": {},
     "outputs": [],
     "prompt_number": 277
    },
    {
     "cell_type": "code",
     "collapsed": false,
     "input": [
      "df_l2fc = pd.read_csv(\"../data/l2fc_table.csv\", sep = \",\")\n",
      "df_l2fc = df_l2fc[df_l2fc[\"test\"]==\"greater\"]"
     ],
     "language": "python",
     "metadata": {},
     "outputs": [],
     "prompt_number": 9
    },
    {
     "cell_type": "code",
     "collapsed": false,
     "input": [
      "%%R\n",
      "mdf = psmelt(physeq)"
     ],
     "language": "python",
     "metadata": {},
     "outputs": [],
     "prompt_number": 27
    },
    {
     "cell_type": "code",
     "collapsed": false,
     "input": [
      "mdf = com.load_data(\"mdf\")"
     ],
     "language": "python",
     "metadata": {},
     "outputs": [],
     "prompt_number": 28
    },
    {
     "cell_type": "code",
     "collapsed": false,
     "input": [
      "fig = plt.figure()\n",
      "fig.set_size_inches([6,7.5])\n",
      "gs = gridspec.GridSpec(1, 5, width_ratios=[24,1,2,3,2], wspace=0.10)\n",
      "ax = plt.subplot(gs[0])\n",
      "OTUs = df_l2fc[df_l2fc[\"Rank2\"]==\"Firmicutes\"][\"OTU\"]\n",
      "%Rpush OTUs\n",
      "tdf = get_tree_df(\"prune_taxa(as.character(OTUs), physeq.nsip)\")\n",
      "tax_colord = get_tax_colordict(tdf, \"Rank3\")\n",
      "tree(tdf, tax_colord, ax, leg_spacing=0, lw_tax=4)\n",
      "\n",
      "ax2 = plt.subplot(gs[2], sharey = ax)\n",
      "heatmap(tdf, df_l2fc, ax2)\n",
      "\n",
      "ax3 = plt.subplot(gs[1], sharey = ax)\n",
      "scatter(tdf, df_l2fc, ax3)\n",
      "\n",
      "ax4 = fig.add_subplot(gs[3], sharey = ax)\n",
      "gp_heatmap(mdf, tdf, ax4)\n",
      "\n",
      "ax5 = fig.add_subplot(gs[4], sharey = ax)\n",
      "steven_heatmap(mdf, tdf, ax5)"
     ],
     "language": "python",
     "metadata": {},
     "outputs": [
      {
       "metadata": {},
       "output_type": "display_data",
       "png": "[encoded data removed]",
       "text": [
        "<matplotlib.figure.Figure at 0x7f60504aa510>"
       ]
      }
     ],
     "prompt_number": 278
    },
    {
     "cell_type": "code",
     "collapsed": false,
     "input": [
      "fig = plt.figure()\n",
      "fig.set_size_inches([6,12])\n",
      "gs = gridspec.GridSpec(1, 5, width_ratios=[24,1,2,3,2], wspace=0.1)\n",
      "ax = plt.subplot(gs[0])\n",
      "OTUs = df_l2fc[df_l2fc[\"Rank2\"]==\"Proteobacteria\"][\"OTU\"]\n",
      "%Rpush OTUs\n",
      "tdf = get_tree_df(\"prune_taxa(as.character(OTUs), physeq.nsip)\")\n",
      "tax_colord = get_tax_colordict(tdf, \"Rank3\")\n",
      "tree(tdf, tax_colord, ax, leg_spacing=0, lw_tax=4)\n",
      "\n",
      "ax2 = plt.subplot(gs[2], sharey = ax)\n",
      "heatmap(tdf, df_l2fc, ax2)\n",
      "\n",
      "ax3 = plt.subplot(gs[1], sharey = ax)\n",
      "scatter(tdf, df_l2fc, ax3)\n",
      "\n",
      "ax4 = fig.add_subplot(gs[3], sharey = ax)\n",
      "gp_heatmap(mdf, tdf, ax4)\n",
      "\n",
      "ax5 = fig.add_subplot(gs[4], sharey = ax)\n",
      "steven_heatmap(mdf, tdf, ax5)"
     ],
     "language": "python",
     "metadata": {},
     "outputs": [
      {
       "metadata": {},
       "output_type": "display_data",
       "png": "[encoded data removed]",
       "text": [
        "<matplotlib.figure.Figure at 0x7f60509db1d0>"
       ]
      }
     ],
     "prompt_number": 279
    },
    {
     "cell_type": "code",
     "collapsed": false,
     "input": [
      "fig = plt.figure()\n",
      "fig.set_size_inches([6,3])\n",
      "gs = gridspec.GridSpec(1, 5, width_ratios=[24,1,2,3,2], wspace=0.1)\n",
      "ax = plt.subplot(gs[0])\n",
      "OTUs = df_l2fc[df_l2fc[\"Rank2\"]==\"Acidobacteria\"][\"OTU\"]\n",
      "%Rpush OTUs\n",
      "tdf = get_tree_df(\"prune_taxa(as.character(OTUs), physeq.nsip)\")\n",
      "tax_colord = get_tax_colordict(tdf, \"Rank3\")\n",
      "tree(tdf, tax_colord, ax, leg_spacing=0, lw_tax=4)\n",
      "\n",
      "ax2 = plt.subplot(gs[2], sharey = ax)\n",
      "heatmap(tdf, df_l2fc, ax2)\n",
      "\n",
      "ax3 = plt.subplot(gs[1], sharey = ax)\n",
      "scatter(tdf, df_l2fc, ax3)\n",
      "\n",
      "ax4 = fig.add_subplot(gs[3], sharey = ax)\n",
      "gp_heatmap(mdf, tdf, ax4)\n",
      "\n",
      "ax5 = fig.add_subplot(gs[4], sharey = ax)\n",
      "steven_heatmap(mdf, tdf, ax5)"
     ],
     "language": "python",
     "metadata": {},
     "outputs": [
      {
       "metadata": {},
       "output_type": "display_data",
       "png": "[encoded data removed]",
       "text": [
        "<matplotlib.figure.Figure at 0x7f6050adda10>"
       ]
      }
     ],
     "prompt_number": 280
    }
   ],
   "metadata": {}
  }
 ]
}
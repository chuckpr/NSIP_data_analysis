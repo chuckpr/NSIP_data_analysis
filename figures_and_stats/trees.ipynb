{
 "metadata": {
  "name": "",
  "signature": "sha256:e59284a6974d51a9dbda9a9769055ee32a465f9159511df9004efa5613edd922"
 },
 "nbformat": 3,
 "nbformat_minor": 0,
 "worksheets": [
  {
   "cells": [
    {
     "cell_type": "code",
     "collapsed": false,
     "input": [
      "from IPython.display import FileLink\n",
      "import pandas as pd\n",
      "import pandas.rpy.common as com\n",
      "import brewer2mpl\n",
      "import matplotlib.pyplot as plt\n",
      "import matplotlib as mpl\n",
      "import matplotlib\n",
      "from matplotlib import collections\n",
      "import matplotlib.colors as mcolors\n",
      "from matplotlib import gridspec\n",
      "from numpy import nan, min, array, arange\n",
      "import itertools\n",
      "%matplotlib inline\n",
      "%load_ext rpy2.ipython"
     ],
     "language": "python",
     "metadata": {},
     "outputs": [],
     "prompt_number": 6
    },
    {
     "cell_type": "code",
     "collapsed": false,
     "input": [
      "%%R\n",
      "library(phyloseq)\n",
      "library(plyr); library(dplyr)"
     ],
     "language": "python",
     "metadata": {},
     "outputs": [
      {
       "metadata": {},
       "output_type": "display_data",
       "text": [
        "\n",
        "Attaching package: \u2018dplyr\u2019\n",
        "\n",
        "The following objects are masked from \u2018package:plyr\u2019:\n",
        "\n",
        "    arrange, count, desc, failwith, id, mutate, rename, summarise,\n",
        "    summarize\n",
        "\n",
        "The following object is masked from \u2018package:stats\u2019:\n",
        "\n",
        "    filter\n",
        "\n",
        "The following objects are masked from \u2018package:base\u2019:\n",
        "\n",
        "    intersect, setdiff, setequal, union\n",
        "\n"
       ]
      }
     ],
     "prompt_number": 7
    },
    {
     "cell_type": "code",
     "collapsed": false,
     "input": [
      "%%R\n",
      "physeq = import_biom(\"../data/otu_table_wtax.biom\", treefilename = \"../data/otusn_yeager2006.tree\")\n",
      "\n",
      "mapfilename = \"../data/sample_data_combined_qiime_format.tsv\"\n",
      "QiimeMap <- read.table(file = mapfilename, header = TRUE, \n",
      "                       sep = \"\\t\", comment.char = \"\", \n",
      "                       colClasses = c(\"Density\" = \"numeric\"))\n",
      "rownames(QiimeMap) <- as.character(QiimeMap[, 1])\n",
      "sample.data1 = sample_data(QiimeMap)\n",
      "physeq = merge_phyloseq(physeq,sample.data1)\n",
      "sample.data2 = sample_data(physeq)\n",
      "physeq.nsip = prune_samples(sample.data2$study == \"NSIP\", physeq)"
     ],
     "language": "python",
     "metadata": {},
     "outputs": [],
     "prompt_number": 8
    },
    {
     "cell_type": "code",
     "collapsed": false,
     "input": [
      "%%R\n",
      "phy_tr"
     ],
     "language": "python",
     "metadata": {},
     "outputs": [
      {
       "output_type": "stream",
       "stream": "stdout",
       "text": [
        "Error in withVisible({ : object 'phy_tr' not found\n"
       ]
      }
     ],
     "prompt_number": 9
    },
    {
     "cell_type": "code",
     "collapsed": false,
     "input": [
      "matplotlib.rcParams[\"axes.facecolor\"] = \"white\"\n",
      "matplotlib.rcParams[\"axes.edgecolor\"] = \"#151515\"\n",
      "matplotlib.rcParams[\"grid.color\"] = \"#959595\"\n",
      "matplotlib.rcParams[\"grid.alpha\"] = \"0.50\"\n",
      "matplotlib.rcParams[\"font.size\"] = 7.5"
     ],
     "language": "python",
     "metadata": {},
     "outputs": [],
     "prompt_number": 10
    },
    {
     "cell_type": "code",
     "collapsed": false,
     "input": [
      "%%R\n",
      "get_tree_df = function(subset_str) {\n",
      "    ps = eval(parse(text=subset_str))\n",
      "    tree = phy_tree(ps)\n",
      "    tree_dfs = phyloseq:::tree_layout(tree, ladderize = TRUE)\n",
      "    edgeDF = data.frame(tree_dfs$edgeDT)\n",
      "    vertDF = data.frame(tree_dfs$vertDT)\n",
      "    tax = data.frame(tax_table(ps), stringsAsFactors = FALSE)\n",
      "    tax$OTU = rownames(tax)\n",
      "    edgeDF = left_join(edgeDF, tax)\n",
      "    return(list(e=edgeDF, v=vertDF))\n",
      "}"
     ],
     "language": "python",
     "metadata": {},
     "outputs": [],
     "prompt_number": 11
    },
    {
     "cell_type": "code",
     "collapsed": false,
     "input": [
      "def get_leaves(edgeDF):\n",
      "    leaves = edgeDF[edgeDF[\"OTU\"].notnull()]\n",
      "    return leaves[[\"OTU\",\"y\"]]\n",
      "\n",
      "def get_tree_df(subset_str):\n",
      "    subset_str = subset_str\n",
      "    %Rpush subset_str\n",
      "    %Rpush OTUs\n",
      "    %R OTUs = as.character(OTUs)\n",
      "    %R tdf = get_tree_df(subset_str)\n",
      "    %R edf = tdf$e\n",
      "    %R edf$OTU = factor(edf$OTU)\n",
      "    %R vdf = tdf$v\n",
      "    edge_df = com.load_data(\"edf\")\n",
      "    vert_df = com.load_data(\"vdf\")\n",
      "    return edge_df, vert_df\n",
      "\n",
      "def get_tax_colordict(edgeDF, color_rank):\n",
      "    cats = set(edgeDF[color_rank].dropna())\n",
      "    c_list = []\n",
      "    for m in [\"Dark2\", \"Accent\", \"Set1\"]:\n",
      "        colors = brewer2mpl.get_map(m, \"qualitative\", 8).hex_colors\n",
      "        [c_list.append(c) for c in colors]\n",
      "    color_dict = dict(itertools.izip(cats, itertools.cycle(c_list)))\n",
      "    color_dict[nan] = \"#505050\"\n",
      "    color_dict[\"color_rank\"] = color_rank\n",
      "    return color_dict\n",
      "\n",
      "def heatmap(edgeDF, df_l2fc, ax):\n",
      "    leaves = get_leaves(edgeDF)\n",
      "    d_plot = df_l2fc[[\"log2FoldChange\",\"OTU\",\"Day\"]].pivot(index=\"OTU\",\n",
      "                                                           columns=\"Day\",\n",
      "                                                           values=\"log2FoldChange\").reset_index()\n",
      "    d_plot = d_plot.merge(leaves, how=\"inner\", left_on=\"OTU\", right_on=\"OTU\") #culls OTUs not in tree\n",
      "    vmin = df_l2fc[\"log2FoldChange\"].quantile(0.05)\n",
      "    vmax = df_l2fc[\"log2FoldChange\"].quantile(0.95)\n",
      "    cm = brewer2mpl.get_map('RdYlBu', 'diverging', 5, reverse=True).mpl_colormap\n",
      "    im = ax.imshow(d_plot.sort(\"y\")[[2,4]].as_matrix(), interpolation=\"nearest\", aspect=\"auto\", cmap=cm, vmin=vmin, vmax=vmax)\n",
      "    ax.set_frame_on(False)\n",
      "    ax.set_xticks([])\n",
      "    ax.set_yticks([])\n",
      "    ax.set_ylim(ax.get_ylim()[::-1]) #I don't know why imshow swithces this around...\n",
      "    ax.set_title(\"ii\")\n",
      "    return ax, im\n",
      "    \n",
      "def scatter(edgeDF, df_l2fc, ax, pt_size = 12):\n",
      "    leaves = get_leaves(edgeDF)\n",
      "    d_plot = df_l2fc[[\"p.adj\",\"OTU\"]].groupby(\"OTU\").min()\n",
      "    d_plot = d_plot[d_plot[\"p.adj\"] <= 0.10].reset_index()\n",
      "    d_plot = leaves.merge(d_plot, how=\"inner\", left_on=\"OTU\", right_on=\"OTU\")\n",
      "    ax.scatter(x = [1 for i in d_plot.y],\n",
      "               y = d_plot.y - 1, \n",
      "               s = pt_size)\n",
      "    ax.set_frame_on(False)\n",
      "    ax.xaxis.tick_top()\n",
      "    ax.set_yticks([])\n",
      "    ax.set_xticks([])\n",
      "    ax.set_title(\"i\")\n",
      "    return ax\n",
      "\n",
      "def gp_heatmap(mdf, edgeDF, ax):\n",
      "    d = mdf[mdf[\"study\"]==\"Garcia-Pichel et al. (2013)\"][[\"OTU\",\"BiocrustType\",\n",
      "                                                          \"Abundance\"]].groupby([\"OTU\",\"BiocrustType\"]).sum()\n",
      "    d = d.reset_index().pivot(index=\"OTU\", values=\"Abundance\", columns=\"BiocrustType\").reset_index()\n",
      "    leaves = get_leaves(edgeDF)\n",
      "    d_plot = leaves.merge(d, how=\"left\", left_on=\"OTU\", right_on=\"OTU\").sort(\"y\")\n",
      "    z = d_plot[[\"Lichen\",\"dark\",\"light\"]].as_matrix() > 0\n",
      "    Y = d_plot.y\n",
      "    Y = Y.append(pd.Series(Y.max()+1))\n",
      "    Y = Y - 1.5\n",
      "    test = sum(z.astype(int) == 0).sum()\n",
      "    if test: #this is a weird bug, pcolor will be reversed if matrix is all True...\n",
      "        cmap = \"Greys\"\n",
      "    else:\n",
      "        cmap = \"Greys_r\"\n",
      "    ax.pcolor(arange(4) + 1, Y.values, z, edgecolors='w', linewidths=1, cmap=\"Greys\")\n",
      "    ax.set_xticks(arange(3) + 1.5)\n",
      "    ax.set_xticklabels([\"Lichen\",\"dark\",\"light\"], rotation = \"vertical\", ha = \"center\")\n",
      "    ax.set_title(\"iii\")\n",
      "    ax.set_yticks([])\n",
      "    \n",
      "def steven_heatmap(mdf, edgeDF, ax):\n",
      "    d = mdf[mdf[\"study\"]==\"Steven et al. (2013)\"][[\"OTU\",\"crust_or_below\",\n",
      "                                                   \"Abundance\"]].groupby([\"OTU\",\"crust_or_below\"]).sum()\n",
      "    d = d.reset_index().pivot(index=\"OTU\", values=\"Abundance\", columns=\"crust_or_below\").reset_index()\n",
      "    leaves = get_leaves(edgeDF)\n",
      "    d_plot = leaves.merge(d, how=\"left\", left_on=\"OTU\", right_on=\"OTU\").sort(\"y\")\n",
      "    z = d_plot[[\"below\",\"crust\"]].as_matrix() > 0\n",
      "    Y = d_plot.y\n",
      "    Y = Y.append(pd.Series(Y.max()+1))\n",
      "    Y = Y - 1.5\n",
      "    test = sum(z.astype(int) == 0).sum()\n",
      "    if test:\n",
      "        cmap = \"Greys\"\n",
      "    else:\n",
      "        cmap = \"Greys_r\"\n",
      "    ax.pcolor(arange(3) + 1, Y.values, z, edgecolors='w', linewidths=1, cmap=cmap)\n",
      "    ax.set_xticks(arange(2) + 1.5)\n",
      "    ax.set_xticklabels([\"below\",\"crust\"], rotation = \"vertical\", ha = \"center\")\n",
      "    ax.set_title(\"iv\")\n",
      "    ax.set_yticks([])\n",
      "\n",
      "def tree(edgeDF, vertDF, tax_colors, ax, lw_tax = 2, leg_spacing = 0.1, label = None):\n",
      "    color_rank = tax_colors[\"color_rank\"]\n",
      "    \n",
      "    \n",
      "    tipDF = edgeDF[edgeDF[\"OTU\"].notnull()]\n",
      "    tip_segments = tipDF.apply(lambda row: [(row[\"xleft\"], row[\"y\"]), (row[\"xright\"], row[\"y\"])], axis = 1).values\n",
      "    \n",
      "    max_right = tipDF[\"xright\"].max() * 1.15\n",
      "    buff = 0.01\n",
      "    \n",
      "    edge_segments = edgeDF.apply(lambda row: [(row[\"xleft\"], row[\"y\"] - 1), (row[\"xright\"], row[\"y\"] - 1)], axis = 1).values\n",
      "    edge_collection = collections.LineCollection(segments = edge_segments, color=\"k\", linewidths = 1.5)\n",
      "    ax.add_collection(edge_collection)\n",
      "\n",
      "    vert_segments = vertDF.apply(lambda row: [(row[\"x\"], row[\"vmin\"] - 1), (row[\"x\"], row[\"vmax\"] - 1)], axis = 1).values\n",
      "    vert_collection = collections.LineCollection(segments = vert_segments, color=\"k\", linewidths = 1.5)\n",
      "    ax.add_collection(vert_collection)\n",
      "    \n",
      "    verts = tipDF.apply(lambda row: [(row[\"xright\"] + buff, row[\"y\"] - 1 - 0.5), \n",
      "                                     (row[\"xright\"] + buff, row[\"y\"] - 1 + 0.5),\n",
      "                                     (max_right, row[\"y\"] + 0.5 - 1), \n",
      "                                     (max_right, row[\"y\"] - 0.5 - 1)],\n",
      "                        axis = 1).values\n",
      "    rect_collection = collections.PolyCollection(verts, edgecolors = \"white\", linewidths = 0.25,\n",
      "                                                 facecolors = tipDF.apply(lambda x: tax_colors[x[color_rank]], axis = 1), \n",
      "                                                 alpha = 0.9)\n",
      "    ax.add_collection(rect_collection)\n",
      "\n",
      "    ax.autoscale()\n",
      "    ax.set_xticks([])\n",
      "    ax.set_yticks([])\n",
      "    ax.set_frame_on(False)\n",
      "    ax.grid(False)\n",
      "\n",
      "    if label:\n",
      "        ax.text(0, 0.5, label, transform=ax.transAxes, fontsize = 20)\n",
      "\n",
      "    proxy_artists = [plt.Rectangle((0,0),1,1,fc=tax_colors[i]) \n",
      "                     for i in tipDF.sort(\"y\")[color_rank].unique().tolist()]\n",
      "    leg = ax.legend(proxy_artists, \n",
      "                     tipDF.sort(\"y\")[color_rank].unique().tolist(),\n",
      "                     bbox_to_anchor = (0, -leg_spacing),\n",
      "                     loc = 2, ncol = 1,\n",
      "                     prop={'size':10,'style':\"italic\"}, labelspacing = 0.2)\n",
      "    leg.set_frame_on(True)\n",
      "    return ax"
     ],
     "language": "python",
     "metadata": {},
     "outputs": [],
     "prompt_number": 12
    },
    {
     "cell_type": "code",
     "collapsed": false,
     "input": [
      "df_l2fc = pd.read_csv(\"../data/l2fc_table.csv\", sep = \",\")\n",
      "df_l2fc = df_l2fc[df_l2fc[\"test\"]==\"greater\"]"
     ],
     "language": "python",
     "metadata": {},
     "outputs": [],
     "prompt_number": 13
    },
    {
     "cell_type": "code",
     "collapsed": false,
     "input": [
      "%%R\n",
      "mdf = psmelt(physeq)"
     ],
     "language": "python",
     "metadata": {},
     "outputs": [],
     "prompt_number": 14
    },
    {
     "cell_type": "code",
     "collapsed": false,
     "input": [
      "mdf = com.load_data(\"mdf\")"
     ],
     "language": "python",
     "metadata": {},
     "outputs": [],
     "prompt_number": 15
    },
    {
     "cell_type": "code",
     "collapsed": false,
     "input": [
      "for i, phylum in zip(range(3), [\"Proteobacteria\",\"Firmicutes\"]):\n",
      "    OTUs = df_l2fc[df_l2fc[\"Rank2\"]==phylum][\"OTU\"]\n",
      "    print len(OTUs)"
     ],
     "language": "python",
     "metadata": {},
     "outputs": [
      {
       "output_type": "stream",
       "stream": "stdout",
       "text": [
        "352\n",
        "115\n"
       ]
      }
     ],
     "prompt_number": 16
    },
    {
     "cell_type": "code",
     "collapsed": false,
     "input": [
      "fig = plt.figure()\n",
      "fig.set_size_inches([6,20])\n",
      "gs = gridspec.GridSpec(2, 5, hspace=0.25, height_ratios=[172,70], width_ratios=[15,1,2,3,2])\n",
      "\n",
      "ax = None\n",
      "\n",
      "for i, label_phylum in zip(range(0,15,5), [[\"A\",\"Proteobacteria\"],[\"B\",\"Firmicutes\"]]):\n",
      "    label = label_phylum[0]\n",
      "    phylum = label_phylum[1]\n",
      "    ax = plt.subplot(gs[i])\n",
      "    OTUs = df_l2fc[df_l2fc[\"Rank2\"]==phylum][\"OTU\"]\n",
      "    %Rpush OTUs\n",
      "    edge_df, vert_df = get_tree_df(\"prune_taxa(as.character(OTUs), physeq.nsip)\")\n",
      "    tax_colord = get_tax_colordict(edge_df, \"Rank3\")\n",
      "    tree(edge_df, vert_df, tax_colord, ax, leg_spacing=0, lw_tax=4, label = label)\n",
      "    ax.set_title(phylum)\n",
      "    i += 1\n",
      "\n",
      "    ax3 = plt.subplot(gs[i], sharey = ax)\n",
      "    scatter(edge_df, df_l2fc, ax3)\n",
      "    i += 1\n",
      "    \n",
      "    ax2 = plt.subplot(gs[i], sharey = ax)\n",
      "    hm_ax, im = heatmap(edge_df, df_l2fc, ax2)\n",
      "    i += 1\n",
      "\n",
      "    ax4 = fig.add_subplot(gs[i], sharey = ax)\n",
      "    gp_heatmap(mdf, edge_df, ax4)\n",
      "    i += 1\n",
      "\n",
      "    ax5 = fig.add_subplot(gs[i], sharey = ax)\n",
      "    steven_heatmap(mdf, edge_df, ax5)\n",
      "    \n",
      "box = plt.subplot(fig.get_axes()[4]).get_position()\n",
      "cax = fig.add_axes([box.xmax + 0.10, box.ymin + 2 * box.height / 3, 0.02, box.height / 3])\n",
      "cb = fig.colorbar(im, cax = cax)\n",
      "cb.set_label(r\"log$_{2}$ Fold Change\")"
     ],
     "language": "python",
     "metadata": {},
     "outputs": [
      {
       "metadata": {},
       "output_type": "display_data",
       "text": [
        "Joining by: \"OTU\"\n"
       ]
      },
      {
       "metadata": {},
       "output_type": "display_data",
       "text": [
        "Joining by: \"OTU\"\n"
       ]
      },
      {
       "metadata": {},
       "output_type": "display_data",
       "png": "[encoded data removed]",
       "text": [
        "<matplotlib.figure.Figure at 0x7f74d015b650>"
       ]
      }
     ],
     "prompt_number": 17
    },
    {
     "cell_type": "code",
     "collapsed": false,
     "input": [
      "fig.savefig(\"figs/trees.pdf\", bbox_inches='tight')"
     ],
     "language": "python",
     "metadata": {},
     "outputs": [],
     "prompt_number": 18
    },
    {
     "cell_type": "code",
     "collapsed": false,
     "input": [
      "FileLink(\"figs/trees.pdf\")"
     ],
     "language": "python",
     "metadata": {},
     "outputs": [
      {
       "html": [
        "<a href='figs/trees.pdf' target='_blank'>figs/trees.pdf</a><br>"
       ],
       "metadata": {},
       "output_type": "pyout",
       "prompt_number": 19,
       "text": [
        "/home/chuck/working/NSIP_data_analysis/figures_and_stats/figs/trees.pdf"
       ]
      }
     ],
     "prompt_number": 19
    },
    {
     "cell_type": "code",
     "collapsed": false,
     "input": [
      "%%R\n",
      "sessionInfo()"
     ],
     "language": "python",
     "metadata": {},
     "outputs": [
      {
       "metadata": {},
       "output_type": "display_data",
       "text": [
        "R version 3.1.2 (2014-10-31)\n",
        "Platform: x86_64-pc-linux-gnu (64-bit)\n",
        "\n",
        "locale:\n",
        " [1] LC_CTYPE=en_US.UTF-8       LC_NUMERIC=C              \n",
        " [3] LC_TIME=en_US.UTF-8        LC_COLLATE=en_US.UTF-8    \n",
        " [5] LC_MONETARY=en_US.UTF-8    LC_MESSAGES=en_US.UTF-8   \n",
        " [7] LC_PAPER=en_US.UTF-8       LC_NAME=C                 \n",
        " [9] LC_ADDRESS=C               LC_TELEPHONE=C            \n",
        "[11] LC_MEASUREMENT=en_US.UTF-8 LC_IDENTIFICATION=C       \n",
        "\n",
        "attached base packages:\n",
        "[1] tools     stats     graphics  grDevices utils     datasets  methods  \n",
        "[8] base     \n",
        "\n",
        "other attached packages:\n",
        "[1] dplyr_0.3.0.2   plyr_1.8.1      phyloseq_1.10.0\n",
        "\n",
        "loaded via a namespace (and not attached):\n",
        " [1] acepack_1.3-3.3         ade4_1.6-2              annotate_1.44.0        \n",
        " [4] AnnotationDbi_1.28.1    ape_3.1-4               assertthat_0.1         \n",
        " [7] base64enc_0.1-2         BatchJobs_1.5           BBmisc_1.8             \n",
        "[10] Biobase_2.26.0          BiocGenerics_0.12.0     BiocParallel_1.0.0     \n",
        "[13] biom_0.3.12             Biostrings_2.34.0       brew_1.0-6             \n",
        "[16] checkmate_1.5.0         chron_2.3-45            cluster_1.15.3         \n",
        "[19] codetools_0.2-9         colorspace_1.2-4        data.table_1.9.4       \n",
        "[22] DBI_0.3.1               DESeq2_1.6.1            digest_0.6.4           \n",
        "[25] fail_1.2                foreach_1.4.2           foreign_0.8-61         \n",
        "[28] Formula_1.1-2           genefilter_1.48.1       geneplotter_1.44.0     \n",
        "[31] GenomeInfoDb_1.2.2      GenomicRanges_1.18.1    ggplot2_1.0.0          \n",
        "[34] grid_3.1.2              gtable_0.1.2            Hmisc_3.14-5           \n",
        "[37] igraph_0.7.1            IRanges_2.0.0           iterators_1.0.7        \n",
        "[40] lattice_0.20-29         latticeExtra_0.6-26     locfit_1.5-9.1         \n",
        "[43] magrittr_1.0.1          MASS_7.3-35             Matrix_1.1-4           \n",
        "[46] multtest_2.22.0         munsell_0.4.2           nlme_3.1-118           \n",
        "[49] nnet_7.3-8              parallel_3.1.2          permute_0.8-3          \n",
        "[52] proto_0.3-10            RColorBrewer_1.0-5      Rcpp_0.11.3            \n",
        "[55] RcppArmadillo_0.4.500.0 reshape2_1.4            RJSONIO_1.3-0          \n",
        "[58] rpart_4.1-8             RSQLite_1.0.0           S4Vectors_0.4.0        \n",
        "[61] scales_0.2.4            sendmailR_1.2-1         splines_3.1.2          \n",
        "[64] stats4_3.1.2            stringr_0.6.2           survival_2.37-7        \n",
        "[67] vegan_2.0-10            XML_3.98-1.1            xtable_1.7-4           \n",
        "[70] XVector_0.6.0           zlibbioc_1.12.0        \n"
       ]
      }
     ],
     "prompt_number": 20
    },
    {
     "cell_type": "code",
     "collapsed": false,
     "input": [
      "import matplotlib\n",
      "matplotlib.__version__"
     ],
     "language": "python",
     "metadata": {},
     "outputs": [
      {
       "metadata": {},
       "output_type": "pyout",
       "prompt_number": 21,
       "text": [
        "'1.4.2'"
       ]
      }
     ],
     "prompt_number": 21
    },
    {
     "cell_type": "code",
     "collapsed": false,
     "input": [
      "import pandas\n",
      "pandas.__version__"
     ],
     "language": "python",
     "metadata": {},
     "outputs": [
      {
       "metadata": {},
       "output_type": "pyout",
       "prompt_number": 22,
       "text": [
        "'0.15.2'"
       ]
      }
     ],
     "prompt_number": 22
    },
    {
     "cell_type": "code",
     "collapsed": false,
     "input": [
      "import brewer2mpl\n",
      "brewer2mpl.__version__"
     ],
     "language": "python",
     "metadata": {},
     "outputs": [
      {
       "metadata": {},
       "output_type": "pyout",
       "prompt_number": 23,
       "text": [
        "'1.4.1'"
       ]
      }
     ],
     "prompt_number": 23
    },
    {
     "cell_type": "code",
     "collapsed": false,
     "input": [
      "import numpy\n",
      "numpy.__version__"
     ],
     "language": "python",
     "metadata": {},
     "outputs": [
      {
       "metadata": {},
       "output_type": "pyout",
       "prompt_number": 24,
       "text": [
        "'1.9.1'"
       ]
      }
     ],
     "prompt_number": 24
    }
   ],
   "metadata": {}
  }
 ]
}
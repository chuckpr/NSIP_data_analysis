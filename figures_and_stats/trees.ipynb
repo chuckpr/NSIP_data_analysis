{
 "metadata": {
  "name": "",
  "signature": "sha256:c18ba630b8c855d8cf5eda294f33753a1f745cef70188ed95fb7f07cced36b53"
 },
 "nbformat": 3,
 "nbformat_minor": 0,
 "worksheets": [
  {
   "cells": [
    {
     "cell_type": "code",
     "collapsed": false,
     "input": [
      "from IPython.display import FileLink\n",
      "import pandas as pd\n",
      "import pandas.rpy.common as com\n",
      "import brewer2mpl\n",
      "import matplotlib.pyplot as plt\n",
      "import matplotlib as mpl\n",
      "import matplotlib\n",
      "from matplotlib import gridspec\n",
      "from numpy import nan, min, array\n",
      "import itertools\n",
      "%matplotlib inline\n",
      "%load_ext rpy2.ipython"
     ],
     "language": "python",
     "metadata": {},
     "outputs": [
      {
       "output_type": "stream",
       "stream": "stderr",
       "text": [
        "/opt/anaconda/lib/python2.7/site-packages/pytz/__init__.py:29: UserWarning: Module argparse was already imported from /opt/anaconda/lib/python2.7/argparse.pyc, but /opt/anaconda/lib/python2.7/site-packages is being added to sys.path\n",
        "  from pkg_resources import resource_stream\n"
       ]
      }
     ],
     "prompt_number": 1
    },
    {
     "cell_type": "code",
     "collapsed": false,
     "input": [
      "%%R\n",
      "library(phyloseq)\n",
      "library(plyr)"
     ],
     "language": "python",
     "metadata": {},
     "outputs": [],
     "prompt_number": 2
    },
    {
     "cell_type": "code",
     "collapsed": false,
     "input": [
      "%%R\n",
      "physeq = import_biom(\"../data/otu_table_wtax.biom\", treefilename = \"../data/otusn_yeager2006.tree\")\n",
      "\n",
      "mapfilename = \"../data/sample_data_combined_qiime_format.tsv\"\n",
      "QiimeMap <- read.table(file = mapfilename, header = TRUE, \n",
      "                       sep = \"\\t\", comment.char = \"\", \n",
      "                       colClasses = c(\"Density\" = \"numeric\"))\n",
      "rownames(QiimeMap) <- as.character(QiimeMap[, 1])\n",
      "sample.data1 = sample_data(QiimeMap)\n",
      "\n",
      "physeq = merge_phyloseq(physeq,sample.data1)\n",
      "sample.data2 = sample_data(physeq)\n",
      "physeq = prune_samples(sample.data2$study == \"NSIP\", physeq)"
     ],
     "language": "python",
     "metadata": {},
     "outputs": [],
     "prompt_number": 3
    },
    {
     "cell_type": "code",
     "collapsed": false,
     "input": [
      "matplotlib.rcParams[\"axes.facecolor\"] = \"white\"\n",
      "matplotlib.rcParams[\"axes.edgecolor\"] = \"#151515\"\n",
      "matplotlib.rcParams[\"grid.color\"] = \"#959595\"\n",
      "matplotlib.rcParams[\"grid.alpha\"] = \"0.50\"\n",
      "matplotlib.rcParams[\"font.size\"] = 7.5"
     ],
     "language": "python",
     "metadata": {},
     "outputs": [],
     "prompt_number": 4
    },
    {
     "cell_type": "code",
     "collapsed": false,
     "input": [
      "%%R\n",
      "get_tree_df = function(subset_str) {\n",
      "    ps = eval(parse(text=subset_str))\n",
      "    df_tree = phyloseq:::tree.layout(phy_tree(ps), ladderize=\"right\")\n",
      "    tax = data.frame(tax_table(ps), stringsAsFactors = FALSE)\n",
      "    tax$label = rownames(tax)\n",
      "    df_tree = join(df_tree, tax, type = \"left\", by = \"label\")\n",
      "    df_tree\n",
      "}"
     ],
     "language": "python",
     "metadata": {},
     "outputs": [],
     "prompt_number": 5
    },
    {
     "cell_type": "code",
     "collapsed": false,
     "input": [
      "def get_leaves(tdf):\n",
      "    leaves = tdf[tdf[\"is.leaf\"].map(bool)&(tdf[\"type\"]==\"node\")]\n",
      "    return leaves[[\"label\",\"y\"]]\n",
      "\n",
      "def get_tree_df(subset_str):\n",
      "    subset_str = subset_str\n",
      "    %Rpush subset_str\n",
      "    %Rpush OTUs\n",
      "    %R OTUs = as.character(OTUs)\n",
      "    %R df_tree = get_tree_df(subset_str)\n",
      "    tree_df = com.load_data(\"df_tree\")\n",
      "    return tree_df\n",
      "\n",
      "def get_tax_colordict(tdf, color_rank):\n",
      "    cats = set(tdf[color_rank].dropna())\n",
      "    c_list = []\n",
      "    for m in [\"Dark2\", \"Accent\", \"Set1\"]:\n",
      "        colors = brewer2mpl.get_map(m, \"qualitative\", 8).hex_colors\n",
      "        [c_list.append(c) for c in colors]\n",
      "    color_dict = dict(itertools.izip(cats, itertools.cycle(c_list)))\n",
      "    color_dict[nan] = \"#505050\"\n",
      "    color_dict[\"color_rank\"] = color_rank\n",
      "    return color_dict\n",
      "\n",
      "def heatmap(tdf, df_l2fc, ax):\n",
      "    leaves = get_leaves(tdf)\n",
      "    d_plot = df_l2fc[[\"log2FoldChange\",\"OTU\",\"Day\"]].pivot(index=\"OTU\",\n",
      "                                                           columns=\"Day\",\n",
      "                                                           values=\"log2FoldChange\").reset_index()\n",
      "    d_plot = d_plot.merge(leaves, how=\"inner\", left_on=\"OTU\", right_on=\"label\") #culls OTUs not in tree\n",
      "    vmin = df_l2fc[\"log2FoldChange\"].quantile(0.05)\n",
      "    vmax = df_l2fc[\"log2FoldChange\"].quantile(0.95)\n",
      "    cm = brewer2mpl.get_map('RdYlBu', 'diverging', 5, reverse=True).mpl_colormap\n",
      "    ax.imshow(d_plot.sort(\"y\")[[2,4]].as_matrix(), interpolation=\"nearest\", aspect=\"auto\", cmap=cm, vmin=vmin, vmax=vmax)\n",
      "    ax.set_frame_on(False)\n",
      "    ax.set_xticks([])\n",
      "    ax.set_yticks([])\n",
      "    ax.set_ylim(ax.get_ylim()[::-1]) #I don't know why imshow swithces this around...\n",
      "    return ax\n",
      "    \n",
      "def scatter(tdf, df_l2fc, ax, pt_size = 8):\n",
      "    leaves = get_leaves(tdf)\n",
      "    d_plot = df_l2fc[[\"p.adj\",\"OTU\"]].groupby(\"OTU\").min()\n",
      "    d_plot = d_plot[d_plot[\"p.adj\"] < 0.10].reset_index()\n",
      "    d_plot = leaves.merge(d_plot, how=\"inner\", left_on=\"label\", right_on=\"OTU\")\n",
      "    ax.scatter(x = [1 for i in d_plot.y],\n",
      "               y = d_plot.y - 1, \n",
      "               s = pt_size)\n",
      "    ax.set_frame_on(False)\n",
      "    ax.xaxis.tick_top()\n",
      "    ax.set_yticks([])\n",
      "    ax.set_xticks([])\n",
      "    #ax.set_xticks([1])\n",
      "    #ax.set_xticklabels([\"Responders\"], \n",
      "    #                   rotation = \"vertical\", \n",
      "    #                   size = 10)\n",
      "    return ax\n",
      "\n",
      "def tree(tdf, tax_colors, ax, lw_tax = 2, leg_spacing = 0.25):\n",
      "    color_rank = tax_colors[\"color_rank\"]\n",
      "    tdf_lines = tdf[tdf[\"type\"] == \"line\"]    \n",
      "    start = zip(tdf_lines.x, tdf_lines.y - 1)\n",
      "    end = zip(tdf_lines.xend, tdf_lines.yend - 1)\n",
      "    lines = zip(start, end)\n",
      "    leaf_nodes = tdf[tdf[\"is.leaf\"]==True][\"node\"].tolist()\n",
      "    criterion1 = tdf[\"node\"].map(lambda x: x in leaf_nodes)\n",
      "    tdf_tip_locs = tdf[criterion1 & (tdf[\"dir\"]==\"up\") & (tdf[\"type\"] == \"line\")]\n",
      "    lc = mpl.collections.LineCollection(segments=lines, color = \"k\")\n",
      "    ax.add_collection(lc)\n",
      "    ax.autoscale()\n",
      "    ax.hlines(y = tdf_tip_locs.y - 1, \n",
      "               xmin = tdf_tip_locs.x, \n",
      "               xmax = ax.get_xlim()[1],\n",
      "               colors = [tax_colors[v] for v in tdf_tip_locs[color_rank]],\n",
      "               lw = lw_tax)\n",
      "    ax.set_xticks([])\n",
      "    ax.set_yticks([])\n",
      "    ax.set_frame_on(False)\n",
      "    ax.grid(False)\n",
      "    ax.set_xlim([tdf_lines.x.min(), tdf_lines.xend.max()*1.02])\n",
      "\n",
      "    proxy_artists = [plt.Rectangle((0,0),1,1,fc=tax_colors[i]) \n",
      "                     for i in tdf_tip_locs.sort(\"y\")[color_rank].unique().tolist()]\n",
      "    leg = ax.legend(proxy_artists, \n",
      "                     tdf_tip_locs.sort(\"y\")[color_rank].unique().tolist(),\n",
      "                     bbox_to_anchor = (0, -leg_spacing),\n",
      "                     loc = 2, ncol = 2,\n",
      "                     prop={'size':10,'style':\"italic\"}, labelspacing = 0.2)\n",
      "    leg.set_frame_on(False)\n",
      "    return ax"
     ],
     "language": "python",
     "metadata": {},
     "outputs": [],
     "prompt_number": 6
    },
    {
     "cell_type": "code",
     "collapsed": false,
     "input": [
      "df_l2fc = pd.read_csv(\"../data/l2fc_table.csv\", sep = \",\")\n",
      "df_l2fc = df_l2fc[df_l2fc[\"test\"]==\"greater\"]"
     ],
     "language": "python",
     "metadata": {},
     "outputs": [],
     "prompt_number": 9
    },
    {
     "cell_type": "code",
     "collapsed": false,
     "input": [
      "fig = plt.figure()\n",
      "fig.set_size_inches([4,8])\n",
      "gs = gridspec.GridSpec(1, 3, width_ratios=[24,1,2], wspace=0.025)\n",
      "ax = plt.subplot(gs[0])\n",
      "OTUs = df_l2fc[df_l2fc[\"Rank2\"]==\"Firmicutes\"][\"OTU\"]\n",
      "%Rpush OTUs\n",
      "tdf = get_tree_df(\"prune_taxa(as.character(OTUs), physeq)\")\n",
      "tax_colord = get_tax_colordict(tdf, \"Rank3\")\n",
      "tree(tdf, tax_colord, ax, leg_spacing=0, lw_tax=4)\n",
      "\n",
      "ax2 = plt.subplot(gs[2], sharey = ax)\n",
      "heatmap(tdf, df_l2fc, ax2)\n",
      "\n",
      "ax3 = plt.subplot(gs[1], sharey = ax)\n",
      "scatter(tdf, df_l2fc, ax3)"
     ],
     "language": "python",
     "metadata": {},
     "outputs": [
      {
       "metadata": {},
       "output_type": "pyout",
       "prompt_number": 10,
       "text": [
        "<matplotlib.axes.AxesSubplot at 0x7f60c0c023d0>"
       ]
      },
      {
       "metadata": {},
       "output_type": "display_data",
       "png": "[encoded data removed]",
       "text": [
        "<matplotlib.figure.Figure at 0x7f60c0d57810>"
       ]
      }
     ],
     "prompt_number": 10
    },
    {
     "cell_type": "code",
     "collapsed": false,
     "input": [
      "fig = plt.figure()\n",
      "fig.set_size_inches([4,12])\n",
      "gs = gridspec.GridSpec(1, 3, width_ratios=[24,1,2], wspace=0.025)\n",
      "ax = plt.subplot(gs[0])\n",
      "OTUs = df_l2fc[df_l2fc[\"Rank2\"]==\"Proteobacteria\"][\"OTU\"]\n",
      "%Rpush OTUs\n",
      "tdf = get_tree_df(\"prune_taxa(as.character(OTUs), physeq)\")\n",
      "tax_colord = get_tax_colordict(tdf, \"Rank3\")\n",
      "tree(tdf, tax_colord, ax, leg_spacing=0, lw_tax=4)\n",
      "\n",
      "ax2 = plt.subplot(gs[2], sharey = ax)\n",
      "heatmap(tdf, df_l2fc, ax2)\n",
      "\n",
      "ax3 = plt.subplot(gs[1], sharey = ax)\n",
      "scatter(tdf, df_l2fc, ax3)"
     ],
     "language": "python",
     "metadata": {},
     "outputs": [
      {
       "metadata": {},
       "output_type": "pyout",
       "prompt_number": 11,
       "text": [
        "<matplotlib.axes.AxesSubplot at 0x7f60c0a9a690>"
       ]
      },
      {
       "metadata": {},
       "output_type": "display_data",
       "png": "[encoded data removed]",
       "text": [
        "<matplotlib.figure.Figure at 0x7f60d1bd2650>"
       ]
      }
     ],
     "prompt_number": 11
    },
    {
     "cell_type": "code",
     "collapsed": false,
     "input": [
      "fig = plt.figure()\n",
      "fig.set_size_inches([3,4])\n",
      "gs = gridspec.GridSpec(1, 3, width_ratios=[24,1,2], wspace=0.025)\n",
      "ax = plt.subplot(gs[0])\n",
      "OTUs = df_l2fc[df_l2fc[\"Rank2\"]==\"Acidobacteria\"][\"OTU\"]\n",
      "%Rpush OTUs\n",
      "tdf = get_tree_df(\"prune_taxa(as.character(OTUs), physeq)\")\n",
      "tax_colord = get_tax_colordict(tdf, \"Rank3\")\n",
      "tree(tdf, tax_colord, ax, leg_spacing=0, lw_tax=4)\n",
      "\n",
      "ax2 = plt.subplot(gs[2], sharey = ax)\n",
      "heatmap(tdf, df_l2fc, ax2)\n",
      "\n",
      "ax3 = plt.subplot(gs[1], sharey = ax)\n",
      "scatter(tdf, df_l2fc, ax3)"
     ],
     "language": "python",
     "metadata": {},
     "outputs": [
      {
       "metadata": {},
       "output_type": "pyout",
       "prompt_number": 12,
       "text": [
        "<matplotlib.axes.AxesSubplot at 0x7f60c0900890>"
       ]
      },
      {
       "metadata": {},
       "output_type": "display_data",
       "png": "[encoded data removed]",
       "text": [
        "<matplotlib.figure.Figure at 0x7f60c0a61810>"
       ]
      }
     ],
     "prompt_number": 12
    },
    {
     "cell_type": "code",
     "collapsed": false,
     "input": [],
     "language": "python",
     "metadata": {},
     "outputs": []
    }
   ],
   "metadata": {}
  }
 ]
}
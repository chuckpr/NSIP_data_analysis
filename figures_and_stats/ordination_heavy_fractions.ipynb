{
 "metadata": {
  "name": "",
  "signature": "sha256:46218524efb1d41f7a7627668843292537fe31f2353c980639ee45db9d581f1e"
 },
 "nbformat": 3,
 "nbformat_minor": 0,
 "worksheets": [
  {
   "cells": [
    {
     "cell_type": "markdown",
     "metadata": {},
     "source": [
      "####Import various python functions and modules that we'll use."
     ]
    },
    {
     "cell_type": "code",
     "collapsed": false,
     "input": [
      "from IPython.display import FileLink"
     ],
     "language": "python",
     "metadata": {},
     "outputs": [],
     "prompt_number": 1
    },
    {
     "cell_type": "markdown",
     "metadata": {},
     "source": [
      "####Load Rmagic extension."
     ]
    },
    {
     "cell_type": "code",
     "collapsed": false,
     "input": [
      "%load_ext rpy2.ipython"
     ],
     "language": "python",
     "metadata": {},
     "outputs": [
      {
       "output_type": "stream",
       "stream": "stderr",
       "text": [
        "/opt/anaconda/lib/python2.7/site-packages/pytz/__init__.py:29: UserWarning: Module argparse was already imported from /opt/anaconda/lib/python2.7/argparse.pyc, but /opt/anaconda/lib/python2.7/site-packages is being added to sys.path\n",
        "  from pkg_resources import resource_stream\n"
       ]
      }
     ],
     "prompt_number": 2
    },
    {
     "cell_type": "markdown",
     "metadata": {},
     "source": [
      "####Import R libraries we'll use."
     ]
    },
    {
     "cell_type": "code",
     "collapsed": false,
     "input": [
      "%%R\n",
      "library(phyloseq)\n",
      "library(ggplot2)\n",
      "library(plyr); library(dplyr)\n",
      "library(foreach)\n",
      "library(doParallel)\n",
      "library(gridExtra)\n",
      "library(RColorBrewer)\n",
      "library(vegan)\n",
      "library(reshape)"
     ],
     "language": "python",
     "metadata": {},
     "outputs": [
      {
       "metadata": {},
       "output_type": "display_data",
       "text": [
        "\n",
        "Attaching package: \u2018dplyr\u2019\n",
        "\n",
        "The following objects are masked from \u2018package:plyr\u2019:\n",
        "\n",
        "    arrange, desc, failwith, id, mutate, summarise, summarize\n",
        "\n",
        "The following objects are masked from \u2018package:stats\u2019:\n",
        "\n",
        "    filter, lag\n",
        "\n",
        "The following objects are masked from \u2018package:base\u2019:\n",
        "\n",
        "    intersect, setdiff, setequal, union\n",
        "\n",
        "foreach: simple, scalable parallel programming from Revolution Analytics\n",
        "Use Revolution R for scalability, fault tolerance and more.\n",
        "http://www.revolutionanalytics.com\n",
        "Loading required package: iterators\n",
        "Loading required package: parallel\n",
        "Loading required package: grid\n",
        "Loading required package: permute\n",
        "Loading required package: lattice\n",
        "This is vegan 2.0-10\n",
        "\n",
        "Attaching package: \u2018reshape\u2019\n",
        "\n",
        "The following objects are masked from \u2018package:plyr\u2019:\n",
        "\n",
        "    rename, round_any\n",
        "\n"
       ]
      }
     ],
     "prompt_number": 3
    },
    {
     "cell_type": "markdown",
     "metadata": {},
     "source": [
      "####Import data into R. Prune to relevant samples (PS, non-bulk). Get rid of OTUs not observed in at least 25% of samples)."
     ]
    },
    {
     "cell_type": "code",
     "collapsed": false,
     "input": [
      "%%R\n",
      "physeq = import_biom(\"../data/otu_table_wtax.biom\")\n",
      "#sample.data1 = import_qiime_sample_data(\"../data/sample_data_combined_qiime_format.tsv\")\n",
      "\n",
      "mapfilename = \"../data/sample_data_combined_qiime_format.tsv\"\n",
      "QiimeMap <- read.table(file = mapfilename, header = TRUE, \n",
      "                       sep = \"\\t\", comment.char = \"\", \n",
      "                       colClasses = c(\"Density\" = \"numeric\"))\n",
      "rownames(QiimeMap) <- as.character(QiimeMap[, 1])\n",
      "sample.data1 = sample_data(QiimeMap)\n",
      "\n",
      "physeq = merge_phyloseq(physeq,sample.data1)\n",
      "sample.data2 = sample_data(physeq)\n",
      "physeq = prune_samples(sample.data2$study == \"NSIP\", physeq)\n",
      "sample.data3 = sample_data(physeq)\n",
      "physeq.heavy = prune_samples(sample.data3$Density > 1.725, physeq)\n",
      "physeq.snorm = transform_sample_counts(physeq.heavy, function(x) x / sum(x))\n",
      "physeq.thresh = filter_taxa(physeq.snorm, function(x) sum(x > 0) > (0.10 * length(x)), TRUE)\n",
      "print(physeq)\n",
      "print(physeq.thresh)"
     ],
     "language": "python",
     "metadata": {},
     "outputs": [
      {
       "metadata": {},
       "output_type": "display_data",
       "text": [
        "phyloseq-class experiment-level object\n",
        "otu_table()   OTU Table:         [ 4340 taxa and 93 samples ]\n",
        "sample_data() Sample Data:       [ 93 samples by 46 sample variables ]\n",
        "tax_table()   Taxonomy Table:    [ 4340 taxa by 8 taxonomic ranks ]\n",
        "phyloseq-class experiment-level object\n",
        "otu_table()   OTU Table:         [ 1261 taxa and 36 samples ]\n",
        "sample_data() Sample Data:       [ 36 samples by 46 sample variables ]\n",
        "tax_table()   Taxonomy Table:    [ 1261 taxa by 8 taxonomic ranks ]\n"
       ]
      }
     ],
     "prompt_number": 4
    },
    {
     "cell_type": "code",
     "collapsed": false,
     "input": [
      "%%R\n",
      "days = c(2, 4)\n",
      "\n",
      "df.sites = data.frame()\n",
      "df.otus = data.frame()\n",
      "\n",
      "f = function(physeq.obj, day) {\n",
      "    md = sample_data(physeq.obj)\n",
      "    p = prune_samples(md$DayCollected == day, physeq.obj)\n",
      "    mds = ordinate(p, method = \"MDS\", distance = \"bray\")\n",
      "    df.sites = plot_ordination(p, mds, justDF = TRUE)\n",
      "    df.sites$pc1.pct = mds$values$Relative_eig[1]\n",
      "    df.sites$pc2.pct = mds$values$Relative_eig[2]\n",
      "    df.sites\n",
      "}\n",
      "\n",
      "df.sites = ldply(days, f, physeq.obj = physeq.thresh)\n",
      "df.sites$strip = paste(\"Day\",df.sites$DayCollected)"
     ],
     "language": "python",
     "metadata": {},
     "outputs": [],
     "prompt_number": 5
    },
    {
     "cell_type": "code",
     "collapsed": false,
     "input": [
      "%%R\n",
      "df.sites %.%\n",
      "    group_by(DayCollected) %.%\n",
      "    summarize(pc1 = first(pc1.pct), pc2 = first(pc2.pct))"
     ],
     "language": "python",
     "metadata": {},
     "outputs": [
      {
       "metadata": {},
       "output_type": "display_data",
       "text": [
        "Source: local data frame [2 x 3]\n",
        "\n",
        "  DayCollected       pc1       pc2\n",
        "1            2 0.3118549 0.1188704\n",
        "2            4 0.2925310 0.1302112\n"
       ]
      }
     ],
     "prompt_number": 6
    },
    {
     "cell_type": "code",
     "collapsed": false,
     "input": [
      "%%R -h 325 -w 750\n",
      "\n",
      "p = ggplot(df.sites, aes(x = Axis.1, \n",
      "                         y = Axis.2, \n",
      "                         color = Treatment, \n",
      "                         shape = Treatment))\n",
      "p = p + facet_wrap(~strip)\n",
      "\n",
      "p = p + geom_point(size = 5)\n",
      "\n",
      "p = p + scale_size_area(aesthetics = \"Density\")\n",
      "\n",
      "p = p + theme_bw()\n",
      "\n",
      "p = p + theme(strip.text.x = element_text(size = 14),\n",
      "              axis.text.x = element_text(size = 12),\n",
      "              axis.text.y = element_text(size = 12),\n",
      "              axis.title.x = element_text(size = 14), \n",
      "              axis.title.y = element_text(size = 14),\n",
      "              legend.title = element_text(size = 12),\n",
      "              legend.text = element_text(size = 12),\n",
      "              legend.position = \"left\",\n",
      "              strip.background = element_blank())\n",
      "\n",
      "p = p + guides(color = guide_legend(override.aes = list(size = 5)))\n",
      "\n",
      "p = p + labs(x = \"PC1 (31% Day 2, 29% Day 4)\", \n",
      "             y = \"PC2 (12% Day 2, 13% Day 4)\", \n",
      "             size = \"Density, g/mL\")\n",
      "\n",
      "p.ord = p\n",
      "\n",
      "p.ord"
     ],
     "language": "python",
     "metadata": {},
     "outputs": [
      {
       "metadata": {},
       "output_type": "display_data",
       "png": "[encoded data removed]"
      }
     ],
     "prompt_number": 7
    },
    {
     "cell_type": "code",
     "collapsed": false,
     "input": [
      "%%R\n",
      "ggsave(\"figs/ordination_all_day_facet.pdf\", p, h = 3.5, w = 7.5)"
     ],
     "language": "python",
     "metadata": {},
     "outputs": [
      {
       "output_type": "stream",
       "stream": "stdout",
       "text": [
        "Error in grDevices::pdf(..., version = version) : \n",
        "  failed to load default encoding\n",
        "In addition: Warning message:\n",
        "In grDevices::pdf(..., version = version) :\n",
        "  failed to load encoding file 'ISOLatin1.enc'\n",
        "Error in grDevices::pdf(..., version = version) : \n",
        "  failed to load default encoding\n"
       ]
      }
     ],
     "prompt_number": 8
    },
    {
     "cell_type": "code",
     "collapsed": false,
     "input": [
      "FileLink(\"figs/ordination_all_day_facet.pdf\")"
     ],
     "language": "python",
     "metadata": {},
     "outputs": [
      {
       "html": [
        "<a href='figs/ordination_all_day_facet.pdf' target='_blank'>figs/ordination_all_day_facet.pdf</a><br>"
       ],
       "metadata": {},
       "output_type": "pyout",
       "prompt_number": 9,
       "text": [
        "/home/chuck/working/NSIP_data_analysis/figures_and_stats/figs/ordination_all_day_facet.pdf"
       ]
      }
     ],
     "prompt_number": 9
    }
   ],
   "metadata": {}
  }
 ]
}
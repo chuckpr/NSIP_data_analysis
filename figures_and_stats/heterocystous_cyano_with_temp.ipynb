{
 "metadata": {
  "name": "",
  "signature": "sha256:f49bf3613179262f02b4a949aef95057e9aaf38ae010b3c49ba99bb48ac72d35"
 },
 "nbformat": 3,
 "nbformat_minor": 0,
 "worksheets": [
  {
   "cells": [
    {
     "cell_type": "code",
     "collapsed": false,
     "input": [
      "from IPython.display import FileLink"
     ],
     "language": "python",
     "metadata": {},
     "outputs": [],
     "prompt_number": 1
    },
    {
     "cell_type": "code",
     "collapsed": false,
     "input": [
      "%load_ext rpy2.ipython"
     ],
     "language": "python",
     "metadata": {},
     "outputs": [
      {
       "output_type": "stream",
       "stream": "stderr",
       "text": [
        "/opt/anaconda/lib/python2.7/site-packages/pytz/__init__.py:29: UserWarning: Module argparse was already imported from /opt/anaconda/lib/python2.7/argparse.pyc, but /opt/anaconda/lib/python2.7/site-packages is being added to sys.path\n",
        "  from pkg_resources import resource_stream\n"
       ]
      }
     ],
     "prompt_number": 2
    },
    {
     "cell_type": "code",
     "collapsed": false,
     "input": [
      "%%R\n",
      "library(ggplot2)\n",
      "library(plyr); library(dplyr)\n",
      "library(phyloseq)\n",
      "library(DESeq2)\n",
      "library(vegan)"
     ],
     "language": "python",
     "metadata": {},
     "outputs": [
      {
       "metadata": {},
       "output_type": "display_data",
       "text": [
        "\n",
        "Attaching package: \u2018dplyr\u2019\n",
        "\n",
        "The following objects are masked from \u2018package:plyr\u2019:\n",
        "\n",
        "    arrange, desc, failwith, id, mutate, summarise, summarize\n",
        "\n",
        "The following objects are masked from \u2018package:stats\u2019:\n",
        "\n",
        "    filter, lag\n",
        "\n",
        "The following objects are masked from \u2018package:base\u2019:\n",
        "\n",
        "    intersect, setdiff, setequal, union\n",
        "\n",
        "Loading required package: GenomicRanges\n",
        "Loading required package: BiocGenerics\n",
        "Loading required package: parallel\n",
        "\n",
        "Attaching package: \u2018BiocGenerics\u2019\n",
        "\n",
        "The following objects are masked from \u2018package:parallel\u2019:\n",
        "\n",
        "    clusterApply, clusterApplyLB, clusterCall, clusterEvalQ,\n",
        "    clusterExport, clusterMap, parApply, parCapply, parLapply,\n",
        "    parLapplyLB, parRapply, parSapply, parSapplyLB\n",
        "\n",
        "The following objects are masked from \u2018package:dplyr\u2019:\n",
        "\n",
        "    intersect, setdiff, union\n",
        "\n",
        "The following object is masked from \u2018package:stats\u2019:\n",
        "\n",
        "    xtabs\n",
        "\n",
        "The following objects are masked from \u2018package:base\u2019:\n",
        "\n",
        "    anyDuplicated, append, as.data.frame, as.vector, cbind, colnames,\n",
        "    duplicated, eval, evalq, Filter, Find, get, intersect, is.unsorted,\n",
        "    lapply, Map, mapply, match, mget, order, paste, pmax, pmax.int,\n",
        "    pmin, pmin.int, Position, rank, rbind, Reduce, rep.int, rownames,\n",
        "    sapply, setdiff, sort, table, tapply, union, unique, unlist\n",
        "\n",
        "Loading required package: IRanges\n",
        "\n",
        "Attaching package: \u2018IRanges\u2019\n",
        "\n",
        "The following object is masked from \u2018package:phyloseq\u2019:\n",
        "\n",
        "    distance\n",
        "\n",
        "The following objects are masked from \u2018package:dplyr\u2019:\n",
        "\n",
        "    collapse, desc\n",
        "\n",
        "The following objects are masked from \u2018package:plyr\u2019:\n",
        "\n",
        "    desc, rename\n",
        "\n",
        "Loading required package: XVector\n",
        "\n",
        "Attaching package: \u2018XVector\u2019\n",
        "\n",
        "The following object is masked from \u2018package:plyr\u2019:\n",
        "\n",
        "    compact\n",
        "\n",
        "\n",
        "Attaching package: \u2018GenomicRanges\u2019\n",
        "\n",
        "The following objects are masked from \u2018package:dplyr\u2019:\n",
        "\n",
        "    first, last\n",
        "\n",
        "Loading required package: Rcpp\n",
        "Loading required package: RcppArmadillo\n",
        "Loading required package: permute\n",
        "Loading required package: lattice\n",
        "This is vegan 2.0-10\n"
       ]
      }
     ],
     "prompt_number": 3
    },
    {
     "cell_type": "code",
     "collapsed": false,
     "input": [
      "het_OTUs = !grep \">DQ\" ../data/otusn_yeager2006.fasta | sed \"s/>//\"\n",
      "het_OTUs"
     ],
     "language": "python",
     "metadata": {},
     "outputs": [
      {
       "metadata": {},
       "output_type": "pyout",
       "prompt_number": 4,
       "text": [
        "['DQ531701.1',\n",
        " 'DQ531697.1',\n",
        " 'DQ531696.1',\n",
        " 'DQ531703.1',\n",
        " 'DQ531699.1',\n",
        " 'DQ531700.1']"
       ]
      }
     ],
     "prompt_number": 4
    },
    {
     "cell_type": "code",
     "collapsed": false,
     "input": [
      "%Rpush het_OTUs"
     ],
     "language": "python",
     "metadata": {},
     "outputs": [],
     "prompt_number": 5
    },
    {
     "cell_type": "code",
     "collapsed": false,
     "input": [
      "%%R\n",
      "physeq = import_biom(\"../data/otu_table_wtax.biom\", \"../data/otusn.tree\")\n",
      "\n",
      "mapfilename = \"../data/sample_data_combined_qiime_format.tsv\"\n",
      "QiimeMap = read.table(file = mapfilename, header = TRUE, \n",
      "                       sep = \"\\t\", comment.char = \"\", \n",
      "                       colClasses = c(\"Density\" = \"numeric\"))\n",
      "rownames(QiimeMap) = as.character(QiimeMap[, 1])\n",
      "sample.data1 = sample_data(QiimeMap)\n",
      "\n",
      "physeq = merge_phyloseq(physeq,sample.data1)\n",
      "physeq = prune_samples(sample_data(physeq)$study == \"Garcia-Pichel et al. (2013)\", \n",
      "                       physeq)\n",
      "\n",
      "physeq.snorm = transform_sample_counts(physeq, function(x) x / sum(x))"
     ],
     "language": "python",
     "metadata": {},
     "outputs": [],
     "prompt_number": 6
    },
    {
     "cell_type": "code",
     "collapsed": false,
     "input": [
      "%%R\n",
      "mdf = tbl_df(psmelt(physeq.snorm))"
     ],
     "language": "python",
     "metadata": {},
     "outputs": [],
     "prompt_number": 7
    },
    {
     "cell_type": "code",
     "collapsed": false,
     "input": [
      "%%R\n",
      "sd = sample_data(physeq)\n",
      "sd$MeanAnnualTemp.cut = cut(sd$MeanAnnualTemp, breaks = 6)\n",
      "sample_data(physeq) = sd"
     ],
     "language": "python",
     "metadata": {},
     "outputs": [],
     "prompt_number": 8
    },
    {
     "cell_type": "code",
     "collapsed": false,
     "input": [
      "%%R\n",
      "deseq_wrap = function(sparsity.thresh, physeq.obj) {\n",
      "    ps = filter_taxa(physeq.obj, function(x) sum(x > 0) > (sparsity.thresh * length(x)), TRUE)\n",
      "    dds = phyloseq_to_deseq2(ps, ~MeanAnnualTemp.cut)\n",
      "    dds = DESeq(dds, quiet = TRUE, betaPrior=FALSE)\n",
      "    r = results(dds, cooksCutoff = FALSE, independentFiltering = FALSE)\n",
      "    res = data.frame(r)\n",
      "    res$sparsity.thresh = as.character(sparsity.thresh)\n",
      "    res$OTU = rownames(res)\n",
      "    res\n",
      "}"
     ],
     "language": "python",
     "metadata": {},
     "outputs": [],
     "prompt_number": 54
    },
    {
     "cell_type": "code",
     "collapsed": false,
     "input": [
      "%%R\n",
      "res = deseq_wrap(0.40, physeq)"
     ],
     "language": "python",
     "metadata": {},
     "outputs": [
      {
       "metadata": {},
       "output_type": "display_data",
       "text": [
        "Usage note: the following factors have 3 or more levels:\n",
        "\n",
        "MeanAnnualTemp.cut\n",
        "\n",
        "For DESeq2 versions < 1.3, if you plan on extracting results for\n",
        "these factors, we recommend using betaPrior=FALSE as an argument\n",
        "when calling DESeq().\n",
        "As currently implemented in version 1.2, the log2 fold changes can\n",
        "vary if the base level is changed, when extracting results for a\n",
        "factor with 3 or more levels. A solution will be implemented in\n",
        "version 1.3 which allows for the use of a beta prior and symmetric\n",
        "log2 fold change estimates regardless of the selection of base level.\n"
       ]
      }
     ],
     "prompt_number": 55
    },
    {
     "cell_type": "code",
     "collapsed": false,
     "input": [
      "%%R\n",
      "t = data.frame(tax_table(physeq))\n",
      "t$OTU = rownames(t)\n",
      "res = left_join(res, t)"
     ],
     "language": "python",
     "metadata": {},
     "outputs": [
      {
       "metadata": {},
       "output_type": "display_data",
       "text": [
        "Joining by: \"OTU\"\n"
       ]
      }
     ],
     "prompt_number": 11
    },
    {
     "cell_type": "code",
     "collapsed": false,
     "input": [
      "%%R\n",
      "d = res %.% group_by(Rank2) %.% summarize(max.l2fc = max(log2FoldChange)) %.% arrange(desc(max.l2fc))\n",
      "res$Rank2.ordered = factor(res$Rank2, levels = d$Rank2)"
     ],
     "language": "python",
     "metadata": {},
     "outputs": [],
     "prompt_number": 12
    },
    {
     "cell_type": "code",
     "collapsed": false,
     "input": [
      "%%R -h 350\n",
      "FDR = 0.10\n",
      "\n",
      "p = ggplot(res, aes(x = Rank2.ordered, y = log2FoldChange))\n",
      "\n",
      "p = p + geom_point(shape = 21)\n",
      "\n",
      "p = p + theme_bw()\n",
      "\n",
      "p = p + theme(axis.text.x = element_text(size = 10, angle = 45, hjust = 1.05),\n",
      "              axis.title.y = element_text(size = 14), \n",
      "              axis.title.x = element_blank())\n",
      "\n",
      "p = p + geom_point(data = subset(res, padj <= FDR), color = \"red\", shape = 21)\n",
      "\n",
      "p"
     ],
     "language": "python",
     "metadata": {},
     "outputs": [
      {
       "metadata": {},
       "output_type": "display_data",
       "png": "[encoded data removed]"
      }
     ],
     "prompt_number": 13
    },
    {
     "cell_type": "code",
     "collapsed": false,
     "input": [
      "%%R\n",
      "mdf$MeanAnnualTemp.cut = cut(mdf$MeanAnnualTemp, breaks = 6)"
     ],
     "language": "python",
     "metadata": {},
     "outputs": [],
     "prompt_number": 14
    },
    {
     "cell_type": "code",
     "collapsed": false,
     "input": [
      "het_OTUs"
     ],
     "language": "python",
     "metadata": {},
     "outputs": [
      {
       "metadata": {},
       "output_type": "pyout",
       "prompt_number": 15,
       "text": [
        "['DQ531701.1',\n",
        " 'DQ531697.1',\n",
        " 'DQ531696.1',\n",
        " 'DQ531703.1',\n",
        " 'DQ531699.1',\n",
        " 'DQ531700.1']"
       ]
      }
     ],
     "prompt_number": 15
    },
    {
     "cell_type": "code",
     "collapsed": false,
     "input": [
      "%%R\n",
      "het_df = data.frame(OTU = c(\"DQ531701.1\", \n",
      "                            \"DQ531697.1\", \n",
      "                            \"DQ531696.1\", \n",
      "                            \"DQ531703.1\", \n",
      "                            \"DQ531699.1\", \n",
      "                            \"DQ531700.1\"),\n",
      "                    isolate = c(\"Scytonema hyalinum\\nDC-A\", \n",
      "                                \"Scytonema hyalinum\\nFGP-7A\",\n",
      "                                \"Spirirestis rafaelensis\\nLQ-10\", \n",
      "                                \"Nostoc commune\\nMCT-1\", \n",
      "                                \"Nostoc commune\\nMFG-1\", \n",
      "                                \"Calothrix\\nMCC-3A\"), \n",
      "                    Genus = c(\"Scytonema\", \n",
      "                              \"Scytonema\", \n",
      "                              \"Spirirestis\",\n",
      "                              \"Nostoc\",\n",
      "                              \"Nostoc\", \n",
      "                              \"Calothrix\"))\n",
      "het_df"
     ],
     "language": "python",
     "metadata": {},
     "outputs": [
      {
       "metadata": {},
       "output_type": "display_data",
       "text": [
        "         OTU                        isolate       Genus\n",
        "1 DQ531701.1       Scytonema hyalinum\\nDC-A   Scytonema\n",
        "2 DQ531697.1     Scytonema hyalinum\\nFGP-7A   Scytonema\n",
        "3 DQ531696.1 Spirirestis rafaelensis\\nLQ-10 Spirirestis\n",
        "4 DQ531703.1          Nostoc commune\\nMCT-1      Nostoc\n",
        "5 DQ531699.1          Nostoc commune\\nMFG-1      Nostoc\n",
        "6 DQ531700.1              Calothrix\\nMCC-3A   Calothrix\n"
       ]
      }
     ],
     "prompt_number": 16
    },
    {
     "cell_type": "code",
     "collapsed": false,
     "input": [
      "%%R\n",
      "d = res %.% filter(OTU %in% het_df$OTU) %.% select(OTU, pvalue)\n",
      "d = left_join(d, het_df)\n",
      "het_sig = (d %.% filter(pvalue < 0.05))$OTU\n",
      "d"
     ],
     "language": "python",
     "metadata": {},
     "outputs": [
      {
       "metadata": {},
       "output_type": "display_data",
       "text": [
        "Joining by: \"OTU\"\n",
        "         OTU       pvalue                        isolate       Genus\n",
        "1 DQ531701.1 3.173450e-04       Scytonema hyalinum\\nDC-A   Scytonema\n",
        "2 DQ531703.1 1.307420e-02          Nostoc commune\\nMCT-1      Nostoc\n",
        "3 DQ531696.1 6.614376e-01 Spirirestis rafaelensis\\nLQ-10 Spirirestis\n",
        "4 DQ531699.1 1.576779e-06          Nostoc commune\\nMFG-1      Nostoc\n",
        "5 DQ531697.1 3.331843e-03     Scytonema hyalinum\\nFGP-7A   Scytonema\n"
       ]
      }
     ],
     "prompt_number": 70
    },
    {
     "cell_type": "code",
     "collapsed": false,
     "input": [
      "%%R -w 600 -h 400\n",
      "d = mdf %.% filter(OTU %in% het_OTUs)\n",
      "d = left_join(d, het_df)\n",
      "                               \n",
      "p = ggplot(d, aes(y = Abundance, x = MeanAnnualTemp)) #, shape = Genus))\n",
      "\n",
      "p = p + facet_wrap(~isolate, scales = \"free_y\")\n",
      "\n",
      "p = p + geom_rect(data = subset(d, OTU %in% het_sig), \n",
      "                  xmin = -Inf, xmax = Inf, ymin = -Inf, ymax = Inf, \n",
      "                  fill = \"grey85\",\n",
      "                  color = \"grey85\",\n",
      "                  alpha = 0.04)\n",
      "\n",
      "p = p + geom_point(size = 3)\n",
      "\n",
      "p = p + theme_bw()\n",
      "\n",
      "p = p + theme(strip.text.x = element_text(size = 12, face = \"italic\"),\n",
      "              axis.title.x = element_text(size = 14), \n",
      "              axis.title.y = element_text(size = 14),\n",
      "              axis.text.x = element_text(size = 12),\n",
      "              axis.text.y = element_text(size = 12), \n",
      "              legend.title = element_text(size = 14),\n",
      "              legend.text = element_text(size = 14, face = \"italic\"),\n",
      "              strip.background = element_blank())\n",
      "\n",
      "p = p + labs(x = expression(paste(\"Mean Annual Temperature, \", degree, \"C\")), y = \"Relative Abundance\")\n",
      "\n",
      "p.het = p\n",
      "\n",
      "p.het"
     ],
     "language": "python",
     "metadata": {},
     "outputs": [
      {
       "metadata": {},
       "output_type": "display_data",
       "text": [
        "Joining by: \"OTU\"\n"
       ]
      },
      {
       "metadata": {},
       "output_type": "display_data",
       "png": "[encoded data removed]"
      }
     ],
     "prompt_number": 75
    },
    {
     "cell_type": "code",
     "collapsed": false,
     "input": [
      "%%R\n",
      "ggsave(\"figs/het_cyano_temp.pdf\", p.het, h = 5, w = 8)"
     ],
     "language": "python",
     "metadata": {},
     "outputs": [],
     "prompt_number": 76
    },
    {
     "cell_type": "code",
     "collapsed": false,
     "input": [
      "FileLink(\"figs/het_cyano_temp.pdf\")"
     ],
     "language": "python",
     "metadata": {},
     "outputs": [
      {
       "html": [
        "<a href='figs/het_cyano_temp.pdf' target='_blank'>figs/het_cyano_temp.pdf</a><br>"
       ],
       "metadata": {},
       "output_type": "pyout",
       "prompt_number": 73,
       "text": [
        "/home/chuck/working/soil_crust_N_DNASIP/N-SIP-manuscript-figures/figs/het_cyano_temp.pdf"
       ]
      }
     ],
     "prompt_number": 73
    },
    {
     "cell_type": "code",
     "collapsed": false,
     "input": [
      "%%R -w 500 -h 275\n",
      "d = mdf %.% filter(OTU %in% het_OTUs)\n",
      "d = left_join(d, het_df)\n",
      "d = subset(d, Genus %in% c(\"Nostoc\", \"Scytonema\"))\n",
      "\n",
      "p = ggplot(d, aes(y = Abundance, x = MeanAnnualTemp))\n",
      "\n",
      "p = p + facet_wrap(~Genus, scales = \"free_y\")\n",
      "\n",
      "#p = p + geom_rect(data = subset(d, OTU %in% het_sig), \n",
      "#                  xmin = -Inf, xmax = Inf, ymin = -Inf, ymax = Inf, \n",
      "#                  fill = \"grey90\")\n",
      "\n",
      "p = p + geom_point(size = 3)\n",
      "\n",
      "p = p + theme_bw()\n",
      "\n",
      "p = p + theme(strip.text.x = element_text(size = 12),\n",
      "              axis.title.x = element_text(size = 14), \n",
      "              axis.title.y = element_text(size = 14),\n",
      "              axis.text.x = element_text(size = 12),\n",
      "              axis.text.y = element_text(size = 12), \n",
      "              legend.title = element_text(size = 14),\n",
      "              legend.text = element_text(size = 14),\n",
      "              strip.background = element_blank())\n",
      "\n",
      "p = p + labs(x = expression(paste(\"Mean Annual Temperature, \", degree, \"C\")), y = \"Relative Abundance\")\n",
      "\n",
      "p"
     ],
     "language": "python",
     "metadata": {},
     "outputs": [
      {
       "metadata": {},
       "output_type": "display_data",
       "text": [
        "Joining by: \"OTU\"\n"
       ]
      },
      {
       "metadata": {},
       "output_type": "display_data",
       "png": "[encoded data removed]"
      }
     ],
     "prompt_number": 19
    },
    {
     "cell_type": "code",
     "collapsed": false,
     "input": [
      "%%R\n",
      "res %.% filter(OTU %in% het_sig) %.% select(OTU, log2FoldChange, Rank3, Rank5)"
     ],
     "language": "python",
     "metadata": {},
     "outputs": [
      {
       "metadata": {},
       "output_type": "display_data",
       "text": [
        "         OTU log2FoldChange        Rank3     Rank5\n",
        "1 DQ531703.1      -1.802702 SubsectionIV    Nostoc\n",
        "2   OTU.3748       2.510352 SubsectionIV Scytonema\n",
        "3 DQ531699.1      -3.712890 SubsectionIV      <NA>\n",
        "4 DQ531697.1       2.698406 SubsectionIV Scytonema\n",
        "5   OTU.3523       2.383038 SubsectionIV      <NA>\n"
       ]
      }
     ],
     "prompt_number": 22
    },
    {
     "cell_type": "code",
     "collapsed": false,
     "input": [
      "%%R\n",
      "res %.% filter(Rank2 == \"Cyanobacteria\", padj <= 0.10) %.% group_by(Rank3) %.% summarize(count = n())"
     ],
     "language": "python",
     "metadata": {},
     "outputs": [
      {
       "metadata": {},
       "output_type": "display_data",
       "text": [
        "Source: local data frame [5 x 2]\n",
        "\n",
        "          Rank3 count\n",
        "1   SubsectionI     1\n",
        "2  SubsectionII     1\n",
        "3 SubsectionIII     8\n",
        "4  SubsectionIV     5\n",
        "5    uncultured     5\n"
       ]
      }
     ],
     "prompt_number": 32
    },
    {
     "cell_type": "code",
     "collapsed": false,
     "input": [
      "%%R\n",
      "res %.% \n",
      "    filter(Rank2 == \"Cyanobacteria\", !(Rank3 == \"SubsectionIV\"), padj <= 0.10) %.% \n",
      "    select(OTU, log2FoldChange, padj)"
     ],
     "language": "python",
     "metadata": {},
     "outputs": [
      {
       "metadata": {},
       "output_type": "display_data",
       "text": [
        "          OTU log2FoldChange         padj\n",
        "1      OTU.83       3.145528 1.270288e-04\n",
        "2    OTU.3978       3.323159 4.117970e-04\n",
        "3       OTU.1      -1.321483 8.996807e-02\n",
        "4       OTU.6       2.819444 5.165048e-03\n",
        "5      OTU.93       1.949136 2.561515e-02\n",
        "6  DQ531701.1       2.731271 5.550721e-03\n",
        "7      OTU.43       4.307524 1.808144e-06\n",
        "8      OTU.40       2.040999 2.795710e-02\n",
        "9     OTU.114       2.167464 2.861114e-02\n",
        "10     OTU.69      -2.089325 2.861114e-02\n",
        "11     OTU.79       1.855079 3.728573e-02\n",
        "12     OTU.19       1.908163 7.135100e-02\n",
        "13     OTU.25       2.468180 9.226599e-03\n",
        "14     OTU.26       1.372765 9.501955e-02\n",
        "15    OTU.396       1.557222 7.518347e-02\n"
       ]
      }
     ],
     "prompt_number": 31
    },
    {
     "cell_type": "code",
     "collapsed": false,
     "input": [
      "%%R\n",
      "d = mdf %.%\n",
      "    filter(OTU %in% het_df$OTU) %.%\n",
      "    group_by(Sample) %.%\n",
      "    summarize(A = sum(Abundance), T = first(MeanAnnualTemp))\n",
      "\n",
      "sum(d$A > 0)"
     ],
     "language": "python",
     "metadata": {},
     "outputs": [
      {
       "metadata": {},
       "output_type": "display_data",
       "text": [
        "[1] 21\n"
       ]
      }
     ],
     "prompt_number": 30
    },
    {
     "cell_type": "code",
     "collapsed": false,
     "input": [
      "%%R\n",
      "d = mdf %.%\n",
      "    filter(OTU %in% het_df$OTU) %.%\n",
      "    group_by(OTU) %.%\n",
      "    summarize(A = sum(Abundance > 0)) %.%\n",
      "    arrange(desc(A))\n",
      "\n",
      "left_join(d, het_df)"
     ],
     "language": "python",
     "metadata": {},
     "outputs": [
      {
       "metadata": {},
       "output_type": "display_data",
       "text": [
        "Joining by: \"OTU\"\n",
        "Source: local data frame [6 x 4]\n",
        "\n",
        "         OTU  A                        isolate       Genus\n",
        "1 DQ531697.1 18     Scytonema hyalinum\\nFGP-7A   Scytonema\n",
        "2 DQ531701.1 17       Scytonema hyalinum\\nDC-A   Scytonema\n",
        "3 DQ531703.1 16          Nostoc commune\\nMCT-1      Nostoc\n",
        "4 DQ531696.1 16 Spirirestis rafaelensis\\nLQ-10 Spirirestis\n",
        "5 DQ531699.1 12          Nostoc commune\\nMFG-1      Nostoc\n",
        "6 DQ531700.1  1              Calothrix\\nMCC-3A   Calothrix\n"
       ]
      }
     ],
     "prompt_number": 40
    }
   ],
   "metadata": {}
  }
 ]
}
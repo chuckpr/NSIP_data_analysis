{
 "cells": [
  {
   "cell_type": "code",
   "execution_count": 1,
   "metadata": {
    "collapsed": true
   },
   "outputs": [],
   "source": [
    "%load_ext rpy2.ipython"
   ]
  },
  {
   "cell_type": "code",
   "execution_count": 96,
   "metadata": {
    "collapsed": false
   },
   "outputs": [],
   "source": [
    "%%R\n",
    "library(dplyr); library(tidyr)\n",
    "library(magrittr)\n",
    "library(ggplot2)\n",
    "library(phyloseq)\n",
    "library(DESeq2)"
   ]
  },
  {
   "cell_type": "code",
   "execution_count": 24,
   "metadata": {
    "collapsed": false
   },
   "outputs": [],
   "source": [
    "%%R\n",
    "FDR = 0.10\n",
    "\n",
    "rspndrs = read.csv(\"../data/l2fc_table.csv\", stringsAsFactors = FALSE) %>%\n",
    "    filter(test == \"greater\", p.adj <= FDR) %>%\n",
    "    select(OTU) %>% extract2(1) %>% unique"
   ]
  },
  {
   "cell_type": "code",
   "execution_count": 44,
   "metadata": {
    "collapsed": false
   },
   "outputs": [
    {
     "data": {
      "image/png": "[encoded data removed]"
     },
     "metadata": {},
     "output_type": "display_data"
    }
   ],
   "source": [
    "%%R -w 500 -h 350\n",
    "d = read.csv(\"../data/l2fc_table.csv\", stringsAsFactors = FALSE) %>%\n",
    "    filter(OTU %in% rspndrs, test == \"greater\") %>%\n",
    "    select(OTU, Rank2, day, log2FoldChange) %>%\n",
    "    spread(day, log2FoldChange)\n",
    "\n",
    "p = ggplot(d, aes(x = `2`, y = `4`, color = Rank2))\n",
    "\n",
    "p = p + geom_hline(xintercept = 0)\n",
    "\n",
    "p = p + geom_vline(yintercept = 0)\n",
    "\n",
    "p = p + geom_point(size = 4)\n",
    "\n",
    "p = p + labs(x = \"Day 2\", y = \"Day 4\")\n",
    "\n",
    "p = p + theme_bw()\n",
    "\n",
    "p = p + theme(axis.text = element_text(size = 13),\n",
    "              axis.title = element_text(size = 16))\n",
    "\n",
    "p"
   ]
  },
  {
   "cell_type": "code",
   "execution_count": 118,
   "metadata": {
    "collapsed": false
   },
   "outputs": [
    {
     "data": {
      "text/plain": [
       "phyloseq-class experiment-level object\n",
       "otu_table()   OTU Table:         [ 4340 taxa and 36 samples ]\n",
       "sample_data() Sample Data:       [ 36 samples by 7 sample variables ]\n",
       "tax_table()   Taxonomy Table:    [ 4340 taxa by 8 taxonomic ranks ]\n"
      ]
     },
     "metadata": {},
     "output_type": "display_data"
    }
   ],
   "source": [
    "%%R\n",
    "otus = read.csv(\"../data/l2fc_table.csv\", stringsAsFactors = FALSE) %>%\n",
    "    select(OTU) %>% extract2(1) %>% unique\n",
    "\n",
    "physeq = import_biom(\"../data/otu_table_wtax.biom\")\n",
    "md = read.table(\"../data/barcode_mapper.txt\", \n",
    "                sep = \"\\t\", \n",
    "                header = TRUE,\n",
    "                comment = \"\")\n",
    "rownames(md) = md$X.SampleID\n",
    "md$DayCollected %<>% factor\n",
    "sample_data(physeq) = sample_data(md)\n",
    "sd = sample_data(physeq)\n",
    "\n",
    "density.min = 1.725\n",
    "\n",
    "physeq = prune_samples(sd$Density >= density.min, physeq)\n",
    "\n",
    "TT = data.frame(tax_table(physeq))\n",
    "TT$OTU = rownames(TT)\n",
    "\n",
    "physeq"
   ]
  },
  {
   "cell_type": "code",
   "execution_count": 98,
   "metadata": {
    "collapsed": false,
    "scrolled": false
   },
   "outputs": [
    {
     "data": {
      "text/plain": [
       "converting counts to integer mode\n",
       "estimating size factors\n",
       "estimating dispersions\n",
       "gene-wise dispersion estimates\n",
       "mean-dispersion relationship\n",
       "NOTE: fitType='parametric', but the dispersion trend was not well captured by the\n",
       "  function: y = a/x + b, and a local regression fit was automatically substituted.\n",
       "  specify fitType='local' or 'mean' to avoid this message next time.\n",
       "final dispersion estimates\n",
       "fitting model and testing\n",
       "-- replacing outliers and refitting for 2 genes\n",
       "-- DESeq argument 'minReplicatesForReplace' = 7 \n",
       "-- original counts are preserved in counts(dds)\n",
       "estimating dispersions\n",
       "fitting model and testing\n"
      ]
     },
     "metadata": {},
     "output_type": "display_data"
    }
   ],
   "source": [
    "%%R\n",
    "dds = phyloseq_to_deseq2(physeq, ~Treatment*factor(DayCollected))\n",
    "dds = DESeq(dds)\n",
    "res.int = data.frame(results(dds, independentFiltering = FALSE, cooksCutoff = FALSE))\n",
    "res.int$OTU = rownames(res)"
   ]
  },
  {
   "cell_type": "code",
   "execution_count": 99,
   "metadata": {
    "collapsed": false
   },
   "outputs": [
    {
     "data": {
      "image/png": "[encoded data removed]"
     },
     "metadata": {},
     "output_type": "display_data"
    }
   ],
   "source": [
    "%%R\n",
    "res.int %>%\n",
    "    filter(OTU %in% otus) %>%\n",
    "    mutate(p.adj = p.adjust(pvalue, method = \"BH\")) %>%\n",
    "    filter(OTU %in% rspndrs) %>%\n",
    "    select(p.adj) %>% extract2(1) %>% hist(breaks = 50)"
   ]
  },
  {
   "cell_type": "code",
   "execution_count": 121,
   "metadata": {
    "collapsed": false
   },
   "outputs": [
    {
     "data": {
      "text/plain": [
       "Joining by: \"OTU\"\n",
       "       OTU      p.adj      Rank2      Rank3\n",
       "1  OTU.227 0.01600450 Firmicutes Clostridia\n",
       "2 OTU.4037 0.06604938 Firmicutes Clostridia\n"
      ]
     },
     "metadata": {},
     "output_type": "display_data"
    }
   ],
   "source": [
    "%%R\n",
    "FDR = 0.10\n",
    "\n",
    "res.int %>%\n",
    "    filter(OTU %in% otus) %>%\n",
    "    left_join(TT) %>%\n",
    "    mutate(p.adj = p.adjust(pvalue, method = \"BH\")) %>%\n",
    "    filter(OTU %in% rspndrs) %>% \n",
    "    select(OTU, p.adj, Rank2, Rank3) %>%\n",
    "    filter(p.adj <= FDR)"
   ]
  },
  {
   "cell_type": "code",
   "execution_count": 100,
   "metadata": {
    "collapsed": false
   },
   "outputs": [
    {
     "data": {
      "text/plain": [
       "converting counts to integer mode\n",
       "estimating size factors\n",
       "estimating dispersions\n",
       "gene-wise dispersion estimates\n",
       "mean-dispersion relationship\n",
       "NOTE: fitType='parametric', but the dispersion trend was not well captured by the\n",
       "  function: y = a/x + b, and a local regression fit was automatically substituted.\n",
       "  specify fitType='local' or 'mean' to avoid this message next time.\n",
       "final dispersion estimates\n",
       "fitting model and testing\n",
       "-- replacing outliers and refitting for 29 genes\n",
       "-- DESeq argument 'minReplicatesForReplace' = 7 \n",
       "-- original counts are preserved in counts(dds)\n",
       "estimating dispersions\n",
       "fitting model and testing\n"
      ]
     },
     "metadata": {},
     "output_type": "display_data"
    }
   ],
   "source": [
    "%%R\n",
    "dds = phyloseq_to_deseq2(physeq, ~Treatment)\n",
    "dds = DESeq(dds)\n",
    "res = data.frame(results(dds, independentFiltering = FALSE, cooksCutoff = FALSE))\n",
    "res$OTU = rownames(res)"
   ]
  },
  {
   "cell_type": "code",
   "execution_count": 113,
   "metadata": {
    "collapsed": false
   },
   "outputs": [
    {
     "data": {
      "text/plain": [
       "Joining by: \"OTU\"\n",
       "      OTU     p.adj          Rank2               Rank3\n",
       "1 OTU.137 0.2816118 Proteobacteria Alphaproteobacteria\n",
       "2 OTU.227 0.7062822     Firmicutes          Clostridia\n",
       "3 OTU.263 0.1687971 Proteobacteria Alphaproteobacteria\n"
      ]
     },
     "metadata": {},
     "output_type": "display_data"
    }
   ],
   "source": [
    "%%R\n",
    "FDR = 0.10\n",
    "\n",
    "TT = data.frame(tax_table(physeq))\n",
    "TT$OTU = rownames(TT)\n",
    "\n",
    "res %>%\n",
    "    filter(OTU %in% otus) %>%\n",
    "    left_join(TT) %>%\n",
    "    mutate(p.adj = p.adjust(pvalue, method = \"BH\")) %>%\n",
    "    filter(OTU %in% rspndrs) %>%\n",
    "    select(OTU, p.adj, Rank2, Rank3) %>%\n",
    "    filter(p.adj > FDR)"
   ]
  }
 ],
 "metadata": {
  "kernelspec": {
   "display_name": "Python 2",
   "language": "python",
   "name": "python2"
  },
  "language_info": {
   "codemirror_mode": {
    "name": "ipython",
    "version": 2
   },
   "file_extension": ".py",
   "mimetype": "text/x-python",
   "name": "python",
   "nbconvert_exporter": "python",
   "pygments_lexer": "ipython2",
   "version": "2.7.9"
  }
 },
 "nbformat": 4,
 "nbformat_minor": 0
}

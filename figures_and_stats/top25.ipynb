{
 "cells": [
  {
   "cell_type": "code",
   "execution_count": 1,
   "metadata": {
    "collapsed": false
   },
   "outputs": [],
   "source": [
    "%load_ext rpy2.ipython\n",
    "from IPython.display import FileLink"
   ]
  },
  {
   "cell_type": "code",
   "execution_count": 2,
   "metadata": {
    "collapsed": false
   },
   "outputs": [
    {
     "data": {
      "text/plain": [
       "\n",
       "Attaching package: ‘dplyr’\n",
       "\n",
       "The following objects are masked from ‘package:stats’:\n",
       "\n",
       "    filter, lag\n",
       "\n",
       "The following objects are masked from ‘package:base’:\n",
       "\n",
       "    intersect, setdiff, setequal, union\n",
       "\n"
      ]
     },
     "metadata": {},
     "output_type": "display_data"
    }
   ],
   "source": [
    "%%R\n",
    "library(dplyr)\n",
    "library(magrittr)"
   ]
  },
  {
   "cell_type": "code",
   "execution_count": 3,
   "metadata": {
    "collapsed": false
   },
   "outputs": [
    {
     "data": {
      "text/plain": [
       " [1] \"OTU.108\"  \"OTU.1276\" \"OTU.14\"   \"OTU.140\"  \"OTU.1673\" \"OTU.2036\"\n",
       " [7] \"OTU.227\"  \"OTU.243\"  \"OTU.278\"  \"OTU.2794\" \"OTU.282\"  \"OTU.321\" \n",
       "[13] \"OTU.327\"  \"OTU.330\"  \"OTU.342\"  \"OTU.4037\" \"OTU.4167\" \"OTU.419\" \n",
       "[19] \"OTU.470\"  \"OTU.528\"  \"OTU.54\"   \"OTU.586\"  \"OTU.647\"  \"OTU.697\" \n",
       "[25] \"OTU.761\" \n"
      ]
     },
     "metadata": {},
     "output_type": "display_data"
    }
   ],
   "source": [
    "%%R\n",
    "top25 = read.csv(\"../data/l2fc_table.csv\") %>%\n",
    "    filter(p.adj < 0.10) %>%\n",
    "    group_by(OTU) %>%\n",
    "    summarize(max.fc = max(log2FoldChange)) %>%\n",
    "    filter(rank(desc(max.fc), ties.method = \"first\") <= 25) %>%\n",
    "    extract2(\"OTU\") %>%\n",
    "    as.character\n",
    "top25"
   ]
  },
  {
   "cell_type": "code",
   "execution_count": 4,
   "metadata": {
    "collapsed": false
   },
   "outputs": [],
   "source": [
    "%Rpull top25\n",
    "top25 = map(str, top25)"
   ]
  },
  {
   "cell_type": "code",
   "execution_count": 5,
   "metadata": {
    "collapsed": false
   },
   "outputs": [],
   "source": [
    "from Bio import SeqIO"
   ]
  },
  {
   "cell_type": "code",
   "execution_count": 6,
   "metadata": {
    "collapsed": false
   },
   "outputs": [
    {
     "data": {
      "text/plain": [
       "25"
      ]
     },
     "execution_count": 6,
     "metadata": {},
     "output_type": "execute_result"
    }
   ],
   "source": [
    "parser = SeqIO.parse(open(\"../data/otusn.fasta\"), format=\"fasta\")\n",
    "keepers = []\n",
    "for rec in parser:\n",
    "    if rec.name in top25:\n",
    "        keepers.append(rec)\n",
    "SeqIO.write(keepers, \"../data/top25.fa\", format=\"fasta\")"
   ]
  },
  {
   "cell_type": "code",
   "execution_count": 7,
   "metadata": {
    "collapsed": false
   },
   "outputs": [
    {
     "data": {
      "text/html": [
       "<a href='../data/top25.fa' target='_blank'>../data/top25.fa</a><br>"
      ],
      "text/plain": [
       "/home/chuck/working/NSIP_data_analysis/data/top25.fa"
      ]
     },
     "execution_count": 7,
     "metadata": {},
     "output_type": "execute_result"
    }
   ],
   "source": [
    "FileLink(\"../data/top25.fa\")"
   ]
  }
 ],
 "metadata": {
  "kernelspec": {
   "display_name": "Python 2",
   "language": "python",
   "name": "python2"
  },
  "language_info": {
   "codemirror_mode": {
    "name": "ipython",
    "version": 2
   },
   "file_extension": ".py",
   "mimetype": "text/x-python",
   "name": "python",
   "nbconvert_exporter": "python",
   "pygments_lexer": "ipython2",
   "version": "2.7.9"
  }
 },
 "nbformat": 4,
 "nbformat_minor": 0
}

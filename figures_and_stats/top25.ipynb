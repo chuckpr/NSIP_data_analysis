{
 "cells": [
  {
   "cell_type": "code",
   "execution_count": 58,
   "metadata": {
    "collapsed": false
   },
   "outputs": [
    {
     "name": "stdout",
     "output_type": "stream",
     "text": [
      "The rpy2.ipython extension is already loaded. To reload it, use:\n",
      "  %reload_ext rpy2.ipython\n"
     ]
    }
   ],
   "source": [
    "%load_ext rpy2.ipython\n",
    "from IPython.display import FileLink"
   ]
  },
  {
   "cell_type": "code",
   "execution_count": 15,
   "metadata": {
    "collapsed": false
   },
   "outputs": [],
   "source": [
    "%%R\n",
    "library(dplyr)\n",
    "library(magrittr)"
   ]
  },
  {
   "cell_type": "code",
   "execution_count": 35,
   "metadata": {
    "collapsed": false
   },
   "outputs": [
    {
     "data": {
      "text/plain": [
       " [1] \"OTU.108\"  \"OTU.1276\" \"OTU.14\"   \"OTU.140\"  \"OTU.1673\" \"OTU.2036\"\n",
       " [7] \"OTU.227\"  \"OTU.243\"  \"OTU.278\"  \"OTU.2794\" \"OTU.282\"  \"OTU.321\" \n",
       "[13] \"OTU.327\"  \"OTU.330\"  \"OTU.342\"  \"OTU.4037\" \"OTU.4167\" \"OTU.419\" \n",
       "[19] \"OTU.470\"  \"OTU.528\"  \"OTU.54\"   \"OTU.586\"  \"OTU.647\"  \"OTU.697\" \n",
       "[25] \"OTU.761\" \n"
      ]
     },
     "metadata": {},
     "output_type": "display_data"
    }
   ],
   "source": [
    "%%R\n",
    "top25 = read.csv(\"../data/l2fc_table.csv\") %>%\n",
    "    filter(p.adj < 0.10) %>%\n",
    "    group_by(OTU) %>%\n",
    "    summarize(max.fc = max(log2FoldChange)) %>%\n",
    "    filter(rank(desc(max.fc), ties.method = \"first\") <= 25) %>%\n",
    "    extract2(\"OTU\") %>%\n",
    "    as.character\n",
    "top25"
   ]
  },
  {
   "cell_type": "code",
   "execution_count": 40,
   "metadata": {
    "collapsed": false
   },
   "outputs": [],
   "source": [
    "%Rpull top25\n",
    "top25 = map(str, top25)"
   ]
  },
  {
   "cell_type": "code",
   "execution_count": 43,
   "metadata": {
    "collapsed": false
   },
   "outputs": [],
   "source": [
    "from Bio import SeqIO"
   ]
  },
  {
   "cell_type": "code",
   "execution_count": 56,
   "metadata": {
    "collapsed": false
   },
   "outputs": [
    {
     "data": {
      "text/plain": [
       "25"
      ]
     },
     "execution_count": 56,
     "metadata": {},
     "output_type": "execute_result"
    }
   ],
   "source": [
    "parser = SeqIO.parse(open(\"../data/otusn.fasta\"), format=\"fasta\")\n",
    "keepers = []\n",
    "for rec in parser:\n",
    "    if rec.name in top25:\n",
    "        keepers.append(rec)\n",
    "SeqIO.write(keepers, \"../data/top25.fa\", format=\"fasta\")"
   ]
  },
  {
   "cell_type": "code",
   "execution_count": 57,
   "metadata": {
    "collapsed": false
   },
   "outputs": [
    {
     "name": "stdout",
     "output_type": "stream",
     "text": [
      ">OTU.14\r\n",
      "TCAAGTCGGATGTGAAATCCCCGGGCTCAACCTGGGAACTGCATTCGAAACTGGCAGGCT\r\n",
      "AGAGTCTTGTAGAGGggggTAGAATTCCAGGTGTAGCGGTGAAATGCGTAGAGATCTGGA\r\n",
      "GGAATACCGGTGGCGAAGGCGGCCcccTGGACAAAGACTGACGCTCAGGTGCGAAAGCGT\r\n",
      "GGgggAGCAAACAGGAT\r\n",
      ">OTU.54\r\n",
      "TTAAGTCAGATGTGAAATCCCCGGGCTCAACCTGGGAACTGCATCTGATACTGGCAAGCT\r\n",
      "TGAGTCTCGTAGAGGggggTAGAATTCCAGGTGTAGCGGTGAAATGCGTAGAGATCTGGA\r\n",
      "GGAATACCGGTGGCGAAGGCGGCCcccTGGACGAAGACTGACGCTCAGGTGCGAAAGCGT\r\n",
      "GGGGAGCAAACAGGAT\r\n"
     ]
    }
   ],
   "source": [
    "FileLink"
   ]
  }
 ],
 "metadata": {
  "kernelspec": {
   "display_name": "Python 2",
   "language": "python",
   "name": "python2"
  },
  "language_info": {
   "codemirror_mode": {
    "name": "ipython",
    "version": 2
   },
   "file_extension": ".py",
   "mimetype": "text/x-python",
   "name": "python",
   "nbconvert_exporter": "python",
   "pygments_lexer": "ipython2",
   "version": "2.7.9"
  }
 },
 "nbformat": 4,
 "nbformat_minor": 0
}

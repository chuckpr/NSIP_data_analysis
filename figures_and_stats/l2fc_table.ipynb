{
 "cells": [
  {
   "cell_type": "code",
   "execution_count": 1,
   "metadata": {
    "collapsed": false
   },
   "outputs": [
    {
     "name": "stderr",
     "output_type": "stream",
     "text": [
      "/opt/anaconda/lib/python2.7/site-packages/pytz/__init__.py:29: UserWarning: Module argparse was already imported from /opt/anaconda/lib/python2.7/argparse.pyc, but /opt/anaconda/lib/python2.7/site-packages is being added to sys.path\n",
      "  from pkg_resources import resource_stream\n"
     ]
    }
   ],
   "source": [
    "%load_ext rpy2.ipython"
   ]
  },
  {
   "cell_type": "code",
   "execution_count": 2,
   "metadata": {
    "collapsed": false
   },
   "outputs": [
    {
     "data": {
      "text/plain": [
       "\n",
       "Attaching package: ‘dplyr’\n",
       "\n",
       "The following objects are masked from ‘package:plyr’:\n",
       "\n",
       "    arrange, count, desc, failwith, id, mutate, rename, summarise,\n",
       "    summarize\n",
       "\n",
       "The following object is masked from ‘package:stats’:\n",
       "\n",
       "    filter\n",
       "\n",
       "The following objects are masked from ‘package:base’:\n",
       "\n",
       "    intersect, setdiff, setequal, union\n",
       "\n",
       "Loading required package: S4Vectors\n",
       "Loading required package: stats4\n",
       "Loading required package: BiocGenerics\n",
       "Loading required package: parallel\n",
       "\n",
       "Attaching package: ‘BiocGenerics’\n",
       "\n",
       "The following objects are masked from ‘package:parallel’:\n",
       "\n",
       "    clusterApply, clusterApplyLB, clusterCall, clusterEvalQ,\n",
       "    clusterExport, clusterMap, parApply, parCapply, parLapply,\n",
       "    parLapplyLB, parRapply, parSapply, parSapplyLB\n",
       "\n",
       "The following objects are masked from ‘package:dplyr’:\n",
       "\n",
       "    intersect, setdiff, union\n",
       "\n",
       "The following object is masked from ‘package:stats’:\n",
       "\n",
       "    xtabs\n",
       "\n",
       "The following objects are masked from ‘package:base’:\n",
       "\n",
       "    anyDuplicated, append, as.data.frame, as.vector, cbind, colnames,\n",
       "    do.call, duplicated, eval, evalq, Filter, Find, get, intersect,\n",
       "    is.unsorted, lapply, Map, mapply, match, mget, order, paste, pmax,\n",
       "    pmax.int, pmin, pmin.int, Position, rank, rbind, Reduce, rep.int,\n",
       "    rownames, sapply, setdiff, sort, table, tapply, union, unique,\n",
       "    unlist, unsplit\n",
       "\n",
       "\n",
       "Attaching package: ‘S4Vectors’\n",
       "\n",
       "The following object is masked from ‘package:dplyr’:\n",
       "\n",
       "    rename\n",
       "\n",
       "The following object is masked from ‘package:plyr’:\n",
       "\n",
       "    rename\n",
       "\n",
       "Loading required package: IRanges\n",
       "\n",
       "Attaching package: ‘IRanges’\n",
       "\n",
       "The following objects are masked from ‘package:dplyr’:\n",
       "\n",
       "    collapse, desc, slice\n",
       "\n",
       "The following object is masked from ‘package:plyr’:\n",
       "\n",
       "    desc\n",
       "\n",
       "Loading required package: GenomicRanges\n",
       "Loading required package: GenomeInfoDb\n",
       "Loading required package: Rcpp\n",
       "Loading required package: RcppArmadillo\n",
       "\n",
       "Attaching package: ‘phyloseq’\n",
       "\n",
       "The following object is masked from ‘package:GenomicRanges’:\n",
       "\n",
       "    distance\n",
       "\n",
       "The following object is masked from ‘package:IRanges’:\n",
       "\n",
       "    distance\n",
       "\n",
       "foreach: simple, scalable parallel programming from Revolution Analytics\n",
       "Use Revolution R for scalability, fault tolerance and more.\n",
       "http://www.revolutionanalytics.com\n",
       "Loading required package: iterators\n"
      ]
     },
     "metadata": {},
     "output_type": "display_data"
    }
   ],
   "source": [
    "%%R\n",
    "library(plyr); library(dplyr)\n",
    "library(DESeq2)\n",
    "library(phyloseq)\n",
    "library(foreach)\n",
    "library(doParallel)\n",
    "library(ggplot2)"
   ]
  },
  {
   "cell_type": "code",
   "execution_count": 3,
   "metadata": {
    "collapsed": false
   },
   "outputs": [],
   "source": [
    "%%R\n",
    "physeq = import_biom(\"../data/otu_table_wtax.biom\")\n",
    "\n",
    "mapfilename = \"../data/sample_data_combined_qiime_format.tsv\"\n",
    "QiimeMap <- read.table(file = mapfilename, header = TRUE, \n",
    "                       sep = \"\\t\", comment.char = \"\", \n",
    "                       colClasses = c(\"Density\" = \"numeric\"))\n",
    "rownames(QiimeMap) <- as.character(QiimeMap[, 1])\n",
    "sample.data1 = sample_data(QiimeMap)\n",
    "\n",
    "physeq = merge_phyloseq(physeq,sample.data1)\n",
    "sample.data2 = sample_data(physeq)\n",
    "physeq = prune_samples(sample.data2$study == \"NSIP\", physeq)"
   ]
  },
  {
   "cell_type": "code",
   "execution_count": 4,
   "metadata": {
    "collapsed": false
   },
   "outputs": [],
   "source": [
    "%%R\n",
    "\n",
    "density.min = 1.725\n",
    "\n",
    "get_Ps = function(physeq.obj, l2fc.threshold, day, sparsity.threshold, test) {\n",
    "    \n",
    "    physeq.md = sample_data(physeq.obj)\n",
    "    p = prune_samples((physeq.md$DayCollected == day)&\n",
    "                      (physeq.md$Density >= density.min), physeq.obj)\n",
    "    p.thresh = filter_taxa(p, function(x) sum(x > 0) > (sparsity.threshold * length(x)), TRUE)\n",
    "    \n",
    "    dds = phyloseq_to_deseq2(p.thresh, ~Treatment)\n",
    "    dds = DESeq(dds, quiet = TRUE, fitType = \"local\")\n",
    "\n",
    "    r = results(dds, independentFiltering = FALSE)\n",
    "    beta = r$log2FoldChange\n",
    "    betaSE = r$lfcSE\n",
    "    if (test == \"greater\") {\n",
    "        p = pnorm(beta, l2fc.threshold, betaSE, lower.tail = FALSE)\n",
    "    } else if (test == \"less\") {\n",
    "        p = pnorm(beta, l2fc.threshold, betaSE, lower.tail = TRUE)\n",
    "    }\n",
    "    r$p = p\n",
    "    DF = data.frame(r[, c(\"log2FoldChange\", \"p\")])\n",
    "    \n",
    "    tax = tax_table(p.thresh)\n",
    "    if (!setequal(row.names(DF), row.names(tax))) {\n",
    "        stop(\"Ordination and supplementary data indices differ on the following:\\n\",\n",
    "        setdiff(row.names(DF), row.names(tax)))\n",
    "    }\n",
    "    DF = data.frame(DF, tax)\n",
    "        \n",
    "    DF$OTU = rownames(DF)\n",
    "    DF$Day = day\n",
    "    DF$sparsity.threshold = as.character(sparsity.threshold)\n",
    "    DF$test = test    \n",
    "    \n",
    "    DF\n",
    "}     "
   ]
  },
  {
   "cell_type": "code",
   "execution_count": 5,
   "metadata": {
    "collapsed": false
   },
   "outputs": [
    {
     "data": {
      "text/plain": [
       "Source: local data frame [65,792 x 16]\n",
       "\n",
       "   day l2fc.threshold log2FoldChange         p      Rank1          Rank2\n",
       "1    2           0.25      0.3681240 0.4530070 Unassigned             NA\n",
       "2    2           0.25     -1.4315848 0.9325700   Bacteria    Chloroflexi\n",
       "3    2           0.25     -1.3856329 0.9394035   Bacteria  Bacteroidetes\n",
       "4    2           0.25      0.7338556 0.3163615   Bacteria Proteobacteria\n",
       "5    2           0.25     -0.5806152 0.7968392   Bacteria    Chloroflexi\n",
       "6    2           0.25     -1.2414574 0.9261187   Bacteria Proteobacteria\n",
       "7    2           0.25      0.6747027 0.3380584 Unassigned             NA\n",
       "8    2           0.25     -0.2689453 0.6785073   Bacteria Proteobacteria\n",
       "9    2           0.25     -0.1357915 0.6428777   Bacteria Actinobacteria\n",
       "10   2           0.25     -2.1668860 0.9872945   Bacteria Proteobacteria\n",
       ".. ...            ...            ...       ...        ...            ...\n",
       "Variables not shown: Rank3 (fctr), Rank4 (fctr), Rank5 (fctr), Rank6 (fctr),\n",
       "  Rank7 (fctr), Rank8 (fctr), OTU (chr), Day (dbl), sparsity.threshold (chr),\n",
       "  test (fctr)\n"
      ]
     },
     "metadata": {},
     "output_type": "display_data"
    }
   ],
   "source": [
    "%%R\n",
    "m = expand.grid(sparsity.threshold = seq(0.05,0.75,0.025), \n",
    "                day = c(2, 4), \n",
    "                l2fc.threshold = 0.25,\n",
    "                test = c(\"greater\", \"less\"))\n",
    "m\n",
    "\n",
    "registerDoParallel(10)\n",
    "\n",
    "df.l2fc = tbl_df(mdply(m, \n",
    "                       get_Ps, \n",
    "                       .parallel = TRUE, \n",
    "                       physeq.obj = physeq))\n",
    "df.l2fc"
   ]
  },
  {
   "cell_type": "code",
   "execution_count": 7,
   "metadata": {
    "collapsed": false
   },
   "outputs": [
    {
     "data": {
      "image/png": "[encoded data removed]"
     },
     "metadata": {},
     "output_type": "display_data"
    }
   ],
   "source": [
    "%%R -h 350\n",
    "FDR = 0.10\n",
    "\n",
    "d = df.l2fc %>%\n",
    "    filter(test == \"greater\") %>%\n",
    "    group_by(sparsity.threshold) %>%\n",
    "    mutate(p.adj = p.adjust(p, \"BH\"))  %>%\n",
    "    dplyr::summarize(S = sum(p.adj <= FDR))\n",
    "\n",
    "p = ggplot(d, aes(x = as.numeric(sparsity.threshold), y = S)) + geom_point(size = 3)\n",
    "\n",
    "p"
   ]
  },
  {
   "cell_type": "code",
   "execution_count": 8,
   "metadata": {
    "collapsed": false
   },
   "outputs": [
    {
     "data": {
      "text/plain": [
       "Joining by: c(\"OTU\", \"Day\", \"test\")\n"
      ]
     },
     "metadata": {},
     "output_type": "display_data"
    }
   ],
   "source": [
    "%%R\n",
    "df.l2fc.xindepfilt = df.l2fc %.%\n",
    "                    filter(sparsity.threshold == \"0.3\")\n",
    "\n",
    "df.l2fc.padj = df.l2fc.indepfilt %>% \n",
    "                filter(test == \"greater\") %>%\n",
    "                mutate(p.adj = p.adjust(p, method = \"BH\")) %>%\n",
    "                select(p.adj, OTU, Day, test)\n",
    "\n",
    "df.l2fc.indepfilt = left_join(df.l2fc.indepfilt, df.l2fc.padj)"
   ]
  },
  {
   "cell_type": "code",
   "execution_count": 9,
   "metadata": {
    "collapsed": false
   },
   "outputs": [],
   "source": [
    "%%R\n",
    "write.csv(df.l2fc.indepfilt, \"../data/l2fc_table.csv\", row.names = FALSE)"
   ]
  },
  {
   "cell_type": "code",
   "execution_count": 10,
   "metadata": {
    "collapsed": false
   },
   "outputs": [
    {
     "data": {
      "text/plain": [
       "R version 3.1.2 (2014-10-31)\n",
       "Platform: x86_64-pc-linux-gnu (64-bit)\n",
       "\n",
       "locale:\n",
       " [1] LC_CTYPE=en_US.UTF-8       LC_NUMERIC=C              \n",
       " [3] LC_TIME=en_US.UTF-8        LC_COLLATE=en_US.UTF-8    \n",
       " [5] LC_MONETARY=en_US.UTF-8    LC_MESSAGES=en_US.UTF-8   \n",
       " [7] LC_PAPER=en_US.UTF-8       LC_NAME=C                 \n",
       " [9] LC_ADDRESS=C               LC_TELEPHONE=C            \n",
       "[11] LC_MEASUREMENT=en_US.UTF-8 LC_IDENTIFICATION=C       \n",
       "\n",
       "attached base packages:\n",
       " [1] parallel  stats4    tools     stats     graphics  grDevices utils    \n",
       " [8] datasets  methods   base     \n",
       "\n",
       "other attached packages:\n",
       " [1] ggplot2_1.0.0           doParallel_1.0.8        iterators_1.0.7        \n",
       " [4] foreach_1.4.2           phyloseq_1.10.0         DESeq2_1.6.1           \n",
       " [7] RcppArmadillo_0.4.500.0 Rcpp_0.11.3             GenomicRanges_1.18.1   \n",
       "[10] GenomeInfoDb_1.2.2      IRanges_2.0.0           S4Vectors_0.4.0        \n",
       "[13] BiocGenerics_0.12.0     dplyr_0.3.0.2           plyr_1.8.1             \n",
       "\n",
       "loaded via a namespace (and not attached):\n",
       " [1] acepack_1.3-3.3      ade4_1.6-2           annotate_1.44.0     \n",
       " [4] AnnotationDbi_1.28.1 ape_3.1-4            assertthat_0.1      \n",
       " [7] base64enc_0.1-2      BatchJobs_1.5        BBmisc_1.8          \n",
       "[10] Biobase_2.26.0       BiocParallel_1.0.0   biom_0.3.12         \n",
       "[13] Biostrings_2.34.0    brew_1.0-6           checkmate_1.5.0     \n",
       "[16] chron_2.3-45         cluster_1.15.3       codetools_0.2-9     \n",
       "[19] colorspace_1.2-4     compiler_3.1.2       data.table_1.9.4    \n",
       "[22] DBI_0.3.1            digest_0.6.4         fail_1.2            \n",
       "[25] foreign_0.8-61       Formula_1.1-2        genefilter_1.48.1   \n",
       "[28] geneplotter_1.44.0   grid_3.1.2           gtable_0.1.2        \n",
       "[31] Hmisc_3.14-5         igraph_0.7.1         labeling_0.3        \n",
       "[34] lattice_0.20-29      latticeExtra_0.6-26  lazyeval_0.1.9      \n",
       "[37] locfit_1.5-9.1       magrittr_1.0.1       MASS_7.3-35         \n",
       "[40] Matrix_1.1-4         multtest_2.22.0      munsell_0.4.2       \n",
       "[43] nlme_3.1-118         nnet_7.3-8           permute_0.8-3       \n",
       "[46] proto_0.3-10         RColorBrewer_1.0-5   reshape2_1.4        \n",
       "[49] RJSONIO_1.3-0        rpart_4.1-8          RSQLite_1.0.0       \n",
       "[52] scales_0.2.4         sendmailR_1.2-1      splines_3.1.2       \n",
       "[55] stringr_0.6.2        survival_2.37-7      vegan_2.0-10        \n",
       "[58] XML_3.98-1.1         xtable_1.7-4         XVector_0.6.0       \n",
       "[61] zlibbioc_1.12.0     \n"
      ]
     },
     "metadata": {},
     "output_type": "display_data"
    }
   ],
   "source": [
    "%%R\n",
    "sessionInfo()"
   ]
  }
 ],
 "metadata": {
  "kernelspec": {
   "display_name": "Python 2",
   "language": "python",
   "name": "python2"
  },
  "language_info": {
   "codemirror_mode": {
    "name": "ipython",
    "version": 2
   },
   "file_extension": ".py",
   "mimetype": "text/x-python",
   "name": "python",
   "nbconvert_exporter": "python",
   "pygments_lexer": "ipython2",
   "version": "2.7.9"
  }
 },
 "nbformat": 4,
 "nbformat_minor": 0
}

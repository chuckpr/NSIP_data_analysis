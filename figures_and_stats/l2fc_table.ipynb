{
 "metadata": {
  "name": "",
  "signature": "sha256:d7967991312c96b9dd1a0d630670657d9626980746d8d95633e56add40e82914"
 },
 "nbformat": 3,
 "nbformat_minor": 0,
 "worksheets": [
  {
   "cells": [
    {
     "cell_type": "code",
     "collapsed": false,
     "input": [
      "%load_ext rpy2.ipython"
     ],
     "language": "python",
     "metadata": {},
     "outputs": [
      {
       "output_type": "stream",
       "stream": "stderr",
       "text": [
        "/opt/anaconda/lib/python2.7/site-packages/pytz/__init__.py:29: UserWarning: Module argparse was already imported from /opt/anaconda/lib/python2.7/argparse.pyc, but /opt/anaconda/lib/python2.7/site-packages is being added to sys.path\n",
        "  from pkg_resources import resource_stream\n"
       ]
      }
     ],
     "prompt_number": 1
    },
    {
     "cell_type": "code",
     "collapsed": false,
     "input": [
      "%%R\n",
      "library(plyr); library(dplyr)\n",
      "library(DESeq2)\n",
      "library(phyloseq)\n",
      "library(foreach)\n",
      "library(doParallel)\n",
      "library(ggplot2)"
     ],
     "language": "python",
     "metadata": {},
     "outputs": [
      {
       "metadata": {},
       "output_type": "display_data",
       "text": [
        "\n",
        "Attaching package: \u2018dplyr\u2019\n",
        "\n",
        "The following objects are masked from \u2018package:plyr\u2019:\n",
        "\n",
        "    arrange, count, desc, failwith, id, mutate, rename, summarise,\n",
        "    summarize\n",
        "\n",
        "The following object is masked from \u2018package:stats\u2019:\n",
        "\n",
        "    filter\n",
        "\n",
        "The following objects are masked from \u2018package:base\u2019:\n",
        "\n",
        "    intersect, setdiff, setequal, union\n",
        "\n",
        "Loading required package: S4Vectors\n",
        "Loading required package: stats4\n",
        "Loading required package: BiocGenerics\n",
        "Loading required package: parallel\n",
        "\n",
        "Attaching package: \u2018BiocGenerics\u2019\n",
        "\n",
        "The following objects are masked from \u2018package:parallel\u2019:\n",
        "\n",
        "    clusterApply, clusterApplyLB, clusterCall, clusterEvalQ,\n",
        "    clusterExport, clusterMap, parApply, parCapply, parLapply,\n",
        "    parLapplyLB, parRapply, parSapply, parSapplyLB\n",
        "\n",
        "The following objects are masked from \u2018package:dplyr\u2019:\n",
        "\n",
        "    intersect, setdiff, union\n",
        "\n",
        "The following object is masked from \u2018package:stats\u2019:\n",
        "\n",
        "    xtabs\n",
        "\n",
        "The following objects are masked from \u2018package:base\u2019:\n",
        "\n",
        "    anyDuplicated, append, as.data.frame, as.vector, cbind, colnames,\n",
        "    do.call, duplicated, eval, evalq, Filter, Find, get, intersect,\n",
        "    is.unsorted, lapply, Map, mapply, match, mget, order, paste, pmax,\n",
        "    pmax.int, pmin, pmin.int, Position, rank, rbind, Reduce, rep.int,\n",
        "    rownames, sapply, setdiff, sort, table, tapply, union, unique,\n",
        "    unlist, unsplit\n",
        "\n",
        "\n",
        "Attaching package: \u2018S4Vectors\u2019\n",
        "\n",
        "The following object is masked from \u2018package:dplyr\u2019:\n",
        "\n",
        "    rename\n",
        "\n",
        "The following object is masked from \u2018package:plyr\u2019:\n",
        "\n",
        "    rename\n",
        "\n",
        "Loading required package: IRanges\n",
        "\n",
        "Attaching package: \u2018IRanges\u2019\n",
        "\n",
        "The following objects are masked from \u2018package:dplyr\u2019:\n",
        "\n",
        "    collapse, desc, slice\n",
        "\n",
        "The following object is masked from \u2018package:plyr\u2019:\n",
        "\n",
        "    desc\n",
        "\n",
        "Loading required package: GenomicRanges\n",
        "Loading required package: GenomeInfoDb\n",
        "Loading required package: Rcpp\n",
        "Loading required package: RcppArmadillo\n",
        "\n",
        "Attaching package: \u2018phyloseq\u2019\n",
        "\n",
        "The following object is masked from \u2018package:GenomicRanges\u2019:\n",
        "\n",
        "    distance\n",
        "\n",
        "The following object is masked from \u2018package:IRanges\u2019:\n",
        "\n",
        "    distance\n",
        "\n",
        "foreach: simple, scalable parallel programming from Revolution Analytics\n",
        "Use Revolution R for scalability, fault tolerance and more.\n",
        "http://www.revolutionanalytics.com\n",
        "Loading required package: iterators\n"
       ]
      }
     ],
     "prompt_number": 2
    },
    {
     "cell_type": "code",
     "collapsed": false,
     "input": [
      "%%R\n",
      "physeq = import_biom(\"../data/otu_table_wtax.biom\")\n",
      "\n",
      "mapfilename = \"../data/sample_data_combined_qiime_format.tsv\"\n",
      "QiimeMap <- read.table(file = mapfilename, header = TRUE, \n",
      "                       sep = \"\\t\", comment.char = \"\", \n",
      "                       colClasses = c(\"Density\" = \"numeric\"))\n",
      "rownames(QiimeMap) <- as.character(QiimeMap[, 1])\n",
      "sample.data1 = sample_data(QiimeMap)\n",
      "\n",
      "physeq = merge_phyloseq(physeq,sample.data1)\n",
      "sample.data2 = sample_data(physeq)\n",
      "physeq = prune_samples(sample.data2$study == \"NSIP\", physeq)"
     ],
     "language": "python",
     "metadata": {},
     "outputs": [],
     "prompt_number": 3
    },
    {
     "cell_type": "code",
     "collapsed": false,
     "input": [
      "%%R\n",
      "\n",
      "density.min = 1.725\n",
      "\n",
      "get_Ps = function(physeq.obj, l2fc.threshold, day, sparsity.threshold, test) {\n",
      "    \n",
      "    physeq.md = sample_data(physeq.obj)\n",
      "    p = prune_samples((physeq.md$DayCollected == day)&\n",
      "                      (physeq.md$Density >= density.min), physeq.obj)\n",
      "    p.thresh = filter_taxa(p, function(x) sum(x > 0) > (sparsity.threshold * length(x)), TRUE)\n",
      "    \n",
      "    dds = phyloseq_to_deseq2(p.thresh, ~Treatment)\n",
      "    dds = DESeq(dds, quiet = TRUE, fitType = \"local\")\n",
      "\n",
      "    r = results(dds, independentFiltering = FALSE)\n",
      "    beta = r$log2FoldChange\n",
      "    betaSE = r$lfcSE\n",
      "    if (test == \"greater\") {\n",
      "        p = pnorm(beta, l2fc.threshold, betaSE, lower.tail = FALSE)\n",
      "    } else if (test == \"less\") {\n",
      "        p = pnorm(beta, l2fc.threshold, betaSE, lower.tail = TRUE)\n",
      "    }\n",
      "    r$p = p\n",
      "    DF = data.frame(r[, c(\"log2FoldChange\", \"p\")])\n",
      "    \n",
      "    tax = tax_table(p.thresh)\n",
      "    if (!setequal(row.names(DF), row.names(tax))) {\n",
      "        stop(\"Ordination and supplementary data indices differ on the following:\\n\",\n",
      "        setdiff(row.names(DF), row.names(tax)))\n",
      "    }\n",
      "    DF = data.frame(DF, tax)\n",
      "        \n",
      "    DF$OTU = rownames(DF)\n",
      "    DF$Day = day\n",
      "    DF$sparsity.threshold = as.character(sparsity.threshold)\n",
      "    DF$test = test    \n",
      "    \n",
      "    DF\n",
      "}     "
     ],
     "language": "python",
     "metadata": {},
     "outputs": [],
     "prompt_number": 4
    },
    {
     "cell_type": "code",
     "collapsed": false,
     "input": [
      "%%R\n",
      "m = expand.grid(sparsity.threshold = seq(0.05,0.75,0.025), \n",
      "                day = c(2, 4), \n",
      "                l2fc.threshold = 0.25,\n",
      "                test = c(\"greater\", \"less\"))\n",
      "m\n",
      "\n",
      "registerDoParallel(10)\n",
      "\n",
      "df.l2fc = tbl_df(mdply(m, \n",
      "                       get_Ps, \n",
      "                       .parallel = TRUE, \n",
      "                       physeq.obj = physeq))\n",
      "df.l2fc"
     ],
     "language": "python",
     "metadata": {},
     "outputs": [
      {
       "metadata": {},
       "output_type": "display_data",
       "text": [
        "Source: local data frame [65,792 x 16]\n",
        "\n",
        "   day l2fc.threshold log2FoldChange         p      Rank1          Rank2\n",
        "1    2           0.25      0.3681240 0.4530070 Unassigned             NA\n",
        "2    2           0.25     -1.4315848 0.9325700   Bacteria    Chloroflexi\n",
        "3    2           0.25     -1.3856329 0.9394035   Bacteria  Bacteroidetes\n",
        "4    2           0.25      0.7338556 0.3163615   Bacteria Proteobacteria\n",
        "5    2           0.25     -0.5806152 0.7968392   Bacteria    Chloroflexi\n",
        "6    2           0.25     -1.2414574 0.9261187   Bacteria Proteobacteria\n",
        "7    2           0.25      0.6747027 0.3380584 Unassigned             NA\n",
        "8    2           0.25     -0.2689453 0.6785073   Bacteria Proteobacteria\n",
        "9    2           0.25     -0.1357915 0.6428777   Bacteria Actinobacteria\n",
        "10   2           0.25     -2.1668860 0.9872945   Bacteria Proteobacteria\n",
        ".. ...            ...            ...       ...        ...            ...\n",
        "Variables not shown: Rank3 (fctr), Rank4 (fctr), Rank5 (fctr), Rank6 (fctr),\n",
        "  Rank7 (fctr), Rank8 (fctr), OTU (chr), Day (dbl), sparsity.threshold (chr),\n",
        "  test (fctr)\n"
       ]
      }
     ],
     "prompt_number": 5
    },
    {
     "cell_type": "code",
     "collapsed": false,
     "input": [
      "%%R -h 350\n",
      "FDR = 0.10\n",
      "\n",
      "d = df.l2fc %>%\n",
      "    filter(test == \"greater\") %>%\n",
      "    group_by(sparsity.threshold) %>%\n",
      "    mutate(p.adj = p.adjust(p, \"BH\"))  %>%\n",
      "    dplyr::summarize(S = sum(p.adj <= FDR))\n",
      "\n",
      "p = ggplot(d, aes(x = as.numeric(sparsity.threshold), y = S)) + geom_point(size = 3)\n",
      "\n",
      "p"
     ],
     "language": "python",
     "metadata": {},
     "outputs": [
      {
       "metadata": {},
       "output_type": "display_data",
       "png": "[encoded data removed]"
      }
     ],
     "prompt_number": 7
    },
    {
     "cell_type": "code",
     "collapsed": false,
     "input": [
      "%%R\n",
      "df.l2fc.indepfilt = df.l2fc %.%\n",
      "                    filter(sparsity.threshold == \"0.3\")\n",
      "\n",
      "df.l2fc.padj = df.l2fc.indepfilt %>% \n",
      "                filter(test == \"greater\") %>%\n",
      "                mutate(p.adj = p.adjust(p, method = \"BH\")) %>%\n",
      "                select(p.adj, OTU, Day, test)\n",
      "\n",
      "df.l2fc.indepfilt = left_join(df.l2fc.indepfilt, df.l2fc.padj)"
     ],
     "language": "python",
     "metadata": {},
     "outputs": [
      {
       "metadata": {},
       "output_type": "display_data",
       "text": [
        "Joining by: c(\"OTU\", \"Day\", \"test\")\n"
       ]
      }
     ],
     "prompt_number": 8
    },
    {
     "cell_type": "code",
     "collapsed": false,
     "input": [
      "%%R\n",
      "write.csv(df.l2fc.indepfilt, \"../data/l2fc_table.csv\", row.names = FALSE)"
     ],
     "language": "python",
     "metadata": {},
     "outputs": [],
     "prompt_number": 9
    }
   ],
   "metadata": {}
  }
 ]
}
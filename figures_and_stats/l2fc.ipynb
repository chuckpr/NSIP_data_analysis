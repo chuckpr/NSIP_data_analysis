{
 "metadata": {
  "name": "",
  "signature": "sha256:3a6d6ffea68374e512f74cfa4f18983fafaf13dcde837549a106c59eb0cecba8"
 },
 "nbformat": 3,
 "nbformat_minor": 0,
 "worksheets": [
  {
   "cells": [
    {
     "cell_type": "markdown",
     "metadata": {},
     "source": [
      "####Import R packages and Python modules."
     ]
    },
    {
     "cell_type": "code",
     "collapsed": false,
     "input": [
      "from IPython.display import FileLink"
     ],
     "language": "python",
     "metadata": {},
     "outputs": [],
     "prompt_number": 2
    },
    {
     "cell_type": "code",
     "collapsed": false,
     "input": [
      "%load_ext rpy2.ipython"
     ],
     "language": "python",
     "metadata": {},
     "outputs": [
      {
       "output_type": "stream",
       "stream": "stderr",
       "text": [
        "/opt/anaconda/lib/python2.7/site-packages/pytz/__init__.py:29: UserWarning: Module argparse was already imported from /opt/anaconda/lib/python2.7/argparse.pyc, but /opt/anaconda/lib/python2.7/site-packages is being added to sys.path\n",
        "  from pkg_resources import resource_stream\n"
       ]
      }
     ],
     "prompt_number": 3
    },
    {
     "cell_type": "code",
     "collapsed": false,
     "input": [
      "%%R\n",
      "library(DESeq2)\n",
      "library(phyloseq)\n",
      "library(plyr); library(dplyr)\n",
      "library(ggplot2)\n",
      "library(foreach)\n",
      "library(doParallel)\n",
      "library(RColorBrewer)\n",
      "library(gridExtra)"
     ],
     "language": "python",
     "metadata": {},
     "outputs": [
      {
       "metadata": {},
       "output_type": "display_data",
       "text": [
        "Loading required package: GenomicRanges\n",
        "Loading required package: BiocGenerics\n",
        "Loading required package: parallel\n",
        "\n",
        "Attaching package: \u2018BiocGenerics\u2019\n",
        "\n",
        "The following objects are masked from \u2018package:parallel\u2019:\n",
        "\n",
        "    clusterApply, clusterApplyLB, clusterCall, clusterEvalQ,\n",
        "    clusterExport, clusterMap, parApply, parCapply, parLapply,\n",
        "    parLapplyLB, parRapply, parSapply, parSapplyLB\n",
        "\n",
        "The following object is masked from \u2018package:stats\u2019:\n",
        "\n",
        "    xtabs\n",
        "\n",
        "The following objects are masked from \u2018package:base\u2019:\n",
        "\n",
        "    anyDuplicated, append, as.data.frame, as.vector, cbind, colnames,\n",
        "    duplicated, eval, evalq, Filter, Find, get, intersect, is.unsorted,\n",
        "    lapply, Map, mapply, match, mget, order, paste, pmax, pmax.int,\n",
        "    pmin, pmin.int, Position, rank, rbind, Reduce, rep.int, rownames,\n",
        "    sapply, setdiff, sort, table, tapply, union, unique, unlist\n",
        "\n",
        "Loading required package: IRanges\n",
        "Loading required package: XVector\n",
        "Loading required package: Rcpp\n",
        "Loading required package: RcppArmadillo\n",
        "\n",
        "Attaching package: \u2018phyloseq\u2019\n",
        "\n",
        "The following object is masked from \u2018package:GenomicRanges\u2019:\n",
        "\n",
        "    distance\n",
        "\n",
        "The following object is masked from \u2018package:IRanges\u2019:\n",
        "\n",
        "    distance\n",
        "\n",
        "\n",
        "Attaching package: \u2018plyr\u2019\n",
        "\n",
        "The following object is masked from \u2018package:XVector\u2019:\n",
        "\n",
        "    compact\n",
        "\n",
        "The following objects are masked from \u2018package:IRanges\u2019:\n",
        "\n",
        "    desc, rename\n",
        "\n",
        "\n",
        "Attaching package: \u2018dplyr\u2019\n",
        "\n",
        "The following objects are masked from \u2018package:plyr\u2019:\n",
        "\n",
        "    arrange, desc, failwith, id, mutate, summarise, summarize\n",
        "\n",
        "The following objects are masked from \u2018package:GenomicRanges\u2019:\n",
        "\n",
        "    first, intersect, last, setdiff, union\n",
        "\n",
        "The following objects are masked from \u2018package:IRanges\u2019:\n",
        "\n",
        "    collapse, desc, intersect, setdiff, union\n",
        "\n",
        "The following objects are masked from \u2018package:BiocGenerics\u2019:\n",
        "\n",
        "    intersect, setdiff, union\n",
        "\n",
        "The following objects are masked from \u2018package:stats\u2019:\n",
        "\n",
        "    filter, lag\n",
        "\n",
        "The following objects are masked from \u2018package:base\u2019:\n",
        "\n",
        "    intersect, setdiff, setequal, union\n",
        "\n",
        "foreach: simple, scalable parallel programming from Revolution Analytics\n",
        "Use Revolution R for scalability, fault tolerance and more.\n",
        "http://www.revolutionanalytics.com\n",
        "Loading required package: iterators\n",
        "Loading required package: grid\n"
       ]
      }
     ],
     "prompt_number": 4
    },
    {
     "cell_type": "markdown",
     "metadata": {},
     "source": [
      "####Import OTU table and sample metadata."
     ]
    },
    {
     "cell_type": "code",
     "collapsed": false,
     "input": [
      "%%R\n",
      "physeq = import_biom(\"../data/otu_table_wtax.biom\")\n",
      "\n",
      "mapfilename = \"../data/sample_data_combined_qiime_format.tsv\"\n",
      "QiimeMap <- read.table(file = mapfilename, header = TRUE, \n",
      "                       sep = \"\\t\", comment.char = \"\", \n",
      "                       colClasses = c(\"Density\" = \"numeric\"))\n",
      "rownames(QiimeMap) <- as.character(QiimeMap[, 1])\n",
      "sample.data1 = sample_data(QiimeMap)\n",
      "\n",
      "physeq = merge_phyloseq(physeq,sample.data1)\n",
      "sample.data2 = sample_data(physeq)\n",
      "physeq = prune_samples(sample.data2$study == \"NSIP\", physeq)"
     ],
     "language": "python",
     "metadata": {},
     "outputs": [],
     "prompt_number": 5
    },
    {
     "cell_type": "markdown",
     "metadata": {},
     "source": [
      "####Function to calculate log2 fold change between OTU means in control and label \"heavy\" fractions."
     ]
    },
    {
     "cell_type": "code",
     "collapsed": false,
     "input": [
      "%%R\n",
      "\n",
      "density.min = 1.725\n",
      "\n",
      "get_Ps = function(physeq.obj, l2fc.threshold, day, sparsity.threshold, test) {\n",
      "    \n",
      "    physeq.md = sample_data(physeq.obj)\n",
      "    p = prune_samples((physeq.md$DayCollected == day)&\n",
      "                      (physeq.md$Density >= density.min), physeq.obj)\n",
      "    p.thresh = filter_taxa(p, function(x) sum(x > 0) > (sparsity.threshold * length(x)), TRUE)\n",
      "    \n",
      "    dds = phyloseq_to_deseq2(p.thresh, ~Treatment)\n",
      "    dds = DESeq(dds, quiet = TRUE, fitType = \"local\")\n",
      "\n",
      "    r = results(dds, independentFiltering = FALSE)\n",
      "    beta = r$log2FoldChange\n",
      "    betaSE = r$lfcSE\n",
      "    if (test == \"greater\") {\n",
      "        p = pnorm(beta, l2fc.threshold, betaSE, lower.tail = FALSE)\n",
      "    } else if (test == \"less\") {\n",
      "        p = pnorm(beta, l2fc.threshold, betaSE, lower.tail = TRUE)\n",
      "    }\n",
      "    r$p = p\n",
      "    DF = data.frame(r[, c(\"log2FoldChange\", \"p\")])\n",
      "    \n",
      "    tax = tax_table(p.thresh)\n",
      "    if (!setequal(row.names(DF), row.names(tax))) {\n",
      "        stop(\"Ordination and supplementary data indices differ on the following:\\n\",\n",
      "        setdiff(row.names(DF), row.names(tax)))\n",
      "    }\n",
      "    DF = data.frame(DF, tax)\n",
      "        \n",
      "    DF$OTU = rownames(DF)\n",
      "    DF$Day = day\n",
      "    DF$sparsity.threshold = as.character(sparsity.threshold)\n",
      "    DF$test = test    \n",
      "    \n",
      "    DF\n",
      "}                       "
     ],
     "language": "python",
     "metadata": {},
     "outputs": [],
     "prompt_number": 33
    },
    {
     "cell_type": "markdown",
     "metadata": {},
     "source": [
      "####Create dataframe of log2 fold changes and corresponding adjusted p-values at different sparsity thresholds for screening OTUs."
     ]
    },
    {
     "cell_type": "code",
     "collapsed": false,
     "input": [
      "%%R\n",
      "m = expand.grid(sparsity.threshold = seq(0.05,0.75,0.025), \n",
      "                day = c(2, 4), \n",
      "                l2fc.threshold = 0.25,\n",
      "                test = c(\"greater\", \"less\"))\n",
      "m\n",
      "\n",
      "registerDoParallel(10)\n",
      "\n",
      "df.l2fc = tbl_df(mdply(m, \n",
      "                       get_Ps, \n",
      "                       .parallel = TRUE, \n",
      "                       physeq.obj = physeq))\n",
      "df.l2fc"
     ],
     "language": "python",
     "metadata": {},
     "outputs": [
      {
       "metadata": {},
       "output_type": "display_data",
       "text": [
        "Source: local data frame [65,792 x 16]\n",
        "\n",
        "   day l2fc.threshold log2FoldChange         p    test      Rank1\n",
        "1    2           0.25     0.04375924 0.8358790 greater Unassigned\n",
        "2    2           0.25    -0.26520518 0.9901118 greater   Bacteria\n",
        "3    2           0.25    -0.21269950 0.9833976 greater   Bacteria\n",
        "4    2           0.25     0.08278722 0.7840763 greater   Bacteria\n",
        "5    2           0.25    -0.05440528 0.9250374 greater   Bacteria\n",
        "6    2           0.25    -0.21149695 0.9832981 greater   Bacteria\n",
        "7    2           0.25     0.08280502 0.7839787 greater Unassigned\n",
        "8    2           0.25    -0.04338947 0.9092577 greater   Bacteria\n",
        "9    2           0.25     0.07786908 0.7787457 greater   Bacteria\n",
        "10   2           0.25    -0.35458057 0.9965879 greater   Bacteria\n",
        ".. ...            ...            ...       ...     ...        ...\n",
        "Variables not shown: Rank2 (fctr), Rank3 (fctr), Rank4 (fctr), Rank5 (fctr),\n",
        "  Rank6 (fctr), Rank7 (fctr), Rank8 (fctr), OTU (chr), Day (dbl),\n",
        "  sparsity.threshold (chr)\n"
       ]
      }
     ],
     "prompt_number": 71
    },
    {
     "cell_type": "code",
     "collapsed": false,
     "input": [
      "%%R\n",
      "df.l2fc %.%\n",
      "    filter(p.adj <= 0.10, log2FoldChange < 0, test == \"greater\") %.%\n",
      "    select(day, OTU, p.adj, p, test)"
     ],
     "language": "python",
     "metadata": {},
     "outputs": [
      {
       "output_type": "stream",
       "stream": "stdout",
       "text": [
        "Error in filter_impl(.data, dots(...), environment()) : \n",
        "  object 'p.adj' not found\n"
       ]
      }
     ],
     "prompt_number": 72
    },
    {
     "cell_type": "markdown",
     "metadata": {},
     "source": [
      "####Plot number of OTUs passing the false discovery rate against the sparsity threshold."
     ]
    },
    {
     "cell_type": "code",
     "collapsed": false,
     "input": [
      "%%R -h 350\n",
      "\n",
      "d = df.l2fc %.%\n",
      "    filter(test == \"greater\") %.%\n",
      "    group_by(\"sparsity.threshold\") %.%\n",
      "    mutate(p.adj = p.adjust(p, \"BH\"))\n",
      "\n",
      "FDR = 0.10\n",
      "\n",
      "d = ddply(d, .(sparsity.threshold), summarize, S = sum(p.adj < FDR))\n",
      "\n",
      "p = ggplot(d, aes(x = as.numeric(sparsity.threshold), y = S)) + geom_point(size = 3)\n",
      "\n",
      "p"
     ],
     "language": "python",
     "metadata": {},
     "outputs": [
      {
       "metadata": {},
       "output_type": "display_data",
       "png": "[encoded data removed]"
      }
     ],
     "prompt_number": 73
    },
    {
     "cell_type": "code",
     "collapsed": false,
     "input": [
      "%%R\n",
      "\n",
      "df.l2fc.indepfilt = df.l2fc %.%\n",
      "                    filter(sparsity.threshold == \"0.625\")\n",
      "\n",
      "df.l2fc.padj = df.l2fc.indepfilt %.% \n",
      "                filter(test == \"greater\") %.%\n",
      "                mutate(p.adj = p.adjust(p, method = \"BH\")) %.%\n",
      "                select(OTU, test, sparsity.threshold, p.adj, p)\n",
      "\n",
      "df.l2fc.indepfilt = left_join(df.l2fc.indepfilt, df.l2fc.padj)"
     ],
     "language": "python",
     "metadata": {},
     "outputs": [
      {
       "metadata": {},
       "output_type": "display_data",
       "text": [
        "Joining by: c(\"p\", \"test\", \"OTU\", \"sparsity.threshold\")\n"
       ]
      }
     ],
     "prompt_number": 77
    },
    {
     "cell_type": "markdown",
     "metadata": {},
     "source": [
      "##Log2 fold change for each OTU categorized by Phylum."
     ]
    },
    {
     "cell_type": "code",
     "collapsed": false,
     "input": [
      "%%R -w 400 -h 650\n",
      "\n",
      "d = df.l2fc.indepfilt %.% filter(test == \"greater\")\n",
      "d$Rank2 = as.character(d$Rank2)\n",
      "d$Rank2[is.na(d$Rank2)] = \"unclassified\"\n",
      "d$Rank2 = factor(d$Rank2)\n",
      "d$strip = paste(\"Day\", d$Day)\n",
      "\n",
      "max.l2fc = ddply(d, .(Rank2), summarize, M = max(log2FoldChange))\n",
      "d$Rank2 = factor(d$Rank2, max.l2fc[order(-max.l2fc$M),]$Rank2)\n",
      "d$color = ifelse(d$p.adj <= 0.10, \"yes\", \"no\")\n",
      "\n",
      "M = max(as.numeric(d$Rank2), na.rm = TRUE) + 1\n",
      "d$x = as.numeric(d$Rank2)\n",
      "d$x[is.na(d$x)] = M\n",
      "d$x.jitter = d$x + runif(length(d$x), -1, 1) * 0.25\n",
      "\n",
      "colourCount = length(unique(d$Rank2)) + 1\n",
      "getPalette = colorRampPalette(brewer.pal(10, \"Dark2\"))\n",
      "phyla = as.character(levels(factor(d$Rank2)))\n",
      "t = parse(text = paste(\"italic(\", phyla, \")\", sep=\"\"))\n",
      "\n",
      "p = ggplot(d, aes(x = Rank2, y = log2FoldChange, color = color))\n",
      "\n",
      "p = p + facet_wrap(~strip, ncol = 1)\n",
      "\n",
      "p = p + geom_point(shape = 21, size = 2.5, position = position_jitter(w = 0.20))\n",
      "\n",
      "#p = p + geom_point(data = subset(d, p.adj <= FDR), color = \"red\", shape = 4, size = 3)\n",
      "\n",
      "p = p + scale_color_manual(values = c(\"black\", \"red\"))\n",
      "\n",
      "#p = p + scale_shape_manual(values = c(21, 23))\n",
      "\n",
      "p = p + geom_hline(y = 0.25)\n",
      "\n",
      "p = p + theme_bw()\n",
      "\n",
      "p = p + theme(strip.text.x = element_text(size = 16),\n",
      "              axis.text.x = element_text(size = 12, angle = 45, hjust = 1),\n",
      "              axis.title.x = element_text(size = 14), \n",
      "              axis.title.y = element_text(size = 14),\n",
      "              legend.title = element_blank(),\n",
      "              legend.text = element_text(size = 14),\n",
      "              legend.position = \"none\",\n",
      "              strip.background = element_blank())\n",
      "\n",
      "p = p + labs(x = \"Phylum\", color = \"Phylum\")\n",
      "\n",
      "#p = p + guides(col = guide_legend(ncol = 4, label.hjust = 0))\n",
      "\n",
      "p = p + labs(y = expression(paste(\"\", log[2],\" Fold Change\",sep=\"\")))\n",
      "\n",
      "p.l2fc.stacked = p\n",
      "\n",
      "p"
     ],
     "language": "python",
     "metadata": {},
     "outputs": [
      {
       "metadata": {},
       "output_type": "display_data",
       "png": "[encoded data removed]"
      }
     ],
     "prompt_number": 81
    },
    {
     "cell_type": "markdown",
     "metadata": {},
     "source": [
      "%%R\n",
      "ggsave(\"figs/l2fc.pdf\", p, h = 8, w = 5)"
     ]
    },
    {
     "cell_type": "code",
     "collapsed": false,
     "input": [
      "FileLink(\"figs/l2fc.pdf\")"
     ],
     "language": "python",
     "metadata": {},
     "outputs": [
      {
       "html": [
        "<a href='figs/l2fc.pdf' target='_blank'>figs/l2fc.pdf</a><br>"
       ],
       "metadata": {},
       "output_type": "pyout",
       "prompt_number": 27,
       "text": [
        "/home/chuck/working/NSIP_data_analysis/figures_and_stats/figs/l2fc.pdf"
       ]
      }
     ],
     "prompt_number": 27
    }
   ],
   "metadata": {}
  }
 ]
}
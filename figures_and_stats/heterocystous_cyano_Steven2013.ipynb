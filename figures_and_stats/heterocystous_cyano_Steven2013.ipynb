{
 "metadata": {
  "name": "",
  "signature": "sha256:9cf2975ea772cf7ee9744828bf7ae484a62a7622ab2cdd0d886eb758ab3a5913"
 },
 "nbformat": 3,
 "nbformat_minor": 0,
 "worksheets": [
  {
   "cells": [
    {
     "cell_type": "code",
     "collapsed": false,
     "input": [
      "from IPython.display import FileLink"
     ],
     "language": "python",
     "metadata": {},
     "outputs": [],
     "prompt_number": 1
    },
    {
     "cell_type": "code",
     "collapsed": false,
     "input": [
      "%load_ext rpy2.ipython"
     ],
     "language": "python",
     "metadata": {},
     "outputs": [
      {
       "output_type": "stream",
       "stream": "stderr",
       "text": [
        "/opt/anaconda/lib/python2.7/site-packages/pytz/__init__.py:29: UserWarning: Module argparse was already imported from /opt/anaconda/lib/python2.7/argparse.pyc, but /opt/anaconda/lib/python2.7/site-packages is being added to sys.path\n",
        "  from pkg_resources import resource_stream\n"
       ]
      }
     ],
     "prompt_number": 2
    },
    {
     "cell_type": "code",
     "collapsed": false,
     "input": [
      "%%R\n",
      "library(ggplot2)\n",
      "library(plyr); library(dplyr)\n",
      "library(phyloseq)\n",
      "library(DESeq2)\n",
      "library(vegan)"
     ],
     "language": "python",
     "metadata": {},
     "outputs": [
      {
       "metadata": {},
       "output_type": "display_data",
       "text": [
        "\n",
        "Attaching package: \u2018dplyr\u2019\n",
        "\n",
        "The following objects are masked from \u2018package:plyr\u2019:\n",
        "\n",
        "    arrange, desc, failwith, id, mutate, summarise, summarize\n",
        "\n",
        "The following objects are masked from \u2018package:stats\u2019:\n",
        "\n",
        "    filter, lag\n",
        "\n",
        "The following objects are masked from \u2018package:base\u2019:\n",
        "\n",
        "    intersect, setdiff, setequal, union\n",
        "\n",
        "Loading required package: GenomicRanges\n",
        "Loading required package: BiocGenerics\n",
        "Loading required package: parallel\n",
        "\n",
        "Attaching package: \u2018BiocGenerics\u2019\n",
        "\n",
        "The following objects are masked from \u2018package:parallel\u2019:\n",
        "\n",
        "    clusterApply, clusterApplyLB, clusterCall, clusterEvalQ,\n",
        "    clusterExport, clusterMap, parApply, parCapply, parLapply,\n",
        "    parLapplyLB, parRapply, parSapply, parSapplyLB\n",
        "\n",
        "The following objects are masked from \u2018package:dplyr\u2019:\n",
        "\n",
        "    intersect, setdiff, union\n",
        "\n",
        "The following object is masked from \u2018package:stats\u2019:\n",
        "\n",
        "    xtabs\n",
        "\n",
        "The following objects are masked from \u2018package:base\u2019:\n",
        "\n",
        "    anyDuplicated, append, as.data.frame, as.vector, cbind, colnames,\n",
        "    duplicated, eval, evalq, Filter, Find, get, intersect, is.unsorted,\n",
        "    lapply, Map, mapply, match, mget, order, paste, pmax, pmax.int,\n",
        "    pmin, pmin.int, Position, rank, rbind, Reduce, rep.int, rownames,\n",
        "    sapply, setdiff, sort, table, tapply, union, unique, unlist\n",
        "\n",
        "Loading required package: IRanges\n",
        "\n",
        "Attaching package: \u2018IRanges\u2019\n",
        "\n",
        "The following object is masked from \u2018package:phyloseq\u2019:\n",
        "\n",
        "    distance\n",
        "\n",
        "The following objects are masked from \u2018package:dplyr\u2019:\n",
        "\n",
        "    collapse, desc\n",
        "\n",
        "The following objects are masked from \u2018package:plyr\u2019:\n",
        "\n",
        "    desc, rename\n",
        "\n",
        "Loading required package: XVector\n",
        "\n",
        "Attaching package: \u2018XVector\u2019\n",
        "\n",
        "The following object is masked from \u2018package:plyr\u2019:\n",
        "\n",
        "    compact\n",
        "\n",
        "\n",
        "Attaching package: \u2018GenomicRanges\u2019\n",
        "\n",
        "The following objects are masked from \u2018package:dplyr\u2019:\n",
        "\n",
        "    first, last\n",
        "\n",
        "Loading required package: Rcpp\n",
        "Loading required package: RcppArmadillo\n",
        "Loading required package: permute\n",
        "Loading required package: lattice\n",
        "This is vegan 2.0-10\n"
       ]
      }
     ],
     "prompt_number": 3
    },
    {
     "cell_type": "code",
     "collapsed": false,
     "input": [
      "%%R\n",
      "het_df = data.frame(OTU = c(\"DQ531701.1\", \n",
      "                            \"DQ531697.1\", \n",
      "                            \"DQ531696.1\", \n",
      "                            \"DQ531703.1\", \n",
      "                            \"DQ531699.1\", \n",
      "                            \"DQ531700.1\"),\n",
      "                    isolate = c(\"Scytonema hyalinum\\nDC-A\", \n",
      "                                \"Scytonema hyalinum\\nFGP-7A\",\n",
      "                                \"Spirirestis rafaelensis\\nLQ-10\", \n",
      "                                \"Nostoc commune\\nMCT-1\", \n",
      "                                \"Nostoc commune\\nMFG-1\", \n",
      "                                \"Calothrix\\nMCC-3A\"), \n",
      "                    Genus = c(\"Scytonema\", \n",
      "                              \"Scytonema\", \n",
      "                              \"Spirirestis\",\n",
      "                              \"Nostoc\",\n",
      "                              \"Nostoc\", \n",
      "                              \"Calothrix\"))\n",
      "het_df"
     ],
     "language": "python",
     "metadata": {},
     "outputs": [
      {
       "metadata": {},
       "output_type": "display_data",
       "text": [
        "         OTU                        isolate       Genus\n",
        "1 DQ531701.1       Scytonema hyalinum\\nDC-A   Scytonema\n",
        "2 DQ531697.1     Scytonema hyalinum\\nFGP-7A   Scytonema\n",
        "3 DQ531696.1 Spirirestis rafaelensis\\nLQ-10 Spirirestis\n",
        "4 DQ531703.1          Nostoc commune\\nMCT-1      Nostoc\n",
        "5 DQ531699.1          Nostoc commune\\nMFG-1      Nostoc\n",
        "6 DQ531700.1              Calothrix\\nMCC-3A   Calothrix\n"
       ]
      }
     ],
     "prompt_number": 47
    },
    {
     "cell_type": "code",
     "collapsed": false,
     "input": [
      "%%R\n",
      "physeq = import_biom(\"../data/otu_table_wtax.biom\", \"../data/otusn.tree\")\n",
      "\n",
      "mapfilename = \"../data/sample_data_combined_qiime_format.tsv\"\n",
      "QiimeMap = read.table(file = mapfilename, header = TRUE, \n",
      "                       sep = \"\\t\", comment.char = \"\", \n",
      "                       colClasses = c(\"Density\" = \"numeric\"))\n",
      "rownames(QiimeMap) = as.character(QiimeMap[, 1])\n",
      "sample.data1 = sample_data(QiimeMap)\n",
      "\n",
      "physeq = merge_phyloseq(physeq,sample.data1)\n",
      "physeq = prune_samples(sample_data(physeq)$study == \"Steven et al. (2013)\", \n",
      "                       physeq)\n",
      "\n",
      "physeq.snorm = transform_sample_counts(physeq, function(x) x / sum(x))"
     ],
     "language": "python",
     "metadata": {},
     "outputs": [],
     "prompt_number": 6
    },
    {
     "cell_type": "code",
     "collapsed": false,
     "input": [
      "%%R\n",
      "mdf = tbl_df(psmelt(physeq.snorm))"
     ],
     "language": "python",
     "metadata": {},
     "outputs": [],
     "prompt_number": 7
    },
    {
     "cell_type": "code",
     "collapsed": false,
     "input": [
      "%%R\n",
      "sd = sample_data(physeq)\n",
      "dim(sd)"
     ],
     "language": "python",
     "metadata": {},
     "outputs": [
      {
       "metadata": {},
       "output_type": "display_data",
       "text": [
        "[1] 42 46\n"
       ]
      }
     ],
     "prompt_number": 18
    },
    {
     "cell_type": "code",
     "collapsed": false,
     "input": [
      "%%R\n",
      "mdf %.% \n",
      "    filter(OTU %in% het_df$OTU) %.%\n",
      "    group_by(Sample) %.%\n",
      "    summarize(A = sum(Abundance), BSC = unique(as.character(crust_or_below))) %.%\n",
      "    arrange(desc(A))"
     ],
     "language": "python",
     "metadata": {},
     "outputs": [
      {
       "metadata": {},
       "output_type": "display_data",
       "text": [
        "Source: local data frame [42 x 3]\n",
        "\n",
        "    Sample            A   BSC\n",
        "1  4502031 0.1232154623 crust\n",
        "2  4502005 0.1145958987 crust\n",
        "3  4502016 0.1144397843 crust\n",
        "4  4502034 0.1086244957 crust\n",
        "5  4502020 0.1049069374 crust\n",
        "6  4502036 0.0908248378 crust\n",
        "7  4502030 0.0906328015 crust\n",
        "8  4502035 0.0871349645 crust\n",
        "9  4502032 0.0790771909 crust\n",
        "10 4502019 0.0787746171 crust\n",
        "11 4502033 0.0725079919 crust\n",
        "12 4502015 0.0605892162 crust\n",
        "13 4502017 0.0602069614 crust\n",
        "14 4502018 0.0369718310 crust\n",
        "15 4502014 0.0306391970 crust\n",
        "16 4502002 0.0205607477 below\n",
        "17 4502001 0.0202702703 below\n",
        "18 4502004 0.0179910045 crust\n",
        "19 4502025 0.0173839305 below\n",
        "20 4502008 0.0164396430 below\n",
        "21 4502024 0.0107507931 below\n",
        "22 4502026 0.0082534611 below\n",
        "23 4501999 0.0059701493 below\n",
        "24 4502023 0.0058979652 below\n",
        "25 4502021 0.0040729591 below\n",
        "26 4502022 0.0031088083 below\n",
        "27 4502010 0.0026997840 below\n",
        "28 4502003 0.0023174971 crust\n",
        "29 4501997 0.0020703934 below\n",
        "30 4502000 0.0019723866 below\n",
        "31 4502011 0.0013664936 below\n",
        "32 4502029 0.0011223345 below\n",
        "33 4502006 0.0003457815 below\n",
        "34 4502027 0.0003172589 below\n",
        "35 4502009 0.0002755580 below\n",
        "36 4501995 0.0000000000 below\n",
        "37 4501996 0.0000000000 below\n",
        "38 4501998 0.0000000000 below\n",
        "39 4502007 0.0000000000 below\n",
        "40 4502012 0.0000000000 below\n",
        "41 4502013 0.0000000000 below\n",
        "42 4502028 0.0000000000 below\n"
       ]
      }
     ],
     "prompt_number": 33
    },
    {
     "cell_type": "code",
     "collapsed": false,
     "input": [
      "%%R\n",
      "d = mdf %.% \n",
      "    filter(OTU %in% het_df$OTU) %.%\n",
      "    group_by(OTU) %.%\n",
      "    summarize(A = sum(Abundance > 0)) %.%\n",
      "    arrange(desc(A))\n",
      "\n",
      "left_join(d, het_df)"
     ],
     "language": "python",
     "metadata": {},
     "outputs": [
      {
       "metadata": {},
       "output_type": "display_data",
       "text": [
        "Joining by: \"OTU\"\n",
        "Source: local data frame [6 x 4]\n",
        "\n",
        "         OTU  A                        isolate       Genus\n",
        "1 DQ531701.1 30       Scytonema hyalinum\\nDC-A   Scytonema\n",
        "2 DQ531696.1 30 Spirirestis rafaelensis\\nLQ-10 Spirirestis\n",
        "3 DQ531697.1 27     Scytonema hyalinum\\nFGP-7A   Scytonema\n",
        "4 DQ531703.1 23          Nostoc commune\\nMCT-1      Nostoc\n",
        "5 DQ531699.1 23          Nostoc commune\\nMFG-1      Nostoc\n",
        "6 DQ531700.1  6              Calothrix\\nMCC-3A   Calothrix\n"
       ]
      }
     ],
     "prompt_number": 77
    },
    {
     "cell_type": "code",
     "collapsed": false,
     "input": [
      "%%R -w 600 -h 400\n",
      "d = mdf %.% \n",
      "    filter(OTU %in% het_df$OTU) %.%\n",
      "    group_by(OTU, Sample, crust_or_below) %.%\n",
      "    summarize(A = sum(Abundance)) %.%\n",
      "    arrange(desc(A))\n",
      "\n",
      "d = left_join(d, het_df)\n",
      "\n",
      "p = ggplot(d, aes(x = crust_or_below, y = A))\n",
      "\n",
      "p = p + facet_wrap(~isolate, scales = \"free_y\")\n",
      "\n",
      "p = p + geom_boxplot()\n",
      "\n",
      "p = p + geom_point()\n",
      "\n",
      "p = p + theme_bw()\n",
      "\n",
      "p = p + theme(strip.text.x = element_text(size = 12, face = \"italic\"),\n",
      "              axis.title.x = element_text(size = 14), \n",
      "              axis.title.y = element_text(size = 14),\n",
      "              axis.text.x = element_text(size = 14, angle = 45, hjust = 1),\n",
      "              axis.text.y = element_text(size = 12), \n",
      "              legend.title = element_text(size = 14),\n",
      "              legend.text = element_text(size = 14, face = \"italic\"),\n",
      "              strip.background = element_blank())\n",
      "\n",
      "p = p + labs(x = \"Sample Type\", y = \"Relative Abundance\")\n",
      "\n",
      "p.sample_type = p\n",
      "\n",
      "p"
     ],
     "language": "python",
     "metadata": {},
     "outputs": [
      {
       "metadata": {},
       "output_type": "display_data",
       "text": [
        "Joining by: \"OTU\"\n"
       ]
      },
      {
       "metadata": {},
       "output_type": "display_data",
       "png": "[encoded data removed]"
      }
     ],
     "prompt_number": 69
    },
    {
     "cell_type": "code",
     "collapsed": false,
     "input": [
      "%%R\n",
      "ggsave(\"figs/het_cyano_steven2013.pdf\", p.sample_type, h = 5.25, w = 8)"
     ],
     "language": "python",
     "metadata": {},
     "outputs": [],
     "prompt_number": 72
    },
    {
     "cell_type": "code",
     "collapsed": false,
     "input": [
      "FileLink(\"figs/het_cyano_steven2013.pdf\")"
     ],
     "language": "python",
     "metadata": {},
     "outputs": [
      {
       "html": [
        "<a href='figs/het_cyano_steven2013.pdf' target='_blank'>figs/het_cyano_steven2013.pdf</a><br>"
       ],
       "metadata": {},
       "output_type": "pyout",
       "prompt_number": 73,
       "text": [
        "/home/chuck/working/soil_crust_N_DNASIP/N-SIP-manuscript-figures/figs/het_cyano_steven2013.pdf"
       ]
      }
     ],
     "prompt_number": 73
    },
    {
     "cell_type": "code",
     "collapsed": false,
     "input": [
      "%%R\n",
      "deseq_wrap = function(sparsity.thresh, physeq.obj) {\n",
      "    ps = filter_taxa(physeq.obj, function(x) sum(x > 0) > (sparsity.thresh * length(x)), TRUE)\n",
      "    dds = phyloseq_to_deseq2(ps, ~crust_or_below)\n",
      "    dds = DESeq(dds, quiet = TRUE)\n",
      "    r = results(dds, cooksCutoff = FALSE, independentFiltering = FALSE)\n",
      "    res = data.frame(r)\n",
      "    res$sparsity.thresh = as.character(sparsity.thresh)\n",
      "    res$OTU = rownames(res)\n",
      "    res\n",
      "}"
     ],
     "language": "python",
     "metadata": {},
     "outputs": [],
     "prompt_number": 52
    },
    {
     "cell_type": "code",
     "collapsed": false,
     "input": [
      "%%R\n",
      "res = tbl_df(deseq_wrap(0.40, physeq))"
     ],
     "language": "python",
     "metadata": {},
     "outputs": [],
     "prompt_number": 60
    },
    {
     "cell_type": "code",
     "collapsed": false,
     "input": [
      "%%R\n",
      "t = data.frame(tax_table(physeq))\n",
      "t$OTU = rownames(t)\n",
      "res = left_join(res, t)\n",
      "res = left_join(res, het_df)"
     ],
     "language": "python",
     "metadata": {},
     "outputs": [
      {
       "metadata": {},
       "output_type": "display_data",
       "text": [
        "Joining by: \"OTU\"\n",
        "Joining by: \"OTU\"\n"
       ]
      }
     ],
     "prompt_number": 67
    },
    {
     "cell_type": "code",
     "collapsed": false,
     "input": [
      "%%R\n",
      "d = res %.% group_by(Rank2) %.% summarize(max.l2fc = max(log2FoldChange)) %.% arrange(desc(max.l2fc))\n",
      "res$Rank2.ordered = factor(res$Rank2, levels = d$Rank2)"
     ],
     "language": "python",
     "metadata": {},
     "outputs": [],
     "prompt_number": 55
    },
    {
     "cell_type": "code",
     "collapsed": false,
     "input": [
      "%%R -h 350\n",
      "FDR = 0.10\n",
      "\n",
      "p = ggplot(res, aes(x = Rank2.ordered, y = log2FoldChange))\n",
      "\n",
      "p = p + geom_point(shape = 21)\n",
      "\n",
      "p = p + theme_bw()\n",
      "\n",
      "p = p + theme(axis.text.x = element_text(size = 10, angle = 45, hjust = 1.05),\n",
      "              axis.title.y = element_text(size = 14), \n",
      "              axis.title.x = element_blank())\n",
      "\n",
      "p = p + geom_point(data = subset(res, padj <= FDR), color = \"red\", shape = 21)\n",
      "\n",
      "p"
     ],
     "language": "python",
     "metadata": {},
     "outputs": [
      {
       "metadata": {},
       "output_type": "display_data",
       "png": "[encoded data removed]"
      }
     ],
     "prompt_number": 58
    },
    {
     "cell_type": "code",
     "collapsed": false,
     "input": [
      "%%R\n",
      "d = res %.% \n",
      "    filter(OTU %in% het_df$OTU) %.%\n",
      "    select(OTU, pvalue, isolate) %.%\n",
      "    arrange(pvalue)\n",
      "\n",
      "d"
     ],
     "language": "python",
     "metadata": {},
     "outputs": [
      {
       "metadata": {},
       "output_type": "display_data",
       "text": [
        "Source: local data frame [5 x 3]\n",
        "\n",
        "         OTU       pvalue                        isolate\n",
        "1 DQ531696.1 3.577149e-27 Spirirestis rafaelensis\\nLQ-10\n",
        "2 DQ531697.1 1.001049e-23     Scytonema hyalinum\\nFGP-7A\n",
        "3 DQ531701.1 2.994266e-18       Scytonema hyalinum\\nDC-A\n",
        "4 DQ531703.1 1.432889e-09          Nostoc commune\\nMCT-1\n",
        "5 DQ531699.1 1.960094e-04          Nostoc commune\\nMFG-1\n"
       ]
      }
     ],
     "prompt_number": 74
    }
   ],
   "metadata": {}
  }
 ]
}
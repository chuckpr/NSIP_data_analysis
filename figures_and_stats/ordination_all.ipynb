{
 "metadata": {
  "name": "",
  "signature": "sha256:599cc236c82ad29ae5c8447fce86efcd68aafc899170ac3c517b78ca39c2d3a8"
 },
 "nbformat": 3,
 "nbformat_minor": 0,
 "worksheets": [
  {
   "cells": [
    {
     "cell_type": "markdown",
     "metadata": {},
     "source": [
      "####Import various python functions and modules that we'll use."
     ]
    },
    {
     "cell_type": "code",
     "collapsed": false,
     "input": [
      "from IPython.display import FileLink"
     ],
     "language": "python",
     "metadata": {},
     "outputs": [],
     "prompt_number": 2
    },
    {
     "cell_type": "markdown",
     "metadata": {},
     "source": [
      "####Load Rmagic extension."
     ]
    },
    {
     "cell_type": "code",
     "collapsed": false,
     "input": [
      "%load_ext rpy2.ipython"
     ],
     "language": "python",
     "metadata": {},
     "outputs": [
      {
       "output_type": "stream",
       "stream": "stderr",
       "text": [
        "/opt/anaconda/lib/python2.7/site-packages/pytz/__init__.py:29: UserWarning: Module argparse was already imported from /opt/anaconda/lib/python2.7/argparse.pyc, but /opt/anaconda/lib/python2.7/site-packages is being added to sys.path\n",
        "  from pkg_resources import resource_stream\n"
       ]
      }
     ],
     "prompt_number": 3
    },
    {
     "cell_type": "markdown",
     "metadata": {},
     "source": [
      "####Import R libraries we'll use."
     ]
    },
    {
     "cell_type": "code",
     "collapsed": false,
     "input": [
      "%%R\n",
      "library(phyloseq)\n",
      "library(ggplot2)\n",
      "library(plyr); library(dplyr)\n",
      "library(foreach)\n",
      "library(doParallel)\n",
      "library(gridExtra)\n",
      "library(RColorBrewer)\n",
      "library(vegan)\n",
      "library(reshape)"
     ],
     "language": "python",
     "metadata": {},
     "outputs": [
      {
       "metadata": {},
       "output_type": "display_data",
       "text": [
        "\n",
        "Attaching package: \u2018dplyr\u2019\n",
        "\n",
        "The following objects are masked from \u2018package:plyr\u2019:\n",
        "\n",
        "    arrange, count, desc, failwith, id, mutate, rename, summarise,\n",
        "    summarize\n",
        "\n",
        "The following object is masked from \u2018package:stats\u2019:\n",
        "\n",
        "    filter\n",
        "\n",
        "The following objects are masked from \u2018package:base\u2019:\n",
        "\n",
        "    intersect, setdiff, setequal, union\n",
        "\n",
        "foreach: simple, scalable parallel programming from Revolution Analytics\n",
        "Use Revolution R for scalability, fault tolerance and more.\n",
        "http://www.revolutionanalytics.com\n",
        "Loading required package: iterators\n",
        "Loading required package: parallel\n",
        "Loading required package: grid\n",
        "Loading required package: permute\n",
        "Loading required package: lattice\n",
        "This is vegan 2.0-10\n",
        "\n",
        "Attaching package: \u2018reshape\u2019\n",
        "\n",
        "The following object is masked from \u2018package:dplyr\u2019:\n",
        "\n",
        "    rename\n",
        "\n",
        "The following objects are masked from \u2018package:plyr\u2019:\n",
        "\n",
        "    rename, round_any\n",
        "\n"
       ]
      }
     ],
     "prompt_number": 4
    },
    {
     "cell_type": "markdown",
     "metadata": {},
     "source": [
      "####Import data into R. Prune to relevant samples (PS, non-bulk). Get rid of OTUs not observed in at least 25% of samples)."
     ]
    },
    {
     "cell_type": "code",
     "collapsed": false,
     "input": [
      "%%R\n",
      "physeq = import_biom(\"../data/otu_table_wtax.biom\")\n",
      "#sample.data1 = import_qiime_sample_data(\"../data/sample_data_combined_qiime_format.tsv\")\n",
      "\n",
      "mapfilename = \"../data/sample_data_combined_qiime_format.tsv\"\n",
      "QiimeMap <- read.table(file = mapfilename, header = TRUE, \n",
      "                       sep = \"\\t\", comment.char = \"\", \n",
      "                       colClasses = c(\"Density\" = \"numeric\"))\n",
      "rownames(QiimeMap) <- as.character(QiimeMap[, 1])\n",
      "sample.data1 = sample_data(QiimeMap)\n",
      "\n",
      "physeq = merge_phyloseq(physeq,sample.data1)\n",
      "sample.data2 = sample_data(physeq)\n",
      "physeq = prune_samples(sample.data2$study == \"NSIP\", physeq)\n",
      "physeq.snorm = transform_sample_counts(physeq, function(x) x / sum(x))\n",
      "physeq.thresh = filter_taxa(physeq.snorm, function(x) sum(x > 0) > (0.10 * length(x)), TRUE)\n",
      "print(physeq)\n",
      "print(physeq.thresh)"
     ],
     "language": "python",
     "metadata": {},
     "outputs": [
      {
       "metadata": {},
       "output_type": "display_data",
       "text": [
        "phyloseq-class experiment-level object\n",
        "otu_table()   OTU Table:         [ 4340 taxa and 93 samples ]\n",
        "sample_data() Sample Data:       [ 93 samples by 46 sample variables ]\n",
        "tax_table()   Taxonomy Table:    [ 4340 taxa by 8 taxonomic ranks ]\n",
        "phyloseq-class experiment-level object\n",
        "otu_table()   OTU Table:         [ 1242 taxa and 93 samples ]\n",
        "sample_data() Sample Data:       [ 93 samples by 46 sample variables ]\n",
        "tax_table()   Taxonomy Table:    [ 1242 taxa by 8 taxonomic ranks ]\n"
       ]
      }
     ],
     "prompt_number": 5
    },
    {
     "cell_type": "code",
     "collapsed": false,
     "input": [
      "%%R\n",
      "days = c(2, 4)\n",
      "\n",
      "df.sites = data.frame()\n",
      "df.otus = data.frame()\n",
      "\n",
      "f = function(physeq.obj, day) {\n",
      "    md = sample_data(physeq.obj)\n",
      "    p = prune_samples(md$DayCollected == day, physeq.obj)\n",
      "    mds = ordinate(p, method = \"MDS\", distance = \"bray\")\n",
      "    df.sites = plot_ordination(p, mds, justDF = TRUE)\n",
      "    df.sites$pc1.pct = mds$values$Rel_corr_eig[1]\n",
      "    df.sites$pc2.pct = mds$values$Rel_corr_eig[2]\n",
      "    df.sites\n",
      "}\n",
      "\n",
      "df.sites = ldply(days, f, physeq.obj = physeq.thresh)\n",
      "df.sites$strip = paste(\"Day\",df.sites$DayCollected)"
     ],
     "language": "python",
     "metadata": {},
     "outputs": [],
     "prompt_number": 6
    },
    {
     "cell_type": "code",
     "collapsed": false,
     "input": [
      "%%R\n",
      "df.sites %.%\n",
      "    group_by(DayCollected) %.%\n",
      "    summarize(pc1 = first(pc1.pct), pc2 = first(pc2.pct))"
     ],
     "language": "python",
     "metadata": {},
     "outputs": [
      {
       "metadata": {},
       "output_type": "display_data",
       "text": [
        "Source: local data frame [2 x 3]\n",
        "\n",
        "  DayCollected       pc1       pc2\n",
        "1            2 0.3378219 0.1047179\n",
        "2            4 0.3956517 0.1291101\n"
       ]
      }
     ],
     "prompt_number": 7
    },
    {
     "cell_type": "code",
     "collapsed": false,
     "input": [
      "%%R -h 325 -w 750\n",
      "\n",
      "p = ggplot(df.sites, aes(x = Axis.1, \n",
      "                         y = Axis.2, \n",
      "                         color = Treatment, \n",
      "                         shape = Treatment, \n",
      "                         size = Density))\n",
      "\n",
      "p = p + facet_wrap(~strip)\n",
      "\n",
      "p = p + geom_point()\n",
      "\n",
      "p = p + scale_size_area(aesthetics = \"Density\")\n",
      "\n",
      "p = p + theme_bw()\n",
      "\n",
      "p = p + theme(strip.text.x = element_text(size = 14),\n",
      "              axis.text.x = element_text(size = 12),\n",
      "              axis.text.y = element_text(size = 12),\n",
      "              axis.title.x = element_text(size = 14), \n",
      "              axis.title.y = element_text(size = 14),\n",
      "              legend.title = element_text(size = 12),\n",
      "              legend.text = element_text(size = 12),\n",
      "              legend.position = \"left\",\n",
      "              strip.background = element_blank())\n",
      "\n",
      "p = p + guides(color = guide_legend(override.aes = list(size = 5)))\n",
      "\n",
      "p = p + labs(x = \"PC1 (34% Day 2, 40% Day 4)\", \n",
      "             y = \"PC2 (10% Day 2, 13% Day 4)\", \n",
      "             size = \"Density, g/mL\")\n",
      "\n",
      "p.ord = p\n",
      "\n",
      "p.ord"
     ],
     "language": "python",
     "metadata": {},
     "outputs": [
      {
       "metadata": {},
       "output_type": "display_data",
       "png": "[encoded data removed]"
      }
     ],
     "prompt_number": 8
    },
    {
     "cell_type": "code",
     "collapsed": false,
     "input": [
      "%%R\n",
      "ggsave(\"figs/ordination_all_day_facet.pdf\", p, h = 3.5, w = 7.5)"
     ],
     "language": "python",
     "metadata": {},
     "outputs": [],
     "prompt_number": 9
    },
    {
     "cell_type": "code",
     "collapsed": false,
     "input": [
      "FileLink(\"figs/ordination_all_day_facet.pdf\")"
     ],
     "language": "python",
     "metadata": {},
     "outputs": [
      {
       "html": [
        "<a href='figs/ordination_all_day_facet.pdf' target='_blank'>figs/ordination_all_day_facet.pdf</a><br>"
       ],
       "metadata": {},
       "output_type": "pyout",
       "prompt_number": 10,
       "text": [
        "/home/chuck/working/NSIP_data_analysis/figures_and_stats/figs/ordination_all_day_facet.pdf"
       ]
      }
     ],
     "prompt_number": 10
    },
    {
     "cell_type": "code",
     "collapsed": false,
     "input": [
      "%%R\n",
      "write.csv(df.sites, \"../data/tmp/readme.csv\", row.names = FALSE)"
     ],
     "language": "python",
     "metadata": {},
     "outputs": [],
     "prompt_number": 11
    },
    {
     "cell_type": "code",
     "collapsed": false,
     "input": [
      "%%R\n",
      "bray.dist = distance(physeq.thresh, \n",
      "                method = \"bray\")"
     ],
     "language": "python",
     "metadata": {},
     "outputs": [],
     "prompt_number": 13
    },
    {
     "cell_type": "code",
     "collapsed": false,
     "input": [
      "%%R\n",
      "#GP.chl = prune_samples(names(which(sample_sums(GP.chl) >= 20)), GP.chl)\n",
      "physeq.thresh.heavy = prune_samples(sample_data(physeq.thresh)$Density >= 1.725, physeq.thresh)"
     ],
     "language": "python",
     "metadata": {},
     "outputs": [],
     "prompt_number": 14
    },
    {
     "cell_type": "code",
     "collapsed": false,
     "input": [
      "%%R\n",
      "bray.dist.heavy = distance(physeq.thresh.heavy, method = \"bray\")"
     ],
     "language": "python",
     "metadata": {},
     "outputs": [],
     "prompt_number": 15
    },
    {
     "cell_type": "code",
     "collapsed": false,
     "input": [
      "%%R\n",
      "adonis(bray.dist.heavy ~ Treatment, data.frame(sample_data(physeq.thresh.heavy)))"
     ],
     "language": "python",
     "metadata": {},
     "outputs": [
      {
       "metadata": {},
       "output_type": "display_data",
       "text": [
        "\n",
        "Call:\n",
        "adonis(formula = bray.dist.heavy ~ Treatment, data = data.frame(sample_data(physeq.thresh.heavy))) \n",
        "\n",
        "Terms added sequentially (first to last)\n",
        "\n",
        "          Df SumsOfSqs MeanSqs F.Model      R2 Pr(>F)    \n",
        "Treatment  1    0.5792 0.57918  5.4352 0.13783  0.001 ***\n",
        "Residuals 34    3.6231 0.10656         0.86217           \n",
        "Total     35    4.2023                 1.00000           \n",
        "---\n",
        "Signif. codes:  0 \u2018***\u2019 0.001 \u2018**\u2019 0.01 \u2018*\u2019 0.05 \u2018.\u2019 0.1 \u2018 \u2019 1\n"
       ]
      }
     ],
     "prompt_number": 16
    },
    {
     "cell_type": "code",
     "collapsed": false,
     "input": [
      "%%R\n",
      "adonis(bray.dist ~ Density, data.frame(sample_data(physeq.thresh)))"
     ],
     "language": "python",
     "metadata": {},
     "outputs": [
      {
       "metadata": {},
       "output_type": "display_data",
       "text": [
        "\n",
        "Call:\n",
        "adonis(formula = bray.dist ~ Density, data = data.frame(sample_data(physeq.thresh))) \n",
        "\n",
        "Terms added sequentially (first to last)\n",
        "\n",
        "          Df SumsOfSqs MeanSqs F.Model      R2 Pr(>F)    \n",
        "Density    1    1.6775 1.67751  11.406 0.11138  0.001 ***\n",
        "Residuals 91   13.3830 0.14707         0.88862           \n",
        "Total     92   15.0605                 1.00000           \n",
        "---\n",
        "Signif. codes:  0 \u2018***\u2019 0.001 \u2018**\u2019 0.01 \u2018*\u2019 0.05 \u2018.\u2019 0.1 \u2018 \u2019 1\n"
       ]
      }
     ],
     "prompt_number": 17
    },
    {
     "cell_type": "code",
     "collapsed": false,
     "input": [
      "%%R\n",
      "sessionInfo()"
     ],
     "language": "python",
     "metadata": {},
     "outputs": [
      {
       "metadata": {},
       "output_type": "display_data",
       "text": [
        "R version 3.1.2 (2014-10-31)\n",
        "Platform: x86_64-pc-linux-gnu (64-bit)\n",
        "\n",
        "locale:\n",
        " [1] LC_CTYPE=en_US.UTF-8       LC_NUMERIC=C              \n",
        " [3] LC_TIME=en_US.UTF-8        LC_COLLATE=en_US.UTF-8    \n",
        " [5] LC_MONETARY=en_US.UTF-8    LC_MESSAGES=en_US.UTF-8   \n",
        " [7] LC_PAPER=en_US.UTF-8       LC_NAME=C                 \n",
        " [9] LC_ADDRESS=C               LC_TELEPHONE=C            \n",
        "[11] LC_MEASUREMENT=en_US.UTF-8 LC_IDENTIFICATION=C       \n",
        "\n",
        "attached base packages:\n",
        " [1] grid      parallel  tools     stats     graphics  grDevices utils    \n",
        " [8] datasets  methods   base     \n",
        "\n",
        "other attached packages:\n",
        " [1] reshape_0.8.5      vegan_2.0-10       lattice_0.20-29    permute_0.8-3     \n",
        " [5] RColorBrewer_1.0-5 gridExtra_0.9.1    doParallel_1.0.8   iterators_1.0.7   \n",
        " [9] foreach_1.4.2      dplyr_0.3.0.2      plyr_1.8.1         ggplot2_1.0.0     \n",
        "[13] phyloseq_1.10.0   \n",
        "\n",
        "loaded via a namespace (and not attached):\n",
        " [1] acepack_1.3-3.3         ade4_1.6-2              annotate_1.44.0        \n",
        " [4] AnnotationDbi_1.28.1    ape_3.1-4               assertthat_0.1         \n",
        " [7] base64enc_0.1-2         BatchJobs_1.5           BBmisc_1.8             \n",
        "[10] Biobase_2.26.0          BiocGenerics_0.12.0     BiocParallel_1.0.0     \n",
        "[13] biom_0.3.12             Biostrings_2.34.0       brew_1.0-6             \n",
        "[16] checkmate_1.5.0         chron_2.3-45            cluster_1.15.3         \n",
        "[19] codetools_0.2-9         colorspace_1.2-4        data.table_1.9.4       \n",
        "[22] DBI_0.3.1               DESeq2_1.6.1            digest_0.6.4           \n",
        "[25] fail_1.2                foreign_0.8-61          Formula_1.1-2          \n",
        "[28] genefilter_1.48.1       geneplotter_1.44.0      GenomeInfoDb_1.2.2     \n",
        "[31] GenomicRanges_1.18.1    gtable_0.1.2            Hmisc_3.14-5           \n",
        "[34] igraph_0.7.1            IRanges_2.0.0           labeling_0.3           \n",
        "[37] latticeExtra_0.6-26     lazyeval_0.1.9          locfit_1.5-9.1         \n",
        "[40] magrittr_1.0.1          MASS_7.3-35             Matrix_1.1-4           \n",
        "[43] multtest_2.22.0         munsell_0.4.2           nlme_3.1-118           \n",
        "[46] nnet_7.3-8              proto_0.3-10            Rcpp_0.11.3            \n",
        "[49] RcppArmadillo_0.4.500.0 reshape2_1.4            RJSONIO_1.3-0          \n",
        "[52] rpart_4.1-8             RSQLite_1.0.0           S4Vectors_0.4.0        \n",
        "[55] scales_0.2.4            sendmailR_1.2-1         splines_3.1.2          \n",
        "[58] stats4_3.1.2            stringr_0.6.2           survival_2.37-7        \n",
        "[61] XML_3.98-1.1            xtable_1.7-4            XVector_0.6.0          \n",
        "[64] zlibbioc_1.12.0        \n"
       ]
      }
     ],
     "prompt_number": 18
    }
   ],
   "metadata": {}
  }
 ]
}
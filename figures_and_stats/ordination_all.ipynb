{
 "metadata": {
  "name": "",
  "signature": "sha256:17abe99cb1109dd28729d0029d112d427f81e708446ce2844519d41630121374"
 },
 "nbformat": 3,
 "nbformat_minor": 0,
 "worksheets": [
  {
   "cells": [
    {
     "cell_type": "markdown",
     "metadata": {},
     "source": [
      "####Import various python functions and modules that we'll use."
     ]
    },
    {
     "cell_type": "code",
     "collapsed": false,
     "input": [
      "from IPython.display import FileLink"
     ],
     "language": "python",
     "metadata": {},
     "outputs": [],
     "prompt_number": 2
    },
    {
     "cell_type": "markdown",
     "metadata": {},
     "source": [
      "####Load Rmagic extension."
     ]
    },
    {
     "cell_type": "code",
     "collapsed": false,
     "input": [
      "%load_ext rpy2.ipython"
     ],
     "language": "python",
     "metadata": {},
     "outputs": [
      {
       "output_type": "stream",
       "stream": "stderr",
       "text": [
        "/opt/anaconda/lib/python2.7/site-packages/pytz/__init__.py:29: UserWarning: Module argparse was already imported from /opt/anaconda/lib/python2.7/argparse.pyc, but /opt/anaconda/lib/python2.7/site-packages is being added to sys.path\n",
        "  from pkg_resources import resource_stream\n"
       ]
      }
     ],
     "prompt_number": 3
    },
    {
     "cell_type": "markdown",
     "metadata": {},
     "source": [
      "####Import R libraries we'll use."
     ]
    },
    {
     "cell_type": "code",
     "collapsed": false,
     "input": [
      "%%R\n",
      "library(phyloseq)\n",
      "library(ggplot2)\n",
      "library(plyr); library(dplyr)\n",
      "library(foreach)\n",
      "library(doParallel)\n",
      "library(gridExtra)\n",
      "library(RColorBrewer)\n",
      "library(vegan)\n",
      "library(reshape)"
     ],
     "language": "python",
     "metadata": {},
     "outputs": [],
     "prompt_number": 58
    },
    {
     "cell_type": "markdown",
     "metadata": {},
     "source": [
      "####Import data into R. Prune to relevant samples (PS, non-bulk). Get rid of OTUs not observed in at least 25% of samples)."
     ]
    },
    {
     "cell_type": "code",
     "collapsed": false,
     "input": [
      "%%R\n",
      "physeq = import_biom(\"../data/otu_table_wtax.biom\")\n",
      "#sample.data1 = import_qiime_sample_data(\"../data/sample_data_combined_qiime_format.tsv\")\n",
      "\n",
      "mapfilename = \"../data/sample_data_combined_qiime_format.tsv\"\n",
      "QiimeMap <- read.table(file = mapfilename, header = TRUE, \n",
      "                       sep = \"\\t\", comment.char = \"\", \n",
      "                       colClasses = c(\"Density\" = \"numeric\"))\n",
      "rownames(QiimeMap) <- as.character(QiimeMap[, 1])\n",
      "sample.data1 = sample_data(QiimeMap)\n",
      "\n",
      "physeq = merge_phyloseq(physeq,sample.data1)\n",
      "sample.data2 = sample_data(physeq)\n",
      "physeq = prune_samples(sample.data2$study == \"NSIP\", physeq)\n",
      "physeq.snorm = transform_sample_counts(physeq, function(x) x / sum(x))\n",
      "physeq.thresh = filter_taxa(physeq.snorm, function(x) sum(x > 0) > (0.10 * length(x)), TRUE)\n",
      "print(physeq)\n",
      "print(physeq.thresh)"
     ],
     "language": "python",
     "metadata": {},
     "outputs": [
      {
       "metadata": {},
       "output_type": "display_data",
       "text": [
        "phyloseq-class experiment-level object\n",
        "otu_table()   OTU Table:         [ 4340 taxa and 93 samples ]\n",
        "sample_data() Sample Data:       [ 93 samples by 46 sample variables ]\n",
        "tax_table()   Taxonomy Table:    [ 4340 taxa by 8 taxonomic ranks ]\n",
        "phyloseq-class experiment-level object\n",
        "otu_table()   OTU Table:         [ 1242 taxa and 93 samples ]\n",
        "sample_data() Sample Data:       [ 93 samples by 46 sample variables ]\n",
        "tax_table()   Taxonomy Table:    [ 1242 taxa by 8 taxonomic ranks ]\n"
       ]
      }
     ],
     "prompt_number": 5
    },
    {
     "cell_type": "code",
     "collapsed": false,
     "input": [
      "%%R\n",
      "days = c(2, 4)\n",
      "\n",
      "df.sites = data.frame()\n",
      "df.otus = data.frame()\n",
      "\n",
      "f = function(physeq.obj, day) {\n",
      "    md = sample_data(physeq.obj)\n",
      "    p = prune_samples(md$DayCollected == day, physeq.obj)\n",
      "    mds = ordinate(p, method = \"MDS\", distance = \"bray\")\n",
      "    df.sites = plot_ordination(p, mds, justDF = TRUE)\n",
      "    df.sites$pc1.pct = mds$values$Rel_corr_eig[1]\n",
      "    df.sites$pc2.pct = mds$values$Rel_corr_eig[2]\n",
      "    df.sites\n",
      "}\n",
      "\n",
      "df.sites = ldply(days, f, physeq.obj = physeq.thresh)\n",
      "df.sites$strip = paste(\"Day\",df.sites$DayCollected)"
     ],
     "language": "python",
     "metadata": {},
     "outputs": [],
     "prompt_number": 55
    },
    {
     "cell_type": "code",
     "collapsed": false,
     "input": [
      "%%R\n",
      "df.sites %.%\n",
      "    group_by(DayCollected) %.%\n",
      "    summarize(pc1 = first(pc1.pct), pc2 = first(pc2.pct))"
     ],
     "language": "python",
     "metadata": {},
     "outputs": [
      {
       "metadata": {},
       "output_type": "display_data",
       "text": [
        "Source: local data frame [2 x 3]\n",
        "\n",
        "  DayCollected       pc1       pc2\n",
        "1            2 0.3378219 0.1047179\n",
        "2            4 0.3956517 0.1291101\n"
       ]
      }
     ],
     "prompt_number": 60
    },
    {
     "cell_type": "code",
     "collapsed": false,
     "input": [
      "%%R -h 325 -w 750\n",
      "\n",
      "p = ggplot(df.sites, aes(x = Axis.1, \n",
      "                         y = Axis.2, \n",
      "                         color = Treatment, \n",
      "                         shape = Treatment, \n",
      "                         size = Density))\n",
      "\n",
      "p = p + facet_wrap(~strip)\n",
      "\n",
      "p = p + geom_point()\n",
      "\n",
      "p = p + scale_size_area(aesthetics = \"Density\")\n",
      "\n",
      "p = p + theme_bw()\n",
      "\n",
      "p = p + theme(strip.text.x = element_text(size = 14),\n",
      "              axis.text.x = element_text(size = 12),\n",
      "              axis.text.y = element_text(size = 12),\n",
      "              axis.title.x = element_text(size = 14), \n",
      "              axis.title.y = element_text(size = 14),\n",
      "              legend.title = element_text(size = 12),\n",
      "              legend.text = element_text(size = 12),\n",
      "              legend.position = \"left\",\n",
      "              strip.background = element_blank())\n",
      "\n",
      "p = p + guides(color = guide_legend(override.aes = list(size = 5)))\n",
      "\n",
      "p = p + labs(x = \"PC1 (34% Day 2, 40% Day 4)\", \n",
      "             y = \"PC2 (10% Day 2, 13% Day 4)\", \n",
      "             size = \"Density, g/mL\")\n",
      "\n",
      "p.ord = p\n",
      "\n",
      "p.ord"
     ],
     "language": "python",
     "metadata": {},
     "outputs": [
      {
       "metadata": {},
       "output_type": "display_data",
       "png": "[encoded data removed]"
      }
     ],
     "prompt_number": 62
    },
    {
     "cell_type": "code",
     "collapsed": false,
     "input": [
      "%%R\n",
      "ggsave(\"figs/ordination_all_day_facet.pdf\", p, h = 3.5, w = 7.5)"
     ],
     "language": "python",
     "metadata": {},
     "outputs": [],
     "prompt_number": 63
    },
    {
     "cell_type": "code",
     "collapsed": false,
     "input": [
      "FileLink(\"figs/ordination_all_day_facet.pdf\")"
     ],
     "language": "python",
     "metadata": {},
     "outputs": [
      {
       "html": [
        "<a href='figs/ordination_all_day_facet.pdf' target='_blank'>figs/ordination_all_day_facet.pdf</a><br>"
       ],
       "metadata": {},
       "output_type": "pyout",
       "prompt_number": 64,
       "text": [
        "/home/chuck/working/soil_crust_N_DNASIP/N-SIP-manuscript-figures/figs/ordination_all_day_facet.pdf"
       ]
      }
     ],
     "prompt_number": 64
    },
    {
     "cell_type": "markdown",
     "metadata": {},
     "source": [
      "##PC2 versus density."
     ]
    },
    {
     "cell_type": "code",
     "collapsed": false,
     "input": [
      "%%R -h 325 -w 750\n",
      "\n",
      "days = c(2, 4)\n",
      "\n",
      "df.sites = data.frame()\n",
      "df.otus = data.frame()\n",
      "\n",
      "f = function(physeq.obj, day) {\n",
      "    md = sample_data(physeq.obj)\n",
      "    p = prune_samples(md$DayCollected == day, physeq.obj)\n",
      "    mds = ordinate(p, method = \"MDS\", distance = bray.dist)\n",
      "    df.sites = plot_ordination(p, mds, justDF = TRUE)\n",
      "}\n",
      "\n",
      "df.sites = ldply(days, f, physeq.obj = physeq.thresh)\n",
      "df.sites$strip = paste(\"Day\",df.sites$DayCollected)\n",
      "\n",
      "p = ggplot(df.sites, aes(x = Density, \n",
      "                         y = Axis.2, \n",
      "                         color = Treatment, \n",
      "                         shape = Treatment))\n",
      "\n",
      "p = p + facet_wrap(~strip)\n",
      "\n",
      "p = p + geom_point(size = 4)\n",
      "\n",
      "p = p + scale_size_area(aesthetics = \"Density\")\n",
      "\n",
      "p = p + theme_bw()\n",
      "\n",
      "p = p + theme(strip.text.x = element_text(size = 14),\n",
      "              axis.title.x = element_text(size = 14), \n",
      "              axis.title.y = element_text(size = 14),\n",
      "              axis.text.x = element_text(size = 12),\n",
      "              axis.text.y = element_text(size = 12),\n",
      "              legend.title = element_text(size = 12),\n",
      "              legend.text = element_text(size = 12), \n",
      "              legend.position = \"left\")\n",
      "\n",
      "p = p + guides(color = guide_legend(override.aes = list(size = 5)))\n",
      "\n",
      "p = p + labs(x = \"PC1\", y = \"PC2\", size = \"Density, g/mL\")\n",
      "\n",
      "p"
     ],
     "language": "python",
     "metadata": {},
     "outputs": [
      {
       "metadata": {},
       "output_type": "display_data",
       "png": "[encoded data removed]"
      }
     ],
     "prompt_number": 65
    },
    {
     "cell_type": "markdown",
     "metadata": {},
     "source": [
      "##We can also plot weighted unifrac distance between paired (control versus labeled) gradient fraction libraries against the density of the gradient fraction pair."
     ]
    },
    {
     "cell_type": "code",
     "collapsed": false,
     "input": [
      "%%R\n",
      "bray.dist = distance(physeq.thresh, \n",
      "                method = \"bray\")"
     ],
     "language": "python",
     "metadata": {},
     "outputs": [],
     "prompt_number": 28
    },
    {
     "cell_type": "code",
     "collapsed": false,
     "input": [
      "%%R\n",
      "m = as.matrix(bray.dist)\n",
      "df.dist = melt(m)[melt(upper.tri(m))$value,]\n",
      "\n",
      "names(df.dist) = c(\"X.SampleID\", \"id2\", \"distance\")\n",
      "\n",
      "head(df.dist)"
     ],
     "language": "python",
     "metadata": {},
     "outputs": [
      {
       "metadata": {},
       "output_type": "display_data",
       "text": [
        "    X.SampleID   id2  distance\n",
        "94       G4F20 G3F12 0.4227202\n",
        "187      G4F20  G3F8 0.5624854\n",
        "188      G3F12  G3F8 0.3277052\n",
        "280      G4F20 G3F14 0.4166807\n",
        "281      G3F12 G3F14 0.2788479\n",
        "282       G3F8 G3F14 0.4019326\n"
       ]
      }
     ],
     "prompt_number": 29
    },
    {
     "cell_type": "code",
     "collapsed": false,
     "input": [
      "%%R\n",
      "\n",
      "md = sample_data(physeq)\n",
      "\n",
      "m = outer(md$Density, md$Density, \"-\")\n",
      "rownames(m) = md$X.SampleID\n",
      "colnames(m) = md$X.SampleID\n",
      "df.delta.density = melt(m)[melt(upper.tri(m))$value,]\n",
      "head(df.delta.density)\n",
      "\n",
      "md.df = data.frame(md)\n",
      "\n",
      "f = function(day) {\n",
      "    d = subset(md.df, DayCollected == day)\n",
      "    label.ids = subset(d, Treatment == \"label\")$X.SampleID\n",
      "    control.ids = subset(d, Treatment == \"control\")$X.SampleID\n",
      "    df.tmp = subset(df.delta.density, (X1 %in% label.ids)&(X2 %in% control.ids))\n",
      "    ddply(df.tmp, .(X1), subset, rank(abs(value)) == 1)\n",
      "}\n",
      "\n",
      "df.delta.density = ldply(c(2, 4), f)\n",
      "\n",
      "names(df.delta.density) = c(\"X.SampleID\", \"id2\", \"delta.density\")\n",
      "\n",
      "head(df.delta.density)"
     ],
     "language": "python",
     "metadata": {},
     "outputs": [
      {
       "metadata": {},
       "output_type": "display_data",
       "text": [
        "  X.SampleID   id2 delta.density\n",
        "1      G2F10 G1F11     0.0087416\n",
        "2      G2F11 G1F11     0.0043708\n",
        "3      G2F12 G1F11     0.0010927\n",
        "4      G2F14 G1F12    -0.0010927\n",
        "5      G2F15 G1F11    -0.0109270\n",
        "6      G2F16 G1F15     0.0054635\n"
       ]
      }
     ],
     "prompt_number": 30
    },
    {
     "cell_type": "code",
     "collapsed": false,
     "input": [
      "%%R\n",
      "d = join(df.delta.density, df.dist, by = c(\"X.SampleID\",\"id2\"))\n",
      "d = join(d, data.frame(md)[, c(\"X.SampleID\",\"Density\", \"DayCollected\")], by = \"X.SampleID\")\n",
      "head(d)"
     ],
     "language": "python",
     "metadata": {},
     "outputs": [
      {
       "metadata": {},
       "output_type": "display_data",
       "text": [
        "  X.SampleID   id2 delta.density  distance  Density DayCollected\n",
        "1      G2F10 G1F11     0.0087416 0.6001138 1.750693            2\n",
        "2      G2F11 G1F11     0.0043708 0.6087410 1.746323            2\n",
        "3      G2F12 G1F11     0.0010927 0.5430024 1.743044            2\n",
        "4      G2F14 G1F12    -0.0010927 0.4648919 1.735396            2\n",
        "5      G2F15 G1F11    -0.0109270 0.4801033 1.731025            2\n",
        "6      G2F16 G1F15     0.0054635 0.4346755 1.725561            2\n"
       ]
      }
     ],
     "prompt_number": 31
    },
    {
     "cell_type": "code",
     "collapsed": false,
     "input": [
      "%%R -h 300 -w 400\n",
      "p = ggplot(subset(d, abs(delta.density) <= 0.003), \n",
      "           aes(x = Density, y = distance))\n",
      "\n",
      "#p = p + facet_wrap(~DayCollected, scale = \"free_x\")\n",
      "\n",
      "p = p + geom_smooth(method=lm)\n",
      "\n",
      "p = p + geom_point(size = 3)\n",
      "\n",
      "p = p + labs(y = \"Bray-Curtis Distance\", x = \"Density, g/mL\")\n",
      "\n",
      "p = p + theme_bw()\n",
      "\n",
      "p = p + theme(axis.text.x = element_text(size = 12), \n",
      "              axis.text.y = element_text(size = 12))\n",
      "\n",
      "p.dist = p\n",
      "\n",
      "p.dist"
     ],
     "language": "python",
     "metadata": {},
     "outputs": [
      {
       "metadata": {},
       "output_type": "display_data",
       "png": "[encoded data removed]"
      }
     ],
     "prompt_number": 32
    },
    {
     "cell_type": "code",
     "collapsed": false,
     "input": [
      "%%R -w 1000\n",
      "theme_fullframe <- function (base_size = 12){\n",
      "  #structure(list(\n",
      "  theme(\n",
      "#    axis.line = element_blank(), \n",
      "#    axis.text.x = element_blank(), \n",
      "#    axis.text.y = element_blank(),\n",
      "#    axis.ticks = element_blank(), \n",
      "    axis.title.x = element_text(size = 10), \n",
      "    axis.title.y = element_text(size = 10), \n",
      "    axis.ticks.length = unit(0.1, \"lines\"), \n",
      "    axis.ticks.margin = unit(0.1, \"lines\"), \n",
      "    legend.position = \"none\", \n",
      "    panel.background = element_rect(fill = \"white\", colour = NA),\n",
      "    #panel.background = element_blank(),\n",
      "    panel.border = element_rect(colour = \"black\", fill = NA),\n",
      "#    panel.grid.major = element_blank(), \n",
      "#    panel.grid.minor = element_blank(), \n",
      "    panel.margin = unit(0, \"lines\"), \n",
      "    plot.background = element_blank(), \n",
      "    plot.margin = unit(0*c(-1.5, -1.5, -1.5, -1.5), \"lines\")\n",
      "  )#, class = \"options\")\n",
      "}\n",
      "\n",
      "\n",
      "#p3 = p.dist + labs(x=NULL, y=NULL) + theme_fullframe()\n",
      "p3 = p.dist + theme_fullframe()\n",
      "\n",
      "vp1 = viewport(width = .80, height = .75, x = 0.4225, y = 0.4375)\n",
      "vp2 = viewport(width= 0.20, height = 0.38, x = 0.82, y = 0.72)\n",
      "\n",
      "print(p.ord, vp = vp1)\n",
      "print(p3, vp = vp2)"
     ],
     "language": "python",
     "metadata": {},
     "outputs": [
      {
       "metadata": {},
       "output_type": "display_data",
       "png": "[encoded data removed]"
      }
     ],
     "prompt_number": 66
    },
    {
     "cell_type": "code",
     "collapsed": false,
     "input": [
      "%%R -w 1000\n",
      "pdf(\"figs/ordination_day_facet_w_inset.pdf\", width = 11, height = 4.75)\n",
      "print(p.ord, vp = vp1)\n",
      "print(p3, vp = vp2)\n",
      "dev.off()"
     ],
     "language": "python",
     "metadata": {},
     "outputs": [
      {
       "metadata": {},
       "output_type": "display_data",
       "text": [
        "png \n",
        "  2 \n"
       ]
      }
     ],
     "prompt_number": 67
    },
    {
     "cell_type": "code",
     "collapsed": false,
     "input": [
      "FileLink(\"figs/ordination_day_facet_w_inset.pdf\")"
     ],
     "language": "python",
     "metadata": {},
     "outputs": [
      {
       "html": [
        "<a href='figs/ordination_day_facet_w_inset.pdf' target='_blank'>figs/ordination_day_facet_w_inset.pdf</a><br>"
       ],
       "metadata": {},
       "output_type": "pyout",
       "prompt_number": 68,
       "text": [
        "/home/chuck/working/soil_crust_N_DNASIP/N-SIP-manuscript-figures/figs/ordination_day_facet_w_inset.pdf"
       ]
      }
     ],
     "prompt_number": 68
    },
    {
     "cell_type": "code",
     "collapsed": false,
     "input": [
      "%%R\n",
      "m = lm(distance ~ Density, subset(d, delta.density < 0.003))\n",
      "summary(m)"
     ],
     "language": "python",
     "metadata": {},
     "outputs": [
      {
       "metadata": {},
       "output_type": "display_data",
       "text": [
        "\n",
        "Call:\n",
        "lm(formula = distance ~ Density, data = subset(d, delta.density < \n",
        "    0.003))\n",
        "\n",
        "Residuals:\n",
        "      Min        1Q    Median        3Q       Max \n",
        "-0.103762 -0.023460 -0.007928  0.040010  0.190768 \n",
        "\n",
        "Coefficients:\n",
        "            Estimate Std. Error t value Pr(>|t|)    \n",
        "(Intercept)  -2.9553     0.7009  -4.216 0.000235 ***\n",
        "Density       1.9812     0.4110   4.821 4.53e-05 ***\n",
        "---\n",
        "Signif. codes:  0 \u2018***\u2019 0.001 \u2018**\u2019 0.01 \u2018*\u2019 0.05 \u2018.\u2019 0.1 \u2018 \u2019 1\n",
        "\n",
        "Residual standard error: 0.0623 on 28 degrees of freedom\n",
        "Multiple R-squared:  0.4536,\tAdjusted R-squared:  0.434 \n",
        "F-statistic: 23.24 on 1 and 28 DF,  p-value: 4.526e-05\n",
        "\n"
       ]
      }
     ],
     "prompt_number": 36
    },
    {
     "cell_type": "code",
     "collapsed": false,
     "input": [
      "%%R\n",
      "#GP.chl = prune_samples(names(which(sample_sums(GP.chl) >= 20)), GP.chl)\n",
      "physeq.thresh.heavy = prune_samples(sample_data(physeq.thresh)$Density >= 1.725, physeq.thresh)"
     ],
     "language": "python",
     "metadata": {},
     "outputs": [],
     "prompt_number": 37
    },
    {
     "cell_type": "code",
     "collapsed": false,
     "input": [
      "%%R\n",
      "bray.dist.heavy = distance(physeq.thresh.heavy, method = \"bray\")"
     ],
     "language": "python",
     "metadata": {},
     "outputs": [],
     "prompt_number": 38
    },
    {
     "cell_type": "code",
     "collapsed": false,
     "input": [
      "%%R\n",
      "adonis(bray.dist.heavy ~ Treatment, data.frame(sample_data(physeq.thresh.heavy)))"
     ],
     "language": "python",
     "metadata": {},
     "outputs": [
      {
       "metadata": {},
       "output_type": "display_data",
       "text": [
        "\n",
        "Call:\n",
        "adonis(formula = bray.dist.heavy ~ Treatment, data = data.frame(sample_data(physeq.thresh.heavy))) \n",
        "\n",
        "Terms added sequentially (first to last)\n",
        "\n",
        "          Df SumsOfSqs MeanSqs F.Model      R2 Pr(>F)    \n",
        "Treatment  1    0.5792 0.57918  5.4352 0.13783  0.001 ***\n",
        "Residuals 34    3.6231 0.10656         0.86217           \n",
        "Total     35    4.2023                 1.00000           \n",
        "---\n",
        "Signif. codes:  0 \u2018***\u2019 0.001 \u2018**\u2019 0.01 \u2018*\u2019 0.05 \u2018.\u2019 0.1 \u2018 \u2019 1\n"
       ]
      }
     ],
     "prompt_number": 39
    },
    {
     "cell_type": "code",
     "collapsed": false,
     "input": [
      "%%R\n",
      "adonis(bray.dist ~ Density, data.frame(sample_data(physeq.thresh)))"
     ],
     "language": "python",
     "metadata": {},
     "outputs": [
      {
       "metadata": {},
       "output_type": "display_data",
       "text": [
        "\n",
        "Call:\n",
        "adonis(formula = bray.dist ~ Density, data = data.frame(sample_data(physeq.thresh))) \n",
        "\n",
        "Terms added sequentially (first to last)\n",
        "\n",
        "          Df SumsOfSqs MeanSqs F.Model      R2 Pr(>F)    \n",
        "Density    1    1.6775 1.67751  11.406 0.11138  0.001 ***\n",
        "Residuals 91   13.3830 0.14707         0.88862           \n",
        "Total     92   15.0605                 1.00000           \n",
        "---\n",
        "Signif. codes:  0 \u2018***\u2019 0.001 \u2018**\u2019 0.01 \u2018*\u2019 0.05 \u2018.\u2019 0.1 \u2018 \u2019 1\n"
       ]
      }
     ],
     "prompt_number": 40
    }
   ],
   "metadata": {}
  }
 ]
}
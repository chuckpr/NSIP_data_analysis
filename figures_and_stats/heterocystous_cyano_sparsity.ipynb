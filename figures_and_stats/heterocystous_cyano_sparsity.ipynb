{
 "metadata": {
  "name": "",
  "signature": "sha256:3428df1e7e6ba727f106a1f9424837652aea2409b9fcdfe10d5bad4ddba43636"
 },
 "nbformat": 3,
 "nbformat_minor": 0,
 "worksheets": [
  {
   "cells": [
    {
     "cell_type": "code",
     "collapsed": false,
     "input": [
      "from IPython.display import FileLink"
     ],
     "language": "python",
     "metadata": {},
     "outputs": [],
     "prompt_number": 46
    },
    {
     "cell_type": "code",
     "collapsed": false,
     "input": [
      "%load_ext rpy2.ipython"
     ],
     "language": "python",
     "metadata": {},
     "outputs": [
      {
       "output_type": "stream",
       "stream": "stderr",
       "text": [
        "/opt/anaconda/lib/python2.7/site-packages/pytz/__init__.py:29: UserWarning: Module argparse was already imported from /opt/anaconda/lib/python2.7/argparse.pyc, but /opt/anaconda/lib/python2.7/site-packages is being added to sys.path\n",
        "  from pkg_resources import resource_stream\n"
       ]
      }
     ],
     "prompt_number": 1
    },
    {
     "cell_type": "code",
     "collapsed": false,
     "input": [
      "%%R\n",
      "library(ggplot2)\n",
      "library(plyr); library(dplyr)\n",
      "library(phyloseq)"
     ],
     "language": "python",
     "metadata": {},
     "outputs": [],
     "prompt_number": 4
    },
    {
     "cell_type": "code",
     "collapsed": false,
     "input": [
      "%%R\n",
      "het_df = data.frame(OTU = c(\"DQ531701.1\", \n",
      "                            \"DQ531697.1\", \n",
      "                            \"DQ531696.1\", \n",
      "                            \"DQ531703.1\", \n",
      "                            \"DQ531699.1\", \n",
      "                            \"DQ531700.1\"),\n",
      "                    isolate = c(\"Scytonema hyalinum DC-A\", \n",
      "                                \"Scytonema hyalinum FGP-7A\",\n",
      "                                \"Spirirestis rafaelensis LQ-10\", \n",
      "                                \"Nostoc commune MCT-1\", \n",
      "                                \"Nostoc commune MFG-1\", \n",
      "                                \"Calothrix MCC-3A\"), \n",
      "                    Genus = c(\"Scytonema\", \n",
      "                              \"Scytonema\", \n",
      "                              \"Spirirestis\",\n",
      "                              \"Nostoc\",\n",
      "                              \"Nostoc\", \n",
      "                              \"Calothrix\"))\n",
      "het_df"
     ],
     "language": "python",
     "metadata": {},
     "outputs": [
      {
       "metadata": {},
       "output_type": "display_data",
       "text": [
        "         OTU                       isolate       Genus\n",
        "1 DQ531701.1       Scytonema hyalinum DC-A   Scytonema\n",
        "2 DQ531697.1     Scytonema hyalinum FGP-7A   Scytonema\n",
        "3 DQ531696.1 Spirirestis rafaelensis LQ-10 Spirirestis\n",
        "4 DQ531703.1          Nostoc commune MCT-1      Nostoc\n",
        "5 DQ531699.1          Nostoc commune MFG-1      Nostoc\n",
        "6 DQ531700.1              Calothrix MCC-3A   Calothrix\n"
       ]
      }
     ],
     "prompt_number": 34
    },
    {
     "cell_type": "code",
     "collapsed": false,
     "input": [
      "%%R\n",
      "physeq = import_biom(\"../data/otu_table_wtax.biom\", \"../data/otusn.tree\")\n",
      "\n",
      "mapfilename = \"../data/sample_data_combined_qiime_format.tsv\"\n",
      "QiimeMap = read.table(file = mapfilename, header = TRUE, \n",
      "                       sep = \"\\t\", comment.char = \"\", \n",
      "                       colClasses = c(\"Density\" = \"numeric\"))\n",
      "rownames(QiimeMap) = as.character(QiimeMap[, 1])\n",
      "sample.data1 = sample_data(QiimeMap)\n",
      "\n",
      "physeq = merge_phyloseq(physeq,sample.data1)\n",
      "physeq = prune_samples(sample_data(physeq)$study == \"NSIP\", \n",
      "                       physeq)\n",
      "\n",
      "physeq.snorm = transform_sample_counts(physeq, function(x) x / sum(x))"
     ],
     "language": "python",
     "metadata": {},
     "outputs": [],
     "prompt_number": 6
    },
    {
     "cell_type": "code",
     "collapsed": false,
     "input": [
      "%%R\n",
      "mdf = tbl_df(psmelt(physeq.snorm))"
     ],
     "language": "python",
     "metadata": {},
     "outputs": [],
     "prompt_number": 7
    },
    {
     "cell_type": "code",
     "collapsed": false,
     "input": [
      "%%R -h 350\n",
      "d = mdf %.% \n",
      "    filter(Density > 1.725, OTU %in% het_df$OTU) %.%\n",
      "    group_by(OTU, DayCollected) %.%\n",
      "    summarize(frac_gt_zero = sum(Abundance > 0) / length(Abundance))\n",
      "\n",
      "d = left_join(d, het_df)\n",
      "\n",
      "p = ggplot(d, aes(y = frac_gt_zero, shape = factor(DayCollected), x = isolate))\n",
      "\n",
      "p = p + geom_point(size = 4)\n",
      "\n",
      "p = p + theme_bw()\n",
      "\n",
      "p = p + theme(axis.text.x = element_text(size = 12, angle = 45, hjust = 1), \n",
      "              axis.title.y = element_text(size = 14), \n",
      "              axis.title.x = element_blank())\n",
      "\n",
      "p = p + geom_hline(y = 0.625)\n",
      "\n",
      "p = p + labs(shape = \"Incubation\\nDay\", y = \"Fraction of counts\\ngreater than zero\")\n",
      "\n",
      "p"
     ],
     "language": "python",
     "metadata": {},
     "outputs": [
      {
       "metadata": {},
       "output_type": "display_data",
       "text": [
        "Joining by: \"OTU\"\n"
       ]
      },
      {
       "metadata": {},
       "output_type": "display_data",
       "png": "[encoded data removed]"
      }
     ],
     "prompt_number": 49
    },
    {
     "cell_type": "code",
     "collapsed": false,
     "input": [
      "%%R\n",
      "ggsave(\"figs/het_sparsity.pdf\", p, h = 5, w = 6.5)"
     ],
     "language": "python",
     "metadata": {},
     "outputs": [],
     "prompt_number": 50
    },
    {
     "cell_type": "code",
     "collapsed": false,
     "input": [
      "FileLink(\"figs/het_sparsity.pdf\")"
     ],
     "language": "python",
     "metadata": {},
     "outputs": [
      {
       "html": [
        "<a href='figs/het_sparsity.pdf' target='_blank'>figs/het_sparsity.pdf</a><br>"
       ],
       "metadata": {},
       "output_type": "pyout",
       "prompt_number": 47,
       "text": [
        "/home/chuck/working/soil_crust_N_DNASIP/N-SIP-manuscript-figures/figs/het_sparsity.pdf"
       ]
      }
     ],
     "prompt_number": 47
    }
   ],
   "metadata": {}
  }
 ]
}
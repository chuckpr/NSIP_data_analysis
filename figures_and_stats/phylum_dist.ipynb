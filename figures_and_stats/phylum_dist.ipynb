{
 "cells": [
  {
   "cell_type": "code",
   "execution_count": 1,
   "metadata": {
    "collapsed": true
   },
   "outputs": [],
   "source": [
    "%load_ext rpy2.ipython"
   ]
  },
  {
   "cell_type": "code",
   "execution_count": 16,
   "metadata": {
    "collapsed": false
   },
   "outputs": [],
   "source": [
    "%%R\n",
    "library(ggplot2)\n",
    "library(dplyr)\n",
    "library(phyloseq)\n",
    "library(magrittr)"
   ]
  },
  {
   "cell_type": "code",
   "execution_count": 7,
   "metadata": {
    "collapsed": false
   },
   "outputs": [
    {
     "data": {
      "text/plain": [
       "phyloseq-class experiment-level object\n",
       "otu_table()   OTU Table:         [ 4340 taxa and 158 samples ]\n",
       "sample_data() Sample Data:       [ 158 samples by 46 sample variables ]\n",
       "tax_table()   Taxonomy Table:    [ 4340 taxa by 8 taxonomic ranks ]\n"
      ]
     },
     "metadata": {},
     "output_type": "display_data"
    }
   ],
   "source": [
    "%%R\n",
    "sd = read.table(\"../data/sample_data_combined_qiime_format.tsv\",\n",
    "           sep = \"\\t\", \n",
    "           comment = \"\",\n",
    "           header = TRUE)\n",
    "\n",
    "rownames(sd) = sd$X.SampleID\n",
    "\n",
    "ps = import_biom(\"../data/otu_table_wtax.biom\")\n",
    "\n",
    "sample_data(ps) = sample_data(sd)\n",
    "\n",
    "ps"
   ]
  },
  {
   "cell_type": "code",
   "execution_count": 9,
   "metadata": {
    "collapsed": false
   },
   "outputs": [],
   "source": [
    "%%R\n",
    "mdf = psmelt(ps)"
   ]
  },
  {
   "cell_type": "code",
   "execution_count": 22,
   "metadata": {
    "collapsed": false
   },
   "outputs": [],
   "source": [
    "%%R\n",
    "top.9 = mdf %>%\n",
    "    group_by(Rank2) %>%\n",
    "    summarize(total = sum(Abundance)) %>%\n",
    "    arrange(desc(total)) %>%\n",
    "    filter(rank(desc(total)) <= 9) %>%\n",
    "    extract2(\"Rank2\")"
   ]
  },
  {
   "cell_type": "code",
   "execution_count": 32,
   "metadata": {
    "collapsed": false
   },
   "outputs": [
    {
     "data": {
      "text/plain": [
       "[1] Cyanobacteria   Proteobacteria  Actinobacteria  Acidobacteria  \n",
       "[5] Firmicutes      Bacteroidetes   Chloroflexi     Verrucomicrobia\n",
       "[9] Armatimonadetes\n",
       "9 Levels: Acidobacteria Actinobacteria Armatimonadetes ... Verrucomicrobia\n"
      ]
     },
     "metadata": {},
     "output_type": "display_data"
    }
   ],
   "source": [
    "%%R\n",
    "top.9"
   ]
  },
  {
   "cell_type": "code",
   "execution_count": 42,
   "metadata": {
    "collapsed": false
   },
   "outputs": [
    {
     "data": {
      "image/png": "[encoded data removed]"
     },
     "metadata": {},
     "output_type": "display_data"
    }
   ],
   "source": [
    "%%R -w 350\n",
    "d = mdf %>%\n",
    "    group_by(study, Rank2) %>%\n",
    "    summarize(S = sum(Abundance)) %>%\n",
    "    group_by(study) %>%\n",
    "    mutate(RA = S / sum(S)) %>%\n",
    "    filter(Rank2 %in% top.9)\n",
    "\n",
    "d$Rank2 = factor(d$Rank2, levels = top.9)\n",
    "d$study = factor(d$study, levels = c(\"Garcia-Pichel et al. (2013)\",\n",
    "                                     \"Steven et al. (2013)\", \n",
    "                                     \"NSIP\"))\n",
    "\n",
    "p = ggplot(d, aes(x = Rank2, y = RA))\n",
    "\n",
    "p = p + facet_wrap(~study, ncol = 1)\n",
    "\n",
    "p = p + geom_bar(stat = \"identity\")\n",
    "\n",
    "p = p + labs(y = \"Relative Abundance\", x = \"\")\n",
    "\n",
    "p = p + theme_bw()\n",
    "\n",
    "p = p + theme(strip.background = element_blank(),\n",
    "              strip.text = element_text(size = 14), \n",
    "              axis.title = element_text(size = 14),\n",
    "              axis.text.y = element_text(size = 12),\n",
    "              axis.text.x = element_text(size = 12, hjust = 1, angle = 45, face = \"italic\"))\n",
    "\n",
    "p"
   ]
  }
 ],
 "metadata": {
  "kernelspec": {
   "display_name": "Python 2",
   "language": "python",
   "name": "python2"
  },
  "language_info": {
   "codemirror_mode": {
    "name": "ipython",
    "version": 2
   },
   "file_extension": ".py",
   "mimetype": "text/x-python",
   "name": "python",
   "nbconvert_exporter": "python",
   "pygments_lexer": "ipython2",
   "version": "2.7.9"
  }
 },
 "nbformat": 4,
 "nbformat_minor": 0
}

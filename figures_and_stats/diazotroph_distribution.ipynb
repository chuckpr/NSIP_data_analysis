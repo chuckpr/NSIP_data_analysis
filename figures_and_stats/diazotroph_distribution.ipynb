{
 "metadata": {
  "name": "",
  "signature": "sha256:4e246a1466324c6221fef9d75095e4159ce63b53579d507702e9d666ea3eeb1b"
 },
 "nbformat": 3,
 "nbformat_minor": 0,
 "worksheets": [
  {
   "cells": [
    {
     "cell_type": "code",
     "collapsed": false,
     "input": [
      "from IPython.display import FileLink\n",
      "%load_ext rpy2.ipython"
     ],
     "language": "python",
     "metadata": {},
     "outputs": [
      {
       "output_type": "stream",
       "stream": "stderr",
       "text": [
        "/opt/anaconda/lib/python2.7/site-packages/pytz/__init__.py:29: UserWarning: Module argparse was already imported from /opt/anaconda/lib/python2.7/argparse.pyc, but /opt/anaconda/lib/python2.7/site-packages is being added to sys.path\n",
        "  from pkg_resources import resource_stream\n"
       ]
      }
     ],
     "prompt_number": 2
    },
    {
     "cell_type": "code",
     "collapsed": false,
     "input": [
      "%%R\n",
      "library(phyloseq)\n",
      "library(ggplot2)\n",
      "library(plyr); library(dplyr)\n",
      "library(tidyr)\n",
      "library(RColorBrewer)\n",
      "library(xtable)"
     ],
     "language": "python",
     "metadata": {},
     "outputs": [
      {
       "metadata": {},
       "output_type": "display_data",
       "text": [
        "\n",
        "Attaching package: \u2018dplyr\u2019\n",
        "\n",
        "The following objects are masked from \u2018package:plyr\u2019:\n",
        "\n",
        "    arrange, count, desc, failwith, id, mutate, rename, summarise,\n",
        "    summarize\n",
        "\n",
        "The following object is masked from \u2018package:stats\u2019:\n",
        "\n",
        "    filter\n",
        "\n",
        "The following objects are masked from \u2018package:base\u2019:\n",
        "\n",
        "    intersect, setdiff, setequal, union\n",
        "\n"
       ]
      }
     ],
     "prompt_number": 3
    },
    {
     "cell_type": "code",
     "collapsed": false,
     "input": [
      "het_otus = !grep \">D\" ../data/otusn_yeager2006.fasta | sed \"s/>//\""
     ],
     "language": "python",
     "metadata": {},
     "outputs": [],
     "prompt_number": 4
    },
    {
     "cell_type": "code",
     "collapsed": false,
     "input": [
      "%Rpush het_otus"
     ],
     "language": "python",
     "metadata": {},
     "outputs": [],
     "prompt_number": 5
    },
    {
     "cell_type": "code",
     "collapsed": false,
     "input": [
      "%%R\n",
      "physeq = import_biom(\"../data/otu_table_wtax.biom\")\n",
      "\n",
      "mapfilename = \"../data/sample_data_combined_qiime_format.tsv\"\n",
      "QiimeMap = read.table(file = mapfilename, header = TRUE, \n",
      "                       sep = \"\\t\", comment.char = \"\", \n",
      "                       colClasses = c(\"Density\" = \"numeric\"))\n",
      "rownames(QiimeMap) = as.character(QiimeMap[, 1])\n",
      "sample.data1 = sample_data(QiimeMap)\n",
      "\n",
      "physeq = merge_phyloseq(physeq,sample.data1)\n",
      "\n",
      "physeq.snorm = transform_sample_counts(physeq, function(x) x / sum(x))"
     ],
     "language": "python",
     "metadata": {},
     "outputs": [],
     "prompt_number": 6
    },
    {
     "cell_type": "code",
     "collapsed": false,
     "input": [
      "%%R\n",
      "sd = tbl_df(data.frame(sample_data(physeq)))\n",
      "sd %.% \n",
      "    filter(study %in% c(\"Garcia-Pichel et al. (2013)\",\n",
      "                        \"Steven et al. (2013)\")) %.%\n",
      "    group_by(study) %.%\n",
      "    summarize(count = n())"
     ],
     "language": "python",
     "metadata": {},
     "outputs": [
      {
       "metadata": {},
       "output_type": "display_data",
       "text": [
        "Source: local data frame [2 x 2]\n",
        "\n",
        "                        study count\n",
        "1 Garcia-Pichel et al. (2013)    23\n",
        "2        Steven et al. (2013)    42\n"
       ]
      }
     ],
     "prompt_number": 7
    },
    {
     "cell_type": "code",
     "collapsed": false,
     "input": [
      "%%R\n",
      "sd %.% \n",
      "    filter(study == \"Garcia-Pichel et al. (2013)\") %.%\n",
      "    group_by(BiocrustType) %.%\n",
      "    summarize(count = n())"
     ],
     "language": "python",
     "metadata": {},
     "outputs": [
      {
       "metadata": {},
       "output_type": "display_data",
       "text": [
        "Source: local data frame [3 x 2]\n",
        "\n",
        "  BiocrustType count\n",
        "1         dark     9\n",
        "2       Lichen     2\n",
        "3        light    12\n"
       ]
      }
     ],
     "prompt_number": 8
    },
    {
     "cell_type": "code",
     "collapsed": false,
     "input": [
      "%%R\n",
      "sd %.% \n",
      "    filter(study == \"Steven et al. (2013)\") %.%\n",
      "    group_by(crust_or_below) %.%\n",
      "    summarize(count = n())"
     ],
     "language": "python",
     "metadata": {},
     "outputs": [
      {
       "metadata": {},
       "output_type": "display_data",
       "text": [
        "Source: local data frame [2 x 2]\n",
        "\n",
        "  crust_or_below count\n",
        "1          below    25\n",
        "2          crust    17\n"
       ]
      }
     ],
     "prompt_number": 9
    },
    {
     "cell_type": "code",
     "collapsed": false,
     "input": [
      "%%R\n",
      "mdf = psmelt(physeq.snorm)"
     ],
     "language": "python",
     "metadata": {},
     "outputs": [],
     "prompt_number": 10
    },
    {
     "cell_type": "code",
     "collapsed": false,
     "input": [
      "%%R\n",
      "df.l2fc = read.table(\"../data/l2fc_table.csv\", sep = \",\", header = TRUE, stringsAsFactors = TRUE)"
     ],
     "language": "python",
     "metadata": {},
     "outputs": [],
     "prompt_number": 11
    },
    {
     "cell_type": "code",
     "collapsed": false,
     "input": [
      "%%R\n",
      "mdf.w.l2fc = tbl_df(left_join(mdf, df.l2fc))"
     ],
     "language": "python",
     "metadata": {},
     "outputs": [
      {
       "metadata": {},
       "output_type": "display_data",
       "text": [
        "Joining by: c(\"OTU\", \"Rank1\", \"Rank2\", \"Rank3\", \"Rank4\", \"Rank5\", \"Rank6\", \"Rank7\", \"Rank8\")\n"
       ]
      }
     ],
     "prompt_number": 12
    },
    {
     "cell_type": "code",
     "collapsed": false,
     "input": [
      "%%R\n",
      "FDR = 0.10\n",
      "\n",
      "d = mdf.w.l2fc %>% filter(p.adj <= FDR,\n",
      "                          study %in% c(\"Steven et al. (2013)\", \n",
      "                                       \"Garcia-Pichel et al. (2013)\"),\n",
      "                          Abundance > 0)\n",
      "\n",
      "colorCount = length(unique(d$Rank2))\n",
      "getPalette = colorRampPalette(brewer.pal(colorCount, \"Set3\"))\n",
      "colors = getPalette(colorCount)"
     ],
     "language": "python",
     "metadata": {},
     "outputs": [],
     "prompt_number": 13
    },
    {
     "cell_type": "code",
     "collapsed": false,
     "input": [
      "%%R -h 350\n",
      "FDR = 0.10\n",
      "d = mdf.w.l2fc %.% filter(p.adj <= FDR, \n",
      "                      study == \"Steven et al. (2013)\",\n",
      "                      Abundance > 0)\n",
      "\n",
      "p = ggplot(d, aes(x = crust_or_below, fill = Rank2))\n",
      "\n",
      "p = p + geom_bar(color = \"grey20\")\n",
      "\n",
      "p = p + theme_bw()\n",
      "\n",
      "p = p + theme(axis.text.y = element_text(size = 14), \n",
      "              axis.text.x = element_text(size = 14, angle = 45, hjust = 1), \n",
      "              axis.title = element_text(size = 14),\n",
      "              legend.title = element_text(size = 14),\n",
      "              legend.text = element_text(size = 12))\n",
      "\n",
      "p = p + scale_fill_manual(values = colors)\n",
      "\n",
      "p = p + ggtitle(\"Summary of N Responders \\nin Steven et al. (2013) Data\")\n",
      "\n",
      "p"
     ],
     "language": "python",
     "metadata": {},
     "outputs": [
      {
       "metadata": {},
       "output_type": "display_data",
       "png": "[encoded data removed]"
      }
     ],
     "prompt_number": 14
    },
    {
     "cell_type": "code",
     "collapsed": false,
     "input": [
      "%%R\n",
      "FDR = 0.10\n",
      "d = mdf.w.l2fc %.% filter(p.adj <= FDR,\n",
      "                          study == \"Garcia-Pichel et al. (2013)\",\n",
      "                          Abundance > 0)\n",
      "\n",
      "p = ggplot(d, aes(x = BiocrustType, fill = Rank2))\n",
      "\n",
      "p = p + geom_bar(color = \"grey20\")\n",
      "\n",
      "p = p + theme_bw()\n",
      "\n",
      "p = p + theme(axis.text.y = element_text(size = 14), \n",
      "              axis.text.x = element_text(size = 14, angle = 45, hjust = 1), \n",
      "              axis.title = element_text(size = 14),\n",
      "              legend.title = element_text(size = 14),\n",
      "              legend.text = element_text(size = 12))\n",
      "\n",
      "p = p + labs(x = \"BSC Type\", fill = \"Phylum\")\n",
      "\n",
      "p = p + scale_fill_manual(values = colors)\n",
      "\n",
      "p = p + ggtitle(\"Summary of N Responders \\nin Garcia-Pichel et al. (2013) Data\")\n",
      "\n",
      "p"
     ],
     "language": "python",
     "metadata": {},
     "outputs": [
      {
       "metadata": {},
       "output_type": "display_data",
       "png": "[encoded data removed]"
      }
     ],
     "prompt_number": 15
    },
    {
     "cell_type": "code",
     "collapsed": false,
     "input": [
      "%%R -w 600 -h 350\n",
      "d = mdf.w.l2fc %.% filter(p.adj <= FDR,\n",
      "                          study %in% c(\"Steven et al. (2013)\", \n",
      "                                       \"Garcia-Pichel et al. (2013)\"),\n",
      "                          Abundance > 0)\n",
      "rpl = function(row) {\n",
      "    if ( !is.na(row[[\"crust_or_below\"]]) ) {\n",
      "        row[[\"crust_or_below\"]]\n",
      "    } else {\n",
      "        row[[\"BiocrustType\"]]\n",
      "    }\n",
      "}\n",
      "\n",
      "d$study_data = apply(d, 1, rpl)\n",
      "\n",
      "colourCount = length(unique(d$Rank2))\n",
      "getPalette = colorRampPalette(brewer.pal(colourCount, \"Set3\"))\n",
      "\n",
      "p = ggplot(d, aes(x = study_data, fill = Rank2))\n",
      "\n",
      "p = p + facet_grid(.~study, scales = \"free_x\", space = \"free\")\n",
      "\n",
      "p = p + geom_bar(color = \"grey20\")\n",
      "\n",
      "p = p + theme_bw()\n",
      "\n",
      "p = p + theme(axis.text.y = element_text(size = 14), \n",
      "              axis.text.x = element_text(size = 14, angle = 45, hjust = 1), \n",
      "              axis.title = element_text(size = 14),\n",
      "              legend.title = element_text(size = 14),\n",
      "              legend.text = element_text(size = 12),\n",
      "              strip.background = element_blank(), \n",
      "              strip.text.x = element_text(size = 14))\n",
      "\n",
      "p = p + labs(x = \"Sample Type\", \n",
      "             fill = \"Phylum\", \n",
      "             y = \"Number of Times \\\"Responder\\\"\\nOTUs are Present in Samples\")\n",
      "\n",
      "p = p + scale_fill_manual(values = colors)\n",
      "\n",
      "p.rspndr.dist = p\n",
      "\n",
      "p.rspndr.dist"
     ],
     "language": "python",
     "metadata": {},
     "outputs": [
      {
       "metadata": {},
       "output_type": "display_data",
       "png": "[encoded data removed]"
      }
     ],
     "prompt_number": 16
    },
    {
     "cell_type": "code",
     "collapsed": false,
     "input": [
      "%%R\n",
      "ggsave(\"figs/rspndr_dist.pdf\", p.rspndr.dist, h = 5, w = 9)"
     ],
     "language": "python",
     "metadata": {},
     "outputs": [],
     "prompt_number": 17
    },
    {
     "cell_type": "code",
     "collapsed": false,
     "input": [
      "FileLink(\"figs/rspndr_dist.pdf\")"
     ],
     "language": "python",
     "metadata": {},
     "outputs": [
      {
       "html": [
        "<a href='figs/rspndr_dist.pdf' target='_blank'>figs/rspndr_dist.pdf</a><br>"
       ],
       "metadata": {},
       "output_type": "pyout",
       "prompt_number": 18,
       "text": [
        "/home/chuck/working/NSIP_data_analysis/figures_and_stats/figs/rspndr_dist.pdf"
       ]
      }
     ],
     "prompt_number": 18
    },
    {
     "cell_type": "code",
     "collapsed": false,
     "input": [
      "%%R\n",
      "sessionInfo()"
     ],
     "language": "python",
     "metadata": {},
     "outputs": [
      {
       "metadata": {},
       "output_type": "display_data",
       "text": [
        "R version 3.1.2 (2014-10-31)\n",
        "Platform: x86_64-pc-linux-gnu (64-bit)\n",
        "\n",
        "locale:\n",
        " [1] LC_CTYPE=en_US.UTF-8       LC_NUMERIC=C              \n",
        " [3] LC_TIME=en_US.UTF-8        LC_COLLATE=en_US.UTF-8    \n",
        " [5] LC_MONETARY=en_US.UTF-8    LC_MESSAGES=en_US.UTF-8   \n",
        " [7] LC_PAPER=en_US.UTF-8       LC_NAME=C                 \n",
        " [9] LC_ADDRESS=C               LC_TELEPHONE=C            \n",
        "[11] LC_MEASUREMENT=en_US.UTF-8 LC_IDENTIFICATION=C       \n",
        "\n",
        "attached base packages:\n",
        "[1] tools     stats     graphics  grDevices utils     datasets  methods  \n",
        "[8] base     \n",
        "\n",
        "other attached packages:\n",
        "[1] xtable_1.7-4       RColorBrewer_1.0-5 tidyr_0.1.0.9000   dplyr_0.3.0.2     \n",
        "[5] plyr_1.8.1         ggplot2_1.0.0      phyloseq_1.10.0   \n",
        "\n",
        "loaded via a namespace (and not attached):\n",
        " [1] acepack_1.3-3.3         ade4_1.6-2              annotate_1.44.0        \n",
        " [4] AnnotationDbi_1.28.1    ape_3.1-4               assertthat_0.1         \n",
        " [7] base64enc_0.1-2         BatchJobs_1.5           BBmisc_1.8             \n",
        "[10] Biobase_2.26.0          BiocGenerics_0.12.0     BiocParallel_1.0.0     \n",
        "[13] biom_0.3.12             Biostrings_2.34.0       brew_1.0-6             \n",
        "[16] checkmate_1.5.0         chron_2.3-45            cluster_1.15.3         \n",
        "[19] codetools_0.2-9         colorspace_1.2-4        data.table_1.9.4       \n",
        "[22] DBI_0.3.1               DESeq2_1.6.1            digest_0.6.4           \n",
        "[25] fail_1.2                foreach_1.4.2           foreign_0.8-61         \n",
        "[28] Formula_1.1-2           genefilter_1.48.1       geneplotter_1.44.0     \n",
        "[31] GenomeInfoDb_1.2.2      GenomicRanges_1.18.1    grid_3.1.2             \n",
        "[34] gtable_0.1.2            Hmisc_3.14-5            igraph_0.7.1           \n",
        "[37] IRanges_2.0.0           iterators_1.0.7         labeling_0.3           \n",
        "[40] lattice_0.20-29         latticeExtra_0.6-26     lazyeval_0.1.9         \n",
        "[43] locfit_1.5-9.1          magrittr_1.0.1          MASS_7.3-35            \n",
        "[46] Matrix_1.1-4            multtest_2.22.0         munsell_0.4.2          \n",
        "[49] nlme_3.1-118            nnet_7.3-8              parallel_3.1.2         \n",
        "[52] permute_0.8-3           proto_0.3-10            Rcpp_0.11.3            \n",
        "[55] RcppArmadillo_0.4.500.0 reshape2_1.4            RJSONIO_1.3-0          \n",
        "[58] rpart_4.1-8             RSQLite_1.0.0           S4Vectors_0.4.0        \n",
        "[61] scales_0.2.4            sendmailR_1.2-1         splines_3.1.2          \n",
        "[64] stats4_3.1.2            stringr_0.6.2           survival_2.37-7        \n",
        "[67] vegan_2.0-10            XML_3.98-1.1            XVector_0.6.0          \n",
        "[70] zlibbioc_1.12.0        \n"
       ]
      }
     ],
     "prompt_number": 19
    }
   ],
   "metadata": {}
  }
 ]
}
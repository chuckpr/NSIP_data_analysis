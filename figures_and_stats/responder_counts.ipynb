{
 "metadata": {
  "name": "",
  "signature": "sha256:ca38d2d954ec4d8dbbc8fac4464cb99b1bfdc7ee7bc907b9a99f80140665a63c"
 },
 "nbformat": 3,
 "nbformat_minor": 0,
 "worksheets": [
  {
   "cells": [
    {
     "cell_type": "code",
     "collapsed": false,
     "input": [
      "%load_ext rpy2.ipython\n",
      "from IPython.display import FileLink"
     ],
     "language": "python",
     "metadata": {},
     "outputs": [
      {
       "output_type": "stream",
       "stream": "stderr",
       "text": [
        "/opt/anaconda/lib/python2.7/site-packages/pytz/__init__.py:29: UserWarning: Module argparse was already imported from /opt/anaconda/lib/python2.7/argparse.pyc, but /opt/anaconda/lib/python2.7/site-packages is being added to sys.path\n",
        "  from pkg_resources import resource_stream\n"
       ]
      }
     ],
     "prompt_number": 1
    },
    {
     "cell_type": "code",
     "collapsed": false,
     "input": [
      "%%R\n",
      "library(plyr); library(dplyr)\n",
      "library(ggplot2)\n",
      "library(phyloseq)\n",
      "library(tidyr)"
     ],
     "language": "python",
     "metadata": {},
     "outputs": [
      {
       "metadata": {},
       "output_type": "display_data",
       "text": [
        "\n",
        "Attaching package: \u2018dplyr\u2019\n",
        "\n",
        "The following objects are masked from \u2018package:plyr\u2019:\n",
        "\n",
        "    arrange, count, desc, failwith, id, mutate, rename, summarise,\n",
        "    summarize\n",
        "\n",
        "The following object is masked from \u2018package:stats\u2019:\n",
        "\n",
        "    filter\n",
        "\n",
        "The following objects are masked from \u2018package:base\u2019:\n",
        "\n",
        "    intersect, setdiff, setequal, union\n",
        "\n"
       ]
      }
     ],
     "prompt_number": 2
    },
    {
     "cell_type": "code",
     "collapsed": false,
     "input": [
      "%%R\n",
      "df = tbl_df(read.csv(\"../data/l2fc_table.csv\", sep = \",\"))"
     ],
     "language": "python",
     "metadata": {},
     "outputs": [],
     "prompt_number": 3
    },
    {
     "cell_type": "code",
     "collapsed": false,
     "input": [
      "%%R\n",
      "FDR = 0.10\n",
      "\n",
      "d = df %.%\n",
      "    filter(test == \"greater\") %.%\n",
      "    group_by(OTU) %.%\n",
      "    summarize(N = sum(p.adj <= FDR))\n",
      "\n",
      "sum(d$N > 0)"
     ],
     "language": "python",
     "metadata": {},
     "outputs": [
      {
       "metadata": {},
       "output_type": "display_data",
       "text": [
        "[1] 34\n"
       ]
      }
     ],
     "prompt_number": 4
    },
    {
     "cell_type": "code",
     "collapsed": false,
     "input": [
      "%%R\n",
      "table(d$N)"
     ],
     "language": "python",
     "metadata": {},
     "outputs": [
      {
       "metadata": {},
       "output_type": "display_data",
       "text": [
        "\n",
        "  0   1   2 \n",
        "621  33   1 \n"
       ]
      }
     ],
     "prompt_number": 5
    },
    {
     "cell_type": "code",
     "collapsed": false,
     "input": [
      "%%R\n",
      "FDR = 0.10\n",
      "\n",
      "d = df %.%\n",
      "    filter(test == \"greater\") %.%\n",
      "    group_by(OTU) %.%\n",
      "    summarize(min.p = min(p.adj)) %.%\n",
      "    filter(min.p <= FDR)\n",
      "\n",
      "rspndr.OTUs = d$OTU\n",
      "\n",
      "d.less.padj = df %.%\n",
      "                filter(!(OTU %in% rspndr.OTUs), test == \"less\") %.%\n",
      "                mutate(p.adj.less = p.adjust(p, method = \"BH\")) %.%\n",
      "                select(OTU, test, p.adj.less)\n",
      "\n",
      "d.tmp = left_join(df, d.less.padj)\n",
      "\n",
      "d.plot = d.tmp %.%\n",
      "            group_by(test, Day) %.%\n",
      "            filter(p.adj <= FDR | p.adj.less <= FDR) %.%\n",
      "            summarize(count = n())\n",
      "\n",
      "d.plot"
     ],
     "language": "python",
     "metadata": {},
     "outputs": [
      {
       "metadata": {},
       "output_type": "display_data",
       "text": [
        "Joining by: c(\"OTU\", \"test\")\n",
        "Source: local data frame [4 x 3]\n",
        "Groups: test\n",
        "\n",
        "     test Day count\n",
        "1 greater   2     9\n",
        "2 greater   4    26\n",
        "3    less   2    86\n",
        "4    less   4    89\n"
       ]
      }
     ],
     "prompt_number": 6
    },
    {
     "cell_type": "code",
     "collapsed": false,
     "input": [
      "%%R\n",
      "df %.%\n",
      "    group_by(test, Day) %.%\n",
      "    summarize(total = n())"
     ],
     "language": "python",
     "metadata": {},
     "outputs": [
      {
       "metadata": {},
       "output_type": "display_data",
       "text": [
        "Source: local data frame [4 x 3]\n",
        "Groups: test\n",
        "\n",
        "     test Day total\n",
        "1 greater   2   499\n",
        "2 greater   4   563\n",
        "3    less   2   499\n",
        "4    less   4   563\n"
       ]
      }
     ],
     "prompt_number": 7
    },
    {
     "cell_type": "code",
     "collapsed": false,
     "input": [
      "%%R -h 350\n",
      "p = ggplot(d.plot, aes(x = factor(Day), y = count, fill = test))\n",
      "\n",
      "p = p + geom_bar(stat = \"identity\", position = position_dodge())\n",
      "\n",
      "p = p + theme_bw()\n",
      "\n",
      "p = p + theme(axis.text = element_text(size = 14),\n",
      "              axis.title = element_text(size = 14),\n",
      "              legend.title = element_text(size = 14),\n",
      "              legend.text = element_text(size = 12))\n",
      "\n",
      "p = p + labs(x = \"Day\")\n",
      "\n",
      "p"
     ],
     "language": "python",
     "metadata": {},
     "outputs": [
      {
       "metadata": {},
       "output_type": "display_data",
       "png": "[encoded data removed]"
      }
     ],
     "prompt_number": 8
    },
    {
     "cell_type": "code",
     "collapsed": false,
     "input": [
      "%%R\n",
      "physeq = import_biom(\"../data/otu_table_wtax.biom\")\n",
      "\n",
      "mapfilename = \"../data/sample_data_combined_qiime_format.tsv\"\n",
      "QiimeMap <- read.table(file = mapfilename, header = TRUE, \n",
      "                       sep = \"\\t\", comment.char = \"\", \n",
      "                       colClasses = c(\"Density\" = \"numeric\"))\n",
      "rownames(QiimeMap) <- as.character(QiimeMap[, 1])\n",
      "sample.data1 = sample_data(QiimeMap)\n",
      "\n",
      "physeq = merge_phyloseq(physeq,sample.data1)\n",
      "sample.data2 = sample_data(physeq)\n",
      "physeq = prune_samples(sample.data2$study == \"NSIP\", physeq)"
     ],
     "language": "python",
     "metadata": {},
     "outputs": [],
     "prompt_number": 9
    },
    {
     "cell_type": "code",
     "collapsed": false,
     "input": [
      "%%R\n",
      "mdf = tbl_df(psmelt(physeq))"
     ],
     "language": "python",
     "metadata": {},
     "outputs": [],
     "prompt_number": 10
    },
    {
     "cell_type": "code",
     "collapsed": false,
     "input": [
      "%%R\n",
      "d = mdf %.% \n",
      "    group_by(OTU) %.%\n",
      "    summarize(N = sum(Abundance)) %.%\n",
      "    filter(N == 0)\n",
      "\n",
      "non.sip = d$OTU"
     ],
     "language": "python",
     "metadata": {},
     "outputs": [],
     "prompt_number": 11
    },
    {
     "cell_type": "code",
     "collapsed": false,
     "input": [
      "%%R\n",
      "sparsity.threshold = 0.625\n",
      "density.min = 1.725\n",
      "\n",
      "d = mdf %.% \n",
      "    filter(!(OTU %in% non.sip), Density >= density.min) %.%\n",
      "    group_by(OTU, DayCollected) %.%\n",
      "    summarize(sparsity = sum(Abundance > 0) / length(Abundance)) %.%\n",
      "    filter(sparsity > 0) %.%\n",
      "    group_by(DayCollected) %.%\n",
      "    summarize(N_filtered = sum(sparsity <= sparsity.threshold),\n",
      "              N_kept = sum(sparsity > sparsity.threshold),\n",
      "              count = n())\n",
      "\n",
      "d"
     ],
     "language": "python",
     "metadata": {},
     "outputs": [
      {
       "metadata": {},
       "output_type": "display_data",
       "text": [
        "Source: local data frame [2 x 4]\n",
        "\n",
        "  DayCollected N_filtered N_kept count\n",
        "1            2       1919    208  2127\n",
        "2            4       1927    233  2160\n"
       ]
      }
     ],
     "prompt_number": 12
    },
    {
     "cell_type": "code",
     "collapsed": false,
     "input": [
      "%%R -h 350\n",
      "d$test = \"greater\" #placeholder\n",
      "d$Day = d$DayCollected\n",
      "\n",
      "p = ggplot(d.plot, aes(x = factor(Day), y = count, fill = test))\n",
      "\n",
      "p = p + geom_bar(stat = \"identity\", position = position_dodge())\n",
      "\n",
      "p = p + geom_text(data = d, size = 4.5, y = 95, aes(label = paste(\"total: \",\n",
      "                                                      count,\n",
      "                                                      \"\\n\",\n",
      "                                                      \"passed sparsity: \",\n",
      "                                                      N_kept,\n",
      "                                                      sep=\"\")))\n",
      "\n",
      "p = p + theme_bw()\n",
      "\n",
      "p = p + theme(axis.text = element_text(size = 14),\n",
      "              axis.title = element_text(size = 14),\n",
      "              legend.title = element_text(size = 14),\n",
      "              legend.text = element_text(size = 12))\n",
      "\n",
      "p = p + labs(x = \"Day\")\n",
      "\n",
      "p = p + ylim(c(0,100))\n",
      "\n",
      "p"
     ],
     "language": "python",
     "metadata": {},
     "outputs": [
      {
       "metadata": {},
       "output_type": "display_data",
       "png": "[encoded data removed]"
      }
     ],
     "prompt_number": 13
    },
    {
     "cell_type": "code",
     "collapsed": false,
     "input": [
      "%%R\n",
      "ggsave(\"figs/rspndr_nonrspndr_counts.pdf\", p, h = 6, w = 7)"
     ],
     "language": "python",
     "metadata": {},
     "outputs": [],
     "prompt_number": 14
    },
    {
     "cell_type": "code",
     "collapsed": false,
     "input": [
      "FileLink(\"figs/rspndr_nonrspndr_counts.pdf\")"
     ],
     "language": "python",
     "metadata": {},
     "outputs": [
      {
       "html": [
        "<a href='figs/rspndr_nonrspndr_counts.pdf' target='_blank'>figs/rspndr_nonrspndr_counts.pdf</a><br>"
       ],
       "metadata": {},
       "output_type": "pyout",
       "prompt_number": 15,
       "text": [
        "/home/chuck/working/NSIP_data_analysis/figures_and_stats/figs/rspndr_nonrspndr_counts.pdf"
       ]
      }
     ],
     "prompt_number": 15
    },
    {
     "cell_type": "code",
     "collapsed": false,
     "input": [
      "%%R\n",
      "sessionInfo()"
     ],
     "language": "python",
     "metadata": {},
     "outputs": [
      {
       "metadata": {},
       "output_type": "display_data",
       "text": [
        "R version 3.1.2 (2014-10-31)\n",
        "Platform: x86_64-pc-linux-gnu (64-bit)\n",
        "\n",
        "locale:\n",
        " [1] LC_CTYPE=en_US.UTF-8       LC_NUMERIC=C              \n",
        " [3] LC_TIME=en_US.UTF-8        LC_COLLATE=en_US.UTF-8    \n",
        " [5] LC_MONETARY=en_US.UTF-8    LC_MESSAGES=en_US.UTF-8   \n",
        " [7] LC_PAPER=en_US.UTF-8       LC_NAME=C                 \n",
        " [9] LC_ADDRESS=C               LC_TELEPHONE=C            \n",
        "[11] LC_MEASUREMENT=en_US.UTF-8 LC_IDENTIFICATION=C       \n",
        "\n",
        "attached base packages:\n",
        "[1] tools     stats     graphics  grDevices utils     datasets  methods  \n",
        "[8] base     \n",
        "\n",
        "other attached packages:\n",
        "[1] tidyr_0.1.0.9000 phyloseq_1.10.0  ggplot2_1.0.0    dplyr_0.3.0.2   \n",
        "[5] plyr_1.8.1      \n",
        "\n",
        "loaded via a namespace (and not attached):\n",
        " [1] acepack_1.3-3.3         ade4_1.6-2              annotate_1.44.0        \n",
        " [4] AnnotationDbi_1.28.1    ape_3.1-4               assertthat_0.1         \n",
        " [7] base64enc_0.1-2         BatchJobs_1.5           BBmisc_1.8             \n",
        "[10] Biobase_2.26.0          BiocGenerics_0.12.0     BiocParallel_1.0.0     \n",
        "[13] biom_0.3.12             Biostrings_2.34.0       brew_1.0-6             \n",
        "[16] checkmate_1.5.0         chron_2.3-45            cluster_1.15.3         \n",
        "[19] codetools_0.2-9         colorspace_1.2-4        data.table_1.9.4       \n",
        "[22] DBI_0.3.1               DESeq2_1.6.1            digest_0.6.4           \n",
        "[25] fail_1.2                foreach_1.4.2           foreign_0.8-61         \n",
        "[28] Formula_1.1-2           genefilter_1.48.1       geneplotter_1.44.0     \n",
        "[31] GenomeInfoDb_1.2.2      GenomicRanges_1.18.1    grid_3.1.2             \n",
        "[34] gtable_0.1.2            Hmisc_3.14-5            igraph_0.7.1           \n",
        "[37] IRanges_2.0.0           iterators_1.0.7         labeling_0.3           \n",
        "[40] lattice_0.20-29         latticeExtra_0.6-26     lazyeval_0.1.9         \n",
        "[43] locfit_1.5-9.1          magrittr_1.0.1          MASS_7.3-35            \n",
        "[46] Matrix_1.1-4            multtest_2.22.0         munsell_0.4.2          \n",
        "[49] nlme_3.1-118            nnet_7.3-8              parallel_3.1.2         \n",
        "[52] permute_0.8-3           proto_0.3-10            RColorBrewer_1.0-5     \n",
        "[55] Rcpp_0.11.3             RcppArmadillo_0.4.500.0 reshape2_1.4           \n",
        "[58] RJSONIO_1.3-0           rpart_4.1-8             RSQLite_1.0.0          \n",
        "[61] S4Vectors_0.4.0         scales_0.2.4            sendmailR_1.2-1        \n",
        "[64] splines_3.1.2           stats4_3.1.2            stringr_0.6.2          \n",
        "[67] survival_2.37-7         vegan_2.0-10            XML_3.98-1.1           \n",
        "[70] xtable_1.7-4            XVector_0.6.0           zlibbioc_1.12.0        \n"
       ]
      }
     ],
     "prompt_number": 16
    }
   ],
   "metadata": {}
  }
 ]
}
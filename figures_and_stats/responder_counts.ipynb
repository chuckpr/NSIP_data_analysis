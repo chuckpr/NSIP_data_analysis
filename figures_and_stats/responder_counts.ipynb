{
 "metadata": {
  "name": "",
  "signature": "sha256:c370663de6a259edf1d37e67ae2de3b3741e3da98ed43c991aeb16cfef67ec9d"
 },
 "nbformat": 3,
 "nbformat_minor": 0,
 "worksheets": [
  {
   "cells": [
    {
     "cell_type": "code",
     "collapsed": false,
     "input": [
      "%load_ext rpy2.ipython\n",
      "from IPython.display import FileLink"
     ],
     "language": "python",
     "metadata": {},
     "outputs": [
      {
       "output_type": "stream",
       "stream": "stdout",
       "text": [
        "The rpy2.ipython extension is already loaded. To reload it, use:\n",
        "  %reload_ext rpy2.ipython\n"
       ]
      }
     ],
     "prompt_number": 133
    },
    {
     "cell_type": "code",
     "collapsed": false,
     "input": [
      "%%R\n",
      "library(plyr); library(dplyr)\n",
      "library(ggplot2)\n",
      "library(phyloseq)\n",
      "library(tidyr)"
     ],
     "language": "python",
     "metadata": {},
     "outputs": [],
     "prompt_number": 91
    },
    {
     "cell_type": "code",
     "collapsed": false,
     "input": [
      "%%R\n",
      "df = tbl_df(read.table(\"../data/l2fc_table.csv\", sep = \",\"))"
     ],
     "language": "python",
     "metadata": {},
     "outputs": [],
     "prompt_number": 4
    },
    {
     "cell_type": "code",
     "collapsed": false,
     "input": [
      "%%R\n",
      "FDR = 0.10\n",
      "\n",
      "d = df %.%\n",
      "    filter(test == \"greater\") %.%\n",
      "    group_by(OTU) %.%\n",
      "    summarize(N = sum(p.adj <= FDR))\n",
      "\n",
      "sum(d$N > 0)"
     ],
     "language": "python",
     "metadata": {},
     "outputs": [
      {
       "metadata": {},
       "output_type": "display_data",
       "text": [
        "[1] 34\n"
       ]
      }
     ],
     "prompt_number": 7
    },
    {
     "cell_type": "code",
     "collapsed": false,
     "input": [
      "%%R\n",
      "table(d$N)"
     ],
     "language": "python",
     "metadata": {},
     "outputs": [
      {
       "metadata": {},
       "output_type": "display_data",
       "text": [
        "\n",
        "  0   1   2 \n",
        "245  30   4 \n"
       ]
      }
     ],
     "prompt_number": 9
    },
    {
     "cell_type": "code",
     "collapsed": false,
     "input": [
      "%%R\n",
      "FDR = 0.10\n",
      "\n",
      "d = df %.%\n",
      "    filter(test == \"greater\") %.%\n",
      "    group_by(OTU) %.%\n",
      "    summarize(min.p = min(p.adj)) %.%\n",
      "    filter(min.p <= FDR)\n",
      "\n",
      "rspndr.OTUs = d$OTU\n",
      "\n",
      "d.less.padj = df %.%\n",
      "                filter(!(OTU %in% rspndr.OTUs), test == \"less\") %.%\n",
      "                mutate(p.adj.less = p.adjust(p, method = \"BH\")) %.%\n",
      "                select(OTU, test, p.adj.less)\n",
      "\n",
      "d.tmp = left_join(df, d.less.padj)\n",
      "\n",
      "d.plot = d.tmp %.%\n",
      "            group_by(test, Day) %.%\n",
      "            filter(p.adj <= FDR | p.adj.less <= FDR) %.%\n",
      "            summarize(count = n())\n",
      "\n",
      "d.plot"
     ],
     "language": "python",
     "metadata": {},
     "outputs": [
      {
       "metadata": {},
       "output_type": "display_data",
       "text": [
        "Joining by: c(\"test\", \"OTU\")\n",
        "Source: local data frame [4 x 3]\n",
        "Groups: test\n",
        "\n",
        "     test Day count\n",
        "1 greater   2    21\n",
        "2 greater   4    17\n",
        "3    less   2    58\n",
        "4    less   4    70\n"
       ]
      }
     ],
     "prompt_number": 55
    },
    {
     "cell_type": "code",
     "collapsed": false,
     "input": [
      "%%R\n",
      "df %.%\n",
      "    group_by(test, Day) %.%\n",
      "    summarize(total = n())"
     ],
     "language": "python",
     "metadata": {},
     "outputs": [
      {
       "metadata": {},
       "output_type": "display_data",
       "text": [
        "Source: local data frame [4 x 3]\n",
        "Groups: test\n",
        "\n",
        "     test Day total\n",
        "1 greater   2   208\n",
        "2 greater   4   233\n",
        "3    less   2   208\n",
        "4    less   4   233\n"
       ]
      }
     ],
     "prompt_number": 85
    },
    {
     "cell_type": "code",
     "collapsed": false,
     "input": [
      "%%R -h 350\n",
      "p = ggplot(d.plot, aes(x = factor(Day), y = count, fill = test))\n",
      "\n",
      "p = p + geom_bar(stat = \"identity\", position = position_dodge())\n",
      "\n",
      "p = p + theme_bw()\n",
      "\n",
      "p = p + theme(axis.text = element_text(size = 14),\n",
      "              axis.title = element_text(size = 14),\n",
      "              legend.title = element_text(size = 14),\n",
      "              legend.text = element_text(size = 12))\n",
      "\n",
      "p = p + labs(x = \"Day\")\n",
      "\n",
      "p"
     ],
     "language": "python",
     "metadata": {},
     "outputs": [
      {
       "metadata": {},
       "output_type": "display_data",
       "png": "[encoded data removed]"
      }
     ],
     "prompt_number": 63
    },
    {
     "cell_type": "code",
     "collapsed": false,
     "input": [
      "%%R\n",
      "physeq = import_biom(\"../data/otu_table_wtax.biom\")\n",
      "\n",
      "mapfilename = \"../data/sample_data_combined_qiime_format.tsv\"\n",
      "QiimeMap <- read.table(file = mapfilename, header = TRUE, \n",
      "                       sep = \"\\t\", comment.char = \"\", \n",
      "                       colClasses = c(\"Density\" = \"numeric\"))\n",
      "rownames(QiimeMap) <- as.character(QiimeMap[, 1])\n",
      "sample.data1 = sample_data(QiimeMap)\n",
      "\n",
      "physeq = merge_phyloseq(physeq,sample.data1)\n",
      "sample.data2 = sample_data(physeq)\n",
      "physeq = prune_samples(sample.data2$study == \"NSIP\", physeq)"
     ],
     "language": "python",
     "metadata": {},
     "outputs": [],
     "prompt_number": 66
    },
    {
     "cell_type": "code",
     "collapsed": false,
     "input": [
      "%%R\n",
      "mdf = tbl_df(psmelt(physeq))"
     ],
     "language": "python",
     "metadata": {},
     "outputs": [],
     "prompt_number": 68
    },
    {
     "cell_type": "code",
     "collapsed": false,
     "input": [
      "%%R\n",
      "d = mdf %.% \n",
      "    group_by(OTU) %.%\n",
      "    summarize(N = sum(Abundance)) %.%\n",
      "    filter(N == 0)\n",
      "\n",
      "non.sip = d$OTU"
     ],
     "language": "python",
     "metadata": {},
     "outputs": [],
     "prompt_number": 81
    },
    {
     "cell_type": "code",
     "collapsed": false,
     "input": [
      "%%R\n",
      "sparsity.threshold = 0.625\n",
      "density.min = 1.725\n",
      "\n",
      "d = mdf %.% \n",
      "    filter(!(OTU %in% non.sip), Density >= density.min) %.%\n",
      "    group_by(OTU, DayCollected) %.%\n",
      "    summarize(sparsity = sum(Abundance > 0) / length(Abundance)) %.%\n",
      "    filter(sparsity > 0) %.%\n",
      "    group_by(DayCollected) %.%\n",
      "    summarize(N_filtered = sum(sparsity <= sparsity.threshold),\n",
      "              N_kept = sum(sparsity > sparsity.threshold),\n",
      "              count = n())\n",
      "\n",
      "d"
     ],
     "language": "python",
     "metadata": {},
     "outputs": [
      {
       "metadata": {},
       "output_type": "display_data",
       "text": [
        "Source: local data frame [2 x 4]\n",
        "\n",
        "  DayCollected N_filtered N_kept count\n",
        "1            2       1919    208  2127\n",
        "2            4       1927    233  2160\n"
       ]
      }
     ],
     "prompt_number": 121
    },
    {
     "cell_type": "code",
     "collapsed": false,
     "input": [
      "%%R -h 350\n",
      "d$test = \"greater\" #placeholder\n",
      "d$Day = d$DayCollected\n",
      "\n",
      "p = ggplot(d.plot, aes(x = factor(Day), y = count, fill = test))\n",
      "\n",
      "p = p + geom_bar(stat = \"identity\", position = position_dodge())\n",
      "\n",
      "p = p + geom_text(data = d, size = 4.5, y = 77, aes(label = paste(\"total: \",\n",
      "                                                      count,\n",
      "                                                      \"\\n\",\n",
      "                                                      \"passed sparsity: \",\n",
      "                                                      N_kept,\n",
      "                                                      sep=\"\")))\n",
      "\n",
      "p = p + theme_bw()\n",
      "\n",
      "p = p + theme(axis.text = element_text(size = 14),\n",
      "              axis.title = element_text(size = 14),\n",
      "              legend.title = element_text(size = 14),\n",
      "              legend.text = element_text(size = 12))\n",
      "\n",
      "p = p + labs(x = \"Day\")\n",
      "\n",
      "p = p + ylim(c(0,80))\n",
      "\n",
      "p"
     ],
     "language": "python",
     "metadata": {},
     "outputs": [
      {
       "metadata": {},
       "output_type": "display_data",
       "png": "[encoded data removed]"
      }
     ],
     "prompt_number": 147
    },
    {
     "cell_type": "code",
     "collapsed": false,
     "input": [
      "%%R\n",
      "ggsave(\"figs/rspndr_nonrspndr_counts.pdf\", p, h = 6, w = 7)"
     ],
     "language": "python",
     "metadata": {},
     "outputs": [],
     "prompt_number": 148
    },
    {
     "cell_type": "code",
     "collapsed": false,
     "input": [
      "FileLink(\"figs/rspndr_nonrspndr_counts.pdf\")"
     ],
     "language": "python",
     "metadata": {},
     "outputs": [
      {
       "html": [
        "<a href='figs/rspndr_nonrspndr_counts.pdf' target='_blank'>figs/rspndr_nonrspndr_counts.pdf</a><br>"
       ],
       "metadata": {},
       "output_type": "pyout",
       "prompt_number": 134,
       "text": [
        "/home/chuck/working/NSIP_data_analysis/figures_and_stats/figs/rspndr_nonrspndr_counts.pdf"
       ]
      }
     ],
     "prompt_number": 134
    }
   ],
   "metadata": {}
  }
 ]
}
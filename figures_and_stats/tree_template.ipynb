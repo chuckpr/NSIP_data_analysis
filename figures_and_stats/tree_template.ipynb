{
 "metadata": {
  "name": "",
  "signature": "sha256:cc205e4779368b83df4ded469b2f57e762f7d159ff0f13f907c5c28621bf0943"
 },
 "nbformat": 3,
 "nbformat_minor": 0,
 "worksheets": [
  {
   "cells": [
    {
     "cell_type": "code",
     "collapsed": false,
     "input": [
      "from Bio import SeqIO, AlignIO, Phylo\n",
      "from Bio.Phylo.PhyloXML import Taxonomy, Sequence, Property, Accession\n",
      "from Bio.Alphabet import generic_dna\n",
      "import numpy as np\n",
      "from itertools import chain\n",
      "from cogent import LoadSeqs, LoadTree, DNA\n",
      "import matplotlib.pyplot as plt\n",
      "from mpltools import style\n",
      "from cogent.app.fasttree import build_tree_from_alignment\n",
      "import Itol, ItolExport\n",
      "import requests\n",
      "from IPython.display import display, Image, FileLink\n",
      "import pandas.rpy.common as com\n",
      "style.use(\"ggplot\")"
     ],
     "language": "python",
     "metadata": {},
     "outputs": [
      {
       "output_type": "stream",
       "stream": "stderr",
       "text": [
        "/opt/anaconda/lib/python2.7/site-packages/pytz/__init__.py:29: UserWarning: Module argparse was already imported from /opt/anaconda/lib/python2.7/argparse.pyc, but /opt/anaconda/lib/python2.7/site-packages is being added to sys.path\n",
        "  from pkg_resources import resource_stream\n"
       ]
      }
     ],
     "prompt_number": 1
    },
    {
     "cell_type": "code",
     "collapsed": false,
     "input": [
      "%matplotlib inline"
     ],
     "language": "python",
     "metadata": {},
     "outputs": [],
     "prompt_number": 2
    },
    {
     "cell_type": "code",
     "collapsed": false,
     "input": [
      "%load_ext rpy2.ipython"
     ],
     "language": "python",
     "metadata": {},
     "outputs": [],
     "prompt_number": 3
    },
    {
     "cell_type": "code",
     "collapsed": false,
     "input": [
      "%%R\n",
      "library(plyr)\n",
      "library(data.table)\n",
      "library(dplyr)"
     ],
     "language": "python",
     "metadata": {},
     "outputs": [
      {
       "metadata": {},
       "output_type": "display_data",
       "text": [
        "data.table 1.9.2  For help type: help(\"data.table\")\n",
        "\n",
        "Attaching package: \u2018dplyr\u2019\n",
        "\n",
        "The following object is masked from \u2018package:data.table\u2019:\n",
        "\n",
        "    last\n",
        "\n",
        "The following objects are masked from \u2018package:plyr\u2019:\n",
        "\n",
        "    arrange, desc, failwith, id, mutate, summarise, summarize\n",
        "\n",
        "The following objects are masked from \u2018package:stats\u2019:\n",
        "\n",
        "    filter, lag\n",
        "\n",
        "The following objects are masked from \u2018package:base\u2019:\n",
        "\n",
        "    intersect, setdiff, setequal, union\n",
        "\n"
       ]
      }
     ],
     "prompt_number": 4
    },
    {
     "cell_type": "code",
     "collapsed": false,
     "input": [
      "%%R\n",
      "blastout_dt = fread(\"../data/tmp/blast_out_otusn_silvaRefNR115.m6\")\n",
      "blastout_df = tbl_df(blastout_dt)\n",
      "colnames(blastout_df) = c(\"OTU\",\n",
      "                        \"acc\",\n",
      "                        \"pid\",\n",
      "                        \"aln.length\",\n",
      "                        \"mismatches\",\n",
      "                        \"gapOpenCount\",\n",
      "                        \"qstart\",\n",
      "                        \"qend\",\n",
      "                        \"sstart\",\n",
      "                        \"send\",\n",
      "                        \"e.value\",\n",
      "                        \"bit.score\")\n",
      "\n",
      "top_hits_df = blastout_df %.% \n",
      "                          group_by(OTU) %.% \n",
      "                          mutate(Rank = rank(desc(bit.score), ties.method = \"min\")) %.% \n",
      "                          filter(pid >= 97)\n",
      "\n",
      "silva_dt = fread(\"/var/seq_data/silva/silva_blastdb/seqs_metadata.tsv\", sep = \"\\t\")\n",
      "silva_df = tbl_df(silva_dt)\n",
      "silva_df\n",
      "\n",
      "top_hits_df_Ref = left_join(top_hits_df, silva_df, by = \"acc\") %.% group_by(OTU, title) %.% filter(row_number() <= 1)\n",
      "top_hits_df_Ref"
     ],
     "language": "python",
     "metadata": {},
     "outputs": [
      {
       "metadata": {},
       "output_type": "display_data",
       "text": [
        "\r",
        "Read 69.1% of 2098578 rows\r",
        "Read 2098578 rows and 12 (of 12) columns from 0.115 GB file in 00:00:03\n",
        "\r",
        "Read 14.7% of 1426414 rows\r",
        "Read 32.9% of 1426414 rows\r",
        "Read 46.3% of 1426414 rows\r",
        "Read 54.7% of 1426414 rows\r",
        "Read 68.0% of 1426414 rows\r",
        "Read 79.9% of 1426414 rows\r",
        "Read 89.0% of 1426414 rows\r",
        "Read 96.7% of 1426414 rows\r",
        "Read 1426414 rows and 7 (of 7) columns from 0.377 GB file in 00:00:11\n",
        "Source: local data frame [41,543 x 19]\n",
        "Groups: OTU, title\n",
        "\n",
        "     OTU      acc   pid aln.length mismatches gapOpenCount qstart qend sstart\n",
        "1  OTU.1 HQ910311 99.49        195          0            1      1  195    542\n",
        "2  OTU.1 GQ379567 99.49        195          0            1      1  195    442\n",
        "3  OTU.1 FN811236 99.49        195          0            1      1  195    543\n",
        "4  OTU.1 EF654074 99.49        195          0            1      1  195    526\n",
        "5  OTU.1 CP003614 99.49        195          0            1      1  195    542\n",
        "6  OTU.1 AF284803 99.49        195          0            1      1  195    494\n",
        "7  OTU.1 AB074509 99.49        195          0            1      1  195    522\n",
        "8  OTU.1 JQ712893 98.98        196          0            2      1  195    542\n",
        "9  OTU.1 FJ790602 98.97        195          1            1      1  195    522\n",
        "10 OTU.1 GQ396938 98.46        195          2            1      1  195    542\n",
        "..   ...      ...   ...        ...        ...          ...    ...  ...    ...\n",
        "Variables not shown: send (int), e.value (dbl), bit.score (dbl), Rank (int),\n",
        "  full_name (chr), doi (chr), author (chr), title (chr), tax_slv (chr),\n",
        "  pubmed_id (int)\n"
       ]
      }
     ],
     "prompt_number": 5
    },
    {
     "cell_type": "code",
     "collapsed": false,
     "input": [
      "%%R\n",
      "blastout_dt = fread(\"../data/tmp/blast_out_otusn_LTP115.m6\")\n",
      "blastout_df = tbl_df(blastout_dt)\n",
      "colnames(blastout_df) = c(\"OTU\",\n",
      "                        \"acc\",\n",
      "                        \"pid\",\n",
      "                        \"aln.length\",\n",
      "                        \"mismatches\",\n",
      "                        \"gapOpenCount\",\n",
      "                        \"qstart\",\n",
      "                        \"qend\",\n",
      "                        \"sstart\",\n",
      "                        \"send\",\n",
      "                        \"e.value\",\n",
      "                        \"bit.score\")\n",
      "\n",
      "top_hits_df_LTP = blastout_df %.% \n",
      "                          group_by(OTU) %.% \n",
      "                          mutate(Rank = rank(desc(bit.score), ties.method = \"min\")) %.% \n",
      "                          filter(Rank == 1)\n",
      "top_hits_df_LTP"
     ],
     "language": "python",
     "metadata": {},
     "outputs": [
      {
       "metadata": {},
       "output_type": "display_data",
       "text": [
        "Source: local data frame [7,412 x 13]\n",
        "Groups: OTU\n",
        "\n",
        "          OTU      acc    pid aln.length mismatches gapOpenCount qstart qend\n",
        "1       OTU.1   Y18791  90.26        195         18            1      1  195\n",
        "2  DQ531701.1 HM748317  92.62        149          9            2      3  150\n",
        "3       OTU.3 AB363732 100.00        196          0            0      1  196\n",
        "4       OTU.4 AF131296  99.49        196          1            0      1  196\n",
        "5  DQ531697.1   Y18791  89.95        199         14            6      1  196\n",
        "6       OTU.6   Y18791  91.33        196         17            0      1  196\n",
        "7       OTU.7 AB045960  93.33        195         10            3      2  195\n",
        "8       OTU.8 CP000386  91.84        196         16            0      1  196\n",
        "9       OTU.9 AY324110  99.49        197          0            1      1  197\n",
        "10     OTU.10 AB021403  98.98        197          1            1      1  197\n",
        "..        ...      ...    ...        ...        ...          ...    ...  ...\n",
        "Variables not shown: sstart (int), send (int), e.value (dbl), bit.score (dbl),\n",
        "  Rank (int)\n"
       ]
      }
     ],
     "prompt_number": 6
    },
    {
     "cell_type": "code",
     "collapsed": false,
     "input": [
      "%%R\n",
      "df.l2fc = read.table(\"../data/l2fc_table.csv\", sep = \",\", header = TRUE, stringsAsFactors = FALSE)\n",
      "df.l2fc.summary = df.l2fc %.% group_by(OTU) %.% summarize(m = max(log2FoldChange), \n",
      "                                                          Rank2 = first(Rank2), \n",
      "                                                          Rank6 = first(Rank6),\n",
      "                                                          Rank3 = first(Rank3),\n",
      "                                                          Rank5 = first(Rank5),\n",
      "                                                          minP = min(p.adj)) %.% arrange(desc(m))\n",
      "select(df.l2fc.summary, m, minP, Rank5, OTU)"
     ],
     "language": "python",
     "metadata": {},
     "outputs": [
      {
       "metadata": {},
       "output_type": "display_data",
       "text": [
        "Source: local data frame [260 x 4]\n",
        "\n",
        "          m         minP                Rank5      OTU\n",
        "1  2.329295 9.828565e-07 __Enterobacteriaceae   OTU.14\n",
        "2  2.217041 8.636164e-07 __Enterobacteriaceae   OTU.54\n",
        "3  2.131745 1.193829e-05     __Clostridiaceae  OTU.108\n",
        "4  1.816928 6.220589e-06     __Clostridiaceae OTU.1673\n",
        "5  1.625589 9.982638e-03     __Clostridiaceae OTU.4037\n",
        "6  1.517225 2.010230e-02     __Comamonadaceae  OTU.586\n",
        "7  1.510860 2.337982e-02      __Moraxellaceae  OTU.342\n",
        "8  1.457566 9.982638e-03     __Clostridiaceae  OTU.330\n",
        "9  1.449774 2.337982e-02     __Clostridiaceae  OTU.327\n",
        "10 1.427352 4.127532e-03     __Clostridiaceae   OTU.57\n",
        "..      ...          ...                  ...      ...\n"
       ]
      }
     ],
     "prompt_number": 7
    },
    {
     "cell_type": "code",
     "collapsed": false,
     "input": [
      "%%R\n",
      "FDR = 0.10\n",
      "taxon = \"_Clostridiaceae\" #Rank5, dplyr doesn't support string argmuments yet...\n",
      "topN = arrange(df.l2fc.summary, desc(m)) %.% filter(minP <= FDR, Rank5 == \"__Clostridiaceae\") %.% select(OTU)\n",
      "topN_otus = topN$OTU\n",
      "topN_otus"
     ],
     "language": "python",
     "metadata": {},
     "outputs": [
      {
       "metadata": {},
       "output_type": "display_data",
       "text": [
        " [1] \"OTU.108\"  \"OTU.1673\" \"OTU.4037\" \"OTU.330\"  \"OTU.327\"  \"OTU.57\"  \n",
        " [7] \"OTU.3712\" \"OTU.75\"   \"OTU.1747\" \"OTU.37\"   \"OTU.2175\" \"OTU.61\"  \n",
        "[13] \"OTU.11\"   \"OTU.4167\" \"OTU.643\"  \"OTU.17\"  \n"
       ]
      }
     ],
     "prompt_number": 8
    },
    {
     "cell_type": "code",
     "collapsed": false,
     "input": [
      "%%R\n",
      "LTP_accs = (top_hits_df_LTP %.% filter(OTU %in% topN$OTU))$acc\n",
      "Ref_accs = (top_hits_df_Ref %.% filter(OTU %in% topN$OTU))$acc"
     ],
     "language": "python",
     "metadata": {},
     "outputs": [],
     "prompt_number": 9
    },
    {
     "cell_type": "code",
     "collapsed": false,
     "input": [
      "%%R\n",
      "length(Ref_accs)"
     ],
     "language": "python",
     "metadata": {},
     "outputs": [
      {
       "metadata": {},
       "output_type": "display_data",
       "text": [
        "[1] 141\n"
       ]
      }
     ],
     "prompt_number": 10
    },
    {
     "cell_type": "code",
     "collapsed": false,
     "input": [
      "%Rpull Ref_accs LTP_accs topN_otus\n",
      "root = np.array([\"AJ276351\"])\n",
      "keepers = set(np.concatenate([Ref_accs, LTP_accs, root]))\n",
      "keepers = list(keepers)\n",
      "LTP_iter = SeqIO.parse(open(\"/var/seq_data/LTP115_db/LTPs115.compressed.fixed.fasta\"), \"fasta\", alphabet=generic_dna)\n",
      "Ref_iter = SeqIO.parse(open(\"/var/seq_data/silva/silva_blastdb/SSURef_NR99_115_tax_silva.fixed.fasta\"), \n",
      "                       \"fasta\", alphabet=generic_dna)\n",
      "\n",
      "seqs = []\n",
      "used = [] #there are duplicate accessions in LTP (same genome?)\n",
      "for s in chain(LTP_iter, Ref_iter):\n",
      "    if s.id in used:\n",
      "        continue\n",
      "    elif s.id in keepers:\n",
      "        seqs.append(s)\n",
      "        used.append(s.id)\n",
      "\n",
      "with open(\"../data/tmp/test.fasta\", \"w\") as out:\n",
      "    SeqIO.write(seqs, out, \"fasta\")\n",
      "!head -n2 ../data/tmp/test.fasta"
     ],
     "language": "python",
     "metadata": {},
     "outputs": [
      {
       "output_type": "stream",
       "stream": "stdout",
       "text": [
        ">AJ276351\r\n",
        "CCTGGCTCAGGACGAACGCTGGCGGCGTGCCTAATACATGCAAGTCGAGCGGACAGATGG\r\n"
       ]
      }
     ],
     "prompt_number": 11
    },
    {
     "cell_type": "code",
     "collapsed": false,
     "input": [
      "!ssu-align --rfonly -f --dna -n \"bacteria\" ../data/tmp/test.fasta ../data/tmp/test_aln"
     ],
     "language": "python",
     "metadata": {},
     "outputs": [
      {
       "output_type": "stream",
       "stream": "stdout",
       "text": [
        "# ssu-align :: align SSU rRNA sequences\r\n",
        "# SSU-ALIGN 0.1 (June 2010)\r\n",
        "# Copyright (C) 2010 HHMI Janelia Farm Research Campus\r\n",
        "# Freely distributed under the GNU General Public License (GPLv3)\r\n",
        "# - - - - - - - - - - - - - - - - - - - - - - - - - - - - - - - - - - - -\r\n",
        "# command: ssu-align -f -n bacteria --dna --rfonly ../data/tmp/test.fasta ../data/tmp/test_aln\r\n",
        "# date:    Thu Jul 24 13:19:32 2014\r\n"
       ]
      },
      {
       "output_type": "stream",
       "stream": "stdout",
       "text": [
        "#\r\n",
        "# Validating input sequence file ... done.\r\n",
        "#\r\n",
        "# Stage 1: Determining SSU start/end positions and best-matching models...\r\n",
        "#\r\n",
        "# output file name           description                                \r\n",
        "# -------------------------  -------------------------------------------\r\n"
       ]
      },
      {
       "output_type": "stream",
       "stream": "stdout",
       "text": [
        "  test_aln.tab               locations/scores of hits defined by HMM(s)\r\n",
        "  test_aln.bacteria.hitlist  list of sequences to align with bacteria CM\r\n",
        "  test_aln.bacteria.fa           113 sequences to align with bacteria CM\r\n",
        "#\r\n",
        "# Stage 2: Aligning each sequence to its best-matching model...\r\n",
        "#\r\n",
        "# output file name           description\r\n",
        "# -------------------------  ---------------------------------------\r\n"
       ]
      },
      {
       "output_type": "stream",
       "stream": "stdout",
       "text": [
        "  test_aln.bacteria.stk      bacteria alignment\r\n",
        "  test_aln.bacteria.cmalign  bacteria cmalign output\r\n",
        "  test_aln.bacteria.ifile    bacteria insert info\r\n",
        "  test_aln.scores            list of CM/HMM scores for each sequence\r\n",
        "#\r\n",
        "# Summary statistics:\r\n",
        "#\r\n",
        "# model or       number  fraction        average   average               \r\n",
        "# category      of seqs  of total         length  coverage    nucleotides\r\n",
        "# ------------  -------  --------  -------------  --------  -------------\r\n",
        "  *input*           113    1.0000        1418.58    1.0000         160299\r\n",
        "#\r\n",
        "  bacteria          113    1.0000        1416.74    0.9987         160092\r\n",
        "#\r\n",
        "  *all-models*      113    1.0000        1416.74    0.9987         160092\r\n",
        "  *no-models*         0    0.0000              -         -              0\r\n",
        "#\r\n",
        "# Speed statistics:\r\n",
        "#\r\n",
        "# stage      num seqs  seq/sec  seq/sec/model    nucleotides    nt/sec\r\n",
        "# ---------  --------  -------  -------------  -------------  --------\r\n",
        "  search          113    8.680          8.680         160299   12312.6\r\n",
        "  alignment       113    2.693          2.693         160092    3815.3\r\n",
        "#\r\n",
        "#\r\n",
        "# List of executed commands saved in:     test_aln.ssu-align.log.\r\n",
        "# Output printed to the screen saved in:  test_aln.ssu-align.sum.\r\n",
        "#\r\n",
        "# All output files created in directory ./../data/tmp/test_aln/\r\n",
        "#\r\n",
        "# CPU time (search):     00:00:13.02  (hh:mm:ss)\r\n",
        "# CPU time (alignment):  00:00:41.96  (hh:mm:ss)\r\n",
        "# CPU time (total):      00:00:55.10  (hh:mm:ss)\r\n",
        "#\r\n"
       ]
      }
     ],
     "prompt_number": 12
    },
    {
     "cell_type": "code",
     "collapsed": false,
     "input": [
      "!ssu-mask --dna --afa \"../data/tmp/test_aln/\""
     ],
     "language": "python",
     "metadata": {},
     "outputs": [
      {
       "output_type": "stream",
       "stream": "stdout",
       "text": [
        "# ssu-mask :: mask SSU rRNA alignments\r\n",
        "# SSU-ALIGN 0.1 (June 2010)\r\n",
        "# Copyright (C) 2010 HHMI Janelia Farm Research Campus\r\n",
        "# Freely distributed under the GNU General Public License (GPLv3)\r\n",
        "# - - - - - - - - - - - - - - - - - - - - - - - - - - - - - - - - - - - -\r\n",
        "# command: ssu-mask --afa --dna ../data/tmp/test_aln/\r\n",
        "# date:    Thu Jul 24 13:20:27 2014\r\n",
        "#\r\n",
        "# Masking alignments based on posterior probabilities...\r\n",
        "#\r\n",
        "#                                                      mask    \r\n",
        "#                                                  ------------\r\n",
        "# file name                   in/out  type  #cols  incl.  excl.\r\n",
        "# --------------------------  ------  ----  -----  -----  -----\r\n",
        "  test_aln.bacteria.stk        input   aln   1582      -      -\r\n",
        "  test_aln.bacteria.mask      output  mask   1582   1484     98\r\n"
       ]
      },
      {
       "output_type": "stream",
       "stream": "stdout",
       "text": [
        "  test_aln.bacteria.mask.pdf  output   pdf   1582   1484     98\r\n"
       ]
      },
      {
       "output_type": "stream",
       "stream": "stdout",
       "text": [
        "  test_aln.bacteria.mask.afa  output   aln   1484      -      -\r\n",
        "#\r\n",
        "# All attempts to draw structure diagrams of masks were successful.\r\n",
        "#\r\n",
        "# List of executed commands saved in:     test_aln.ssu-mask.log.\r\n",
        "# Output printed to the screen saved in:  test_aln.ssu-mask.sum.\r\n",
        "#\r\n",
        "# All output files created in directory ./../data/tmp/test_aln/\r\n",
        "#\r\n",
        "# CPU time:  00:00:00.50  (hh:mm:ss)\r\n",
        "# \r\n"
       ]
      }
     ],
     "prompt_number": 13
    },
    {
     "cell_type": "code",
     "collapsed": false,
     "input": [
      "aln = LoadSeqs(\"../data/tmp/test_aln/test_aln.bacteria.mask.afa\", format=\"fasta\", moltype=DNA)\n",
      "p = aln.getPosFreqs()\n",
      "\n",
      "gapFreqs = np.array([r[4] for r in p.Data]) #gaps are fifth character in profile object\n",
      "X = np.arange(len(gapFreqs)) + 1\n",
      "\n",
      "fig = plt.figure()\n",
      "fig.set_size_inches(15,2)\n",
      "ax = fig.add_subplot(111)\n",
      "ax.plot(X, gapFreqs, lw=2)\n",
      "yl = ax.set_ylabel(\"gap frequency\")\n",
      "xl = ax.set_xlabel(\"alignment position\")\n",
      "\n",
      "start = np.min(np.where(gapFreqs==0))\n",
      "end = np.max(np.where(gapFreqs==0))\n",
      "ax.axvline(start)\n",
      "ax.axvline(end)\n",
      "print start, end\n",
      "aln = AlignIO.read(\"../data/tmp/test_aln/test_aln.bacteria.mask.afa\", format = \"fasta\")\n",
      "with open(\"../data/tmp/test_aln/test_aln.bacteria.mask.trimmed.fasta\", \"w\") as out:\n",
      "    SeqIO.write(aln[:,start:end+1], out, \"fasta\")\n",
      "!head -n2 ../data/tmp/test_aln/test_aln.bacteria.mask.trimmed.fasta"
     ],
     "language": "python",
     "metadata": {},
     "outputs": [
      {
       "output_type": "stream",
       "stream": "stdout",
       "text": [
        "86 1252\n",
        ">AJ276351\r\n",
        "AGTAACACGTGGGTAACCTGCCTGTAAGACTGGGATAACTCCGGGAAACCGGGGCTAATA\r\n"
       ]
      },
      {
       "metadata": {},
       "output_type": "display_data",
       "png": "[encoded data removed]",
       "text": [
        "<matplotlib.figure.Figure at 0x75bcd90>"
       ]
      }
     ],
     "prompt_number": 14
    },
    {
     "cell_type": "code",
     "collapsed": false,
     "input": [
      "!FastTree -nt -gtr -log ../data/tmp/test.tree.log \\\n",
      "\"../data/tmp/test_aln/test_aln.bacteria.mask.trimmed.fasta\" > ../data/tmp/test.unrooted.tre #2>/dev/null\n",
      "t_unroot = LoadTree(\"../data/tmp/test.unrooted.tre\")\n",
      "t_rooted = t_unroot.rootedWithTip(root[0])\n",
      "t_rooted.writeToFile(\"../data/tmp/test.tree\")"
     ],
     "language": "python",
     "metadata": {},
     "outputs": [
      {
       "output_type": "stream",
       "stream": "stdout",
       "text": [
        "FastTree Version 2.1.3 SSE3\r\n",
        "Alignment: ../data/tmp/test_aln/test_aln.bacteria.mask.trimmed.fasta\r\n",
        "Nucleotide distances: Jukes-Cantor Joins: balanced Support: SH-like 1000\r\n",
        "Search: Normal +NNI +SPR (2 rounds range 10) +ML-NNI opt-each=1\r\n",
        "TopHits: 1.00*sqrtN close=default refresh=0.80\r\n",
        "ML Model: Generalized Time-Reversible, CAT approximation with 20 rate categories\r\n",
        "Ignored unknown character M (seen 1 times)\r\n",
        "Ignored unknown character R (seen 3 times)\r\n",
        "Ignored unknown character S (seen 1 times)\r\n",
        "Ignored unknown character W (seen 1 times)\r\n",
        "Ignored unknown character X (seen 14 times)\r\n",
        "Ignored unknown character Y (seen 1 times)\r\n"
       ]
      },
      {
       "output_type": "stream",
       "stream": "stdout",
       "text": [
        "Initial topology in 0.08 seconds\r\n",
        "Refining topology: 27 rounds ME-NNIs, 2 rounds ME-SPRs, 14 rounds ML-NNIs\r\n",
        "      0.10 seconds: ME NNI round 2 of 27, 101 of 108 splits, 7 changes (max delta 0.004)   \r"
       ]
      },
      {
       "output_type": "stream",
       "stream": "stdout",
       "text": [
        "      0.27 seconds: SPR round   1 of   2, 101 of 218 nodes   \r"
       ]
      },
      {
       "output_type": "stream",
       "stream": "stdout",
       "text": [
        "      0.43 seconds: SPR round   1 of   2, 201 of 218 nodes   \r"
       ]
      },
      {
       "output_type": "stream",
       "stream": "stdout",
       "text": [
        "      0.59 seconds: SPR round   2 of   2, 101 of 218 nodes   \r"
       ]
      },
      {
       "output_type": "stream",
       "stream": "stdout",
       "text": [
        "      0.75 seconds: SPR round   2 of   2, 201 of 218 nodes   \r"
       ]
      },
      {
       "output_type": "stream",
       "stream": "stdout",
       "text": [
        "Total branch-length 1.876 after 0.79 sec\r\n"
       ]
      },
      {
       "output_type": "stream",
       "stream": "stdout",
       "text": [
        "      0.86 seconds: ML Lengths 101 of 108 splits   \r"
       ]
      },
      {
       "output_type": "stream",
       "stream": "stdout",
       "text": [
        "      1.10 seconds: ML NNI round 1 of 14, 101 of 108 splits, 12 changes (max delta 15.581)   \r",
        "ML-NNI round 1: LogLk = -16329.917 NNIs 13 max delta 15.58 Time 1.12\r\n"
       ]
      },
      {
       "output_type": "stream",
       "stream": "stdout",
       "text": [
        "      1.26 seconds: Optimizing GTR model, step 2 of 12   \r"
       ]
      },
      {
       "output_type": "stream",
       "stream": "stdout",
       "text": [
        "      1.45 seconds: Optimizing GTR model, step 4 of 12   \r"
       ]
      },
      {
       "output_type": "stream",
       "stream": "stdout",
       "text": [
        "      1.58 seconds: Optimizing GTR model, step 5 of 12   \r"
       ]
      },
      {
       "output_type": "stream",
       "stream": "stdout",
       "text": [
        "      1.71 seconds: Optimizing GTR model, step 6 of 12   \r"
       ]
      },
      {
       "output_type": "stream",
       "stream": "stdout",
       "text": [
        "      1.83 seconds: Optimizing GTR model, step 7 of 12   \r"
       ]
      },
      {
       "output_type": "stream",
       "stream": "stdout",
       "text": [
        "      1.99 seconds: Optimizing GTR model, step 9 of 12   \r"
       ]
      },
      {
       "output_type": "stream",
       "stream": "stdout",
       "text": [
        "      2.16 seconds: Optimizing GTR model, step 11 of 12   \r"
       ]
      },
      {
       "output_type": "stream",
       "stream": "stdout",
       "text": [
        "      2.27 seconds: Optimizing GTR model, step 12 of 12   \r"
       ]
      },
      {
       "output_type": "stream",
       "stream": "stdout",
       "text": [
        "GTR Frequencies: 0.2721 0.2156 0.3042 0.2080\r\n",
        "GTR rates(ac ag at cg ct gt) 0.7988 2.3087 1.7718 0.8609 4.0095 1.0000\r\n"
       ]
      },
      {
       "output_type": "stream",
       "stream": "stdout",
       "text": [
        "      2.38 seconds: ML Lengths 1 of 108 splits   \r"
       ]
      },
      {
       "output_type": "stream",
       "stream": "stdout",
       "text": [
        "      2.51 seconds: ML Lengths 101 of 108 splits   \r"
       ]
      },
      {
       "output_type": "stream",
       "stream": "stdout",
       "text": [
        "      2.61 seconds: Site likelihoods with rate category 11 of 20   \r"
       ]
      },
      {
       "output_type": "stream",
       "stream": "stdout",
       "text": [
        "Switched to using 20 rate categories (CAT approximation)\r\n",
        "Rate categories were divided by 0.815 so that average rate = 1.0\r\n",
        "CAT-based log-likelihoods may not be comparable across runs\r\n",
        "Use -gamma for approximate but comparable Gamma(20) log-likelihoods\r\n"
       ]
      },
      {
       "output_type": "stream",
       "stream": "stdout",
       "text": [
        "      3.03 seconds: ML NNI round 2 of 14, 101 of 108 splits, 8 changes (max delta 4.115)   \r"
       ]
      },
      {
       "output_type": "stream",
       "stream": "stdout",
       "text": [
        "ML-NNI round 2: LogLk = -13261.264 NNIs 8 max delta 4.12 Time 3.07\r\n"
       ]
      },
      {
       "output_type": "stream",
       "stream": "stdout",
       "text": [
        "ML-NNI round 3: LogLk = -13243.892 NNIs 4 max delta 6.82 Time 3.32\r\n",
        "      3.31 seconds: ML NNI round 4 of 14, 1 of 108 splits   \r"
       ]
      },
      {
       "output_type": "stream",
       "stream": "stdout",
       "text": [
        "ML-NNI round 4: LogLk = -13240.774 NNIs 1 max delta 2.37 Time 3.45\r\n",
        "      3.44 seconds: ML NNI round 5 of 14, 1 of 108 splits   \r"
       ]
      },
      {
       "output_type": "stream",
       "stream": "stdout",
       "text": [
        "ML-NNI round 5: LogLk = -13240.648 NNIs 0 max delta 0.00 Time 3.54\r\n",
        "Turning off heuristics for final round of ML NNIs (converged)\r\n"
       ]
      },
      {
       "output_type": "stream",
       "stream": "stdout",
       "text": [
        "      4.02 seconds: ML NNI round 6 of 14, 101 of 108 splits, 2 changes (max delta 0.274)   \r"
       ]
      },
      {
       "output_type": "stream",
       "stream": "stdout",
       "text": [
        "ML-NNI round 6: LogLk = -13238.366 NNIs 2 max delta 0.27 Time 4.06 (final)\r\n"
       ]
      },
      {
       "output_type": "stream",
       "stream": "stdout",
       "text": [
        "      4.18 seconds: ML Lengths 101 of 108 splits   \r"
       ]
      },
      {
       "output_type": "stream",
       "stream": "stdout",
       "text": [
        "Optimize all lengths: LogLk = -13238.250 Time 4.20\r\n"
       ]
      },
      {
       "output_type": "stream",
       "stream": "stdout",
       "text": [
        "      4.69 seconds: ML split tests for    100 of    107 internal splits   \r"
       ]
      },
      {
       "output_type": "stream",
       "stream": "stdout",
       "text": [
        "Total time: 4.73 seconds Unique: 110/113 Bad splits: 0/107\r\n"
       ]
      }
     ],
     "prompt_number": 15
    },
    {
     "cell_type": "code",
     "collapsed": false,
     "input": [
      "!taxit create -c -l 16S_rRNA -P ../data/tmp/test_refpkg \\\n",
      "    --aln-fasta ../data/tmp/test_aln/test_aln.bacteria.mask.afa \\\n",
      "    --tree-stats ../data/tmp/test.tree.log \\\n",
      "    --tree-file ../data/tmp/test.tree \\\n",
      "    --aln-sto ../data/tmp/test_aln/test_aln.bacteria.stk \\\n",
      "    --profile /opt/bioinfo/ssu-align-0.1/models/bacteria-0p1.cm"
     ],
     "language": "python",
     "metadata": {},
     "outputs": [],
     "prompt_number": 16
    },
    {
     "cell_type": "code",
     "collapsed": false,
     "input": [
      "seeds = LoadSeqs(\"../data/otusn.fasta\", moltype=DNA, aligned=False)\n",
      "topN_seqs = seeds.takeSeqs(list(topN_otus))\n",
      "topN_seqs.writeToFile(\"../data/tmp/topN.fasta\")"
     ],
     "language": "python",
     "metadata": {},
     "outputs": [],
     "prompt_number": 17
    },
    {
     "cell_type": "code",
     "collapsed": false,
     "input": [
      "!refpkg_align.py align --alignment-method INFERNAL \\\n",
      "../data/tmp/test_refpkg/ \\\n",
      "../data/tmp/topN.fasta \\\n",
      "../data/tmp/topN_queries.sto"
     ],
     "language": "python",
     "metadata": {},
     "outputs": [
      {
       "output_type": "stream",
       "stream": "stdout",
       "text": [
        "INFO: cmalign -1 --hbanded --sub --dna -o /home/chuck/working/soil_crust_N_DNASIP/data/tmp/.infernal_alnWvoUe_ /home/chuck/working/soil_crust_N_DNASIP/data/tmp/test_refpkg/bacteria-0p1.cm ../data/tmp/topN.fasta\r\n"
       ]
      },
      {
       "output_type": "stream",
       "stream": "stdout",
       "text": [
        "INFO: Merging.\r\n",
        "INFO: cmalign --merge -o /home/chuck/working/soil_crust_N_DNASIP/data/tmp/.infernal_mergedLxsj5f -1 --hbanded --sub --dna /home/chuck/working/soil_crust_N_DNASIP/data/tmp/test_refpkg/bacteria-0p1.cm /home/chuck/working/soil_crust_N_DNASIP/data/tmp/test_refpkg/test_aln.bacteria.stk /home/chuck/working/soil_crust_N_DNASIP/data/tmp/.infernal_alnWvoUe_\r\n"
       ]
      }
     ],
     "prompt_number": 18
    },
    {
     "cell_type": "code",
     "collapsed": false,
     "input": [
      "!pplacer -c ../data/tmp/test_refpkg/ -o ../data/tmp/topN_queries.jplace ../data/tmp/topN_queries.sto"
     ],
     "language": "python",
     "metadata": {},
     "outputs": [
      {
       "output_type": "stream",
       "stream": "stdout",
       "text": [
        "Running pplacer v1.1.alpha16-2-gb964734 analysis on ../data/tmp/topN_queries.sto...\r\n",
        "Found reference sequences in given alignment file. Using those for reference alignment.\r\n",
        "WARNING: your tree has zero pendant branch lengths. This can lead to zero likelihood values which will keep you from being able to place sequences. You can remove identical sequences with seqmagick.\r\n",
        "Pre-masking sequences... sequence length cut from 1586 to 197.\r\n",
        "Determining figs... figs disabled.\r\n",
        "Allocating memory for internal nodes... done.\r\n",
        "Optimizing site categories... 1 "
       ]
      },
      {
       "output_type": "stream",
       "stream": "stdout",
       "text": [
        "2 3 "
       ]
      },
      {
       "output_type": "stream",
       "stream": "stdout",
       "text": [
        "4 5 "
       ]
      },
      {
       "output_type": "stream",
       "stream": "stdout",
       "text": [
        "6 7 "
       ]
      },
      {
       "output_type": "stream",
       "stream": "stdout",
       "text": [
        "8 9 "
       ]
      },
      {
       "output_type": "stream",
       "stream": "stdout",
       "text": [
        "10 11 12 "
       ]
      },
      {
       "output_type": "stream",
       "stream": "stdout",
       "text": [
        "13 14 "
       ]
      },
      {
       "output_type": "stream",
       "stream": "stdout",
       "text": [
        "15 16 "
       ]
      },
      {
       "output_type": "stream",
       "stream": "stdout",
       "text": [
        "17 18 "
       ]
      },
      {
       "output_type": "stream",
       "stream": "stdout",
       "text": [
        "19 20 done.\r\n",
        "Caching likelihood information on reference tree... "
       ]
      },
      {
       "output_type": "stream",
       "stream": "stdout",
       "text": [
        "done.\r\n",
        "Pulling exponents... done.\r\n",
        "Preparing the edges for baseball... "
       ]
      },
      {
       "output_type": "stream",
       "stream": "stdout",
       "text": [
        "done.\r\n"
       ]
      },
      {
       "output_type": "stream",
       "stream": "stdout",
       "text": [
        "working on OTU.1673 (1/16)...\r"
       ]
      },
      {
       "output_type": "stream",
       "stream": "stdout",
       "text": [
        "working on OTU.327 (11/16)...\r",
        "working on OTU.2175 (16/16)...\r",
        "\r\n"
       ]
      }
     ],
     "prompt_number": 19
    },
    {
     "cell_type": "code",
     "collapsed": false,
     "input": [
      "import pandas as pd\n",
      "ltp_df = pd.read_csv(\"/var/seq_data/LTP115_db/LTPs115_SSU.csv\", sep=\";\", index_col=\"acc\",\n",
      "                     names=[\"acc\",\"start\",\"end\",\"DB.version\",\"name\",\"unknown1\",\"family\",\"unknown2\",\"url\",\"full_tax\"])\n",
      "ltp_df.head()"
     ],
     "language": "python",
     "metadata": {},
     "outputs": [
      {
       "html": [
        "<div style=\"max-height:1000px;max-width:1500px;overflow:auto;\">\n",
        "<table border=\"1\" class=\"dataframe\">\n",
        "  <thead>\n",
        "    <tr style=\"text-align: right;\">\n",
        "      <th></th>\n",
        "      <th>start</th>\n",
        "      <th>end</th>\n",
        "      <th>DB.version</th>\n",
        "      <th>name</th>\n",
        "      <th>unknown1</th>\n",
        "      <th>family</th>\n",
        "      <th>unknown2</th>\n",
        "      <th>url</th>\n",
        "      <th>full_tax</th>\n",
        "    </tr>\n",
        "    <tr>\n",
        "      <th>acc</th>\n",
        "      <th></th>\n",
        "      <th></th>\n",
        "      <th></th>\n",
        "      <th></th>\n",
        "      <th></th>\n",
        "      <th></th>\n",
        "      <th></th>\n",
        "      <th></th>\n",
        "      <th></th>\n",
        "    </tr>\n",
        "  </thead>\n",
        "  <tbody>\n",
        "    <tr>\n",
        "      <th>AABF01000111</th>\n",
        "      <td> 2354</td>\n",
        "      <td> 3854</td>\n",
        "      <td> s93</td>\n",
        "      <td>       Fusobacterium nucleatum subsp. vincentii</td>\n",
        "      <td> NaN</td>\n",
        "      <td>  Fusobacteriaceae</td>\n",
        "      <td>    2</td>\n",
        "      <td>  http://www.bacterio.net/fusobacterium.html</td>\n",
        "      <td> Bacteria;Fusobacteria;Fusobacteriia;Fusobacter...</td>\n",
        "    </tr>\n",
        "    <tr>\n",
        "      <th>AB002485</th>\n",
        "      <td>    1</td>\n",
        "      <td> 1506</td>\n",
        "      <td> s93</td>\n",
        "      <td> Streptococcus dysgalactiae subsp. dysgalactiae</td>\n",
        "      <td> NaN</td>\n",
        "      <td>  Streptococcaceae</td>\n",
        "      <td> 2, t</td>\n",
        "      <td>  http://www.bacterio.net/streptococcus.html</td>\n",
        "      <td> Bacteria;Firmicutes;Bacilli;Lactobacillales;St...</td>\n",
        "    </tr>\n",
        "    <tr>\n",
        "      <th>AB002630</th>\n",
        "      <td>    1</td>\n",
        "      <td> 1514</td>\n",
        "      <td> s93</td>\n",
        "      <td>                                Colwellia maris</td>\n",
        "      <td> NaN</td>\n",
        "      <td>     Colwelliaceae</td>\n",
        "      <td>    1</td>\n",
        "      <td>      http://www.bacterio.net/colwellia.html</td>\n",
        "      <td> Bacteria;Proteobacteria;Gammaproteobacteria;Al...</td>\n",
        "    </tr>\n",
        "    <tr>\n",
        "      <th>AB003935</th>\n",
        "      <td>    1</td>\n",
        "      <td> 1474</td>\n",
        "      <td> s93</td>\n",
        "      <td>                           Kineosporia rhamnosa</td>\n",
        "      <td> NaN</td>\n",
        "      <td>   Kineosporiaceae</td>\n",
        "      <td>    1</td>\n",
        "      <td>    http://www.bacterio.net/kineosporia.html</td>\n",
        "      <td> Bacteria;Actinobacteria;Actinobacteria;Actinob...</td>\n",
        "    </tr>\n",
        "    <tr>\n",
        "      <th>AB004719</th>\n",
        "      <td>    1</td>\n",
        "      <td> 1407</td>\n",
        "      <td> s93</td>\n",
        "      <td>                        Microbacterium saperdae</td>\n",
        "      <td> NaN</td>\n",
        "      <td> Microbacteriaceae</td>\n",
        "      <td>    1</td>\n",
        "      <td> http://www.bacterio.net/microbacterium.html</td>\n",
        "      <td> Bacteria;Actinobacteria;Actinobacteria;Actinob...</td>\n",
        "    </tr>\n",
        "  </tbody>\n",
        "</table>\n",
        "</div>"
       ],
       "metadata": {},
       "output_type": "pyout",
       "prompt_number": 20,
       "text": [
        "              start   end DB.version  \\\n",
        "acc                                    \n",
        "AABF01000111   2354  3854        s93   \n",
        "AB002485          1  1506        s93   \n",
        "AB002630          1  1514        s93   \n",
        "AB003935          1  1474        s93   \n",
        "AB004719          1  1407        s93   \n",
        "\n",
        "                                                        name unknown1  \\\n",
        "acc                                                                     \n",
        "AABF01000111        Fusobacterium nucleatum subsp. vincentii      NaN   \n",
        "AB002485      Streptococcus dysgalactiae subsp. dysgalactiae      NaN   \n",
        "AB002630                                     Colwellia maris      NaN   \n",
        "AB003935                                Kineosporia rhamnosa      NaN   \n",
        "AB004719                             Microbacterium saperdae      NaN   \n",
        "\n",
        "                         family unknown2  \\\n",
        "acc                                        \n",
        "AABF01000111   Fusobacteriaceae        2   \n",
        "AB002485       Streptococcaceae     2, t   \n",
        "AB002630          Colwelliaceae        1   \n",
        "AB003935        Kineosporiaceae        1   \n",
        "AB004719      Microbacteriaceae        1   \n",
        "\n",
        "                                                      url  \\\n",
        "acc                                                         \n",
        "AABF01000111   http://www.bacterio.net/fusobacterium.html   \n",
        "AB002485       http://www.bacterio.net/streptococcus.html   \n",
        "AB002630           http://www.bacterio.net/colwellia.html   \n",
        "AB003935         http://www.bacterio.net/kineosporia.html   \n",
        "AB004719      http://www.bacterio.net/microbacterium.html   \n",
        "\n",
        "                                                       full_tax  \n",
        "acc                                                              \n",
        "AABF01000111  Bacteria;Fusobacteria;Fusobacteriia;Fusobacter...  \n",
        "AB002485      Bacteria;Firmicutes;Bacilli;Lactobacillales;St...  \n",
        "AB002630      Bacteria;Proteobacteria;Gammaproteobacteria;Al...  \n",
        "AB003935      Bacteria;Actinobacteria;Actinobacteria;Actinob...  \n",
        "AB004719      Bacteria;Actinobacteria;Actinobacteria;Actinob...  "
       ]
      }
     ],
     "prompt_number": 20
    },
    {
     "cell_type": "code",
     "collapsed": false,
     "input": [
      "#!guppy fat --point-mass --width-factor 100 -o ../data/tmp/fat.test.xml ../data/tmp/topN_queries.jplace\n",
      "!guppy fat --width-factor 100 -o ../data/tmp/fat.test.xml ../data/tmp/topN_queries.jplace\n",
      "tree = Phylo.parse('../data/tmp/fat.test.xml', 'phyloxml').next()\n",
      "tree.ladderize()\n",
      "for c in tree.get_terminals():    \n",
      "    c.sequences.append(Sequence(accession=Accession(c.name, \"ncbi\")))\n",
      "    try:\n",
      "        c.taxonomy = Taxonomy(scientific_name=ltp_df.loc[c.name][\"name\"])\n",
      "        c.properties.append(Property(\"#ff0000\", \n",
      "                                     ref=\"style:node_color\", \n",
      "                                     applies_to = \"node\", \n",
      "                                     datatype=\"xsd:token\"))\n",
      "    except KeyError:\n",
      "        continue\n",
      "        \n",
      "Phylo.write(tree, \"../data/tmp/fat.test.xml\", \"phyloxml\")"
     ],
     "language": "python",
     "metadata": {},
     "outputs": [
      {
       "metadata": {},
       "output_type": "pyout",
       "prompt_number": 21,
       "text": [
        "1"
       ]
      }
     ],
     "prompt_number": 21
    },
    {
     "cell_type": "code",
     "collapsed": false,
     "input": [
      "i = Image(filename=\"../data/tmp/fat.test.png\", height=1200)\n",
      "display(i)"
     ],
     "language": "python",
     "metadata": {},
     "outputs": [
      {
       "metadata": {
        "png": {
         "height": 1200
        }
       },
       "output_type": "display_data",
       "png": "[encoded data removed]",
       "text": [
        "<IPython.core.display.Image at 0x75aeb10>"
       ]
      }
     ],
     "prompt_number": 24
    },
    {
     "cell_type": "code",
     "collapsed": false,
     "input": [
      "FileLink(\"../data/tmp/fat.test.png\")"
     ],
     "language": "python",
     "metadata": {},
     "outputs": [
      {
       "html": [
        "<a href='../data/tmp/fat.test.png' target='_blank'>../data/tmp/fat.test.png</a><br>"
       ],
       "metadata": {},
       "output_type": "pyout",
       "prompt_number": 2,
       "text": [
        "/home/chuck/working/soil_crust_N_DNASIP/data/tmp/fat.test.png"
       ]
      }
     ],
     "prompt_number": 2
    }
   ],
   "metadata": {}
  }
 ]
}
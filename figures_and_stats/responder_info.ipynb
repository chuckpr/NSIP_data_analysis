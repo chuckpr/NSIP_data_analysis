{
 "metadata": {
  "name": "",
  "signature": "sha256:7e0c8853d826f5ce39fd034152038b330017cda8a3acd6e862676da23c9f98fd"
 },
 "nbformat": 3,
 "nbformat_minor": 0,
 "worksheets": [
  {
   "cells": [
    {
     "cell_type": "code",
     "collapsed": false,
     "input": [
      "%load_ext rpy2.ipython"
     ],
     "language": "python",
     "metadata": {},
     "outputs": [
      {
       "output_type": "stream",
       "stream": "stderr",
       "text": [
        "/opt/anaconda/lib/python2.7/site-packages/pytz/__init__.py:29: UserWarning: Module argparse was already imported from /opt/anaconda/lib/python2.7/argparse.pyc, but /opt/anaconda/lib/python2.7/site-packages is being added to sys.path\n",
        "  from pkg_resources import resource_stream\n"
       ]
      }
     ],
     "prompt_number": 2
    },
    {
     "cell_type": "code",
     "collapsed": false,
     "input": [
      "%%R\n",
      "library(plyr); library(dplyr)\n",
      "library(ggplot2)\n",
      "library(RColorBrewer)"
     ],
     "language": "python",
     "metadata": {},
     "outputs": [
      {
       "metadata": {},
       "output_type": "display_data",
       "text": [
        "\n",
        "Attaching package: \u2018dplyr\u2019\n",
        "\n",
        "The following objects are masked from \u2018package:plyr\u2019:\n",
        "\n",
        "    arrange, count, desc, failwith, id, mutate, rename, summarise,\n",
        "    summarize\n",
        "\n",
        "The following object is masked from \u2018package:stats\u2019:\n",
        "\n",
        "    filter\n",
        "\n",
        "The following objects are masked from \u2018package:base\u2019:\n",
        "\n",
        "    intersect, setdiff, setequal, union\n",
        "\n"
       ]
      }
     ],
     "prompt_number": 3
    },
    {
     "cell_type": "code",
     "collapsed": false,
     "input": [
      "%%R\n",
      "df.l2fc = tbl_df(read.table(\"../data/l2fc_table.csv\", \n",
      "                            sep = \",\", \n",
      "                            header = TRUE))\n",
      "df.l2fc"
     ],
     "language": "python",
     "metadata": {},
     "outputs": [
      {
       "metadata": {},
       "output_type": "display_data",
       "text": [
        "Source: local data frame [2,124 x 17]\n",
        "\n",
        "        OTU Day    test day l2fc.threshold log2FoldChange           p    Rank1\n",
        "1  OTU.1716   2 greater   2           0.25     -2.0987792 0.996345573 Bacteria\n",
        "2  OTU.1968   2 greater   2           0.25     -1.2241622 0.958789643 Bacteria\n",
        "3  OTU.4339   2 greater   2           0.25     -2.2611392 0.998975993 Bacteria\n",
        "4    OTU.88   2 greater   2           0.25      2.1743272 0.006897358 Bacteria\n",
        "5    OTU.80   2 greater   2           0.25     -1.1549798 0.999992051 Bacteria\n",
        "6    OTU.81   2 greater   2           0.25     -0.9175128 0.943947485 Bacteria\n",
        "7    OTU.86   2 greater   2           0.25     -1.1238801 0.973439750 Bacteria\n",
        "8    OTU.87   2 greater   2           0.25     -2.1295733 0.996644594 Bacteria\n",
        "9    OTU.85   2 greater   2           0.25     -0.3872373 0.915974115 Bacteria\n",
        "10 OTU.4062   2 greater   2           0.25      1.0874669 0.156841547 Bacteria\n",
        "..      ... ...     ... ...            ...            ...         ...      ...\n",
        "Variables not shown: Rank2 (fctr), Rank3 (fctr), Rank4 (fctr), Rank5 (fctr),\n",
        "  Rank6 (fctr), Rank7 (fctr), Rank8 (fctr), sparsity.threshold (dbl), p.adj\n",
        "  (dbl)\n"
       ]
      }
     ],
     "prompt_number": 4
    },
    {
     "cell_type": "code",
     "collapsed": false,
     "input": [
      "%%R\n",
      "FDR = 0.10\n",
      "\n",
      "df.l2fc %.%\n",
      "    filter(p.adj <= FDR) %.%\n",
      "    group_by(Rank2) %.%\n",
      "    summarize(count = n())"
     ],
     "language": "python",
     "metadata": {},
     "outputs": [
      {
       "metadata": {},
       "output_type": "display_data",
       "text": [
        "Source: local data frame [4 x 2]\n",
        "\n",
        "             Rank2 count\n",
        "1   Actinobacteria     2\n",
        "2       Firmicutes    20\n",
        "3 Gemmatimonadetes     1\n",
        "4   Proteobacteria    12\n"
       ]
      }
     ],
     "prompt_number": 5
    },
    {
     "cell_type": "code",
     "collapsed": false,
     "input": [
      "%%R\n",
      "df.l2fc %.%\n",
      "    filter(p.adj <= FDR) %.%\n",
      "    group_by(Rank6) %.%\n",
      "    summarize(count = n())"
     ],
     "language": "python",
     "metadata": {},
     "outputs": [
      {
       "metadata": {},
       "output_type": "display_data",
       "text": [
        "Source: local data frame [13 x 2]\n",
        "\n",
        "                  Rank6 count\n",
        "1          Azospirillum     2\n",
        "2              Bacillus     2\n",
        "3      Cellulosilyticum     1\n",
        "4           Clostridium     6\n",
        "5               Delftia     1\n",
        "6          Enterobacter     1\n",
        "7  Escherichia-Shigella     2\n",
        "8        Incertae_Sedis     1\n",
        "9           Pseudomonas     2\n",
        "10     Stenotrophomonas     1\n",
        "11      Symbiobacterium     1\n",
        "12           uncultured     8\n",
        "13                   NA     7\n"
       ]
      }
     ],
     "prompt_number": 6
    },
    {
     "cell_type": "code",
     "collapsed": false,
     "input": [
      "%%R\n",
      "FDR = 10\n",
      "df.l2fc$Rank2 = as.character(df.l2fc$Rank2)\n",
      "\n",
      "d = df.l2fc %.%\n",
      "    filter(p.adj <= FDR) %.%\n",
      "    group_by(OTU) %.%\n",
      "    summarize(maxl2fc = max(log2FoldChange), \n",
      "              Rank2 = first(Rank2), \n",
      "              Rank3 = first(Rank3)) %.%\n",
      "    arrange(desc(maxl2fc))\n",
      "\n",
      "d[1:10,] %.% \n",
      "    group_by(Rank2) %.%\n",
      "    summarize(count = n())"
     ],
     "language": "python",
     "metadata": {},
     "outputs": [
      {
       "metadata": {},
       "output_type": "display_data",
       "text": [
        "Source: local data frame [4 x 2]\n",
        "\n",
        "             Rank2 count\n",
        "1   Actinobacteria     1\n",
        "2       Firmicutes     3\n",
        "3 Gemmatimonadetes     1\n",
        "4   Proteobacteria     5\n"
       ]
      }
     ],
     "prompt_number": 7
    },
    {
     "cell_type": "code",
     "collapsed": false,
     "input": [
      "%%R\n",
      "d = df.l2fc %.%\n",
      "    filter(p.adj <= FDR) %.%\n",
      "    arrange(desc(log2FoldChange))\n",
      "\n",
      "d[1:10,] %.% \n",
      "    group_by(Rank3) %.%\n",
      "    summarize(count = n())"
     ],
     "language": "python",
     "metadata": {},
     "outputs": [
      {
       "metadata": {},
       "output_type": "display_data",
       "text": [
        "Source: local data frame [4 x 2]\n",
        "\n",
        "                           Rank3 count\n",
        "1 AT425-EubC11_terrestrial_group     1\n",
        "2                     Clostridia     3\n",
        "3            Gammaproteobacteria     5\n",
        "4                  Micrococcales     1\n"
       ]
      }
     ],
     "prompt_number": 8
    },
    {
     "cell_type": "code",
     "collapsed": false,
     "input": [
      "%%R -w 600 -h 400\n",
      "FDR = 0.10\n",
      "d = df.l2fc %.% filter(p.adj <= FDR)\n",
      "\n",
      "d$Rank5 = as.character(d$Rank5)\n",
      "d$Rank5[is.na(d$Rank5)] = \"unclassified\"\n",
      "\n",
      "colourCount = length(unique(d$Rank5))\n",
      "getPalette = colorRampPalette(brewer.pal(colourCount, \"Set3\"))\n",
      "\n",
      "p = ggplot(d, aes(x = Rank2, fill = Rank5))\n",
      "\n",
      "p = p + geom_bar(color = \"grey20\")\n",
      "\n",
      "p = p + scale_fill_manual(values = getPalette(colourCount))\n",
      "\n",
      "p = p + theme_bw()\n",
      "\n",
      "p = p + theme(axis.text.x = element_text(size = 14, angle = 45, hjust = 1.05),\n",
      "              axis.title.y = element_text(size = 14), \n",
      "              axis.title.x = element_blank(),\n",
      "              legend.title = element_text(size = 14),\n",
      "              legend.text = element_text(size = 14))\n",
      "\n",
      "p"
     ],
     "language": "python",
     "metadata": {},
     "outputs": [
      {
       "metadata": {},
       "output_type": "display_data",
       "png": "[encoded data removed]"
      }
     ],
     "prompt_number": 9
    },
    {
     "cell_type": "code",
     "collapsed": false,
     "input": [
      "%%R\n",
      "sessionInfo()"
     ],
     "language": "python",
     "metadata": {},
     "outputs": [
      {
       "metadata": {},
       "output_type": "display_data",
       "text": [
        "R version 3.1.2 (2014-10-31)\n",
        "Platform: x86_64-pc-linux-gnu (64-bit)\n",
        "\n",
        "locale:\n",
        " [1] LC_CTYPE=en_US.UTF-8       LC_NUMERIC=C              \n",
        " [3] LC_TIME=en_US.UTF-8        LC_COLLATE=en_US.UTF-8    \n",
        " [5] LC_MONETARY=en_US.UTF-8    LC_MESSAGES=en_US.UTF-8   \n",
        " [7] LC_PAPER=en_US.UTF-8       LC_NAME=C                 \n",
        " [9] LC_ADDRESS=C               LC_TELEPHONE=C            \n",
        "[11] LC_MEASUREMENT=en_US.UTF-8 LC_IDENTIFICATION=C       \n",
        "\n",
        "attached base packages:\n",
        "[1] tools     stats     graphics  grDevices utils     datasets  methods  \n",
        "[8] base     \n",
        "\n",
        "other attached packages:\n",
        "[1] RColorBrewer_1.0-5 ggplot2_1.0.0      dplyr_0.3.0.2      plyr_1.8.1        \n",
        "\n",
        "loaded via a namespace (and not attached):\n",
        " [1] assertthat_0.1   colorspace_1.2-4 DBI_0.3.1        digest_0.6.4    \n",
        " [5] grid_3.1.2       gtable_0.1.2     labeling_0.3     lazyeval_0.1.9  \n",
        " [9] magrittr_1.0.1   MASS_7.3-35      munsell_0.4.2    parallel_3.1.2  \n",
        "[13] proto_0.3-10     Rcpp_0.11.3      reshape2_1.4     scales_0.2.4    \n",
        "[17] stringr_0.6.2   \n"
       ]
      }
     ],
     "prompt_number": 10
    }
   ],
   "metadata": {}
  }
 ]
}
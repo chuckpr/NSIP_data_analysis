{
 "metadata": {
  "name": "",
  "signature": "sha256:2b352cf7cb5c3d6c9432688522f354843ec7eec922f26a6f355f950da40377e6"
 },
 "nbformat": 3,
 "nbformat_minor": 0,
 "worksheets": [
  {
   "cells": [
    {
     "cell_type": "code",
     "collapsed": false,
     "input": [
      "%load_ext rpy2.ipython"
     ],
     "language": "python",
     "metadata": {},
     "outputs": [
      {
       "output_type": "stream",
       "stream": "stdout",
       "text": [
        "The rpy2.ipython extension is already loaded. To reload it, use:\n",
        "  %reload_ext rpy2.ipython\n"
       ]
      }
     ],
     "prompt_number": 81
    },
    {
     "cell_type": "code",
     "collapsed": false,
     "input": [
      "%%R\n",
      "library(plyr); library(dplyr)\n",
      "library(ggplot2)\n",
      "library(RColorBrewer)"
     ],
     "language": "python",
     "metadata": {},
     "outputs": [],
     "prompt_number": 82
    },
    {
     "cell_type": "code",
     "collapsed": false,
     "input": [
      "%%R\n",
      "df.l2fc = tbl_df(read.table(\"../data/l2fc_table.csv\", \n",
      "                            sep = \",\", \n",
      "                            header = TRUE))\n",
      "df.l2fc"
     ],
     "language": "python",
     "metadata": {},
     "outputs": [
      {
       "metadata": {},
       "output_type": "display_data",
       "text": [
        "Source: local data frame [441 x 16]\n",
        "\n",
        "      day l2fc.threshold log2FoldChange           p    Rank1          Rank2\n",
        "15093   2           0.25     1.19815188 0.007149180 Bacteria     Firmicutes\n",
        "15094   2           0.25    -0.70067304 0.999814511 Bacteria Proteobacteria\n",
        "15095   2           0.25    -0.05519348 0.825557028 Bacteria Actinobacteria\n",
        "15096   2           0.25    -0.12337609 0.845317528 Bacteria Proteobacteria\n",
        "15097   2           0.25    -0.05502316 0.795926149 Bacteria Actinobacteria\n",
        "15098   2           0.25    -0.33044312 0.949254815 Bacteria Proteobacteria\n",
        "15099   2           0.25    -0.69753234 0.995677987 Bacteria Proteobacteria\n",
        "15100   2           0.25     0.70849928 0.112261297 Bacteria     Firmicutes\n",
        "15101   2           0.25     1.11638306 0.003723489 Bacteria     Firmicutes\n",
        "15102   2           0.25     1.15820207 0.009763531 Bacteria Proteobacteria\n",
        "..    ...            ...            ...         ...      ...            ...\n",
        "Variables not shown: Rank3 (fctr), Rank4 (fctr), Rank5 (fctr), Rank6 (fctr),\n",
        "  Rank7 (fctr), Rank8 (fctr), OTU (fctr), Day (int), sparsity.threshold (dbl),\n",
        "  p.adj (dbl)\n"
       ]
      }
     ],
     "prompt_number": 83
    },
    {
     "cell_type": "code",
     "collapsed": false,
     "input": [
      "%%R\n",
      "FDR = 0.10\n",
      "\n",
      "df.l2fc %.%\n",
      "    filter(p.adj <= FDR) %.%\n",
      "    group_by(Rank2) %.%\n",
      "    summarize(count = n())"
     ],
     "language": "python",
     "metadata": {},
     "outputs": [
      {
       "metadata": {},
       "output_type": "display_data",
       "text": [
        "Source: local data frame [4 x 2]\n",
        "\n",
        "           Rank2 count\n",
        "1  Acidobacteria     2\n",
        "2 Actinobacteria     1\n",
        "3     Firmicutes    26\n",
        "4 Proteobacteria     9\n"
       ]
      }
     ],
     "prompt_number": 84
    },
    {
     "cell_type": "code",
     "collapsed": false,
     "input": [
      "%%R\n",
      "df.l2fc %.%\n",
      "    filter(p.adj <= FDR) %.%\n",
      "    group_by(Rank6) %.%\n",
      "    summarize(count = n())"
     ],
     "language": "python",
     "metadata": {},
     "outputs": [
      {
       "metadata": {},
       "output_type": "display_data",
       "text": [
        "Source: local data frame [11 x 2]\n",
        "\n",
        "                  Rank6 count\n",
        "1          Azospirillum     2\n",
        "2              Bacillus     1\n",
        "3           Clostridium    13\n",
        "4               Delftia     1\n",
        "5  Escherichia-Shigella     3\n",
        "6        Incertae_Sedis     1\n",
        "7             Lutispora     1\n",
        "8      Stenotrophomonas     1\n",
        "9       Symbiobacterium     2\n",
        "10           uncultured     7\n",
        "11                   NA     6\n"
       ]
      }
     ],
     "prompt_number": 85
    },
    {
     "cell_type": "code",
     "collapsed": false,
     "input": [
      "%%R\n",
      "FDR = 10\n",
      "df.l2fc$Rank2 = as.character(df.l2fc$Rank2)\n",
      "\n",
      "d = df.l2fc %.%\n",
      "    filter(p.adj <= FDR) %.%\n",
      "    group_by(OTU) %.%\n",
      "    summarize(maxl2fc = max(log2FoldChange), \n",
      "              Rank2 = first(Rank2), \n",
      "              Rank3 = first(Rank3)) %.%\n",
      "    arrange(desc(maxl2fc))\n",
      "\n",
      "d[1:10,] %.% \n",
      "    group_by(Rank2) %.%\n",
      "    summarize(count = n())"
     ],
     "language": "python",
     "metadata": {},
     "outputs": [
      {
       "metadata": {},
       "output_type": "display_data",
       "text": [
        "Source: local data frame [2 x 2]\n",
        "\n",
        "           Rank2 count\n",
        "1     Firmicutes     6\n",
        "2 Proteobacteria     4\n"
       ]
      }
     ],
     "prompt_number": 96
    },
    {
     "cell_type": "code",
     "collapsed": false,
     "input": [
      "%%R\n",
      "d = df.l2fc %.%\n",
      "    filter(p.adj <= FDR) %.%\n",
      "    arrange(desc(log2FoldChange))\n",
      "\n",
      "d[1:10,] %.% \n",
      "    group_by(Rank3) %.%\n",
      "    summarize(count = n())"
     ],
     "language": "python",
     "metadata": {},
     "outputs": [
      {
       "metadata": {},
       "output_type": "display_data",
       "text": [
        "Source: local data frame [3 x 2]\n",
        "\n",
        "                Rank3 count\n",
        "1  Betaproteobacteria     1\n",
        "2          Clostridia     5\n",
        "3 Gammaproteobacteria     4\n"
       ]
      }
     ],
     "prompt_number": 107
    },
    {
     "cell_type": "code",
     "collapsed": false,
     "input": [
      "%%R -w 600 -h 400\n",
      "FDR = 0.10\n",
      "d = df.l2fc %.% filter(p.adj <= FDR)\n",
      "\n",
      "d$Rank5 = as.character(d$Rank5)\n",
      "d$Rank5[is.na(d$Rank5)] = \"unclassified\"\n",
      "\n",
      "colourCount = length(unique(d$Rank5))\n",
      "getPalette = colorRampPalette(brewer.pal(colourCount, \"Set3\"))\n",
      "\n",
      "p = ggplot(d, aes(x = Rank2, fill = Rank5))\n",
      "\n",
      "p = p + geom_bar(color = \"grey20\")\n",
      "\n",
      "p = p + scale_fill_manual(values = getPalette(colourCount))\n",
      "\n",
      "p = p + theme_bw()\n",
      "\n",
      "p = p + theme(axis.text.x = element_text(size = 14, angle = 45, hjust = 1.05),\n",
      "              axis.title.y = element_text(size = 14), \n",
      "              axis.title.x = element_blank(),\n",
      "              legend.title = element_text(size = 14),\n",
      "              legend.text = element_text(size = 14))\n",
      "\n",
      "p"
     ],
     "language": "python",
     "metadata": {},
     "outputs": [
      {
       "metadata": {},
       "output_type": "display_data",
       "png": "[encoded data removed]"
      }
     ],
     "prompt_number": 88
    }
   ],
   "metadata": {}
  }
 ]
}
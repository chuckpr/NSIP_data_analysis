{
 "metadata": {
  "name": "",
  "signature": "sha256:8315729e2f4e9456cb3b1a240f9c8ae1c126a169e0578e756341c3443016a01f"
 },
 "nbformat": 3,
 "nbformat_minor": 0,
 "worksheets": [
  {
   "cells": [
    {
     "cell_type": "code",
     "collapsed": false,
     "input": [
      "from IPython.display import Image, FileLink\n",
      "import pandas.rpy.common as com"
     ],
     "language": "python",
     "metadata": {},
     "outputs": [],
     "prompt_number": 250
    },
    {
     "cell_type": "code",
     "collapsed": false,
     "input": [
      "%load_ext rpy2.ipython"
     ],
     "language": "python",
     "metadata": {},
     "outputs": [
      {
       "output_type": "stream",
       "stream": "stdout",
       "text": [
        "The rpy2.ipython extension is already loaded. To reload it, use:\n",
        "  %reload_ext rpy2.ipython\n"
       ]
      }
     ],
     "prompt_number": 251
    },
    {
     "cell_type": "code",
     "collapsed": false,
     "input": [
      "%%R\n",
      "library(data.table)\n",
      "library(dplyr)"
     ],
     "language": "python",
     "metadata": {},
     "outputs": [],
     "prompt_number": 252
    },
    {
     "cell_type": "code",
     "collapsed": false,
     "input": [
      "%%R\n",
      "blastout_dt = fread(\"../data/tmp/blast_out_otusn_LTP115.m6\")\n",
      "blastout_df = tbl_df(blastout_dt)\n",
      "colnames(blastout_df) = c(\"OTU\",\n",
      "                        \"acc\",\n",
      "                        \"pid\",\n",
      "                        \"aln.length\",\n",
      "                        \"mismatches\",\n",
      "                        \"gapOpenCount\",\n",
      "                        \"qstart\",\n",
      "                        \"qend\",\n",
      "                        \"sstart\",\n",
      "                        \"send\",\n",
      "                        \"e.value\",\n",
      "                        \"bit.score\")\n",
      "\n",
      "top_hits_df_LTP = blastout_df %.% \n",
      "                          group_by(OTU) %.% \n",
      "                          mutate(Rank = rank(desc(bit.score), ties.method = \"min\")) %.% \n",
      "                          filter(Rank == 1)"
     ],
     "language": "python",
     "metadata": {},
     "outputs": [],
     "prompt_number": 253
    },
    {
     "cell_type": "code",
     "collapsed": false,
     "input": [
      "%%R\n",
      "dt = fread(\"/var/seq_data/LTP115_db/LTPs115_SSU.csv\")\n",
      "colnames(dt) = c(\"acc\",\"start\",\"end\",\"DB.version\",\"name\",\"unknown1\",\"family\",\"unknown2\",\"url\",\"full_tax\")\n",
      "LTP_seq_data = tbl_df(dt)"
     ],
     "language": "python",
     "metadata": {},
     "outputs": [],
     "prompt_number": 254
    },
    {
     "cell_type": "code",
     "collapsed": false,
     "input": [
      "%%R\n",
      "joined_df = left_join(top_hits_df_LTP, LTP_seq_data)"
     ],
     "language": "python",
     "metadata": {},
     "outputs": [
      {
       "metadata": {},
       "output_type": "display_data",
       "text": [
        "Joining by: \"acc\"\n"
       ]
      }
     ],
     "prompt_number": 255
    },
    {
     "cell_type": "code",
     "collapsed": false,
     "input": [
      "%%R\n",
      "df.l2fc = read.table(\"../data/l2fc_table.csv\", sep = \",\", header = TRUE, stringsAsFactors = FALSE)\n",
      "df.l2fc.summary = df.l2fc %.% filter(test == \"greater\") %.% group_by(OTU) %.% summarize(m = max(log2FoldChange), \n",
      "                                                          Rank2 = first(Rank2), \n",
      "                                                          Rank6 = first(Rank6),\n",
      "                                                          Rank3 = first(Rank3),\n",
      "                                                          Rank5 = first(Rank5),\n",
      "                                                          minP = min(p.adj)) %.% arrange(desc(m))"
     ],
     "language": "python",
     "metadata": {},
     "outputs": [],
     "prompt_number": 256
    },
    {
     "cell_type": "code",
     "collapsed": false,
     "input": [
      "%%R\n",
      "df.l2fc.summary"
     ],
     "language": "python",
     "metadata": {},
     "outputs": [
      {
       "metadata": {},
       "output_type": "display_data",
       "text": [
        "Source: local data frame [279 x 7]\n",
        "\n",
        "        OTU        m          Rank2                Rank6               Rank3\n",
        "1    OTU.14 2.298173 Proteobacteria Escherichia-Shigella Gammaproteobacteria\n",
        "2    OTU.54 2.221620 Proteobacteria Escherichia-Shigella Gammaproteobacteria\n",
        "3   OTU.108 2.111335     Firmicutes           uncultured          Clostridia\n",
        "4  OTU.1673 1.817575     Firmicutes          Clostridium          Clostridia\n",
        "5  OTU.4037 1.550140     Firmicutes           uncultured          Clostridia\n",
        "6   OTU.586 1.541128 Proteobacteria           uncultured  Betaproteobacteria\n",
        "7   OTU.342 1.475446 Proteobacteria                   NA Gammaproteobacteria\n",
        "8   OTU.330 1.465620     Firmicutes          Clostridium          Clostridia\n",
        "9    OTU.57 1.451817     Firmicutes           uncultured          Clostridia\n",
        "10  OTU.327 1.433451     Firmicutes          Clostridium          Clostridia\n",
        "..      ...      ...            ...                  ...                 ...\n",
        "Variables not shown: Rank5 (chr), minP (dbl)\n"
       ]
      }
     ],
     "prompt_number": 257
    },
    {
     "cell_type": "code",
     "collapsed": false,
     "input": [
      "%%R\n",
      "FDR = 0.10\n",
      "rspndr_df = df.l2fc.summary %.% filter(minP <= FDR)\n",
      "rspndr_otus = rspndr_df$OTU\n",
      "table_df = joined_df %.% filter(OTU %in% rspndr_otus)"
     ],
     "language": "python",
     "metadata": {},
     "outputs": [],
     "prompt_number": 258
    },
    {
     "cell_type": "code",
     "collapsed": false,
     "input": [
      "%%R\n",
      "table_df = left_join(table_df, df.l2fc.summary %.% select(OTU, Rank2))"
     ],
     "language": "python",
     "metadata": {},
     "outputs": [
      {
       "metadata": {},
       "output_type": "display_data",
       "text": [
        "Joining by: \"OTU\"\n"
       ]
      }
     ],
     "prompt_number": 270
    },
    {
     "cell_type": "code",
     "collapsed": false,
     "input": [
      "%%R\n",
      "N = 10 \n",
      "topN = (rspndr_df %.% arrange(desc(m)))[1:N,]\n",
      "topN_otus = topN$OTU\n",
      "table_df$topN = ifelse(table_df$OTU %in% topN_otus, \"yes\", \"no\")"
     ],
     "language": "python",
     "metadata": {},
     "outputs": [],
     "prompt_number": 273
    },
    {
     "cell_type": "code",
     "collapsed": false,
     "input": [
      "%%R\n",
      "table_df = table_df %.% arrange(Rank2, name)"
     ],
     "language": "python",
     "metadata": {},
     "outputs": [],
     "prompt_number": 285
    },
    {
     "cell_type": "code",
     "collapsed": false,
     "input": [
      "df = com.load_data(\"table_df\")"
     ],
     "language": "python",
     "metadata": {},
     "outputs": [],
     "prompt_number": 286
    },
    {
     "cell_type": "code",
     "collapsed": false,
     "input": [
      "def species_str(s):\n",
      "    genera = []\n",
      "    sp = []\n",
      "    for i in s.values:\n",
      "        genus, species = i.split(\" \",1)\n",
      "        if genus in genera:\n",
      "            sp.append(genus[0] + \".\" + \"~\" + species.replace(\" \", \"~\"))\n",
      "        else:\n",
      "            sp.append(i.replace(\" \", \"~\"))\n",
      "        genera.append(genus)\n",
      "    return \", \".join(sp)"
     ],
     "language": "python",
     "metadata": {},
     "outputs": [],
     "prompt_number": 287
    },
    {
     "cell_type": "code",
     "collapsed": false,
     "input": [
      "def get_genera(s):\n",
      "    genera = []\n",
      "    for i in s.values:\n",
      "        genus, species = i.split(\" \",1)\n",
      "        genera.append(genus)\n",
      "    return \", \".join(list(set(genera)))"
     ],
     "language": "python",
     "metadata": {},
     "outputs": [],
     "prompt_number": 288
    },
    {
     "cell_type": "code",
     "collapsed": false,
     "input": [
      "def get_latex(df):\n",
      "    latex = \"\"\n",
      "    OTU = df.OTU.iloc[0]\n",
      "    #species = species_str(df[\"name\"])\n",
      "    genera = get_genera(df[\"name\"])\n",
      "    pid = df.pid.iloc[0]\n",
      "    phylum = df.Rank2.iloc[0]\n",
      "    topN = df.topN.iloc[0]\n",
      "    #acc = df.acc.iloc[0]\n",
      "    return OTU + \" & \" + genera + \" & \" + str(pid) + \" & \" + topN + \" & \" + phylum + r\" \\\\ \" + r\"\\midrule\" + \"\\n\"\n",
      "    #return OTU + \" & \" + str(pid) + r\" \\\\ \" + r\"\\midrule\" + \"\\n\""
     ],
     "language": "python",
     "metadata": {},
     "outputs": [],
     "prompt_number": 289
    },
    {
     "cell_type": "code",
     "collapsed": false,
     "input": [
      "s = df.groupby(\"OTU\").apply(get_latex)\n",
      "\n",
      "table_framework = r\"\"\"\n",
      "\\documentclass[11pt]{article}\n",
      "\\usepackage{multirow, array, booktabs}\n",
      "\\begin{document}\n",
      "\n",
      "\\thispagestyle{empty}\n",
      " \n",
      "\\begin{table}[ht]\n",
      "\\caption{$^{15}$N responders BLAST against Living Tree Project}\n",
      "\\begin{center}\n",
      "\\begin{tabular}{llrll}\n",
      "    \\toprule \\\\\n",
      "    \\textbf{OTU ID} & \\textbf{Genera of top hits} & \\textbf{BLAST \\%%ID} & \\textbf{top 10?} & \\textbf{Phylum} \\\\\n",
      "    \\midrule\n",
      "    %s\n",
      "    \\bottomrule\n",
      "\\end{tabular}\n",
      "\\end{center}\n",
      "\\label{tab:multicol}\n",
      "\\end{table}\n",
      " \n",
      "\\end{document}\"\"\"%\"\".join(s.values)\n",
      "\n",
      "with open(\"../data/tmp/table.tex\", \"w\") as out:\n",
      "    out.write(table_framework)"
     ],
     "language": "python",
     "metadata": {},
     "outputs": [],
     "prompt_number": 290
    },
    {
     "cell_type": "code",
     "collapsed": false,
     "input": [
      "!latex ../data/tmp/table.tex\n",
      "!dvipng -o figs/LTP_blast_table.png table.dvi"
     ],
     "language": "python",
     "metadata": {},
     "outputs": [
      {
       "output_type": "stream",
       "stream": "stdout",
       "text": [
        "This is pdfTeX, Version 3.1415926-1.40.10 (TeX Live 2009/Debian)\r\n",
        "entering extended mode\r\n",
        "(../data/tmp/table.tex\r\n",
        "LaTeX2e <2009/09/24>\r\n",
        "Babel <v3.8l> and hyphenation patterns for english, usenglishmax, dumylang, noh\r\n",
        "yphenation, farsi, arabic, croatian, bulgarian, ukrainian, russian, czech, slov\r\n",
        "ak, danish, dutch, finnish, french, basque, ngerman, german, german-x-2009-06-1\r\n",
        "9, ngerman-x-2009-06-19, ibycus, monogreek, greek, ancientgreek, hungarian, san\r\n",
        "skrit, italian, latin, latvian, lithuanian, mongolian2a, mongolian, bokmal, nyn\r\n",
        "orsk, romanian, irish, coptic, serbian, turkish, welsh, esperanto, uppersorbian\r\n",
        ", estonian, indonesian, interlingua, icelandic, kurmanji, slovenian, polish, po\r\n",
        "rtuguese, spanish, galician, catalan, swedish, ukenglish, pinyin, loaded.\r\n",
        "(/usr/share/texmf-texlive/tex/latex/base/article.cls\r\n",
        "Document Class: article 2007/10/19 v1.4h Standard LaTeX document class\r\n",
        "(/usr/share/texmf-texlive/tex/latex/base/size11.clo))\r\n",
        "(/usr/share/texmf-texlive/tex/latex/multirow/multirow.sty)\r\n",
        "(/usr/share/texmf-texlive/tex/latex/tools/array.sty)\r\n",
        "(/usr/share/texmf-texlive/tex/latex/booktabs/booktabs.sty) (./table.aux)\r\n",
        "Overfull \\hbox (252.19925pt too wide) in paragraph at lines 11--52\r\n",
        " [] \r\n",
        "\r\n",
        "LaTeX Warning: Float too large for page by 205.0524pt on input line 54.\r\n",
        "\r\n",
        "[1] (./table.aux) )\r\n",
        "(see the transcript file for additional information)\r\n",
        "Output written on table.dvi (1 page, 3648 bytes).\r\n",
        "Transcript written on table.log.\r\n"
       ]
      },
      {
       "output_type": "stream",
       "stream": "stdout",
       "text": [
        "This is dvipng 1.14 Copyright 2002-2010 Jan-Ake Larsson\r\n"
       ]
      },
      {
       "output_type": "stream",
       "stream": "stdout",
       "text": [
        "[1] \r\n"
       ]
      }
     ],
     "prompt_number": 291
    },
    {
     "cell_type": "code",
     "collapsed": false,
     "input": [
      "Image(\"figs/LTP_blast_table.png\")"
     ],
     "language": "python",
     "metadata": {},
     "outputs": [
      {
       "metadata": {},
       "output_type": "pyout",
       "png": "[encoded data removed]",
       "prompt_number": 292,
       "text": [
        "<IPython.core.display.Image at 0x7f7a6b058b50>"
       ]
      }
     ],
     "prompt_number": 292
    },
    {
     "cell_type": "code",
     "collapsed": false,
     "input": [
      "FileLink(\"figs/LTP_blast_table.png\")"
     ],
     "language": "python",
     "metadata": {},
     "outputs": [
      {
       "html": [
        "<a href='figs/LTP_blast_table.png' target='_blank'>figs/LTP_blast_table.png</a><br>"
       ],
       "metadata": {},
       "output_type": "pyout",
       "prompt_number": 243,
       "text": [
        "/home/chuck/working/NSIP_data_analysis/figures_and_stats/figs/LTP_blast_table.png"
       ]
      }
     ],
     "prompt_number": 243
    },
    {
     "cell_type": "code",
     "collapsed": false,
     "input": [
      "FileLink(\"../data/tmp/table.tex\")"
     ],
     "language": "python",
     "metadata": {},
     "outputs": [
      {
       "html": [
        "<a href='../data/tmp/table.tex' target='_blank'>../data/tmp/table.tex</a><br>"
       ],
       "metadata": {},
       "output_type": "pyout",
       "prompt_number": 244,
       "text": [
        "/home/chuck/working/NSIP_data_analysis/data/tmp/table.tex"
       ]
      }
     ],
     "prompt_number": 244
    },
    {
     "cell_type": "code",
     "collapsed": false,
     "input": [
      "%%R\n",
      "joined_df %.% \n",
      "    filter(OTU %in% c(\"OTU.78\", \"OTU.55\")) %.%\n",
      "    select(OTU, acc, name, pid, bit.score)"
     ],
     "language": "python",
     "metadata": {},
     "outputs": [
      {
       "metadata": {},
       "output_type": "display_data",
       "text": [
        "Source: local data frame [4 x 5]\n",
        "Groups: OTU\n",
        "\n",
        "     OTU      acc                   name   pid bit.score\n",
        "1 OTU.55 AF022936 Desulfocella halophila 81.03       156\n",
        "2 OTU.55 AM162405  Bryobacter aggregatus 81.91       156\n",
        "3 OTU.78 AF022936 Desulfocella halophila 80.31       147\n",
        "4 OTU.78 AM162405  Bryobacter aggregatus 81.32       147\n"
       ]
      }
     ],
     "prompt_number": 245
    },
    {
     "cell_type": "code",
     "collapsed": false,
     "input": [
      "%%R\n",
      "df.l2fc.summary %.% \n",
      "    filter(OTU %in% c(\"OTU.78\", \"OTU.55\")) %.%\n",
      "    select(OTU, m, Rank2, minP)"
     ],
     "language": "python",
     "metadata": {},
     "outputs": [
      {
       "metadata": {},
       "output_type": "display_data",
       "text": [
        "Source: local data frame [2 x 4]\n",
        "\n",
        "     OTU        m         Rank2       minP\n",
        "1 OTU.55 1.166240 Acidobacteria 0.09008315\n",
        "2 OTU.78 1.155173 Acidobacteria 0.09646340\n"
       ]
      }
     ],
     "prompt_number": 246
    }
   ],
   "metadata": {}
  }
 ]
}
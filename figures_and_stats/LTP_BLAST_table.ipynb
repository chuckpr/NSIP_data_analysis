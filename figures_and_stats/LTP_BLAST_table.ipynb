{
 "metadata": {
  "name": "",
  "signature": "sha256:2db626de36980141b6235bee493f671fe4e621e5c7d73a44f9ea20c610513065"
 },
 "nbformat": 3,
 "nbformat_minor": 0,
 "worksheets": [
  {
   "cells": [
    {
     "cell_type": "code",
     "collapsed": false,
     "input": [
      "from IPython.display import Image, FileLink\n",
      "import pandas.rpy.common as com"
     ],
     "language": "python",
     "metadata": {},
     "outputs": [
      {
       "output_type": "stream",
       "stream": "stderr",
       "text": [
        "/opt/anaconda/lib/python2.7/site-packages/pytz/__init__.py:29: UserWarning: Module argparse was already imported from /opt/anaconda/lib/python2.7/argparse.pyc, but /opt/anaconda/lib/python2.7/site-packages is being added to sys.path\n",
        "  from pkg_resources import resource_stream\n"
       ]
      }
     ],
     "prompt_number": 1
    },
    {
     "cell_type": "code",
     "collapsed": false,
     "input": [
      "%load_ext rpy2.ipython"
     ],
     "language": "python",
     "metadata": {},
     "outputs": [],
     "prompt_number": 2
    },
    {
     "cell_type": "code",
     "collapsed": false,
     "input": [
      "%%R\n",
      "library(data.table)\n",
      "library(dplyr)"
     ],
     "language": "python",
     "metadata": {},
     "outputs": [
      {
       "metadata": {},
       "output_type": "display_data",
       "text": [
        "data.table 1.9.2  For help type: help(\"data.table\")\n",
        "\n",
        "Attaching package: \u2018dplyr\u2019\n",
        "\n",
        "The following object is masked from \u2018package:data.table\u2019:\n",
        "\n",
        "    last\n",
        "\n",
        "The following objects are masked from \u2018package:stats\u2019:\n",
        "\n",
        "    filter, lag\n",
        "\n",
        "The following objects are masked from \u2018package:base\u2019:\n",
        "\n",
        "    intersect, setdiff, setequal, union\n",
        "\n"
       ]
      }
     ],
     "prompt_number": 3
    },
    {
     "cell_type": "code",
     "collapsed": false,
     "input": [
      "%%R\n",
      "blastout_dt = fread(\"../data/tmp/blast_out_otusn_LTP115.m6\")\n",
      "blastout_df = tbl_df(blastout_dt)\n",
      "colnames(blastout_df) = c(\"OTU\",\n",
      "                        \"acc\",\n",
      "                        \"pid\",\n",
      "                        \"aln.length\",\n",
      "                        \"mismatches\",\n",
      "                        \"gapOpenCount\",\n",
      "                        \"qstart\",\n",
      "                        \"qend\",\n",
      "                        \"sstart\",\n",
      "                        \"send\",\n",
      "                        \"e.value\",\n",
      "                        \"bit.score\")\n",
      "\n",
      "top_hits_df_LTP = blastout_df %.% \n",
      "                          group_by(OTU) %.% \n",
      "                          mutate(Rank = rank(desc(bit.score), ties.method = \"min\")) %.% \n",
      "                          filter(Rank == 1)"
     ],
     "language": "python",
     "metadata": {},
     "outputs": [],
     "prompt_number": 4
    },
    {
     "cell_type": "code",
     "collapsed": false,
     "input": [
      "%%R\n",
      "dt = fread(\"/var/seq_data/LTP115_db/LTPs115_SSU.csv\")\n",
      "colnames(dt) = c(\"acc\",\"start\",\"end\",\"DB.version\",\"name\",\"unknown1\",\"family\",\"unknown2\",\"url\",\"full_tax\")\n",
      "LTP_seq_data = tbl_df(dt)"
     ],
     "language": "python",
     "metadata": {},
     "outputs": [],
     "prompt_number": 5
    },
    {
     "cell_type": "code",
     "collapsed": false,
     "input": [
      "%%R\n",
      "joined_df = left_join(top_hits_df_LTP, LTP_seq_data)"
     ],
     "language": "python",
     "metadata": {},
     "outputs": [
      {
       "metadata": {},
       "output_type": "display_data",
       "text": [
        "Joining by: \"acc\"\n"
       ]
      }
     ],
     "prompt_number": 6
    },
    {
     "cell_type": "code",
     "collapsed": false,
     "input": [
      "%%R\n",
      "df.l2fc = read.table(\"../data/l2fc_table.csv\", sep = \",\", header = TRUE, stringsAsFactors = FALSE)\n",
      "df.l2fc.summary = df.l2fc %.% group_by(OTU) %.% summarize(m = max(log2FoldChange), \n",
      "                                                          Rank2 = first(Rank2), \n",
      "                                                          Rank6 = first(Rank6),\n",
      "                                                          Rank3 = first(Rank3),\n",
      "                                                          Rank5 = first(Rank5),\n",
      "                                                          minP = min(p.adj)) %.% arrange(desc(m))"
     ],
     "language": "python",
     "metadata": {},
     "outputs": [],
     "prompt_number": 7
    },
    {
     "cell_type": "code",
     "collapsed": false,
     "input": [
      "%%R\n",
      "FDR = 0.10\n",
      "N = 10 \n",
      "topN = (df.l2fc.summary %.% filter(minP <= FDR))[1:N,]\n",
      "topN_otus = topN$OTU\n",
      "table_df = subset(joined_df, OTU %in% topN_otus)"
     ],
     "language": "python",
     "metadata": {},
     "outputs": [],
     "prompt_number": 8
    },
    {
     "cell_type": "code",
     "collapsed": false,
     "input": [
      "%%R\n",
      "topN"
     ],
     "language": "python",
     "metadata": {},
     "outputs": [
      {
       "metadata": {},
       "output_type": "display_data",
       "text": [
        "Source: local data frame [10 x 7]\n",
        "\n",
        "        OTU        m          Rank2                Rank6               Rank3\n",
        "1    OTU.14 2.298173 Proteobacteria Escherichia-Shigella Gammaproteobacteria\n",
        "2    OTU.54 2.221620 Proteobacteria Escherichia-Shigella Gammaproteobacteria\n",
        "3   OTU.108 2.111335     Firmicutes           uncultured          Clostridia\n",
        "4  OTU.1673 1.817575     Firmicutes          Clostridium          Clostridia\n",
        "5  OTU.4037 1.550140     Firmicutes           uncultured          Clostridia\n",
        "6   OTU.586 1.541128 Proteobacteria           uncultured  Betaproteobacteria\n",
        "7   OTU.342 1.475446 Proteobacteria                   NA Gammaproteobacteria\n",
        "8   OTU.330 1.465620     Firmicutes          Clostridium          Clostridia\n",
        "9    OTU.57 1.451817     Firmicutes           uncultured          Clostridia\n",
        "10  OTU.327 1.433451     Firmicutes          Clostridium          Clostridia\n",
        "Variables not shown: Rank5 (chr), minP (dbl)\n"
       ]
      }
     ],
     "prompt_number": 9
    },
    {
     "cell_type": "code",
     "collapsed": false,
     "input": [
      "%%R\n",
      "dim(topN)"
     ],
     "language": "python",
     "metadata": {},
     "outputs": [
      {
       "metadata": {},
       "output_type": "display_data",
       "text": [
        "[1] 10  7\n"
       ]
      }
     ],
     "prompt_number": 10
    },
    {
     "cell_type": "code",
     "collapsed": false,
     "input": [
      "df = com.load_data(\"table_df\")"
     ],
     "language": "python",
     "metadata": {},
     "outputs": [],
     "prompt_number": 11
    },
    {
     "cell_type": "code",
     "collapsed": false,
     "input": [
      "def get_latex(df):\n",
      "    latex = \"\"\n",
      "    prefix = r\"\\multirow{%s}{*}{%s}\"%(len(df.index), df.OTU.iloc[0])\n",
      "    for i, r in df[[\"name\",\"pid\",\"acc\"]].iterrows():\n",
      "        latex += \" & \" + \" & \".join([str(i) for i in r.values]) + r\" \\\\ \"\n",
      "    return prefix + latex + r\"\\midrule\" + \"\\n\""
     ],
     "language": "python",
     "metadata": {},
     "outputs": [],
     "prompt_number": 12
    },
    {
     "cell_type": "code",
     "collapsed": false,
     "input": [
      "s = df.groupby(\"OTU\").apply(get_latex)\n",
      "\n",
      "table_framework = r\"\"\"\n",
      "\\documentclass[11pt]{article}\n",
      "\\usepackage{multirow, array, booktabs}\n",
      "\\begin{document}\n",
      "\n",
      "\\thispagestyle{empty}\n",
      " \n",
      "\\begin{table}[ht]\n",
      "\\caption{$^{15}$N responders BLAST against Living Tree Project}\n",
      "\\begin{center}\n",
      "\\begin{tabular}{l>{\\itshape}lrl}\n",
      "    \\toprule \\\\\n",
      "    \\textbf{OTU ID} & \\textbf{Species Name} & \\textbf{BLAST percent identity} & \\textbf{accession} \\\\\n",
      "    \\midrule\n",
      "    %s\n",
      "    \\bottomrule\n",
      "\\end{tabular}\n",
      "\\end{center}\n",
      "\\label{tab:multicol}\n",
      "\\end{table}\n",
      " \n",
      "\\end{document}\"\"\"%\"\".join(s.values)\n",
      "\n",
      "with open(\"../data/tmp/table.tex\", \"w\") as out:\n",
      "    out.write(table_framework)"
     ],
     "language": "python",
     "metadata": {},
     "outputs": [],
     "prompt_number": 13
    },
    {
     "cell_type": "code",
     "collapsed": false,
     "input": [
      "!latex ../data/tmp/table.tex\n",
      "!dvipng -o figs/LTP_blast_table.png ../data/tmp/table.dvi"
     ],
     "language": "python",
     "metadata": {},
     "outputs": [
      {
       "output_type": "stream",
       "stream": "stdout",
       "text": [
        "This is pdfTeX, Version 3.1415926-1.40.10 (TeX Live 2009/Debian)\r\n"
       ]
      },
      {
       "output_type": "stream",
       "stream": "stdout",
       "text": [
        "entering extended mode\r\n",
        "(../data/tmp/table.tex\r\n",
        "LaTeX2e <2009/09/24>\r\n",
        "Babel <v3.8l> and hyphenation patterns for english, usenglishmax, dumylang, noh\r\n",
        "yphenation, farsi, arabic, croatian, bulgarian, ukrainian, russian, czech, slov\r\n",
        "ak, danish, dutch, finnish, french, basque, ngerman, german, german-x-2009-06-1\r\n",
        "9, ngerman-x-2009-06-19, ibycus, monogreek, greek, ancientgreek, hungarian, san\r\n",
        "skrit, italian, latin, latvian, lithuanian, mongolian2a, mongolian, bokmal, nyn\r\n",
        "orsk, romanian, irish, coptic, serbian, turkish, welsh, esperanto, uppersorbian\r\n",
        ", estonian, indonesian, interlingua, icelandic, kurmanji, slovenian, polish, po\r\n",
        "rtuguese, spanish, galician, catalan, swedish, ukenglish, pinyin, loaded.\r\n"
       ]
      },
      {
       "output_type": "stream",
       "stream": "stdout",
       "text": [
        "(/usr/share/texmf-texlive/tex/latex/base/article.cls\r\n",
        "Document Class: article 2007/10/19 v1.4h Standard LaTeX document class\r\n",
        "(/usr/share/texmf-texlive/tex/latex/base/size11.clo"
       ]
      },
      {
       "output_type": "stream",
       "stream": "stdout",
       "text": [
        "))"
       ]
      },
      {
       "output_type": "stream",
       "stream": "stdout",
       "text": [
        "\r\n",
        "(/usr/share/texmf-texlive/tex/latex/multirow/multirow.sty)\r\n",
        "(/usr/share/texmf-texlive/tex/latex/tools/array.sty)\r\n",
        "(/usr/share/texmf-texlive/tex/latex/booktabs/booktabs.sty"
       ]
      },
      {
       "output_type": "stream",
       "stream": "stdout",
       "text": [
        ") (./table.aux)"
       ]
      },
      {
       "output_type": "stream",
       "stream": "stdout",
       "text": [
        "\r\n",
        "Overfull \\hbox (146.10014pt too wide) in paragraph at lines 11--28\r\n",
        " [] \r\n",
        "\r\n",
        "LaTeX Warning: Float too large for page by 154.70618pt on input line 30.\r\n",
        "\r\n",
        "[1] (./table.aux) )\r\n",
        "(see the transcript file for additional information)\r\n",
        "Output written on table.dvi (1 page, 3804 bytes).\r\n",
        "Transcript written on table.log.\r\n"
       ]
      },
      {
       "output_type": "stream",
       "stream": "stdout",
       "text": [
        "This is dvipng 1.14 Copyright 2002-2010 Jan-Ake Larsson\r\n"
       ]
      },
      {
       "output_type": "stream",
       "stream": "stdout",
       "text": [
        "[1] \r\n"
       ]
      }
     ],
     "prompt_number": 14
    },
    {
     "cell_type": "code",
     "collapsed": false,
     "input": [
      "Image(\"figs/LTP_blast_table.png\")"
     ],
     "language": "python",
     "metadata": {},
     "outputs": [
      {
       "metadata": {},
       "output_type": "pyout",
       "png": "[encoded data removed]",
       "prompt_number": 15,
       "text": [
        "<IPython.core.display.Image at 0x49158d0>"
       ]
      }
     ],
     "prompt_number": 15
    },
    {
     "cell_type": "code",
     "collapsed": false,
     "input": [
      "FileLink(\"figs/LTP_blast_table.png\")"
     ],
     "language": "python",
     "metadata": {},
     "outputs": [
      {
       "html": [
        "<a href='figs/LTP_blast_table.png' target='_blank'>figs/LTP_blast_table.png</a><br>"
       ],
       "metadata": {},
       "output_type": "pyout",
       "prompt_number": 16,
       "text": [
        "/home/chuck/working/soil_crust_N_DNASIP/N-SIP-manuscript-figures/figs/LTP_blast_table.png"
       ]
      }
     ],
     "prompt_number": 16
    },
    {
     "cell_type": "code",
     "collapsed": false,
     "input": [
      "FileLink(\"../data/tmp/table.tex\")"
     ],
     "language": "python",
     "metadata": {},
     "outputs": [
      {
       "html": [
        "<a href='../data/tmp/table.tex' target='_blank'>../data/tmp/table.tex</a><br>"
       ],
       "metadata": {},
       "output_type": "pyout",
       "prompt_number": 17,
       "text": [
        "/home/chuck/working/soil_crust_N_DNASIP/data/tmp/table.tex"
       ]
      }
     ],
     "prompt_number": 17
    },
    {
     "cell_type": "code",
     "collapsed": false,
     "input": [
      "%%R\n",
      "joined_df %.% \n",
      "    filter(OTU %in% c(\"OTU.78\", \"OTU.55\")) %.%\n",
      "    select(OTU, acc, name, pid, bit.score)"
     ],
     "language": "python",
     "metadata": {},
     "outputs": [
      {
       "metadata": {},
       "output_type": "display_data",
       "text": [
        "Source: local data frame [4 x 5]\n",
        "Groups: OTU\n",
        "\n",
        "     OTU      acc                   name   pid bit.score\n",
        "1 OTU.55 AF022936 Desulfocella halophila 81.03       156\n",
        "2 OTU.55 AM162405  Bryobacter aggregatus 81.91       156\n",
        "3 OTU.78 AF022936 Desulfocella halophila 80.31       147\n",
        "4 OTU.78 AM162405  Bryobacter aggregatus 81.32       147\n"
       ]
      }
     ],
     "prompt_number": 18
    },
    {
     "cell_type": "code",
     "collapsed": false,
     "input": [
      "%%R\n",
      "df.l2fc.summary %.% \n",
      "    filter(OTU %in% c(\"OTU.78\", \"OTU.55\")) %.%\n",
      "    select(OTU, m, Rank2, minP)"
     ],
     "language": "python",
     "metadata": {},
     "outputs": [
      {
       "metadata": {},
       "output_type": "display_data",
       "text": [
        "Source: local data frame [2 x 4]\n",
        "\n",
        "     OTU        m         Rank2       minP\n",
        "1 OTU.55 1.166240 Acidobacteria 0.09008315\n",
        "2 OTU.78 1.155173 Acidobacteria 0.09646340\n"
       ]
      }
     ],
     "prompt_number": 19
    }
   ],
   "metadata": {}
  }
 ]
}
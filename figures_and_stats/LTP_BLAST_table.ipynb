{
 "cells": [
  {
   "cell_type": "code",
   "execution_count": 1,
   "metadata": {
    "collapsed": false
   },
   "outputs": [],
   "source": [
    "from IPython.display import Image, FileLink\n",
    "import pandas.rpy.common as com"
   ]
  },
  {
   "cell_type": "code",
   "execution_count": 2,
   "metadata": {
    "collapsed": false
   },
   "outputs": [],
   "source": [
    "%load_ext rpy2.ipython"
   ]
  },
  {
   "cell_type": "code",
   "execution_count": 3,
   "metadata": {
    "collapsed": false
   },
   "outputs": [
    {
     "data": {
      "text/plain": [
       "data.table 1.9.4  For help type: ?data.table\n",
       "*** NB: by=.EACHI is now explicit. See README to restore previous behaviour.\n",
       "\n",
       "Attaching package: ‘dplyr’\n",
       "\n",
       "The following objects are masked from ‘package:data.table’:\n",
       "\n",
       "    between, last\n",
       "\n",
       "The following object is masked from ‘package:stats’:\n",
       "\n",
       "    filter\n",
       "\n",
       "The following objects are masked from ‘package:base’:\n",
       "\n",
       "    intersect, setdiff, setequal, union\n",
       "\n"
      ]
     },
     "metadata": {},
     "output_type": "display_data"
    }
   ],
   "source": [
    "%%R\n",
    "library(data.table)\n",
    "library(dplyr)"
   ]
  },
  {
   "cell_type": "code",
   "execution_count": 4,
   "metadata": {
    "collapsed": false
   },
   "outputs": [],
   "source": [
    "%%R\n",
    "blastout_dt = fread(\"../data/tmp/blast_out_otusn_LTP115.m6\")\n",
    "blastout_df = tbl_df(blastout_dt)\n",
    "colnames(blastout_df) = c(\"OTU\",\n",
    "                        \"acc\",\n",
    "                        \"pid\",\n",
    "                        \"aln.length\",\n",
    "                        \"mismatches\",\n",
    "                        \"gapOpenCount\",\n",
    "                        \"qstart\",\n",
    "                        \"qend\",\n",
    "                        \"sstart\",\n",
    "                        \"send\",\n",
    "                        \"e.value\",\n",
    "                        \"bit.score\")\n",
    "\n",
    "top_hits_df_LTP = blastout_df %.% \n",
    "                          group_by(OTU) %.% \n",
    "                          mutate(Rank = rank(desc(bit.score), ties.method = \"min\")) %.% \n",
    "                          filter(Rank == 1)"
   ]
  },
  {
   "cell_type": "code",
   "execution_count": 5,
   "metadata": {
    "collapsed": false
   },
   "outputs": [],
   "source": [
    "%%R\n",
    "dt = fread(\"/var/seq_data/LTP115_db/LTPs115_SSU.csv\", sep = \";\", header = FALSE)\n",
    "colnames(dt) = c(\"acc\",\"start\",\"end\",\"DB.version\",\"name\",\"unknown1\",\"family\",\"unknown2\",\"url\",\"full_tax\")\n",
    "LTP_seq_data = tbl_df(dt)"
   ]
  },
  {
   "cell_type": "code",
   "execution_count": 6,
   "metadata": {
    "collapsed": false
   },
   "outputs": [
    {
     "data": {
      "text/plain": [
       "Joining by: \"acc\"\n"
      ]
     },
     "metadata": {},
     "output_type": "display_data"
    }
   ],
   "source": [
    "%%R\n",
    "joined_df = left_join(top_hits_df_LTP, LTP_seq_data)"
   ]
  },
  {
   "cell_type": "code",
   "execution_count": 7,
   "metadata": {
    "collapsed": false
   },
   "outputs": [],
   "source": [
    "%%R\n",
    "df.l2fc = read.table(\"../data/l2fc_table.csv\", sep = \",\", header = TRUE, stringsAsFactors = FALSE)\n",
    "df.l2fc.summary = df.l2fc %.% filter(test == \"greater\") %.% group_by(OTU) %.% summarize(m = max(log2FoldChange), \n",
    "                                                          Rank2 = first(Rank2), \n",
    "                                                          Rank6 = first(Rank6),\n",
    "                                                          Rank3 = first(Rank3),\n",
    "                                                          Rank5 = first(Rank5),\n",
    "                                                          minP = min(p.adj)) %.% arrange(desc(m))"
   ]
  },
  {
   "cell_type": "code",
   "execution_count": 8,
   "metadata": {
    "collapsed": false
   },
   "outputs": [
    {
     "data": {
      "text/plain": [
       "Source: local data frame [655 x 7]\n",
       "\n",
       "        OTU        m            Rank2                Rank6\n",
       "1   OTU.470 4.435180 Gemmatimonadetes                   NA\n",
       "2  OTU.2036 3.906883   Proteobacteria          Pseudomonas\n",
       "3   OTU.528 3.548746       Firmicutes       Incertae_Sedis\n",
       "4   OTU.321 3.404477   Proteobacteria     Stenotrophomonas\n",
       "5  OTU.1276 3.289709   Actinobacteria                   NA\n",
       "6    OTU.14 3.272428   Proteobacteria Escherichia-Shigella\n",
       "7    OTU.54 3.193468   Proteobacteria Escherichia-Shigella\n",
       "8   OTU.330 3.161807       Firmicutes          Clostridium\n",
       "9   OTU.697 3.159696   Proteobacteria          Pseudomonas\n",
       "10  OTU.761 3.132044       Firmicutes                   NA\n",
       "..      ...      ...              ...                  ...\n",
       "Variables not shown: Rank3 (chr), Rank5 (chr), minP (dbl)\n"
      ]
     },
     "metadata": {},
     "output_type": "display_data"
    }
   ],
   "source": [
    "%%R\n",
    "df.l2fc.summary"
   ]
  },
  {
   "cell_type": "code",
   "execution_count": 9,
   "metadata": {
    "collapsed": false
   },
   "outputs": [],
   "source": [
    "%%R\n",
    "FDR = 0.10\n",
    "rspndr_df = df.l2fc.summary %.% filter(minP <= FDR)\n",
    "rspndr_otus = rspndr_df$OTU\n",
    "table_df = joined_df %.% filter(OTU %in% rspndr_otus)"
   ]
  },
  {
   "cell_type": "code",
   "execution_count": 10,
   "metadata": {
    "collapsed": false
   },
   "outputs": [
    {
     "data": {
      "text/plain": [
       "Joining by: \"OTU\"\n"
      ]
     },
     "metadata": {},
     "output_type": "display_data"
    }
   ],
   "source": [
    "%%R\n",
    "table_df = left_join(table_df, df.l2fc.summary %.% select(OTU, Rank2))"
   ]
  },
  {
   "cell_type": "code",
   "execution_count": 11,
   "metadata": {
    "collapsed": false
   },
   "outputs": [],
   "source": [
    "%%R\n",
    "N = 10 \n",
    "topN = (rspndr_df %.% arrange(desc(m)))[1:N,]\n",
    "topN_otus = topN$OTU\n",
    "table_df$topN = ifelse(table_df$OTU %in% topN_otus, \"yes\", \"no\")"
   ]
  },
  {
   "cell_type": "code",
   "execution_count": 12,
   "metadata": {
    "collapsed": false
   },
   "outputs": [],
   "source": [
    "%%R\n",
    "table_df = table_df %.% arrange(Rank2, name)"
   ]
  },
  {
   "cell_type": "code",
   "execution_count": 13,
   "metadata": {
    "collapsed": false
   },
   "outputs": [],
   "source": [
    "df = com.load_data(\"table_df\")"
   ]
  },
  {
   "cell_type": "code",
   "execution_count": 16,
   "metadata": {
    "collapsed": false
   },
   "outputs": [],
   "source": [
    "def species_str(s):\n",
    "    genera = []\n",
    "    sp = []\n",
    "    for i in s.values:\n",
    "        genus, species = i.split(\" \",1)\n",
    "        if genus in genera:\n",
    "            sp.append(genus[0] + \".\" + \"~\" + species.replace(\" \", \"~\"))\n",
    "        else:\n",
    "            sp.append(i.replace(\" \", \"~\"))\n",
    "        genera.append(genus)\n",
    "    return \", \".join(sp)"
   ]
  },
  {
   "cell_type": "code",
   "execution_count": 17,
   "metadata": {
    "collapsed": false
   },
   "outputs": [],
   "source": [
    "def get_genera(s):\n",
    "    genera = []\n",
    "    for i in s.values:\n",
    "        genus, species = i.split(\" \",1)\n",
    "        genera.append(genus)\n",
    "    return \", \".join(list(set(genera)))"
   ]
  },
  {
   "cell_type": "code",
   "execution_count": 18,
   "metadata": {
    "collapsed": false
   },
   "outputs": [],
   "source": [
    "def get_latex(df):\n",
    "    latex = \"\"\n",
    "    OTU = df.OTU.iloc[0]\n",
    "    #species = species_str(df[\"name\"])\n",
    "    genera = get_genera(df[\"name\"])\n",
    "    pid = df.pid.iloc[0]\n",
    "    phylum = df.Rank2.iloc[0]\n",
    "    topN = df.topN.iloc[0]\n",
    "    #acc = df.acc.iloc[0]\n",
    "    return OTU + \" & \" + genera + \" & \" + str(pid) + \" & \" + topN + \" & \" + phylum + r\" \\\\ \" + r\"\\midrule\" + \"\\n\"\n",
    "    #return OTU + \" & \" + str(pid) + r\" \\\\ \" + r\"\\midrule\" + \"\\n\""
   ]
  },
  {
   "cell_type": "code",
   "execution_count": 19,
   "metadata": {
    "collapsed": false
   },
   "outputs": [],
   "source": [
    "def get_tsv(df):\n",
    "    latex = \"\"\n",
    "    OTU = df.OTU.iloc[0]\n",
    "    genera = get_genera(df[\"name\"])\n",
    "    pid = df.pid.iloc[0]\n",
    "    phylum = df.Rank2.iloc[0]\n",
    "    topN = df.topN.iloc[0]\n",
    "    return OTU + \"\\t\" + genera + \"\\t\" + str(pid) + \"\\t\" + topN + \"\\t\" + phylum + \"\\n\""
   ]
  },
  {
   "cell_type": "code",
   "execution_count": 25,
   "metadata": {
    "collapsed": false
   },
   "outputs": [],
   "source": [
    "with open(\"../data/LTP_blast_table.tsv\", \"w\") as out:\n",
    "    out.write(\"OTU_ID\\tGenera_of_top_hits\\tBLAST_%ID\\ttop_10?\\tPhylum\\n\")\n",
    "    for l in df.sort(\"full_tax\").groupby(\"OTU\").apply(get_tsv):\n",
    "        out.write(l)"
   ]
  },
  {
   "cell_type": "code",
   "execution_count": 44,
   "metadata": {
    "collapsed": false
   },
   "outputs": [
    {
     "name": "stdout",
     "output_type": "stream",
     "text": [
      "OTU_ID\tGenera_of_top_hits\tBLAST_%ID\ttop_10?\tPhylum\n",
      "OTU.1276\tAgromyces\t99.49\tyes\tActinobacteria\n",
      "OTU.282\tNocardia, Rhodococcus\t100.0\tno\tActinobacteria\n",
      "OTU.140\tBacillus\t100.0\tno\tFirmicutes\n",
      "OTU.3\tBacillus\t100.0\tno\tFirmicutes\n",
      "OTU.243\tBacillus\t98.98\tno\tFirmicutes\n",
      "OTU.419\tCaloramator\t93.88\tno\tFirmicutes\n",
      "OTU.108\tCaloramator\t96.94\tno\tFirmicutes\n",
      "OTU.227\tCellulosilyticum\t93.4\tno\tFirmicutes\n",
      "OTU.327\tClostridium\t94.92\tno\tFirmicutes\n"
     ]
    }
   ],
   "source": [
    "%%bash \n",
    "head -1 ../data/LTP_blast_table.tsv > ../data/LTP_blast_table.sorted.tsv\n",
    "sed 1d ../data/LTP_blast_table.tsv | sort -t $'\\t' -k5 -k2 >> ../data/LTP_blast_table.sorted.tsv\n",
    "head ../data/LTP_blast_table.sorted.tsv"
   ]
  },
  {
   "cell_type": "code",
   "execution_count": 45,
   "metadata": {
    "collapsed": false
   },
   "outputs": [
    {
     "data": {
      "text/html": [
       "<a href='../data/LTP_blast_table.sorted.tsv' target='_blank'>../data/LTP_blast_table.sorted.tsv</a><br>"
      ],
      "text/plain": [
       "/home/chuck/working/NSIP_data_analysis/data/LTP_blast_table.sorted.tsv"
      ]
     },
     "execution_count": 45,
     "metadata": {},
     "output_type": "execute_result"
    }
   ],
   "source": [
    "FileLink(\"../data/LTP_blast_table.sorted.tsv\")"
   ]
  },
  {
   "cell_type": "code",
   "execution_count": 20,
   "metadata": {
    "collapsed": false
   },
   "outputs": [],
   "source": [
    "s = df.groupby(\"OTU\").apply(get_latex)\n",
    "\n",
    "table_framework = r\"\"\"\n",
    "\\documentclass[11pt]{article}\n",
    "\\usepackage{multirow, array, booktabs}\n",
    "\\begin{document}\n",
    "\n",
    "\\thispagestyle{empty}\n",
    " \n",
    "\\begin{table}[ht]\n",
    "\\caption{$^{15}$N responders BLAST against Living Tree Project}\n",
    "\\begin{center}\n",
    "\\begin{tabular}{llrll}\n",
    "    \\toprule \\\\\n",
    "    \\textbf{OTU ID} & \\textbf{Genera of top hits} & \\textbf{BLAST \\%%ID} & \\textbf{top 10?} & \\textbf{Phylum} \\\\\n",
    "    \\midrule\n",
    "    %s\n",
    "    \\bottomrule\n",
    "\\end{tabular}\n",
    "\\end{center}\n",
    "\\label{tab:multicol}\n",
    "\\end{table}\n",
    " \n",
    "\\end{document}\"\"\"%\"\".join(s.values)\n",
    "\n",
    "with open(\"../data/tmp/table.tex\", \"w\") as out:\n",
    "    out.write(table_framework)"
   ]
  },
  {
   "cell_type": "code",
   "execution_count": 21,
   "metadata": {
    "collapsed": false
   },
   "outputs": [
    {
     "name": "stdout",
     "output_type": "stream",
     "text": [
      "This is pdfTeX, Version 3.1415926-1.40.10 (TeX Live 2009/Debian)\n",
      "entering extended mode\n",
      "(../data/tmp/table.tex\n",
      "LaTeX2e <2009/09/24>\n",
      "Babel <v3.8l> and hyphenation patterns for english, usenglishmax, dumylang, noh\n",
      "yphenation, farsi, arabic, croatian, bulgarian, ukrainian, russian, czech, slov\n",
      "ak, danish, dutch, finnish, french, basque, ngerman, german, german-x-2009-06-1\n",
      "9, ngerman-x-2009-06-19, ibycus, monogreek, greek, ancientgreek, hungarian, san\n",
      "skrit, italian, latin, latvian, lithuanian, mongolian2a, mongolian, bokmal, nyn\n",
      "orsk, romanian, irish, coptic, serbian, turkish, welsh, esperanto, uppersorbian\n",
      ", estonian, indonesian, interlingua, icelandic, kurmanji, slovenian, polish, po\n",
      "rtuguese, spanish, galician, catalan, swedish, ukenglish, pinyin, loaded.\n",
      "(/usr/share/texmf-texlive/tex/latex/base/article.cls\n",
      "Document Class: article 2007/10/19 v1.4h Standard LaTeX document class\n",
      "(/usr/share/texmf-texlive/tex/latex/base/size11.clo))\n",
      "(/usr/share/texmf-texlive/tex/latex/multirow/multirow.sty)\n",
      "(/usr/share/texmf-texlive/tex/latex/tools/array.sty)\n",
      "(/usr/share/texmf-texlive/tex/latex/booktabs/booktabs.sty) (./table.aux)\n",
      "Overfull \\hbox (276.94325pt too wide) in paragraph at lines 11--52\n",
      " [] \n",
      "\n",
      "LaTeX Warning: Float too large for page by 205.0524pt on input line 54.\n",
      "\n",
      "[1] (./table.aux) )\n",
      "(see the transcript file for additional information)\n",
      "Output written on table.dvi (1 page, 3632 bytes).\n",
      "Transcript written on table.log.\n",
      "This is dvipng 1.14 Copyright 2002-2010 Jan-Ake Larsson\n",
      "[1] \n"
     ]
    }
   ],
   "source": [
    "!latex ../data/tmp/table.tex\n",
    "!dvipng -o figs/LTP_blast_table.png table.dvi"
   ]
  },
  {
   "cell_type": "code",
   "execution_count": 22,
   "metadata": {
    "collapsed": false
   },
   "outputs": [
    {
     "data": {
      "image/png": "[encoded data removed]",
      "text/plain": [
       "<IPython.core.display.Image at 0x7f7a93f59a50>"
      ]
     },
     "execution_count": 22,
     "metadata": {},
     "output_type": "execute_result"
    }
   ],
   "source": [
    "Image(\"figs/LTP_blast_table.png\")"
   ]
  },
  {
   "cell_type": "code",
   "execution_count": 23,
   "metadata": {
    "collapsed": false
   },
   "outputs": [
    {
     "data": {
      "text/html": [
       "<a href='figs/LTP_blast_table.png' target='_blank'>figs/LTP_blast_table.png</a><br>"
      ],
      "text/plain": [
       "/home/chuck/working/NSIP_data_analysis/figures_and_stats/figs/LTP_blast_table.png"
      ]
     },
     "execution_count": 23,
     "metadata": {},
     "output_type": "execute_result"
    }
   ],
   "source": [
    "FileLink(\"figs/LTP_blast_table.png\")"
   ]
  },
  {
   "cell_type": "code",
   "execution_count": 24,
   "metadata": {
    "collapsed": false
   },
   "outputs": [
    {
     "data": {
      "text/html": [
       "<a href='../data/tmp/table.tex' target='_blank'>../data/tmp/table.tex</a><br>"
      ],
      "text/plain": [
       "/home/chuck/working/NSIP_data_analysis/data/tmp/table.tex"
      ]
     },
     "execution_count": 24,
     "metadata": {},
     "output_type": "execute_result"
    }
   ],
   "source": [
    "FileLink(\"../data/tmp/table.tex\")"
   ]
  },
  {
   "cell_type": "code",
   "execution_count": 25,
   "metadata": {
    "collapsed": false
   },
   "outputs": [
    {
     "data": {
      "text/plain": [
       "R version 3.1.2 (2014-10-31)\n",
       "Platform: x86_64-pc-linux-gnu (64-bit)\n",
       "\n",
       "locale:\n",
       " [1] LC_CTYPE=en_US.UTF-8       LC_NUMERIC=C              \n",
       " [3] LC_TIME=en_US.UTF-8        LC_COLLATE=en_US.UTF-8    \n",
       " [5] LC_MONETARY=en_US.UTF-8    LC_MESSAGES=en_US.UTF-8   \n",
       " [7] LC_PAPER=en_US.UTF-8       LC_NAME=C                 \n",
       " [9] LC_ADDRESS=C               LC_TELEPHONE=C            \n",
       "[11] LC_MEASUREMENT=en_US.UTF-8 LC_IDENTIFICATION=C       \n",
       "\n",
       "attached base packages:\n",
       "[1] tools     stats     graphics  grDevices utils     datasets  methods  \n",
       "[8] base     \n",
       "\n",
       "other attached packages:\n",
       "[1] dplyr_0.3.0.2    data.table_1.9.4\n",
       "\n",
       "loaded via a namespace (and not attached):\n",
       " [1] assertthat_0.1 chron_2.3-45   DBI_0.3.1      lazyeval_0.1.9 magrittr_1.0.1\n",
       " [6] parallel_3.1.2 plyr_1.8.1     Rcpp_0.11.3    reshape2_1.4   stringr_0.6.2 \n"
      ]
     },
     "metadata": {},
     "output_type": "display_data"
    }
   ],
   "source": [
    "%%R\n",
    "sessionInfo()"
   ]
  }
 ],
 "metadata": {
  "kernelspec": {
   "display_name": "Python 2",
   "language": "python",
   "name": "python2"
  },
  "language_info": {
   "codemirror_mode": {
    "name": "ipython",
    "version": 2
   },
   "file_extension": ".py",
   "mimetype": "text/x-python",
   "name": "python",
   "nbconvert_exporter": "python",
   "pygments_lexer": "ipython2",
   "version": "2.7.9"
  }
 },
 "nbformat": 4,
 "nbformat_minor": 0
}

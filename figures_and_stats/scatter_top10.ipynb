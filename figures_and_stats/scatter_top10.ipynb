{
 "metadata": {
  "name": "",
  "signature": "sha256:e2fb8ad8d25168ddd3fca0527a7d5507b7af7ee29ea5b9b7ae256b58a7763514"
 },
 "nbformat": 3,
 "nbformat_minor": 0,
 "worksheets": [
  {
   "cells": [
    {
     "cell_type": "code",
     "collapsed": false,
     "input": [
      "from IPython.display import FileLink, HTML\n",
      "from Bio.Blast.Applications import NcbiblastnCommandline"
     ],
     "language": "python",
     "metadata": {},
     "outputs": [],
     "prompt_number": 1
    },
    {
     "cell_type": "code",
     "collapsed": false,
     "input": [
      "%load_ext rpy2.ipython"
     ],
     "language": "python",
     "metadata": {},
     "outputs": [
      {
       "output_type": "stream",
       "stream": "stderr",
       "text": [
        "/opt/anaconda/lib/python2.7/site-packages/pytz/__init__.py:29: UserWarning: Module argparse was already imported from /opt/anaconda/lib/python2.7/argparse.pyc, but /opt/anaconda/lib/python2.7/site-packages is being added to sys.path\n",
        "  from pkg_resources import resource_stream\n"
       ]
      }
     ],
     "prompt_number": 2
    },
    {
     "cell_type": "code",
     "collapsed": false,
     "input": [
      "%%R\n",
      "library(phyloseq)\n",
      "library(ggplot2)\n",
      "library(plyr); library(dplyr)\n",
      "library(stats)\n",
      "library(xtable)"
     ],
     "language": "python",
     "metadata": {},
     "outputs": [
      {
       "metadata": {},
       "output_type": "display_data",
       "text": [
        "\n",
        "Attaching package: \u2018dplyr\u2019\n",
        "\n",
        "The following objects are masked from \u2018package:plyr\u2019:\n",
        "\n",
        "    arrange, count, desc, failwith, id, mutate, rename, summarise,\n",
        "    summarize\n",
        "\n",
        "The following object is masked from \u2018package:stats\u2019:\n",
        "\n",
        "    filter\n",
        "\n",
        "The following objects are masked from \u2018package:base\u2019:\n",
        "\n",
        "    intersect, setdiff, setequal, union\n",
        "\n"
       ]
      }
     ],
     "prompt_number": 3
    },
    {
     "cell_type": "code",
     "collapsed": false,
     "input": [
      "%%R\n",
      "physeq = import_biom(\"../data/otu_table_wtax.biom\", \"../data/otusn.tree\")\n",
      "\n",
      "mapfilename = \"../data/sample_data_combined_qiime_format.tsv\"\n",
      "QiimeMap <- read.table(file = mapfilename, header = TRUE, \n",
      "                       sep = \"\\t\", comment.char = \"\", \n",
      "                       colClasses = c(\"Density\" = \"numeric\"))\n",
      "rownames(QiimeMap) <- as.character(QiimeMap[, 1])\n",
      "sample.data1 = sample_data(QiimeMap)\n",
      "\n",
      "physeq = merge_phyloseq(physeq,sample.data1)\n",
      "sample.data2 = sample_data(physeq)\n",
      "physeq = prune_samples(sample.data2$study == \"NSIP\", physeq)\n",
      "physeq.snorm = transform_sample_counts(physeq, function(x) x / sum(x))"
     ],
     "language": "python",
     "metadata": {},
     "outputs": [],
     "prompt_number": 4
    },
    {
     "cell_type": "code",
     "collapsed": false,
     "input": [
      "%%R\n",
      "df.l2fc = read.csv(\"../data/l2fc_table.csv\", sep = \",\", header = TRUE, stringsAsFactors = FALSE)\n",
      "df.l2fc.summary = df.l2fc %>%\n",
      "                    filter(test == \"greater\") %>%\n",
      "                    group_by(OTU) %>%\n",
      "                    summarize(max_l2fc = max(log2FoldChange), min_padj = min(p.adj))\n",
      "head(df.l2fc.summary)"
     ],
     "language": "python",
     "metadata": {},
     "outputs": [
      {
       "metadata": {},
       "output_type": "display_data",
       "text": [
        "Source: local data frame [6 x 3]\n",
        "\n",
        "         OTU   max_l2fc min_padj\n",
        "1 DQ531696.1  0.3162608        1\n",
        "2 DQ531699.1 -1.5369554        1\n",
        "3      OTU.1  0.2754811        1\n",
        "4     OTU.10 -0.7393073        1\n",
        "5    OTU.100 -0.2335410        1\n",
        "6   OTU.1000  0.6873137        1\n"
       ]
      }
     ],
     "prompt_number": 5
    },
    {
     "cell_type": "code",
     "collapsed": false,
     "input": [
      "%%R\n",
      "mdf = psmelt(physeq.snorm)\n",
      "df.l2fc.rspndr = df.l2fc.summary %>% filter(min_padj <= 0.10)\n",
      "rspndr = df.l2fc.rspndr$OTU\n",
      "mdf.rspndr = subset(mdf, OTU %in% rspndr)\n",
      "head(mdf.rspndr, 1)[1:4]"
     ],
     "language": "python",
     "metadata": {},
     "outputs": [
      {
       "metadata": {},
       "output_type": "display_data",
       "text": [
        "         OTU Sample Abundance X.SampleID\n",
        "41905 OTU.14   G2F7  0.175413       G2F7\n"
       ]
      }
     ],
     "prompt_number": 6
    },
    {
     "cell_type": "code",
     "collapsed": false,
     "input": [
      "%%R\n",
      "N = 10\n",
      "d = subset(df.l2fc.summary, OTU %in% rspndr)\n",
      "topN = d$OTU[rank(-d$max_l2fc) <= N]\n",
      "d[order(-d$max_l2fc),]"
     ],
     "language": "python",
     "metadata": {},
     "outputs": [
      {
       "metadata": {},
       "output_type": "display_data",
       "text": [
        "Source: local data frame [34 x 3]\n",
        "\n",
        "        OTU max_l2fc     min_padj\n",
        "1   OTU.470 4.435180 1.146736e-03\n",
        "2  OTU.2036 3.906883 1.292612e-02\n",
        "3   OTU.528 3.548746 3.440180e-02\n",
        "4   OTU.321 3.404477 9.052568e-03\n",
        "5  OTU.1276 3.289709 6.282001e-02\n",
        "6    OTU.14 3.272428 2.664510e-05\n",
        "7    OTU.54 3.193468 7.709488e-08\n",
        "8   OTU.330 3.161807 4.200580e-03\n",
        "9   OTU.697 3.159696 3.300723e-02\n",
        "10  OTU.761 3.132044 3.838497e-02\n",
        "11 OTU.2794 3.090590 9.261024e-02\n",
        "12  OTU.647 3.053218 5.093111e-02\n",
        "13  OTU.419 2.832039 4.624289e-02\n",
        "14  OTU.227 2.813795 3.300723e-02\n",
        "15  OTU.586 2.806774 3.300723e-02\n",
        "16  OTU.108 2.732437 5.237824e-04\n",
        "17 OTU.1673 2.630889 1.766048e-05\n",
        "18  OTU.278 2.563790 1.500836e-02\n",
        "19  OTU.282 2.492917 9.858021e-02\n",
        "20  OTU.243 2.302638 9.004198e-02\n",
        "21  OTU.342 2.274134 6.814195e-02\n",
        "22 OTU.4037 2.263344 5.093111e-02\n",
        "23 OTU.4167 2.199427 8.700321e-02\n",
        "24  OTU.327 2.076577 9.004198e-02\n",
        "25  OTU.140 2.014593 3.440180e-02\n",
        "26  OTU.263 1.886728 3.300723e-02\n",
        "27  OTU.643 1.809948 9.215823e-02\n",
        "28  OTU.176 1.752749 3.675641e-02\n",
        "29   OTU.61 1.621856 1.500836e-02\n",
        "30  OTU.259 1.572143 6.282001e-02\n",
        "31   OTU.57 1.402633 3.300723e-02\n",
        "32 OTU.3712 1.298873 5.030109e-02\n",
        "33  OTU.137 1.297751 8.700321e-02\n",
        "34    OTU.3 1.165816 5.093111e-02\n"
       ]
      }
     ],
     "prompt_number": 7
    },
    {
     "cell_type": "markdown",
     "metadata": {},
     "source": [
      "##Control versus label gradient fraction relative abundances in \"heavy\" fractions. Only showing data for OTUs that appear to have incorporated 15N into their DNA."
     ]
    },
    {
     "cell_type": "code",
     "collapsed": false,
     "input": [
      "%%R -w 800 -h 400\n",
      "\n",
      "d = subset(mdf.rspndr, (Density > 1.725)&(OTU %in% topN))\n",
      "#d = subset(mdf.rspndr, Density > 1.725)\n",
      "\n",
      "p = ggplot(d, aes(shape = Treatment, size = Density, x = factor(DayCollected), y = Abundance, color = Treatment))\n",
      "\n",
      "p = p + facet_wrap(~OTU, scales = \"free_y\", ncol = 5)\n",
      "\n",
      "p = p + geom_point(alpha = 0.65, position = position_jitter(h = 0, w = 0.10))\n",
      "\n",
      "#p = p + scale_shape_manual(values = c(24, 22))\n",
      "\n",
      "p = p + scale_size(range = c(2,5))\n",
      "\n",
      "p = p + theme_bw()\n",
      "\n",
      "p = p + theme(strip.text.x = element_text(size = 14),\n",
      "              axis.text.x = element_text(size = 14),\n",
      "              axis.title.x = element_text(size = 14), \n",
      "              axis.title.y = element_text(size = 14),\n",
      "              legend.title = element_text(size = 14),\n",
      "              legend.text = element_text(size = 14),\n",
      "              strip.background = element_blank())\n",
      "\n",
      "p = p + guides(shape=guide_legend(override.aes=list(size=5)))\n",
      "\n",
      "p = p + labs(x = \"Day\", y = \"Relative Abundance\", size = \"Density, g/mL\")\n",
      "\n",
      "p"
     ],
     "language": "python",
     "metadata": {},
     "outputs": [
      {
       "metadata": {},
       "output_type": "display_data",
       "png": "[encoded data removed]"
      }
     ],
     "prompt_number": 8
    },
    {
     "cell_type": "code",
     "collapsed": false,
     "input": [
      "%%R\n",
      "ggsave(\"figs/scatter_heavy_topN.pdf\", p, h = 6, w = 12)"
     ],
     "language": "python",
     "metadata": {},
     "outputs": [],
     "prompt_number": 9
    },
    {
     "cell_type": "code",
     "collapsed": false,
     "input": [
      "FileLink(\"figs/scatter_heavy_topN.pdf\")"
     ],
     "language": "python",
     "metadata": {},
     "outputs": [
      {
       "html": [
        "<a href='figs/scatter_heavy_topN.pdf' target='_blank'>figs/scatter_heavy_topN.pdf</a><br>"
       ],
       "metadata": {},
       "output_type": "pyout",
       "prompt_number": 10,
       "text": [
        "/home/chuck/working/NSIP_data_analysis/figures_and_stats/figs/scatter_heavy_topN.pdf"
       ]
      }
     ],
     "prompt_number": 10
    },
    {
     "cell_type": "code",
     "collapsed": false,
     "input": [
      "%%R\n",
      "sessionInfo()"
     ],
     "language": "python",
     "metadata": {},
     "outputs": [
      {
       "metadata": {},
       "output_type": "display_data",
       "text": [
        "R version 3.1.2 (2014-10-31)\n",
        "Platform: x86_64-pc-linux-gnu (64-bit)\n",
        "\n",
        "locale:\n",
        " [1] LC_CTYPE=en_US.UTF-8       LC_NUMERIC=C              \n",
        " [3] LC_TIME=en_US.UTF-8        LC_COLLATE=en_US.UTF-8    \n",
        " [5] LC_MONETARY=en_US.UTF-8    LC_MESSAGES=en_US.UTF-8   \n",
        " [7] LC_PAPER=en_US.UTF-8       LC_NAME=C                 \n",
        " [9] LC_ADDRESS=C               LC_TELEPHONE=C            \n",
        "[11] LC_MEASUREMENT=en_US.UTF-8 LC_IDENTIFICATION=C       \n",
        "\n",
        "attached base packages:\n",
        "[1] tools     stats     graphics  grDevices utils     datasets  methods  \n",
        "[8] base     \n",
        "\n",
        "other attached packages:\n",
        "[1] xtable_1.7-4    dplyr_0.3.0.2   plyr_1.8.1      ggplot2_1.0.0  \n",
        "[5] phyloseq_1.10.0\n",
        "\n",
        "loaded via a namespace (and not attached):\n",
        " [1] acepack_1.3-3.3         ade4_1.6-2              annotate_1.44.0        \n",
        " [4] AnnotationDbi_1.28.1    ape_3.1-4               assertthat_0.1         \n",
        " [7] base64enc_0.1-2         BatchJobs_1.5           BBmisc_1.8             \n",
        "[10] Biobase_2.26.0          BiocGenerics_0.12.0     BiocParallel_1.0.0     \n",
        "[13] biom_0.3.12             Biostrings_2.34.0       brew_1.0-6             \n",
        "[16] checkmate_1.5.0         chron_2.3-45            cluster_1.15.3         \n",
        "[19] codetools_0.2-9         colorspace_1.2-4        data.table_1.9.4       \n",
        "[22] DBI_0.3.1               DESeq2_1.6.1            digest_0.6.4           \n",
        "[25] fail_1.2                foreach_1.4.2           foreign_0.8-61         \n",
        "[28] Formula_1.1-2           genefilter_1.48.1       geneplotter_1.44.0     \n",
        "[31] GenomeInfoDb_1.2.2      GenomicRanges_1.18.1    grid_3.1.2             \n",
        "[34] gtable_0.1.2            Hmisc_3.14-5            igraph_0.7.1           \n",
        "[37] IRanges_2.0.0           iterators_1.0.7         labeling_0.3           \n",
        "[40] lattice_0.20-29         latticeExtra_0.6-26     lazyeval_0.1.9         \n",
        "[43] locfit_1.5-9.1          magrittr_1.0.1          MASS_7.3-35            \n",
        "[46] Matrix_1.1-4            multtest_2.22.0         munsell_0.4.2          \n",
        "[49] nlme_3.1-118            nnet_7.3-8              parallel_3.1.2         \n",
        "[52] permute_0.8-3           proto_0.3-10            RColorBrewer_1.0-5     \n",
        "[55] Rcpp_0.11.3             RcppArmadillo_0.4.500.0 reshape2_1.4           \n",
        "[58] RJSONIO_1.3-0           rpart_4.1-8             RSQLite_1.0.0          \n",
        "[61] S4Vectors_0.4.0         scales_0.2.4            sendmailR_1.2-1        \n",
        "[64] splines_3.1.2           stats4_3.1.2            stringr_0.6.2          \n",
        "[67] survival_2.37-7         vegan_2.0-10            XML_3.98-1.1           \n",
        "[70] XVector_0.6.0           zlibbioc_1.12.0        \n"
       ]
      }
     ],
     "prompt_number": 11
    }
   ],
   "metadata": {}
  }
 ]
}
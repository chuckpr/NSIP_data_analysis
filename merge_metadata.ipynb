{
 "metadata": {
  "name": "",
  "signature": "sha256:1012674327a784a7f2932499956f5c80085e4db133410a93b1b2f5d4b274ddf7"
 },
 "nbformat": 3,
 "nbformat_minor": 0,
 "worksheets": [
  {
   "cells": [
    {
     "cell_type": "code",
     "collapsed": false,
     "input": [
      "import pandas as pd"
     ],
     "language": "python",
     "metadata": {},
     "outputs": [],
     "prompt_number": 15
    },
    {
     "cell_type": "code",
     "collapsed": false,
     "input": [
      "fn = \"data/steven2013_seqs/ftp.metagenomics.anl.gov/projects/1958/metadata.project-1958.xlsx\"\n",
      "stevens_2013_sample_df = pd.read_excel(fn, \n",
      "                                       index_col = \"sample_name\", \n",
      "                                       sheetname=\"sample\",\n",
      "                                       skiprows=[1])\n",
      "stevens_2013_sample_df[\"sample_name\"] = stevens_2013_sample_df.index.values\n",
      "stevens_2013_sample_df[\"study\"] = \"Steven et al. (2013)\"\n",
      "stevens_2013_sample_df.columns"
     ],
     "language": "python",
     "metadata": {},
     "outputs": [
      {
       "metadata": {},
       "output_type": "pyout",
       "prompt_number": 16,
       "text": [
        "Index([u'mgrast_id', u'biome', u'collection_date', u'country', u'env_package', u'feature', u'latitude', u'location', u'longitude', u'material', u'collection_time', u'collection_timezone', u'depth', u'elevation', u'ph', u'samp_collect_device', u'samp_size', u'temperature', u'continent', u'sample_name', u'study'], dtype='object')"
       ]
      }
     ],
     "prompt_number": 16
    },
    {
     "cell_type": "code",
     "collapsed": false,
     "input": [
      "stevens_2013_sample_df[\"soil_type\"] = stevens_2013_sample_df.sample_name.apply(lambda x: x.split(\"_\")[0])"
     ],
     "language": "python",
     "metadata": {},
     "outputs": [],
     "prompt_number": 17
    },
    {
     "cell_type": "code",
     "collapsed": false,
     "input": [
      "stevens_2013_sample_df[\"crust_or_below\"] = stevens_2013_sample_df.sample_name.apply(lambda x: x.split(\"_\")[1])"
     ],
     "language": "python",
     "metadata": {},
     "outputs": [],
     "prompt_number": 18
    },
    {
     "cell_type": "code",
     "collapsed": false,
     "input": [
      "stevens_2013_library_df = pd.read_excel(fn, \n",
      "                                        index_col = \"sample_name\", \n",
      "                                        sheetname=\"library mimarks-survey\", \n",
      "                                        skiprows=[1])\n",
      "stevens_2013_library_df.columns"
     ],
     "language": "python",
     "metadata": {},
     "outputs": [
      {
       "metadata": {},
       "output_type": "pyout",
       "prompt_number": 19,
       "text": [
        "Index([u'mgrast_id', u'metagenome_id', u'metagenome_name', u'investigation_type', u'seq_meth', u'target_gene', u'adapters', u'forward_primers', u'reverse_primers', u'seq_quality_check', u'target_subfragment', u'amp_polymerase', u'cycle_annealing_duration', u'cycle_annealing_method', u'cycle_annealing_temp', u'cycle_count', u'cycle_denaturation_duration', u'cycle_denaturation_temp', u'cycle_extension_duration', u'cycle_extension_temp', u'dATP_final_conc', u'dCTP_final_conc', u'dGTP_final_conc', u'dTTP_final_conc', u'denaturation_duration_initial', u'denaturation_temp_initial', u'domain', u'extension_duration_final', u'extension_temp_final', u'file_checksum', u'file_name', u'forward_barcodes', u'forward_primer_final_conc', u'pcr_clean_up_kits', u'pcr_replicates', u'pcr_volume', u'polymerase_units', u'reverse_barcodes', u'reverse_primer_final_conc', u'run_machine_type', u'seq_center', u'seq_direction', u'thermocycler'], dtype='object')"
       ]
      }
     ],
     "prompt_number": 19
    },
    {
     "cell_type": "code",
     "collapsed": false,
     "input": [
      "df_tmp = stevens_2013_library_df[[\"metagenome_id\", \n",
      "                                  \"forward_primers\", \n",
      "                                  \"reverse_primers\"]]\n",
      "df_stevens = stevens_2013_sample_df.join(df_tmp)"
     ],
     "language": "python",
     "metadata": {},
     "outputs": [],
     "prompt_number": 20
    },
    {
     "cell_type": "code",
     "collapsed": false,
     "input": [
      "df_stevens.rename(columns = {\"metagenome_id\" : \"#SampleID\", \n",
      "                             \"forward_primers\" : \"LinkerPrimerSequence\", \n",
      "                             \"reverse_primers\" : \"ReversePrimer\", \n",
      "                             \"env_package\" : \"Description\"}, \n",
      "                  inplace = True)"
     ],
     "language": "python",
     "metadata": {},
     "outputs": [],
     "prompt_number": 21
    },
    {
     "cell_type": "code",
     "collapsed": false,
     "input": [
      "df_stevens[\"#SampleID\"] = df_stevens[\"#SampleID\"].astype(str)"
     ],
     "language": "python",
     "metadata": {},
     "outputs": [],
     "prompt_number": 22
    },
    {
     "cell_type": "code",
     "collapsed": false,
     "input": [
      "df_garcia = pd.read_csv(\"data/garciapichel2013.csv\", na_values=\"NA\")\n",
      "df_garcia.rename(columns = {\"SoilPH\": \"ph\", \n",
      "                            \"Latitude\" : \"latitude\",\n",
      "                            \"Longitude\" : \"longitude\",\n",
      "                            \"SampleID\" : \"#SampleID\"}, \n",
      "                 inplace = True)\n",
      "df_garcia[\"study\"] = \"Garcia-Pichel et al. (2013)\"\n",
      "df_garcia.columns"
     ],
     "language": "python",
     "metadata": {},
     "outputs": [
      {
       "metadata": {},
       "output_type": "pyout",
       "prompt_number": 23,
       "text": [
        "Index([u'#SampleID', u'site', u'BiogeographicalRegion', u'latitude', u'longitude', u'Elevation', u'MeanAnnualTemp', u'MeanSummerTemp', u'MeanWinterTemp', u'MeanAnnualPrecipitation', u'PrecipitationBimodalityIndex', u'SoilOrder', u'BiocrustType', u'ph', u'OrganicMatter', u'Clay', u'Sand', u'Conductivity', u'Carbonate', u'Gypsum', u'study'], dtype='object')"
       ]
      }
     ],
     "prompt_number": 23
    },
    {
     "cell_type": "code",
     "collapsed": false,
     "input": [
      "SIP_df = pd.read_csv(\"data/barcode_mapper.txt\", sep=\"\\t\")\n",
      "SIP_df[\"study\"] = \"NSIP\""
     ],
     "language": "python",
     "metadata": {},
     "outputs": [],
     "prompt_number": 24
    },
    {
     "cell_type": "code",
     "collapsed": false,
     "input": [
      "df_combined = SIP_df.append([df_stevens, df_garcia])"
     ],
     "language": "python",
     "metadata": {},
     "outputs": [],
     "prompt_number": 25
    },
    {
     "cell_type": "code",
     "collapsed": false,
     "input": [
      "df_combined.to_csv(\"data/sample_data_combined_qiime_format.tsv\", \n",
      "                   sep = \"\\t\", \n",
      "                   index = False,\n",
      "                   na_rep = \"NA\")"
     ],
     "language": "python",
     "metadata": {},
     "outputs": [],
     "prompt_number": 26
    },
    {
     "cell_type": "code",
     "collapsed": false,
     "input": [
      "!head -n1 data/sample_data_combined_qiime_format.tsv | cut -c1-60\n",
      "!tail data/sample_data_combined_qiime_format.tsv | cut -c1-60"
     ],
     "language": "python",
     "metadata": {},
     "outputs": [
      {
       "output_type": "stream",
       "stream": "stdout",
       "text": [
        "#SampleID\tBarcodeSequence\tBiocrustType\tBiogeographicalRegion\r\n"
       ]
      },
      {
       "output_type": "stream",
       "stream": "stdout",
       "text": [
        "site14\tNA\tLichen\tChihuahuan\t10.0\t10.0\t1.0\tNA\tNA\tNA\t1595.0\t10\r\n",
        "site15\tNA\tlight\tSonoran\t5.0\t33.0\t12.0\tNA\tNA\tNA\t353.0\t0.0\tNA\t\r\n",
        "site16\tNA\tlight\tSonoran\t5.0\t15.0\t10.0\tNA\tNA\tNA\t109.0\t5.0\tNA\t\r\n",
        "site17\tNA\tlight\tChihuahuan\t4.0\t15.0\t6.0\tNA\tNA\tNA\t259.0\t1.0\tN\r\n",
        "site18\tNA\tdark\tChihuahuan\t5.0\t13.0\t1.0\tNA\tNA\tNA\t1315.0\t0.0\tN\r\n",
        "site19\tNA\tlight\tMojave\t9.0\t4.0\t1.0\tNA\tNA\tNA\t159.0\t0.0\tNA\t0.9\r\n",
        "site20\tNA\tlight\tMojave\tNA\tNA\tNA\tNA\tNA\tNA\t525.0\tNA\tNA\t4.1\t21.\r\n",
        "site21\tNA\tlight\tMojave\tNA\tNA\tNA\tNA\tNA\tNA\t404.0\tNA\tNA\t17.5\t15\r\n",
        "site22\tNA\tdark\tMojave\tNA\tNA\tNA\tNA\tNA\tNA\t900.0\tNA\tNA\t17.5\t15.\r\n",
        "site23\tNA\tlight\tSonoran\t15.0\t10.0\t1.0\tNA\tNA\tNA\t377.0\t0.0\tNA\t\r\n"
       ]
      }
     ],
     "prompt_number": 27
    }
   ],
   "metadata": {}
  }
 ]
}
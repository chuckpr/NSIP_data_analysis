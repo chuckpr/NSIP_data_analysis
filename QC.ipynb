{
 "metadata": {
  "name": "",
  "signature": "sha256:6096952a6b002062c7d5901e5bcc64b61d179feef81ffb0e720b812e15481e3c"
 },
 "nbformat": 3,
 "nbformat_minor": 0,
 "worksheets": [
  {
   "cells": [
    {
     "cell_type": "code",
     "collapsed": false,
     "input": [
      "import screed\n",
      "from screed.fasta import fasta_iter\n",
      "from pandas import DataFrame\n",
      "import os\n",
      "from cogent import DNA\n",
      "from qiime.assign_taxonomy import UclustConsensusTaxonAssigner\n",
      "import matplotlib.pyplot as plt\n",
      "from mpltools import style\n",
      "style.use(\"ggplot\")"
     ],
     "language": "python",
     "metadata": {},
     "outputs": [],
     "prompt_number": 4
    },
    {
     "cell_type": "code",
     "collapsed": false,
     "input": [
      "%matplotlib inline"
     ],
     "language": "python",
     "metadata": {},
     "outputs": [],
     "prompt_number": 2
    },
    {
     "cell_type": "code",
     "collapsed": false,
     "input": [
      "%%bash\n",
      "split_libraries_fastq.py \\\n",
      "-b data/raw/soil_crust_seqs.fastq \\\n",
      "--store_demultiplexed_fastq \\\n",
      "-r 500 \\\n",
      "-p 0 \\\n",
      "-n 500 \\\n",
      "-q 0 \\\n",
      "--barcode_type 10 \\\n",
      "--max_barcode_errors 0 \\\n",
      "-i data/raw/soil_crust_seqs.fastq \\\n",
      "-m data/barcode_mapper.txt \\\n",
      "-o data/demultiplexed"
     ],
     "language": "python",
     "metadata": {},
     "outputs": [],
     "prompt_number": 29
    },
    {
     "cell_type": "markdown",
     "metadata": {},
     "source": [
      "##We can start by calculating some QC stats using USearch."
     ]
    },
    {
     "cell_type": "code",
     "collapsed": false,
     "input": [
      "!usearch -fastq_stats data/demultiplexed/seqs.fastq -log data/fastq_stats.log"
     ],
     "language": "python",
     "metadata": {},
     "outputs": [
      {
       "output_type": "stream",
       "stream": "stdout",
       "text": [
        "usearch v7.0.1090_i86linux32, 4.0Gb RAM (132Gb total), 40 cores\r\n",
        "(C) Copyright 2013 Robert C. Edgar, all rights reserved.\r\n",
        "http://drive5.com/usearch\r\n",
        "\r\n",
        "Licensed to: chuck.peperanney@gmail.com\r\n",
        "\r\n",
        "00:00 2.3Mb    0.0% Reading\r"
       ]
      },
      {
       "output_type": "stream",
       "stream": "stdout",
       "text": [
        "00:00  37Mb    0.0% Reading data/demultiplexed/seqs.fastq\r",
        "00:00  37Mb    0.0% Reading data/demultiplexed/seqs.fastq\r",
        "00:00  37Mb    0.0% Reading data/demultiplexed/seqs.fastq\r",
        "00:00  37Mb    0.0% Reading data/demultiplexed/seqs.fastq\r",
        "00:00  37Mb    0.0% Reading data/demultiplexed/seqs.fastq\r",
        "00:00  37Mb    0.0% Reading data/demultiplexed/seqs.fastq\r",
        "00:00  37Mb    0.0% Reading data/demultiplexed/seqs.fastq\r",
        "00:00  37Mb    0.0% Reading data/demultiplexed/seqs.fastq\r",
        "00:00  37Mb    0.0% Reading data/demultiplexed/seqs.fastq\r",
        "00:00  37Mb    0.0% Reading data/demultiplexed/seqs.fastq\r"
       ]
      },
      {
       "output_type": "stream",
       "stream": "stdout",
       "text": [
        "00:01  37Mb   10.3% Reading data/demultiplexed/seqs.fastq\r"
       ]
      },
      {
       "output_type": "stream",
       "stream": "stdout",
       "text": [
        "00:02  37Mb   39.6% Reading data/demultiplexed/seqs.fastq\r"
       ]
      },
      {
       "output_type": "stream",
       "stream": "stdout",
       "text": [
        "00:03  37Mb   68.9% Reading data/demultiplexed/seqs.fastq\r"
       ]
      },
      {
       "output_type": "stream",
       "stream": "stdout",
       "text": [
        "00:04  37Mb   98.4% Reading data/demultiplexed/seqs.fastq\r"
       ]
      },
      {
       "output_type": "stream",
       "stream": "stdout",
       "text": [
        "00:04  37Mb  100.0% Reading data/demultiplexed/seqs.fastq\r",
        "\r\n"
       ]
      },
      {
       "output_type": "stream",
       "stream": "stdout",
       "text": [
        "    258763  Recs (258.8k), 0 too long                    \r\n",
        "     300.6  Avg length\r\n",
        "     77.8M  Bases\r\n"
       ]
      }
     ],
     "prompt_number": 30
    },
    {
     "cell_type": "markdown",
     "metadata": {},
     "source": [
      "###Here we're parsing/importing the relevant info from the USearch output. We can plot the percentace of sequences exceeding the max expected error rate (1.00, 0.50, 0.25, 0.10) at different truncation lengths."
     ]
    },
    {
     "cell_type": "code",
     "collapsed": false,
     "input": [
      "start = 608\n",
      "end = 921\n",
      "stats_lines = open(\"data/fastq_stats.log\").readlines()[start:end]\n",
      "print len(stats_lines)\n",
      "keys = [\"L\", \"1.00\", \"0.50\", \"0.25\", \"0.10\"]\n",
      "positions = [0,5,6,7,8]\n",
      "df_dicts = []\n",
      "for line in stats_lines:\n",
      "    if line.startswith(\"---\"):\n",
      "        continue\n",
      "    data = line.replace(\"%\",\"\").strip().split()\n",
      "    d = {}\n",
      "    for key, position in zip(keys, positions):\n",
      "        if key == \"L\":\n",
      "            d[key] = int(data[position])\n",
      "        else:\n",
      "            d[key] = float(data[position])\n",
      "    df_dicts.append(d)\n",
      "df = DataFrame(df_dicts, \n",
      "               columns=keys[1:],\n",
      "               index=[d[\"L\"] for d in df_dicts])\n",
      "ax = df.plot()\n",
      "fig = ax.get_figure()\n",
      "fig.set_size_inches((9,6))\n",
      "yl = ax.set_ylabel(\"% of sequences above maxee threshold\")\n",
      "xl = ax.set_xlabel(\"Truncation Length\")"
     ],
     "language": "python",
     "metadata": {},
     "outputs": [
      {
       "output_type": "stream",
       "stream": "stdout",
       "text": [
        "313\n"
       ]
      },
      {
       "metadata": {},
       "output_type": "display_data",
       "png": "[encoded data removed]",
       "text": [
        "<matplotlib.figure.Figure at 0x40963d0>"
       ]
      }
     ],
     "prompt_number": 31
    },
    {
     "cell_type": "markdown",
     "metadata": {},
     "source": [
      "###If se set the max expected error rate threshold at 1.00 and truncate at 230 characters we will retain ~91% of our reads."
     ]
    },
    {
     "cell_type": "code",
     "collapsed": false,
     "input": [
      "max_ee = \"1.00\"\n",
      "truncation_length = 230\n",
      "pct_retatined = df[max_ee][truncation_length] #this is the actual percentage of reads we \n",
      "                                              #will keep with the above criteria\n",
      "print pct_retatined"
     ],
     "language": "python",
     "metadata": {},
     "outputs": [
      {
       "output_type": "stream",
       "stream": "stdout",
       "text": [
        "91.1\n"
       ]
      }
     ],
     "prompt_number": 34
    },
    {
     "cell_type": "code",
     "collapsed": false,
     "input": [
      "!mkdir -p \"data/tmp\""
     ],
     "language": "python",
     "metadata": {},
     "outputs": [],
     "prompt_number": 35
    },
    {
     "cell_type": "markdown",
     "metadata": {},
     "source": [
      "####This is the usearch command to do our sequence truncation and max expected error thresholding. "
     ]
    },
    {
     "cell_type": "code",
     "collapsed": false,
     "input": [
      "!usearch -fastq_filter data/demultiplexed/seqs.fastq \\\n",
      "-fastq_maxee \"$max_ee\" \\\n",
      "-fastq_trunclen \"$truncation_length\" \\\n",
      "-fastaout \"data/tmp/maxee_trunc.fasta\""
     ],
     "language": "python",
     "metadata": {},
     "outputs": [
      {
       "output_type": "stream",
       "stream": "stdout",
       "text": [
        "usearch v7.0.1090_i86linux32, 4.0Gb RAM (132Gb total), 40 cores\r\n",
        "(C) Copyright 2013 Robert C. Edgar, all rights reserved.\r\n",
        "http://drive5.com/usearch\r\n",
        "\r\n",
        "Licensed to: chuck.peperanney@gmail.com\r\n",
        "\r\n",
        "00:00 2.1Mb    0.0% Converting\r",
        "00:00 2.1Mb    0.0% Converting, 0 recs, 0 converted (0.0%)\r",
        "00:00 2.1Mb    0.0% Converting, 1 recs, 0 converted (0.0%)\r",
        "00:00 2.1Mb    0.0% Converting, 2 recs, 0 converted (0.0%)\r",
        "00:00 2.1Mb    0.0% Converting, 3 recs, 0 converted (0.0%)\r",
        "00:00 2.1Mb    0.0% Converting, 4 recs, 0 converted (0.0%)\r",
        "00:00 2.1Mb    0.0% Converting, 5 recs, 0 converted (0.0%)\r",
        "00:00 2.1Mb    0.0% Converting, 6 recs, 0 converted (0.0%)\r",
        "00:00 2.1Mb    0.0% Converting, 7 recs, 0 converted (0.0%)\r",
        "00:00 2.1Mb    0.0% Converting, 8 recs, 0 converted (0.0%)\r",
        "00:00 2.1Mb    0.0% Converting, 9 recs, 0 converted (0.0%)\r"
       ]
      },
      {
       "output_type": "stream",
       "stream": "stdout",
       "text": [
        "00:01 2.1Mb   26.1% Converting, 68.4k recs, 61613 converted (90.1%)\r"
       ]
      },
      {
       "output_type": "stream",
       "stream": "stdout",
       "text": [
        "00:02 2.1Mb   66.0% Converting, 171.8k recs, 155517 converted (90.5%)\r"
       ]
      },
      {
       "output_type": "stream",
       "stream": "stdout",
       "text": [
        "00:02 2.1Mb  100.0% Converting, 258.8k recs, 235663 converted (91.1%)\r",
        "\r\n"
       ]
      },
      {
       "output_type": "stream",
       "stream": "stdout",
       "text": [
        "    258763  FASTQ recs (258.8k)                                      \r\n",
        "      8168  Short recs discarded (<230)\r\n",
        "     14932  Low qual recs discarded (expected errs > 1.00)\r\n",
        "    235663  Converted (235.7k, 91.1%)\r\n"
       ]
      }
     ],
     "prompt_number": 42
    },
    {
     "cell_type": "markdown",
     "metadata": {},
     "source": [
      "###The following cell strips the fw primer and the barcode from our reads."
     ]
    },
    {
     "cell_type": "code",
     "collapsed": false,
     "input": [
      "primerLen = 20\n",
      "bcLen = 10\n",
      "seqFile = open(\"data/tmp/maxee_trunc.fasta\", \"rb\")\n",
      "fa_instance = fasta_iter(seqFile)\n",
      "out = open(\"data/tmp/maxee_trunc.fwprimtrim.fasta\", \"w\")\n",
      "for rec in fa_instance:\n",
      "    s = rec.sequence\n",
      "    n = rec.name\n",
      "    out.write(\">%s\\n%s\\n\"%(n,s[primerLen+bcLen:]))\n",
      "out.close()"
     ],
     "language": "python",
     "metadata": {},
     "outputs": [],
     "prompt_number": 43
    },
    {
     "cell_type": "markdown",
     "metadata": {},
     "source": [
      "###Let's remove archaeal, chloroplast and eukaryal seqs in addition to seqs that are not able to be annotated before further QC steps."
     ]
    },
    {
     "cell_type": "markdown",
     "metadata": {},
     "source": [
      "####First we need to annotate our sequences."
     ]
    },
    {
     "cell_type": "code",
     "collapsed": false,
     "input": [
      "!parallel_assign_taxonomy_uclust.py \\\n",
      "-i data/tmp/maxee_trunc.fwprimtrim.fasta \\\n",
      "-o data/tmp/maxee_trunc.fwprimtrim.fasta.tax \\\n",
      "-O 10 \\\n",
      "-t /var/seq_data/Silva111_qiime_formatted/taxonomy/97_Silva_111_taxa_map.txt \\\n",
      "-r /var/seq_data/Silva111_qiime_formatted/no_ambiguous_bases_files/97_Silva_111_rep_set_no_ambig.fasta \\\n",
      "--uclust_similarity=0.85"
     ],
     "language": "python",
     "metadata": {},
     "outputs": [],
     "prompt_number": 44
    },
    {
     "cell_type": "code",
     "collapsed": false,
     "input": [
      "!egrep \"Chloroplast|Eukaryota|Archaea|Unassigned|mitochondria\" \\\n",
      "data/tmp/maxee_trunc.fwprimtrim.fasta.tax/maxee_trunc.fwprimtrim_tax_assignments.txt \\\n",
      "| awk '{print $1}' > data/to_remove_tax.accnos"
     ],
     "language": "python",
     "metadata": {},
     "outputs": [],
     "prompt_number": 45
    },
    {
     "cell_type": "code",
     "collapsed": false,
     "input": [
      "!wc -l data/to_remove_tax.accnos"
     ],
     "language": "python",
     "metadata": {},
     "outputs": [
      {
       "output_type": "stream",
       "stream": "stdout",
       "text": [
        "6356 data/to_remove_tax.accnos\r\n"
       ]
      }
     ],
     "prompt_number": 46
    },
    {
     "cell_type": "code",
     "collapsed": false,
     "input": [
      "!head data/to_remove_tax.accnos"
     ],
     "language": "python",
     "metadata": {},
     "outputs": [
      {
       "output_type": "stream",
       "stream": "stdout",
       "text": [
        "G1F25_8396\r\n",
        "G2F29_13658\r\n",
        "G2F25_6028\r\n",
        "G1F25_7397\r\n",
        "G2F17_9462\r\n",
        "G3F12_15307\r\n",
        "G3F4_12520\r\n",
        "G3F12_7423\r\n",
        "G2F15_15869\r\n",
        "G2F29_24992\r\n"
       ]
      }
     ],
     "prompt_number": 47
    },
    {
     "cell_type": "code",
     "collapsed": false,
     "input": [
      "%%bash\n",
      "mothur \"#remove.seqs(fasta=data/tmp/maxee_trunc.fwprimtrim.fasta, \\\n",
      "accnos=data/to_remove_tax.accnos)\" > /dev/null"
     ],
     "language": "python",
     "metadata": {},
     "outputs": [],
     "prompt_number": 48
    },
    {
     "cell_type": "markdown",
     "metadata": {},
     "source": [
      "###Now we're ready to do some alignment-based QC using mothur."
     ]
    },
    {
     "cell_type": "code",
     "collapsed": false,
     "input": [
      "!mothur \"#unique.seqs(fasta=data/tmp/maxee_trunc.fwprimtrim.pick.fasta)\" > /dev/null"
     ],
     "language": "python",
     "metadata": {},
     "outputs": [],
     "prompt_number": 49
    },
    {
     "cell_type": "markdown",
     "metadata": {},
     "source": [
      "####We'll need a group file for our dataset."
     ]
    },
    {
     "cell_type": "code",
     "collapsed": false,
     "input": [
      "!grep \"^>\" data/tmp/maxee_trunc.fwprimtrim.pick.fasta | \\\n",
      "awk -F\"_\" 'BEGIN{OFS=\"\\t\"}{print $0,$1}' | \\\n",
      "sed 's/>//g' > data/group_file.txt"
     ],
     "language": "python",
     "metadata": {},
     "outputs": [],
     "prompt_number": 50
    },
    {
     "cell_type": "code",
     "collapsed": false,
     "input": [
      "!head -n 2 data/group_file.txt"
     ],
     "language": "python",
     "metadata": {},
     "outputs": [
      {
       "output_type": "stream",
       "stream": "stdout",
       "text": [
        "G1F18_72\tG1F18\r\n",
        "G1F24_97\tG1F24\r\n"
       ]
      }
     ],
     "prompt_number": 51
    },
    {
     "cell_type": "markdown",
     "metadata": {},
     "source": [
      "###First we'll align our seqs to the Silva reference set from the Mothur website."
     ]
    },
    {
     "cell_type": "code",
     "collapsed": false,
     "input": [
      "!mkdir -p data/tmp/db"
     ],
     "language": "python",
     "metadata": {},
     "outputs": [],
     "prompt_number": 52
    },
    {
     "cell_type": "code",
     "collapsed": false,
     "input": [
      "%%bash\n",
      "if ! [ -e data/silva_ref_aln_mothur.fasta ]; then\n",
      "    curl -o data/tmp/db/silva_B.zip http://www.mothur.org/w/images/9/98/Silva.bacteria.zip && unzip data/tmp/db/silva_B.zip\n",
      "fi"
     ],
     "language": "python",
     "metadata": {},
     "outputs": [
      {
       "output_type": "stream",
       "stream": "stdout",
       "text": [
        "Archive:  data/tmp/db/silva_B.zip\n"
       ]
      },
      {
       "output_type": "stream",
       "stream": "stderr",
       "text": [
        "  % Total    % Received % Xferd  Average Speed   Time    Time     Time  Current\n",
        "                                 Dload  Upload   Total   Spent    Left  Speed\n",
        "\r",
        "  0     0    0     0    0     0      0      0 --:--:-- --:--:-- --:--:--     0\r",
        "  0     0    0     0    0     0      0      0 --:--:-- --:--:-- --:--:--     0\r",
        "  7 24.3M    7 1824k    0     0  1673k      0  0:00:14  0:00:01  0:00:13 1752k\r",
        " 19 24.3M   19 4765k    0     0  2279k      0  0:00:10  0:00:02  0:00:08 2333k\r",
        " 30 24.3M   30 7708k    0     0  2493k      0  0:00:09  0:00:03  0:00:06 2533k\r",
        " 42 24.3M   42 10.4M    0     0  2604k      0  0:00:09  0:00:04  0:00:05 2635k\r",
        " 54 24.3M   54 13.2M    0     0  2671k      0  0:00:09  0:00:05  0:00:04 2720k\r",
        " 66 24.3M   66 16.1M    0     0  2715k      0  0:00:09  0:00:06  0:00:03 2942k\r",
        " 78 24.3M   78 19.0M    0     0  2748k      0  0:00:09  0:00:07  0:00:02 2943k\r",
        " 89 24.3M   89 21.9M    0     0  2771k      0  0:00:08  0:00:08 --:--:-- 2944k\r",
        "100 24.3M  100 24.3M    0     0  2794k      0  0:00:08  0:00:08 --:--:-- 2955k\n",
        "replace silva.bacteria/.DS_Store? [y]es, [n]o, [A]ll, [N]one, [r]ename:  NULL\n",
        "(EOF or read error, treating as \"[N]one\" ...)\n"
       ]
      }
     ],
     "prompt_number": 60
    },
    {
     "cell_type": "code",
     "collapsed": false,
     "input": [
      "%%bash\n",
      "mothur \"#align.seqs(candidate=data/tmp/maxee_trunc.fwprimtrim.pick.unique.fasta, \\\n",
      "template=data/tmp/db/silva.bacteria/silva.bacteria.fasta, \\\n",
      "processors=25, \\\n",
      "flip=T)\" > /dev/null"
     ],
     "language": "python",
     "metadata": {},
     "outputs": [],
     "prompt_number": 61
    },
    {
     "cell_type": "markdown",
     "metadata": {},
     "source": [
      "####We can filter out vertical gaps..."
     ]
    },
    {
     "cell_type": "code",
     "collapsed": false,
     "input": [
      "%%bash\n",
      "mothur \"#filter.seqs(vertical=t, \\\n",
      "fasta=data/tmp/maxee_trunc.fwprimtrim.pick.unique.align, \\\n",
      "processors=25)\" > /dev/null"
     ],
     "language": "python",
     "metadata": {},
     "outputs": [],
     "prompt_number": 62
    },
    {
     "cell_type": "markdown",
     "metadata": {},
     "source": [
      "###Here is what our seqs look like."
     ]
    },
    {
     "cell_type": "code",
     "collapsed": false,
     "input": [
      "%%bash\n",
      "mothur \"#summary.seqs(fasta=data/tmp/maxee_trunc.fwprimtrim.pick.unique.filter.fasta, \\\n",
      "processors=1, \\\n",
      "name=data/tmp/maxee_trunc.fwprimtrim.pick.names)\""
     ],
     "language": "python",
     "metadata": {},
     "outputs": [
      {
       "output_type": "stream",
       "stream": "stdout",
       "text": [
        "\u001b[H\u001b[2J\n",
        "\n",
        "\n",
        "\n",
        "\n",
        "\n",
        "mothur v.1.32.1\n",
        "Last updated: 10/16/2013\n",
        "\n",
        "by\n",
        "Patrick D. Schloss\n",
        "\n",
        "Department of Microbiology & Immunology\n",
        "University of Michigan\n",
        "pschloss@umich.edu\n",
        "http://www.mothur.org\n",
        "\n",
        "When using, please cite:\n",
        "Schloss, P.D., et al., Introducing mothur: Open-source, platform-independent, community-supported software for describing and comparing microbial communities. Appl Environ Microbiol, 2009. 75(23):7537-41.\n",
        "\n",
        "Distributed under the GNU General Public License\n",
        "\n",
        "Type 'help()' for information on the commands that are available\n",
        "\n",
        "Type 'quit()' to exit program\n",
        "\n",
        "\n",
        "\n",
        "mothur > summary.seqs(fasta=data/tmp/maxee_trunc.fwprimtrim.pick.unique.filter.fasta, processors=1, name=data/tmp/maxee_trunc.fwprimtrim.pick.names)\n",
        "\n",
        "Using 1 processors.\n",
        "\n",
        "\t\tStart\tEnd\tNBases\tAmbigs\tPolymer\tNumSeqs\n",
        "Minimum:\t1\t429\t200\t0\t3\t1\n",
        "2.5%-tile:\t38\t541\t200\t0\t4\t5733\n",
        "25%-tile:\t40\t541\t200\t0\t4\t57327\n",
        "Median: \t41\t542\t200\t0\t5\t114654\n",
        "75%-tile:\t41\t543\t200\t0\t5\t171981\n",
        "97.5%-tile:\t45\t544\t200\t0\t6\t223575\n",
        "Maximum:\t108\t572\t200\t0\t15\t229307\n",
        "Mean:\t40.7756\t542.015\t200\t0\t4.75589\n",
        "# of unique seqs:\t73931\n",
        "total # of seqs:\t229307\n",
        "\n",
        "Output File Names: \n",
        "data/tmp/maxee_trunc.fwprimtrim.pick.unique.filter.summary\n",
        "\n",
        "\n",
        "mothur > quit()\n"
       ]
      }
     ],
     "prompt_number": 64
    },
    {
     "cell_type": "markdown",
     "metadata": {},
     "source": [
      "###Looks like we need to screen out some seqs that don't align to the expected amplicon region. We can also get rid of reads which have a homopolymer longer than 8. Then we trim the remaining reads to the same alignment coordinates and print out a summary to examine the results."
     ]
    },
    {
     "cell_type": "code",
     "collapsed": false,
     "input": [
      "%%bash\n",
      "\n",
      "mothur \"#screen.seqs(fasta=data/tmp/maxee_trunc.fwprimtrim.pick.unique.filter.fasta, \\\n",
      "processors=20, \\\n",
      "name=data/tmp/maxee_trunc.fwprimtrim.pick.names, \\\n",
      "group=data/group_file.txt, \\\n",
      "start=45, \\\n",
      "end=541, \\\n",
      "maxhomop=8)\" > /dev/null\n",
      "\n",
      "mothur \"#filter.seqs(fasta=data/tmp/maxee_trunc.fwprimtrim.pick.unique.filter.good.fasta, \\\n",
      "processors=20, \\\n",
      "trump=.)\" > /dev/null\n",
      "\n",
      "mothur \"#summary.seqs(fasta=data/tmp/maxee_trunc.fwprimtrim.pick.unique.filter.good.filter.fasta, \\\n",
      "name=data/tmp/maxee_trunc.fwprimtrim.pick.good.names)\""
     ],
     "language": "python",
     "metadata": {},
     "outputs": [
      {
       "output_type": "stream",
       "stream": "stdout",
       "text": [
        "\u001b[H\u001b[2J\n",
        "\n",
        "\n",
        "\n",
        "\n",
        "\n",
        "mothur v.1.32.1\n",
        "Last updated: 10/16/2013\n",
        "\n",
        "by\n",
        "Patrick D. Schloss\n",
        "\n",
        "Department of Microbiology & Immunology\n",
        "University of Michigan\n",
        "pschloss@umich.edu\n",
        "http://www.mothur.org\n",
        "\n",
        "When using, please cite:\n",
        "Schloss, P.D., et al., Introducing mothur: Open-source, platform-independent, community-supported software for describing and comparing microbial communities. Appl Environ Microbiol, 2009. 75(23):7537-41.\n",
        "\n",
        "Distributed under the GNU General Public License\n",
        "\n",
        "Type 'help()' for information on the commands that are available\n",
        "\n",
        "Type 'quit()' to exit program\n",
        "\n",
        "\n",
        "\n",
        "mothur > summary.seqs(fasta=data/tmp/maxee_trunc.fwprimtrim.pick.unique.filter.good.filter.fasta, name=data/tmp/maxee_trunc.fwprimtrim.pick.good.names)\n",
        "\n",
        "Using 1 processors.\n",
        "\n",
        "\t\tStart\tEnd\tNBases\tAmbigs\tPolymer\tNumSeqs\n",
        "Minimum:\t1\t497\t190\t0\t3\t1\n",
        "2.5%-tile:\t1\t497\t196\t0\t4\t5602\n",
        "25%-tile:\t1\t497\t196\t0\t4\t56012\n",
        "Median: \t1\t497\t197\t0\t5\t112024\n",
        "75%-tile:\t1\t497\t197\t0\t5\t168036\n",
        "97.5%-tile:\t1\t497\t198\t0\t6\t218446\n",
        "Maximum:\t3\t497\t200\t0\t8\t224047\n",
        "Mean:\t1.00259\t497\t196.611\t0\t4.74277\n",
        "# of unique seqs:\t70364\n",
        "total # of seqs:\t224047\n",
        "\n",
        "Output File Names: \n",
        "data/tmp/maxee_trunc.fwprimtrim.pick.unique.filter.good.filter.summary\n",
        "\n",
        "\n",
        "mothur > quit()\n"
       ]
      }
     ],
     "prompt_number": 83
    },
    {
     "cell_type": "markdown",
     "metadata": {},
     "source": [
      "###Looks pretty good. Let's see if we see any hint of the reverse primer at the ends of the read."
     ]
    },
    {
     "cell_type": "code",
     "collapsed": false,
     "input": [
      "print \"revcomp reverse primer:\", DNA.makeSequence(\"GGACTACHVGGGTWTCTAAT\").rc(), \"\\n\"\n",
      "!head -n 6 data/tmp/maxee_trunc.fwprimtrim.pick.unique.filter.good.filter.fasta | sed 's/-//g'"
     ],
     "language": "python",
     "metadata": {},
     "outputs": [
      {
       "output_type": "stream",
       "stream": "stdout",
       "text": [
        "revcomp reverse primer: ATTAGAWACCCBDGTAGTCC \n",
        "\n",
        ">G1F18_72\r\n",
        "TTAAGTCAGAAGTGAAAGGTTGGAGCTCAACTCTAACATTGCTTCCGAGACTGGCAGTCTTGAGTGCCGGAGAGGATGATGGAACGACACGTGTAGCGGTGAAATGCGTTGAGATGTGTCGGAACACCAATGGCGAAAGCAATCATCTGGACGGAAACTGACGCTGAGGTTCGAAAGCCAAGGGAGCGAACAGGAT\r\n",
        ">G1F24_97\r\n",
        "GTAAGTCAGAGGTGAAATCTCCAAGCTTAACTTGGAAACTGCCCCTGATACTATTAGTCTTGAATATCGATGAGGTGGGCGGAATACATCATGTAGCGGTGAAATGCTTAGATATGATGTAGAACACCGATTGCGAAGGCAGCTCACTAACCGATTATTGACGCTGAGGCACGAAAGCGTGGGGATCAAACAGGAT\r\n",
        ">G1F7_103\r\n",
        "TCAAGTCTGCTGTCAAAGACCGGGGCTTAACTTCGGAAAGGCAGTGGAAACTGAACAGCTAGAGTATGGTAGGGGCAGAGGGAATTCCTGGTGTAGCGGTGAAATGCGTAGAGATCAGGAAGAACATCGGTGGCGAAGGCGCTCTGCTGGACCATAACTGACACTCAGGGACGAAAGCTAGGGGAGCGAATGGGGA\r\n"
       ]
      }
     ],
     "prompt_number": 84
    },
    {
     "cell_type": "markdown",
     "metadata": {},
     "source": [
      "####Lots of reads end with AT which may be the beginning of our reverse primer but we'll leave it for now."
     ]
    },
    {
     "cell_type": "code",
     "collapsed": false,
     "input": [
      "!grep -c \">\" data/tmp/maxee_trunc.fwprimtrim.pick.unique.filter.good.filter.fasta\n",
      "!grep -c \"AT$\" data/tmp/maxee_trunc.fwprimtrim.pick.unique.filter.good.filter.fasta"
     ],
     "language": "python",
     "metadata": {},
     "outputs": [
      {
       "output_type": "stream",
       "stream": "stdout",
       "text": [
        "70364\r\n"
       ]
      },
      {
       "output_type": "stream",
       "stream": "stdout",
       "text": [
        "54712\r\n"
       ]
      }
     ],
     "prompt_number": 85
    },
    {
     "cell_type": "markdown",
     "metadata": {},
     "source": [
      "###Now we can expand our data, remove gaps and copy it to the data directory."
     ]
    },
    {
     "cell_type": "code",
     "collapsed": false,
     "input": [
      "!wc -l data/tmp/maxee_trunc.fwprimtrim.pick.good.names"
     ],
     "language": "python",
     "metadata": {},
     "outputs": [
      {
       "output_type": "stream",
       "stream": "stdout",
       "text": [
        "70364 data/tmp/maxee_trunc.fwprimtrim.pick.good.names\r\n"
       ]
      }
     ],
     "prompt_number": 86
    },
    {
     "cell_type": "code",
     "collapsed": false,
     "input": [
      "%%bash\n",
      "mothur \"#deunique.seqs(fasta=data/tmp/maxee_trunc.fwprimtrim.pick.unique.filter.good.filter.fasta, \\\n",
      "name=data/tmp/maxee_trunc.fwprimtrim.pick.good.names)\" > /dev/null"
     ],
     "language": "python",
     "metadata": {},
     "outputs": [],
     "prompt_number": 87
    },
    {
     "cell_type": "code",
     "collapsed": false,
     "input": [
      "!sed '/>/! s/-//g;/>/! s/\\.//g' data/tmp/maxee_trunc.fwprimtrim.pick.redundant.fasta > data/finalQC.fasta"
     ],
     "language": "python",
     "metadata": {},
     "outputs": [],
     "prompt_number": 88
    },
    {
     "cell_type": "code",
     "collapsed": false,
     "input": [
      "!head data/finalQC.fasta"
     ],
     "language": "python",
     "metadata": {},
     "outputs": [
      {
       "output_type": "stream",
       "stream": "stdout",
       "text": [
        ">G1F18_72\r\n",
        "TTAAGTCAGAAGTGAAAGGTTGGAGCTCAACTCTAACATTGCTTCCGAGACTGGCAGTCTTGAGTGCCGGAGAGGATGATGGAACGACACGTGTAGCGGTGAAATGCGTTGAGATGTGTCGGAACACCAATGGCGAAAGCAATCATCTGGACGGAAACTGACGCTGAGGTTCGAAAGCCAAGGGAGCGAACAGGAT\r\n",
        ">G1F18_15991\r\n",
        "TTAAGTCAGAAGTGAAAGGTTGGAGCTCAACTCTAACATTGCTTCCGAGACTGGCAGTCTTGAGTGCCGGAGAGGATGATGGAACGACACGTGTAGCGGTGAAATGCGTTGAGATGTGTCGGAACACCAATGGCGAAAGCAATCATCTGGACGGAAACTGACGCTGAGGTTCGAAAGCCAAGGGAGCGAACAGGAT\r\n",
        ">G2F32_27588\r\n",
        "TTAAGTCAGAAGTGAAAGGTTGGAGCTCAACTCTAACATTGCTTCCGAGACTGGCAGTCTTGAGTGCCGGAGAGGATGATGGAACGACACGTGTAGCGGTGAAATGCGTTGAGATGTGTCGGAACACCAATGGCGAAAGCAATCATCTGGACGGAAACTGACGCTGAGGTTCGAAAGCCAAGGGAGCGAACAGGAT\r\n",
        ">G4F12_61998\r\n",
        "TTAAGTCAGAAGTGAAAGGTTGGAGCTCAACTCTAACATTGCTTCCGAGACTGGCAGTCTTGAGTGCCGGAGAGGATGATGGAACGACACGTGTAGCGGTGAAATGCGTTGAGATGTGTCGGAACACCAATGGCGAAAGCAATCATCTGGACGGAAACTGACGCTGAGGTTCGAAAGCCAAGGGAGCGAACAGGAT\r\n",
        ">G2F20_82649\r\n",
        "TTAAGTCAGAAGTGAAAGGTTGGAGCTCAACTCTAACATTGCTTCCGAGACTGGCAGTCTTGAGTGCCGGAGAGGATGATGGAACGACACGTGTAGCGGTGAAATGCGTTGAGATGTGTCGGAACACCAATGGCGAAAGCAATCATCTGGACGGAAACTGACGCTGAGGTTCGAAAGCCAAGGGAGCGAACAGGAT\r\n"
       ]
      }
     ],
     "prompt_number": 89
    },
    {
     "cell_type": "markdown",
     "metadata": {},
     "source": [
      "####Here's the total number of QCed seqs."
     ]
    },
    {
     "cell_type": "code",
     "collapsed": false,
     "input": [
      "!grep -c \">\" data/finalQC.fasta"
     ],
     "language": "python",
     "metadata": {},
     "outputs": [
      {
       "output_type": "stream",
       "stream": "stdout",
       "text": [
        "224047\r\n"
       ]
      }
     ],
     "prompt_number": 90
    },
    {
     "cell_type": "code",
     "collapsed": false,
     "input": [
      "fig = plt.figure()\n",
      "ax = fig.add_subplot(111)\n",
      "ax.hist([len(r.sequence) for r in screed.open(\"data/finalQC.fasta\")])"
     ],
     "language": "python",
     "metadata": {},
     "outputs": [
      {
       "metadata": {},
       "output_type": "pyout",
       "prompt_number": 5,
       "text": [
        "(array([  2.00000000e+00,   5.00000000e+00,   1.00000000e+00,\n",
        "          1.70000000e+01,   1.66000000e+02,   3.20700000e+03,\n",
        "          9.49680000e+04,   1.11881000e+05,   1.27380000e+04,\n",
        "          1.06200000e+03]),\n",
        " array([ 190.,  191.,  192.,  193.,  194.,  195.,  196.,  197.,  198.,\n",
        "         199.,  200.]),\n",
        " <a list of 10 Patch objects>)"
       ]
      },
      {
       "metadata": {},
       "output_type": "display_data",
       "png": "[encoded data removed]",
       "text": [
        "<matplotlib.figure.Figure at 0x57f3fd0>"
       ]
      }
     ],
     "prompt_number": 5
    }
   ],
   "metadata": {}
  }
 ]
}
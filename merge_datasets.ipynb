{
 "metadata": {
  "name": "",
  "signature": "sha256:06f316e16c7bd3da928f41f0f85a3ea76c932cfbf580d319af55317a6486551a"
 },
 "nbformat": 3,
 "nbformat_minor": 0,
 "worksheets": [
  {
   "cells": [
    {
     "cell_type": "code",
     "collapsed": false,
     "input": [
      "import screed\n",
      "import matplotlib.pyplot as plt\n",
      "from mpltools import style\n",
      "style.use(\"ggplot\")\n",
      "%matplotlib inline"
     ],
     "language": "python",
     "metadata": {},
     "outputs": [],
     "prompt_number": 19
    },
    {
     "cell_type": "code",
     "collapsed": false,
     "input": [
      "%%bash\n",
      "mothur \"#align.seqs(candidate=data/finalQC.fasta, \\\n",
      "template=data/tmp/db/silva.bacteria/silva.bacteria.fasta, \\\n",
      "processors=25, \\\n",
      "flip=T)\" > /dev/null"
     ],
     "language": "python",
     "metadata": {},
     "outputs": [],
     "prompt_number": 1
    },
    {
     "cell_type": "code",
     "collapsed": false,
     "input": [
      "!grep -c \">\" data/finalQC.align"
     ],
     "language": "python",
     "metadata": {},
     "outputs": [
      {
       "output_type": "stream",
       "stream": "stdout",
       "text": [
        "224047\r\n"
       ]
      }
     ],
     "prompt_number": 2
    },
    {
     "cell_type": "code",
     "collapsed": false,
     "input": [
      "%%bash\n",
      "mothur \"#summary.seqs(fasta=data/finalQC.align, \\\n",
      "processors=1)\""
     ],
     "language": "python",
     "metadata": {},
     "outputs": [
      {
       "output_type": "stream",
       "stream": "stdout",
       "text": [
        "\u001b[H\u001b[2J\n",
        "\n",
        "\n",
        "\n",
        "\n",
        "\n",
        "mothur v.1.32.1\n",
        "Last updated: 10/16/2013\n",
        "\n",
        "by\n",
        "Patrick D. Schloss\n",
        "\n",
        "Department of Microbiology & Immunology\n",
        "University of Michigan\n",
        "pschloss@umich.edu\n",
        "http://www.mothur.org\n",
        "\n",
        "When using, please cite:\n",
        "Schloss, P.D., et al., Introducing mothur: Open-source, platform-independent, community-supported software for describing and comparing microbial communities. Appl Environ Microbiol, 2009. 75(23):7537-41.\n",
        "\n",
        "Distributed under the GNU General Public License\n",
        "\n",
        "Type 'help()' for information on the commands that are available\n",
        "\n",
        "Type 'quit()' to exit program\n",
        "\n",
        "\n",
        "\n",
        "mothur > summary.seqs(fasta=data/finalQC.align, processors=1)\n",
        "\n",
        "Using 1 processors.\n",
        "\n",
        "\t\tStart\tEnd\tNBases\tAmbigs\tPolymer\tNumSeqs\n",
        "Minimum:\t15691\t23446\t190\t0\t3\t1\n",
        "2.5%-tile:\t15695\t23447\t196\t0\t4\t5602\n",
        "25%-tile:\t15695\t23447\t196\t0\t4\t56012\n",
        "Median: \t15695\t23447\t197\t0\t5\t112024\n",
        "75%-tile:\t15695\t23447\t197\t0\t5\t168036\n",
        "97.5%-tile:\t15695\t23447\t198\t0\t6\t218446\n",
        "Maximum:\t15876\t23959\t200\t0\t8\t224047\n",
        "Mean:\t15695\t23447.3\t196.611\t0\t4.74277\n",
        "# of Seqs:\t224047\n",
        "\n",
        "Output File Names: \n",
        "data/finalQC.summary\n",
        "\n",
        "\n",
        "mothur > quit()\n"
       ]
      }
     ],
     "prompt_number": 5
    },
    {
     "cell_type": "markdown",
     "metadata": {},
     "source": [
      "#Stevens 2013"
     ]
    },
    {
     "cell_type": "code",
     "collapsed": false,
     "input": [
      "!parallel_assign_taxonomy_uclust.py \\\n",
      "-i data/steven2013.fna \\\n",
      "-o data/tmp/steven2013.tax \\\n",
      "-O 20 \\\n",
      "-t /var/seq_data/silva/Silva111_qiime_formatted/taxonomy/97_Silva_111_taxa_map.txt \\\n",
      "-r /var/seq_data/silva/Silva111_qiime_formatted/no_ambiguous_bases_files/97_Silva_111_rep_set_no_ambig.fasta \\\n",
      "--uclust_similarity=0.85"
     ],
     "language": "python",
     "metadata": {},
     "outputs": [],
     "prompt_number": 86
    },
    {
     "cell_type": "code",
     "collapsed": false,
     "input": [
      "!egrep \"Chloroplast|Eukaryota|Archaea|Unassigned|mitochondria\" \\\n",
      "data/tmp/steven2013.tax/steven2013_tax_assignments.txt | \\\n",
      "awk '{print $1}' > data/stevens2013_to_remove_tax.accnos"
     ],
     "language": "python",
     "metadata": {},
     "outputs": [],
     "prompt_number": 89
    },
    {
     "cell_type": "code",
     "collapsed": false,
     "input": [
      "!wc -l data/stevens2013_to_remove_tax.accnos"
     ],
     "language": "python",
     "metadata": {},
     "outputs": [
      {
       "output_type": "stream",
       "stream": "stdout",
       "text": [
        "15183 data/stevens2013_to_remove_tax.accnos\r\n"
       ]
      }
     ],
     "prompt_number": 90
    },
    {
     "cell_type": "code",
     "collapsed": false,
     "input": [
      "%%bash\n",
      "mothur \"#remove.seqs(fasta=data/steven2013.fna, \\\n",
      "accnos=data/stevens2013_to_remove_tax.accnos)\" > /dev/null"
     ],
     "language": "python",
     "metadata": {},
     "outputs": [],
     "prompt_number": 91
    },
    {
     "cell_type": "code",
     "collapsed": false,
     "input": [
      "%%bash\n",
      "mothur \"#align.seqs(candidate=data/steven2013.pick.fna, \\\n",
      "template=data/tmp/db/silva.bacteria/silva.bacteria.fasta, \\\n",
      "processors=25, \\\n",
      "flip=T)\" > /dev/null"
     ],
     "language": "python",
     "metadata": {},
     "outputs": [],
     "prompt_number": 92
    },
    {
     "cell_type": "code",
     "collapsed": false,
     "input": [
      "!grep -c \">\" data/steven2013.pick.align"
     ],
     "language": "python",
     "metadata": {},
     "outputs": [
      {
       "output_type": "stream",
       "stream": "stdout",
       "text": [
        "144039\r\n"
       ]
      }
     ],
     "prompt_number": 93
    },
    {
     "cell_type": "code",
     "collapsed": false,
     "input": [
      "%%bash\n",
      "mothur \"#summary.seqs(fasta=data/steven2013.pick.align, \\\n",
      "processors=25)\""
     ],
     "language": "python",
     "metadata": {},
     "outputs": [
      {
       "output_type": "stream",
       "stream": "stdout",
       "text": [
        "\u001b[H\u001b[2J\n",
        "\n",
        "\n",
        "\n",
        "\n",
        "\n",
        "mothur v.1.32.1\n",
        "Last updated: 10/16/2013\n",
        "\n",
        "by\n",
        "Patrick D. Schloss\n",
        "\n",
        "Department of Microbiology & Immunology\n",
        "University of Michigan\n",
        "pschloss@umich.edu\n",
        "http://www.mothur.org\n",
        "\n",
        "When using, please cite:\n",
        "Schloss, P.D., et al., Introducing mothur: Open-source, platform-independent, community-supported software for describing and comparing microbial communities. Appl Environ Microbiol, 2009. 75(23):7537-41.\n",
        "\n",
        "Distributed under the GNU General Public License\n",
        "\n",
        "Type 'help()' for information on the commands that are available\n",
        "\n",
        "Type 'quit()' to exit program\n",
        "\n",
        "\n",
        "\n",
        "mothur > summary.seqs(fasta=data/steven2013.pick.align, processors=25)\n",
        "\n",
        "Using 25 processors.\n",
        "\n",
        "Using 25 processors.\n",
        "\n",
        "Using 25 processors.\n",
        "\n",
        "Using 25 processors.\n",
        "\n",
        "Using 25 processors.\n",
        "\n",
        "Using 25 processors.\n",
        "\n",
        "Using 25 processors.\n",
        "\n",
        "Using 25 processors.\n",
        "\n",
        "Using 25 processors.\n",
        "\n",
        "Using 25 processors.\n",
        "\n",
        "Using 25 processors.\n",
        "\n",
        "Using 25 processors.\n",
        "\n",
        "Using 25 processors.\n",
        "\n",
        "Using 25 processors.\n",
        "\n",
        "Using 25 processors.\n",
        "\n",
        "Using 25 processors.\n",
        "\n",
        "Using 25 processors.\n",
        "\n",
        "Using 25 processors.\n",
        "\n",
        "Using 25 processors.\n",
        "\n",
        "Using 25 processors.\n",
        "\n",
        "Using 25 processors.\n",
        "\n",
        "Using 25 processors.\n",
        "\n",
        "Using 25 processors.\n",
        "\n",
        "Using 25 processors.\n",
        "\n",
        "Using 25 processors.\n",
        "\n",
        "\t\tStart\tEnd\tNBases\tAmbigs\tPolymer\tNumSeqs\n",
        "Minimum:\t8355\t8408\t4\t0\t1\t1\n",
        "2.5%-tile:\t13862\t21985\t180\t0\t4\t3601\n",
        "25%-tile:\t13862\t25277\t262\t0\t5\t36010\n",
        "Median: \t13862\t25503\t291\t0\t5\t72020\n",
        "75%-tile:\t13862\t26155\t299\t0\t5\t108030\n",
        "97.5%-tile:\t13862\t26160\t300\t0\t6\t140439\n",
        "Maximum:\t23961\t26850\t336\t0\t8\t144039\n",
        "Mean:\t13862\t25087.6\t274.788\t0\t4.82804\n",
        "# of Seqs:\t144039\n",
        "\n",
        "Output File Names: \n",
        "data/steven2013.pick.summary\n",
        "\n",
        "\n",
        "mothur > quit()\n"
       ]
      }
     ],
     "prompt_number": 94
    },
    {
     "cell_type": "code",
     "collapsed": false,
     "input": [
      "%%bash\n",
      "mothur \"#screen.seqs(fasta=data/steven2013.pick.align, \\\n",
      "start=13863, \\\n",
      "end=21985, \\\n",
      "minlength=175, \\\n",
      "processors=20)\" > /dev/null"
     ],
     "language": "python",
     "metadata": {},
     "outputs": [],
     "prompt_number": 97
    },
    {
     "cell_type": "code",
     "collapsed": false,
     "input": [
      "!grep -c \">\" data/steven2013.pick.good.align"
     ],
     "language": "python",
     "metadata": {},
     "outputs": [
      {
       "output_type": "stream",
       "stream": "stdout",
       "text": [
        "140269\r\n"
       ]
      }
     ],
     "prompt_number": 98
    },
    {
     "cell_type": "code",
     "collapsed": false,
     "input": [
      "start = 15693\n",
      "end = 23957\n",
      "with open(\"data/steven2013.QC.trimmed.fna\", \"w\") as out:\n",
      "    for rec in screed.open(\"data/steven2013.pick.good.align\"):\n",
      "        n = rec.name\n",
      "        s = rec.sequence[start:end]\n",
      "        out.write(\">%s\\n%s\\n\"%(n,s))"
     ],
     "language": "python",
     "metadata": {},
     "outputs": [],
     "prompt_number": 99
    },
    {
     "cell_type": "code",
     "collapsed": false,
     "input": [
      "!head -n4 data/steven2013.QC.trimmed.fna | cut -c1-80"
     ],
     "language": "python",
     "metadata": {},
     "outputs": [
      {
       "output_type": "stream",
       "stream": "stdout",
       "text": [
        ">4502024.3_G6A5QEX01EK5HV\r\n",
        "-T-C----------------------------------------------------------------------------\r\n",
        ">4502024.3_G6A5QEX01DKUUJ\r\n",
        "-T-C----------------------------------------------------------------------------\r\n"
       ]
      }
     ],
     "prompt_number": 100
    },
    {
     "cell_type": "code",
     "collapsed": false,
     "input": [
      "!echo \"Steven 2013...\\n\"\n",
      "!tail -n10 data/steven2013.QC.trimmed.fna | sed \"/>/! s/[\\.-]//g\"\n",
      "!echo \"\\nThis study...\\n\"\n",
      "!head -n4 data/finalQC.fasta"
     ],
     "language": "python",
     "metadata": {},
     "outputs": [
      {
       "output_type": "stream",
       "stream": "stdout",
       "text": [
        "Steven 2013...\r\n",
        "\r\n"
       ]
      },
      {
       "output_type": "stream",
       "stream": "stdout",
       "text": [
        ">4502025.3_G6A5QEX01DBZ7X\r\n",
        "ATAAGTCAGTGGTGAAATCTCTGGGCTTAACCCAGAAATTGCCATTGATACTGTAGGGCTTGAGTATAGTTGCCGTTGGCGGAATATGACATGTAGTGGTGAAATACATAGAGATGTCATAGAACACCGATTGCGAAGGCAGCTGACGAAACTATAACTGACACTGAGGCTCGAAAGTGCGGGGATCAAACAGGAT\r\n",
        ">4502025.3_G6A5QEX01DRHUH\r\n",
        "TCAAGTCTGCTGTCAAAGACCGGGGCTTAACTTCGGAAAGGCAGTGGAAACTGAACAGCTAGAGTATGGTAGGGGCAGAGGGAATTCCTGGTGTAGCGGTGAAATGCGTAGAGATCAGGAAGAACATCGGTGGCGAAGGCGCTCTGCTGGACCATAACTGACACTCAGGGACGAAAGCTAGGGGAGCGAATGGGGAT\r\n",
        ">4502025.3_G6A5QEX01D6KXC\r\n"
       ]
      },
      {
       "output_type": "stream",
       "stream": "stdout",
       "text": [
        "GTAAGTCAGCTGTGAAAGTCAAGGGCTCAACCCTTGAAAGCCGGTTGATACTGTCGGGCTAGAGTCCGGAAGAGGCGAGTGGAATTCCCGGTGTAGCGGTGAAATGCGCAGATATCGGGAGGAACACCAATGGCGAAGGCAGCTCGCTGGGACGGTACTGACGCTGAGGCGCGAAAGCGTGGGGAGCAAACAGGAT\r\n",
        ">4502025.3_G6A5QEX01DWN0E\r\n",
        "GTAAGTCAGCTGTGAAAGTCAAGGGCTCAACCCTTGAAAGCCGGTTGATACTGTCGGGCTAGAGTCCGGAAGAGGCGAGTGGAATTCCCGGTGTAGCGGTGAAATGCGCAGATATCGGGAGGAACACCAATGGCGAAGGCAGCTCGCTGGGACGGTACTGACGCTGAGGCGCGAAAGCGTGGGGAGCAAACAGGAT\r\n",
        ">4502025.3_G6A5QEX01DQ020\r\n",
        "ATAAGTCAGTGGTGAAAGCCCATCGCTCAACGGTGGAACGGCCATTGATACTGTTAGACTTGAATTATTAGGAAGTAACTAGAATATGTAGTGTAGCGGTGAAATGCTTAGATATTACATGGAATACCGATTGCGAAGGCAGGTTACTACTAATGGATTGACGCTGATGGACGAAAGCGTGGGTAGCGAACAGGAT\r\n"
       ]
      },
      {
       "output_type": "stream",
       "stream": "stdout",
       "text": [
        "\r\n",
        "This study...\r\n",
        "\r\n"
       ]
      },
      {
       "output_type": "stream",
       "stream": "stdout",
       "text": [
        ">G1F18_72\r\n",
        "TTAAGTCAGAAGTGAAAGGTTGGAGCTCAACTCTAACATTGCTTCCGAGACTGGCAGTCTTGAGTGCCGGAGAGGATGATGGAACGACACGTGTAGCGGTGAAATGCGTTGAGATGTGTCGGAACACCAATGGCGAAAGCAATCATCTGGACGGAAACTGACGCTGAGGTTCGAAAGCCAAGGGAGCGAACAGGAT\r\n",
        ">G1F18_15991\r\n",
        "TTAAGTCAGAAGTGAAAGGTTGGAGCTCAACTCTAACATTGCTTCCGAGACTGGCAGTCTTGAGTGCCGGAGAGGATGATGGAACGACACGTGTAGCGGTGAAATGCGTTGAGATGTGTCGGAACACCAATGGCGAAAGCAATCATCTGGACGGAAACTGACGCTGAGGTTCGAAAGCCAAGGGAGCGAACAGGAT\r\n"
       ]
      }
     ],
     "prompt_number": 101
    },
    {
     "cell_type": "code",
     "collapsed": false,
     "input": [
      "!sed \"/>/! s/[-\\.]//g\" data/steven2013.QC.trimmed.fna > data/steven2013.QC.trimmed.nogap.fna "
     ],
     "language": "python",
     "metadata": {},
     "outputs": [],
     "prompt_number": 102
    },
    {
     "cell_type": "code",
     "collapsed": false,
     "input": [
      "!head -n2 data/steven2013.QC.trimmed.nogap.fna"
     ],
     "language": "python",
     "metadata": {},
     "outputs": [
      {
       "output_type": "stream",
       "stream": "stdout",
       "text": [
        ">4502024.3_G6A5QEX01EK5HV\r\n",
        "TCAAGTCTGCTGTCAAAGACCGGGGCTTAACTTCGGAAAGGCAGTGGAAACTGAACAGCTAGAGTATGGTAGGGGCAGAGGGAATTCCTGGTGTAGCGGTGAAATGCGTAGAGATCAGGAAGAACATCGGTGGCGAAGGCGCTCTGCTGGACCATAACTGACACTCAGGGACGAAAGCTAGGGGAGC\r\n"
       ]
      }
     ],
     "prompt_number": 103
    },
    {
     "cell_type": "code",
     "collapsed": false,
     "input": [
      "fig = plt.figure()\n",
      "ax = fig.add_subplot(111)\n",
      "ax.hist([len(r.sequence) for r in screed.open(\"data/steven2013.QC.trimmed.nogap.fna\")], bins=20)"
     ],
     "language": "python",
     "metadata": {},
     "outputs": [
      {
       "metadata": {},
       "output_type": "pyout",
       "prompt_number": 104,
       "text": [
        "(array([  7.70000000e+02,   9.34000000e+02,   9.70000000e+02,\n",
        "          9.33000000e+02,   1.41000000e+03,   1.31800000e+03,\n",
        "          8.46000000e+02,   6.67000000e+02,   1.51900000e+03,\n",
        "          2.36600000e+03,   7.09500000e+03,   5.12900000e+03,\n",
        "          1.15330000e+05,   8.69000000e+02,   9.00000000e+00,\n",
        "          3.10000000e+01,   6.00000000e+00,   1.00000000e+00,\n",
        "          1.00000000e+01,   5.60000000e+01]),\n",
        " array([ 120.,  126.,  132.,  138.,  144.,  150.,  156.,  162.,  168.,\n",
        "         174.,  180.,  186.,  192.,  198.,  204.,  210.,  216.,  222.,\n",
        "         228.,  234.,  240.]),\n",
        " <a list of 20 Patch objects>)"
       ]
      },
      {
       "metadata": {},
       "output_type": "display_data",
       "png": "[encoded data removed]",
       "text": [
        "<matplotlib.figure.Figure at 0x4efdf90>"
       ]
      }
     ],
     "prompt_number": 104
    },
    {
     "cell_type": "markdown",
     "metadata": {},
     "source": [
      "#Garcia-Pichel 2013"
     ]
    },
    {
     "cell_type": "code",
     "collapsed": false,
     "input": [
      "!parallel_assign_taxonomy_uclust.py \\\n",
      "-i data/garcia-pichel_2013.fasta \\\n",
      "-o data/tmp/garcia-pichel2013.tax \\\n",
      "-O 20 \\\n",
      "-t /var/seq_data/silva/Silva111_qiime_formatted/taxonomy/97_Silva_111_taxa_map.txt \\\n",
      "-r /var/seq_data/silva/Silva111_qiime_formatted/no_ambiguous_bases_files/97_Silva_111_rep_set_no_ambig.fasta \\\n",
      "--uclust_similarity=0.85"
     ],
     "language": "python",
     "metadata": {},
     "outputs": [],
     "prompt_number": 4
    },
    {
     "cell_type": "code",
     "collapsed": false,
     "input": [
      "!egrep \"Chloroplast|Eukaryota|Archaea|Unassigned|mitochondria\" \\\n",
      "data/tmp/garcia-pichel2013.tax/garcia-pichel_2013_tax_assignments.txt | \\\n",
      "awk '{print $1}' > data/garcia-pichel2013_to_remove_tax.accnos"
     ],
     "language": "python",
     "metadata": {},
     "outputs": [],
     "prompt_number": 5
    },
    {
     "cell_type": "code",
     "collapsed": false,
     "input": [
      "!wc -l data/garcia-pichel2013_to_remove_tax.accnos"
     ],
     "language": "python",
     "metadata": {},
     "outputs": [
      {
       "output_type": "stream",
       "stream": "stdout",
       "text": [
        "5161 data/garcia-pichel2013_to_remove_tax.accnos\r\n"
       ]
      }
     ],
     "prompt_number": 7
    },
    {
     "cell_type": "code",
     "collapsed": false,
     "input": [
      "%%bash\n",
      "mothur \"#remove.seqs(fasta=data/garcia-pichel_2013.fasta, \\\n",
      "accnos=data/garcia-pichel2013_to_remove_tax.accnos)\" #> /dev/null"
     ],
     "language": "python",
     "metadata": {},
     "outputs": [
      {
       "output_type": "stream",
       "stream": "stdout",
       "text": [
        "\u001b[H\u001b[2J\n",
        "\n",
        "\n",
        "\n",
        "\n",
        "\n",
        "mothur v.1.32.1\n",
        "Last updated: 10/16/2013\n",
        "\n",
        "by\n",
        "Patrick D. Schloss\n",
        "\n",
        "Department of Microbiology & Immunology\n",
        "University of Michigan\n",
        "pschloss@umich.edu\n",
        "http://www.mothur.org\n",
        "\n",
        "When using, please cite:\n",
        "Schloss, P.D., et al., Introducing mothur: Open-source, platform-independent, community-supported software for describing and comparing microbial communities. Appl Environ Microbiol, 2009. 75(23):7537-41.\n",
        "\n",
        "Distributed under the GNU General Public License\n",
        "\n",
        "Type 'help()' for information on the commands that are available\n",
        "\n",
        "Type 'quit()' to exit program\n",
        "\n",
        "\n",
        "\n",
        "mothur > remove.seqs(fasta=data/garcia-pichel_2013.fasta, accnos=data/garcia-pichel2013_to_remove_tax.accnos)\n",
        "Removed 5161 sequences from your fasta file.\n",
        "\n",
        "Output File Names: \n",
        "data/garcia-pichel_2013.pick.fasta\n",
        "\n",
        "\n",
        "mothur > quit()\n"
       ]
      }
     ],
     "prompt_number": 11
    },
    {
     "cell_type": "code",
     "collapsed": false,
     "input": [
      "!mv data/garcia-pichel_2013.pick.fasta data/garciapichel_2013.pick.fasta #align.seqs doesn't like dashes (bug)"
     ],
     "language": "python",
     "metadata": {},
     "outputs": [],
     "prompt_number": 12
    },
    {
     "cell_type": "code",
     "collapsed": false,
     "input": [
      "%%bash\n",
      "mothur \"#align.seqs(candidate=data/garciapichel_2013.pick.fasta, \\\n",
      "template=data/tmp/db/silva.bacteria/silva.bacteria.fasta, \\\n",
      "processors=25, \\\n",
      "flip=T)\" >/dev/null"
     ],
     "language": "python",
     "metadata": {},
     "outputs": [],
     "prompt_number": 13
    },
    {
     "cell_type": "code",
     "collapsed": false,
     "input": [
      "!grep -c \">\" data/garciapichel_2013.pick.align"
     ],
     "language": "python",
     "metadata": {},
     "outputs": [
      {
       "output_type": "stream",
       "stream": "stdout",
       "text": [
        "140903\r\n"
       ]
      }
     ],
     "prompt_number": 14
    },
    {
     "cell_type": "code",
     "collapsed": false,
     "input": [
      "%%bash\n",
      "mothur \"#summary.seqs(fasta=data/garciapichel_2013.pick.align, \\\n",
      "processors=25)\""
     ],
     "language": "python",
     "metadata": {},
     "outputs": [
      {
       "output_type": "stream",
       "stream": "stdout",
       "text": [
        "\u001b[H\u001b[2J\n",
        "\n",
        "\n",
        "\n",
        "\n",
        "\n",
        "mothur v.1.32.1\n",
        "Last updated: 10/16/2013\n",
        "\n",
        "by\n",
        "Patrick D. Schloss\n",
        "\n",
        "Department of Microbiology & Immunology\n",
        "University of Michigan\n",
        "pschloss@umich.edu\n",
        "http://www.mothur.org\n",
        "\n",
        "When using, please cite:\n",
        "Schloss, P.D., et al., Introducing mothur: Open-source, platform-independent, community-supported software for describing and comparing microbial communities. Appl Environ Microbiol, 2009. 75(23):7537-41.\n",
        "\n",
        "Distributed under the GNU General Public License\n",
        "\n",
        "Type 'help()' for information on the commands that are available\n",
        "\n",
        "Type 'quit()' to exit program\n",
        "\n",
        "\n",
        "\n",
        "mothur > summary.seqs(fasta=data/garciapichel_2013.pick.align, processors=25)\n",
        "\n",
        "Using 25 processors.\n",
        "\n",
        "Using 25 processors.\n",
        "\n",
        "Using 25 processors.\n",
        "\n",
        "Using 25 processors.\n",
        "\n",
        "Using 25 processors.\n",
        "\n",
        "Using 25 processors.\n",
        "\n",
        "Using 25 processors.\n",
        "\n",
        "Using 25 processors.\n",
        "\n",
        "Using 25 processors.\n",
        "\n",
        "Using 25 processors.\n",
        "\n",
        "Using 25 processors.\n",
        "\n",
        "Using 25 processors.\n",
        "\n",
        "Using 25 processors.\n",
        "\n",
        "Using 25 processors.\n",
        "\n",
        "Using 25 processors.\n",
        "\n",
        "Using 25 processors.\n",
        "\n",
        "Using 25 processors.\n",
        "\n",
        "Using 25 processors.\n",
        "\n",
        "Using 25 processors.\n",
        "\n",
        "Using 25 processors.\n",
        "\n",
        "Using 25 processors.\n",
        "\n",
        "Using 25 processors.\n",
        "\n",
        "Using 25 processors.\n",
        "\n",
        "Using 25 processors.\n",
        "\n",
        "Using 25 processors.\n",
        "\n",
        "\t\tStart\tEnd\tNBases\tAmbigs\tPolymer\tNumSeqs\n",
        "Minimum:\t4978\t8511\t161\t0\t3\t1\n",
        "2.5%-tile:\t15644\t22585\t203\t0\t3\t3523\n",
        "25%-tile:\t15646\t25292\t224\t0\t4\t35226\n",
        "Median: \t15646\t25292\t224\t0\t4\t70452\n",
        "75%-tile:\t15646\t25293\t225\t0\t4\t105678\n",
        "97.5%-tile:\t15649\t26149\t250\t0\t5\t137381\n",
        "Maximum:\t21334\t26392\t268\t1\t6\t140903\n",
        "Mean:\t15646.2\t25267.9\t227.113\t0.000177427\t4.22136\n",
        "# of Seqs:\t140903\n",
        "\n",
        "Output File Names: \n",
        "data/garciapichel_2013.pick.summary\n",
        "\n",
        "\n",
        "mothur > quit()\n"
       ]
      }
     ],
     "prompt_number": 15
    },
    {
     "cell_type": "code",
     "collapsed": false,
     "input": [
      "%%bash\n",
      "mothur \"#screen.seqs(fasta=data/garciapichel_2013.pick.align, \\\n",
      "start=15649, \\\n",
      "end=22585, \\\n",
      "minlength=175, \\\n",
      "processors=20)\" > /dev/null"
     ],
     "language": "python",
     "metadata": {},
     "outputs": [],
     "prompt_number": 16
    },
    {
     "cell_type": "code",
     "collapsed": false,
     "input": [
      "!grep -c \">\" data/garciapichel_2013.pick.good.align"
     ],
     "language": "python",
     "metadata": {},
     "outputs": [
      {
       "output_type": "stream",
       "stream": "stdout",
       "text": [
        "136809\r\n"
       ]
      }
     ],
     "prompt_number": 17
    },
    {
     "cell_type": "code",
     "collapsed": false,
     "input": [
      "start = 15693\n",
      "end = 23957\n",
      "with open(\"data/garciapichel2013.QC.trimmed.fna\", \"w\") as out:\n",
      "    for rec in screed.open(\"data/garciapichel_2013.pick.good.align\"):\n",
      "        n = rec.name\n",
      "        s = rec.sequence[start:end]\n",
      "        out.write(\">%s\\n%s\\n\"%(n,s))"
     ],
     "language": "python",
     "metadata": {},
     "outputs": [],
     "prompt_number": 20
    },
    {
     "cell_type": "code",
     "collapsed": false,
     "input": [
      "!head -n4 data/garciapichel2013.QC.trimmed.fna | cut -c1-80"
     ],
     "language": "python",
     "metadata": {},
     "outputs": [
      {
       "output_type": "stream",
       "stream": "stdout",
       "text": [
        ">site8_1\r\n",
        "-T-C----------------------------------------------------------------------------\r\n",
        ">site8_2\r\n",
        "-G-T----------------------------------------------------------------------------\r\n"
       ]
      }
     ],
     "prompt_number": 24
    },
    {
     "cell_type": "code",
     "collapsed": false,
     "input": [
      "!echo \"Garcia-Pichel 2013...\\n\"\n",
      "!tail -n10 data/garciapichel2013.QC.trimmed.fna | sed \"/>/! s/[\\.-]//g\"\n",
      "!echo \"\\nThis study...\\n\"\n",
      "!head -n4 data/finalQC.fasta"
     ],
     "language": "python",
     "metadata": {},
     "outputs": [
      {
       "output_type": "stream",
       "stream": "stdout",
       "text": [
        "Garcia-Pichel 2013...\r\n",
        "\r\n"
       ]
      },
      {
       "output_type": "stream",
       "stream": "stdout",
       "text": [
        ">site22_146060\r\n",
        "TCAAGTCTGCTGTTAAAGCGTCTGGCTTAACCAGATAAAGGCGGTGGAAACTGAACGACTAGAGTGCGGTAGGGGTAGAGGGAATTCCCAGTGTAGCGGTGAAATGCGTAGATCTTGGGAAGAACACCTGTGGCGAAAGCGCTCTACTGGACCGCGACTGACACTGATGGACGAAAGCTAGGGGAGCGGAATGGGAT\r\n",
        ">site22_146061\r\n",
        "GTAAGTTAGGGGTGAAAGCCCGGTGCTCAACACCGGAATTGCCTTTAAGACTGCATCGCTTGAATCCAGGAGAGGTGAGTGGAATTCCGAGTGTAGAGGTGAAATTCGTAGATATTCGGAAGAACACCAGTGGCGAAGGCGGCTCACTGGACTGGTATTGACGCTGAGGTGCGAAAGCGTGGGGAGCAAACAGGAT\r\n",
        ">site22_146062\r\n",
        "GGATGTGCCTGGTGACAGTCCGCCGCTTAACGGCGGGAGGTCTGGGTAGACACTCGTGCTAGCAGACGGGAGAGGGGTGTGGAATACCCGGTGGAGCGGTGAAATGCGTAGAGATCGGGTGGAACACCAGTGGCGAAGGCGGCACCCTGGCCCGTATTGGACGTTGAGGCGCGACAGCGTGGGGAGCAAACGGGAT\r\n",
        ">site22_146063\r\n",
        "GTAAGTTAGAGGTGAAAGCCCAGGGCTCAACCTTGGAATTGCCTTTAAGACTGCATCGCTTGAACACGGGAGAGGTGAGTGGAATTCCGAGTGTAGAGGTGAAATTCGTAGATATTCGGAAGAACACCAGTGGCGAAGGCGGCTCACTGGACCGTTGTTGACGCTGAGGTGCGAAAGCGTGGGGAGCAAACAGAAT\r\n",
        ">site22_146064\r\n",
        "GTAAGTCAGGTGTGAAATTTCGGAGCTTAACTCCGAAACTGCATTTGATACTGCCTTGCTTGAGGACTGGAGAGGAGATTGGAATTCACGGTGTAGCAGTGAAATGCGTAGATATCGTGAGGAAGACCAGTGGCGAAGGCGGATCTCTGGACAGTTCCTGACACTGAGGCACGAAGGCTAGGGAGCAAACGGAT\r\n"
       ]
      },
      {
       "output_type": "stream",
       "stream": "stdout",
       "text": [
        "\r\n",
        "This study...\r\n",
        "\r\n"
       ]
      },
      {
       "output_type": "stream",
       "stream": "stdout",
       "text": [
        ">G1F18_72\r\n",
        "TTAAGTCAGAAGTGAAAGGTTGGAGCTCAACTCTAACATTGCTTCCGAGACTGGCAGTCTTGAGTGCCGGAGAGGATGATGGAACGACACGTGTAGCGGTGAAATGCGTTGAGATGTGTCGGAACACCAATGGCGAAAGCAATCATCTGGACGGAAACTGACGCTGAGGTTCGAAAGCCAAGGGAGCGAACAGGAT\r\n",
        ">G1F18_15991\r\n",
        "TTAAGTCAGAAGTGAAAGGTTGGAGCTCAACTCTAACATTGCTTCCGAGACTGGCAGTCTTGAGTGCCGGAGAGGATGATGGAACGACACGTGTAGCGGTGAAATGCGTTGAGATGTGTCGGAACACCAATGGCGAAAGCAATCATCTGGACGGAAACTGACGCTGAGGTTCGAAAGCCAAGGGAGCGAACAGGAT\r\n"
       ]
      }
     ],
     "prompt_number": 25
    },
    {
     "cell_type": "code",
     "collapsed": false,
     "input": [
      "!sed \"/>/! s/[-\\.]//g\" data/garciapichel2013.QC.trimmed.fna > data/garciapichel2013.QC.trimmed.nogap.fna"
     ],
     "language": "python",
     "metadata": {},
     "outputs": [],
     "prompt_number": 27
    },
    {
     "cell_type": "code",
     "collapsed": false,
     "input": [
      "!head -n4 data/garciapichel2013.QC.trimmed.nogap.fna"
     ],
     "language": "python",
     "metadata": {},
     "outputs": [
      {
       "output_type": "stream",
       "stream": "stdout",
       "text": [
        ">site8_1\r\n",
        "TCAAGTCTGCTGTCAAAGACCGGGGCTCAACCTCGGAAAGGCAGTGGAAACTGAACAGCTAGAGTATGGTAGGGGCAGAGGGAATTCCTGGTGTAGCGGTGAAATGCGTAGAGATCAGGAAGAACATCGGTGGCGAAGGCGCTCTGCTGGACCATAACTGACACTCAGGGACGAAAGCTAGGGGAGCGAATGGGAT\r\n",
        ">site8_2\r\n",
        "GTAAGTCAGTGGTGAAATCTTCAAGCTTAACTTGGAAATTGCCGTTGATACTATTTATCTTGAATATCGTTGAGGTTTGCGGAATATGTCATGTAGCGGTGAAATGCTTAGAGATGACATAGAACACCTATTGCGAAGGCAGCAGGCTAAACGAACATTGACGCTGAGGCACGAAAGCGTGGGGATCAAACAGGAT\r\n"
       ]
      }
     ],
     "prompt_number": 29
    },
    {
     "cell_type": "code",
     "collapsed": false,
     "input": [
      "fig = plt.figure()\n",
      "ax = fig.add_subplot(111)\n",
      "ax.hist([len(r.sequence) for r in screed.open(\"data/garciapichel2013.QC.trimmed.nogap.fna\")], bins=20)"
     ],
     "language": "python",
     "metadata": {},
     "outputs": [
      {
       "metadata": {},
       "output_type": "pyout",
       "prompt_number": 30,
       "text": [
        "(array([  3.00000000e+00,   0.00000000e+00,   3.50000000e+01,\n",
        "          1.15000000e+02,   5.27000000e+02,   3.22000000e+02,\n",
        "          1.50200000e+03,   1.19370000e+04,   1.19884000e+05,\n",
        "          1.59700000e+03,   7.07000000e+02,   6.30000000e+01,\n",
        "          3.70000000e+01,   2.00000000e+00,   3.00000000e+00,\n",
        "          5.00000000e+00,   4.20000000e+01,   2.00000000e+01,\n",
        "          5.00000000e+00,   3.00000000e+00]),\n",
        " array([ 184. ,  185.5,  187. ,  188.5,  190. ,  191.5,  193. ,  194.5,\n",
        "         196. ,  197.5,  199. ,  200.5,  202. ,  203.5,  205. ,  206.5,\n",
        "         208. ,  209.5,  211. ,  212.5,  214. ]),\n",
        " <a list of 20 Patch objects>)"
       ]
      },
      {
       "metadata": {},
       "output_type": "display_data",
       "png": "[encoded data removed]",
       "text": [
        "<matplotlib.figure.Figure at 0x348b6d0>"
       ]
      }
     ],
     "prompt_number": 30
    }
   ],
   "metadata": {}
  }
 ]
}
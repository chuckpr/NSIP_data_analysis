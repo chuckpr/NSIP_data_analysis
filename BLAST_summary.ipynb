{
 "metadata": {
  "name": "",
  "signature": "sha256:43578e9539e3939c4d6d122dc219e484d80865d3d69bb58372bc7625ef656e85"
 },
 "nbformat": 3,
 "nbformat_minor": 0,
 "worksheets": [
  {
   "cells": [
    {
     "cell_type": "code",
     "collapsed": false,
     "input": [
      "import screed"
     ],
     "language": "python",
     "metadata": {},
     "outputs": [],
     "prompt_number": 69
    },
    {
     "cell_type": "code",
     "collapsed": false,
     "input": [
      "%load_ext rpy2.ipython"
     ],
     "language": "python",
     "metadata": {},
     "outputs": [
      {
       "output_type": "stream",
       "stream": "stderr",
       "text": [
        "/opt/anaconda/lib/python2.7/site-packages/pytz/__init__.py:29: UserWarning: Module argparse was already imported from /opt/anaconda/lib/python2.7/argparse.pyc, but /opt/anaconda/lib/python2.7/site-packages is being added to sys.path\n",
        "  from pkg_resources import resource_stream\n"
       ]
      }
     ],
     "prompt_number": 1
    },
    {
     "cell_type": "code",
     "collapsed": false,
     "input": [
      "%%R\n",
      "library(plyr); library(dplyr)"
     ],
     "language": "python",
     "metadata": {},
     "outputs": [
      {
       "metadata": {},
       "output_type": "display_data",
       "text": [
        "\n",
        "Attaching package: \u2018dplyr\u2019\n",
        "\n",
        "The following objects are masked from \u2018package:plyr\u2019:\n",
        "\n",
        "    arrange, desc, failwith, id, mutate, summarise, summarize\n",
        "\n",
        "The following objects are masked from \u2018package:stats\u2019:\n",
        "\n",
        "    filter, lag\n",
        "\n",
        "The following objects are masked from \u2018package:base\u2019:\n",
        "\n",
        "    intersect, setdiff, setequal, union\n",
        "\n"
       ]
      }
     ],
     "prompt_number": 2
    },
    {
     "cell_type": "code",
     "collapsed": false,
     "input": [
      "!head data/tmp/blast_out_otusn_LTP115.m6"
     ],
     "language": "python",
     "metadata": {},
     "outputs": [
      {
       "output_type": "stream",
       "stream": "stdout",
       "text": [
        "OTU.1\tY18791\t90.26\t195\t18\t1\t1\t195\t511\t704\t8e-68\t  254\r\n",
        "OTU.1\tHM748317\t88.78\t196\t19\t3\t1\t195\t531\t724\t8e-63\t  237\r\n",
        "OTU.1\tAB045960\t87.11\t194\t24\t1\t2\t195\t471\t663\t3e-57\t  219\r\n",
        "OTU.1\tAJ290448\t83.77\t191\t22\t9\t5\t191\t565\t750\t2e-43\t  172\r\n",
        "OTU.1\tAY036001\t83.08\t195\t24\t9\t1\t191\t538\t727\t3e-42\t  169\r\n",
        "OTU.1\tAY336513\t83.08\t195\t24\t9\t1\t191\t540\t729\t3e-42\t  169\r\n",
        "OTU.1\tAF105971\t83.25\t191\t23\t9\t5\t191\t550\t735\t1e-41\t  167\r\n",
        "OTU.1\tY13593\t83.25\t191\t23\t9\t5\t191\t549\t734\t1e-41\t  167\r\n",
        "OTU.1\tAB491226\t83.25\t191\t23\t9\t5\t191\t574\t759\t1e-41\t  167\r\n",
        "OTU.1\tX97888\t83.25\t191\t23\t9\t5\t191\t549\t734\t1e-41\t  167\r\n"
       ]
      }
     ],
     "prompt_number": 3
    },
    {
     "cell_type": "code",
     "collapsed": false,
     "input": [
      "%%R\n",
      "blast.df = tbl_df(read.table(\"data/tmp/blast_out_otusn_LTP115.m6\", \n",
      "                             sep = \"\\t\"))\n",
      "names(blast.df) = c(\"query\",\n",
      "                    \"subject\", \n",
      "                    \"pid\", \n",
      "                    \"alnLength\", \n",
      "                    \"mismatches\", \n",
      "                    \"gaps\", \n",
      "                    \"qstart\", \n",
      "                    \"qend\", \n",
      "                    \"sstart\", \n",
      "                    \"send\", \n",
      "                    \"e-value\", \n",
      "                    \"bitScore\")\n",
      "\n",
      "blast.df"
     ],
     "language": "python",
     "metadata": {},
     "outputs": [
      {
       "metadata": {},
       "output_type": "display_data",
       "text": [
        "Source: local data frame [1,289,278 x 12]\n",
        "\n",
        "   query  subject   pid alnLength mismatches gaps qstart qend sstart send\n",
        "1  OTU.1   Y18791 90.26       195         18    1      1  195    511  704\n",
        "2  OTU.1 HM748317 88.78       196         19    3      1  195    531  724\n",
        "3  OTU.1 AB045960 87.11       194         24    1      2  195    471  663\n",
        "4  OTU.1 AJ290448 83.77       191         22    9      5  191    565  750\n",
        "5  OTU.1 AY036001 83.08       195         24    9      1  191    538  727\n",
        "6  OTU.1 AY336513 83.08       195         24    9      1  191    540  729\n",
        "7  OTU.1 AF105971 83.25       191         23    9      5  191    550  735\n",
        "8  OTU.1   Y13593 83.25       191         23    9      5  191    549  734\n",
        "9  OTU.1 AB491226 83.25       191         23    9      5  191    574  759\n",
        "10 OTU.1   X97888 83.25       191         23    9      5  191    549  734\n",
        "..   ...      ...   ...       ...        ...  ...    ...  ...    ...  ...\n",
        "Variables not shown: e-value (dbl), bitScore (dbl)\n"
       ]
      }
     ],
     "prompt_number": 66
    },
    {
     "cell_type": "code",
     "collapsed": false,
     "input": [
      "%%R\n",
      "best.hit.df = blast.df %.% \n",
      "    group_by(query) %.%\n",
      "    arrange(desc(bitScore)) %.%\n",
      "    filter(row_number() ==1)"
     ],
     "language": "python",
     "metadata": {},
     "outputs": [],
     "prompt_number": 85
    },
    {
     "cell_type": "code",
     "collapsed": false,
     "input": [
      "!grep -c \">\" data/otusn_yeager2006.fasta"
     ],
     "language": "python",
     "metadata": {},
     "outputs": [
      {
       "output_type": "stream",
       "stream": "stdout",
       "text": [
        "4340\r\n"
       ]
      }
     ],
     "prompt_number": 97
    },
    {
     "cell_type": "code",
     "collapsed": false,
     "input": [
      "%%R\n",
      "sum(best.hit.df$pid >= 97)"
     ],
     "language": "python",
     "metadata": {},
     "outputs": [
      {
       "metadata": {},
       "output_type": "display_data",
       "text": [
        "[1] 445\n"
       ]
      }
     ],
     "prompt_number": 91
    },
    {
     "cell_type": "code",
     "collapsed": false,
     "input": [
      "%%R\n",
      "sum(best.hit.df$pid >= 95)"
     ],
     "language": "python",
     "metadata": {},
     "outputs": [
      {
       "metadata": {},
       "output_type": "display_data",
       "text": [
        "[1] 870\n"
       ]
      }
     ],
     "prompt_number": 96
    },
    {
     "cell_type": "code",
     "collapsed": false,
     "input": [
      "%%R\n",
      "hist(best.hit.df$pid)"
     ],
     "language": "python",
     "metadata": {},
     "outputs": [
      {
       "metadata": {},
       "output_type": "display_data",
       "png": "[encoded data removed]"
      }
     ],
     "prompt_number": 90
    }
   ],
   "metadata": {}
  }
 ]
}